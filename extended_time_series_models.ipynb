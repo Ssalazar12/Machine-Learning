{
 "cells": [
  {
   "cell_type": "markdown",
   "metadata": {},
   "source": [
    "In this notebook we explore and train models with a dataset of time series aggregated by time window and transaction category, called super-category based on \n",
    "\n",
    "https://www.youtube.com/watch?v=flMCYqIn3eg\n",
    "\n",
    "Time series can be aggregated by day, week or month which should be taken into account when building tensors\n",
    "\n",
    "We also consider using the business rules features in order to further upgrade our predictions\n",
    "\n"
   ]
  },
  {
   "cell_type": "code",
   "execution_count": 1,
   "metadata": {},
   "outputs": [],
   "source": [
    "import pandas as pd\n",
    "import numpy as np\n",
    "import matplotlib.pyplot as plt\n",
    "import matplotlib\n",
    "import seaborn as sns\n",
    "import os\n",
    "from scipy.stats import norm\n",
    "import random\n",
    "import joblib\n",
    "import timeit\n",
    "\n",
    "sns.set()\n"
   ]
  },
  {
   "cell_type": "code",
   "execution_count": 124,
   "metadata": {},
   "outputs": [],
   "source": [
    "from sklearn.model_selection import RandomizedSearchCV, GridSearchCV, train_test_split\n",
    "\n",
    "from sklearn.metrics import confusion_matrix, classification_report,accuracy_score,\\\n",
    "                            recall_score, f1_score,roc_curve, auc, roc_auc_score\n",
    "from imblearn.pipeline import Pipeline\n",
    "from sklearn.preprocessing import StandardScaler, MinMaxScaler\n",
    "from sklearn.svm import SVC"
   ]
  },
  {
   "cell_type": "code",
   "execution_count": 125,
   "metadata": {},
   "outputs": [],
   "source": [
    "import tensorflow as tf\n",
    "from tensorflow import keras\n",
    "from tensorflow.keras.models import Sequential\n",
    "from tensorflow.keras.layers import Dense, LSTM, GRU ,LeakyReLU, Dropout, Bidirectional, Flatten,  BatchNormalization\n",
    "from tensorflow.keras.regularizers import L1L2\n",
    "from tensorflow.keras.preprocessing import sequence\n",
    "from tensorflow.keras.optimizers import Adam\n",
    "from tensorflow.keras.callbacks import ModelCheckpoint\n",
    "from tensorflow.keras.wrappers.scikit_learn import KerasClassifier\n"
   ]
  },
  {
   "cell_type": "markdown",
   "metadata": {},
   "source": [
    "# Load data and pre process"
   ]
  },
  {
   "cell_type": "code",
   "execution_count": 4,
   "metadata": {},
   "outputs": [],
   "source": [
    "pd_risk = pd.read_csv('business_rules_features.csv',index_col='loan_id')\n",
    "pd_day_series = pd.read_csv('pd_day_series.csv',index_col=0,header=[0,1])\n",
    "pd_week_series = pd.read_csv('pd_week_series.csv',index_col=0,header=[0,1])\n",
    "pd_month_series = pd.read_csv('pd_month_series.csv',index_col=0,header=[0,1])\n"
   ]
  },
  {
   "cell_type": "code",
   "execution_count": 5,
   "metadata": {},
   "outputs": [],
   "source": [
    "def risk_train_test_split(df, testsize):\n",
    "    # g_ids are the customer ids for the \"good\" clients\n",
    "    # we return a train test split based on the business rules (risk)\n",
    "    df_dataset = df[df['risk']>0].copy()\n",
    "    # now do another train test split over this to get validation and training sets\n",
    "    X = df_dataset.drop(['loan_status','taken_at','customer_id', 'risk'], axis=1)\n",
    "    Y = df_dataset['loan_status'].copy()\n",
    "    X_train, X_test, y_train, y_test = train_test_split(X, Y, test_size=testsize, random_state=42, stratify=Y)\n",
    "    \n",
    "    # Finally, save clients who do not pass business rules as a validation set\n",
    "    df_evaluation= df[df['risk']==0].copy()\n",
    "    X_evaluation = df_evaluation.drop(['loan_status','taken_at','customer_id', 'risk'], axis=1)\n",
    "    y_evaluation = df_evaluation['loan_status'].copy()\n",
    "\n",
    "    return X_train, X_test, y_train, y_test, X_evaluation, y_evaluation\n",
    "\n",
    "def old_risk_train_test_split(df, g_ids):\n",
    "    # g_ids are the customer ids for the \"good\" clients\n",
    "    # we return a train test split based on the business rules (risk)\n",
    "    df_training = df[(df['risk']>0) & (~df['customer_id'].isin(g_ids))].copy()\n",
    "    X_training = df_training.drop(['loan_status','taken_at','customer_id', 'risk'], axis=1)\n",
    "    Y_training = df_training['loan_status'].copy()\n",
    "    \n",
    "    # get some of the previously identified good clients and put them in test to evaluate properly\n",
    "    good_clients = df[df['customer_id'].isin(g_ids)].copy()\n",
    "    good_client_loans = list(good_clients.index)\n",
    "    df_test = df[df['risk']==0].copy()\n",
    "    df_test = pd.concat([df_test,good_clients], axis=0)\n",
    "    # final dataframes\n",
    "    X_test = df_test.drop(['loan_status','taken_at','customer_id', 'risk'], axis=1)\n",
    "    Y_test = df_test['loan_status'].copy()\n",
    "    \n",
    "    return X_training, X_test, Y_training, Y_test\n"
   ]
  },
  {
   "cell_type": "markdown",
   "metadata": {},
   "source": [
    "### Create the data for a support vector machine"
   ]
  },
  {
   "cell_type": "code",
   "execution_count": 6,
   "metadata": {},
   "outputs": [],
   "source": [
    "def create_svm_data(time_df,rdf):\n",
    "    df = time_df.copy()\n",
    "    columns_tuple = df.columns.values\n",
    "    df.columns = ['_'.join(col) for col in columns_tuple]\n",
    "    \n",
    "    return pd.concat([rdf[['loan_status','taken_at','customer_id_y', 'risk']],df],axis=1)\n"
   ]
  },
  {
   "cell_type": "code",
   "execution_count": 7,
   "metadata": {},
   "outputs": [],
   "source": [
    "svm_days = create_svm_data(pd_day_series,pd_risk)\n",
    "svm_days = svm_days.rename(columns={'customer_id_y':'customer_id'})\n",
    "\n",
    "svm_weeks = create_svm_data(pd_week_series,pd_risk)\n",
    "svm_weeks = svm_weeks.rename(columns={'customer_id_y':'customer_id'})\n",
    "\n",
    "svm_months = create_svm_data(pd_month_series,pd_risk)\n",
    "svm_months = svm_months.rename(columns={'customer_id_y':'customer_id'})"
   ]
  },
  {
   "cell_type": "code",
   "execution_count": 8,
   "metadata": {},
   "outputs": [
    {
     "name": "stdout",
     "output_type": "stream",
     "text": [
      "1346\n",
      "1346\n",
      "1346\n"
     ]
    }
   ],
   "source": [
    "print(len(svm_days))\n",
    "print(len(svm_weeks))\n",
    "print(len(svm_months))\n"
   ]
  },
  {
   "cell_type": "markdown",
   "metadata": {},
   "source": [
    "# Evaluation funcs"
   ]
  },
  {
   "cell_type": "code",
   "execution_count": 9,
   "metadata": {},
   "outputs": [],
   "source": [
    "def plot_roc_curve(y_train_true, y_train_probas, y_test_true, y_test_probas):\n",
    "    # y_true: series with the true labels encoded in 0 and 1\n",
    "    # y_probas: probability estimates by the model\n",
    "    \n",
    "    # train roc calculattion\n",
    "    fpr_train, tpr_train, _ = roc_curve(y_train_true, y_train_probas)\n",
    "    auc_train = roc_auc_score(y_train_true, y_train_probas)\n",
    "    auc_train = auc_train.round(3)\n",
    "\n",
    "    # test roc calculattion\n",
    "    fpr_test, tpr_test, _ = roc_curve(y_test_true, y_test_probas)\n",
    "    auc_test = roc_auc_score(y_test_true, y_test_probas)\n",
    "    auc_test = auc_test.round(3)\n",
    "    \n",
    "    plt.figure(figsize=(8,7))\n",
    "    plt.title('roc_curve')\n",
    "    #plot train\n",
    "    plt.plot(fpr_train, tpr_train, label='train_auc={}'.format(auc_train), color='orangered')\n",
    "    \n",
    "    # plot test\n",
    "    plt.plot(fpr_test, tpr_test, label='test_auc={}'.format(auc_test), color='mediumorchid')\n",
    "    # plot baseline\n",
    "    plt.plot([0, 1], [0, 1], 'k--')\n",
    "    \n",
    "    # format axis\n",
    "    plt.axis([-0.005, 1, 0, 1.005])\n",
    "    plt.xticks(np.arange(0,1, 0.05), rotation=90)\n",
    "    plt.xlabel(\"False Positive Rate\")\n",
    "    plt.ylabel(\"True Positive Rate (Recall)\")\n",
    "    plt.legend(loc='best')\n",
    "    \n",
    "matplotlib.rcParams['figure.figsize'] = (15, 12)\n",
    "colors = plt.rcParams['axes.prop_cycle'].by_key()['color']\n",
    "\n",
    "def plot_metrics(history):\n",
    "    # for keras models\n",
    "    metrics =  ['loss', 'auc', 'precision', 'recall']\n",
    "    for n, metric in enumerate(metrics):\n",
    "        name = metric.replace(\"_\",\" \").capitalize()\n",
    "        plt.subplot(2,2,n+1)\n",
    "        plt.plot(history.epoch,  history.history[metric], color='blue', label='Train')\n",
    "        plt.plot(history.epoch, history.history['val_'+metric],\n",
    "                 color='orange', linestyle=\":\", label='Val')\n",
    "        plt.xlabel('Epoch')\n",
    "        plt.ylabel(name)\n",
    "\n",
    "        plt.ylim([0.3,1.01])\n",
    "\n",
    "        plt.legend()\n",
    "        "
   ]
  },
  {
   "cell_type": "code",
   "execution_count": 10,
   "metadata": {},
   "outputs": [],
   "source": [
    "def keras_model_evaluation(t_model, training_tensor, training_label, test_tensor, test_label, batch_size):\n",
    "    # model: pre trained keras model\n",
    "    # training and test tensor: feautures used to train the models\n",
    "    # training and test label: true labels for both datasets\n",
    "    # this functions prints some validation metrics and returns dataframes with the predicted probabilities and \n",
    "    # labels to compare with the true labels\n",
    "    \n",
    "    # score model and log accuracy and parameters\n",
    "    scores = t_model.evaluate(test_tensor, np.asarray(y_test), verbose=0)\n",
    "    print(\"Accuracy:\", scores[5] )\n",
    "    print(\"Area Under Curve:\", scores[8] )\n",
    "    print()\n",
    "\n",
    "    # save the predictions to compare with the actual label\n",
    "    # this is the probability OF FALLING INTO BAD DEBT\n",
    "    y_train_pred = t_model.predict(training_tensor, batch_size=batch_size)[:,0]\n",
    "    y_test_pred = t_model.predict(test_tensor, batch_size=batch_size)[:,0]\n",
    "\n",
    "    train_results_baseline = pd.DataFrame({'true_label':y_train, 'predicted_proba':y_train_pred}, \n",
    "                                          index=y_train.index)\n",
    "    train_results_baseline['predicted_label'] = 0\n",
    "    train_results_baseline.loc[train_results_baseline['predicted_proba']>=0.5,'predicted_label'] = 1\n",
    "\n",
    "    test_results_baseline = pd.DataFrame({'true_label':y_test, 'predicted_proba':y_test_pred}, \n",
    "                                          index=y_test.index)\n",
    "\n",
    "    test_results_baseline['predicted_label'] = 0\n",
    "    test_results_baseline.loc[test_results_baseline['predicted_proba']>=0.5,'predicted_label'] = 1\n",
    "    \n",
    "    return train_results_baseline, test_results_baseline\n"
   ]
  },
  {
   "cell_type": "markdown",
   "metadata": {},
   "source": [
    "#  FUNCTIONS for NN'S (BOTH LSTM and CNN)"
   ]
  },
  {
   "cell_type": "code",
   "execution_count": 11,
   "metadata": {},
   "outputs": [],
   "source": [
    "def build_tensor(df):\n",
    "    # save category names and then make a list of arrays with the  time series on each category\n",
    "    categories = df.columns.levels[0]\n",
    "    catagory_array_list = [np.asarray(df[cat]) for cat in categories]\n",
    "    # transform the array into the correct tensor shape\n",
    "    t_tensor = np.concatenate( [arr[None,...] for arr in catagory_array_list] ,axis=0)\n",
    "    t_tensor = t_tensor.reshape(t_tensor.shape[1], t_tensor.shape[0], t_tensor.shape[2])\n",
    "    return t_tensor"
   ]
  },
  {
   "cell_type": "code",
   "execution_count": 12,
   "metadata": {},
   "outputs": [],
   "source": [
    "def init_random(seed):\n",
    "    # Apparently you may use different seed values at each stage\n",
    "    seed_value= seed\n",
    "\n",
    "    # 1. Set `PYTHONHASHSEED` environment variable at a fixed value\n",
    "    os.environ['PYTHONHASHSEED']=str(seed_value)\n",
    "\n",
    "    # 2. Set `python` built-in pseudo-random generator at a fixed value\n",
    "    random.seed(seed_value)\n",
    "\n",
    "    # 3. Set `numpy` pseudo-random generator at a fixed value\n",
    "    np.random.seed(seed_value)\n",
    "\n",
    "    # 4. Set the `tensorflow` pseudo-random generator at a fixed value\n",
    "    tf.random.set_seed(seed_value)\n",
    "\n",
    "    # 5. Configure a new global `tensorflow` session\n",
    "    session_conf = tf.compat.v1.ConfigProto(intra_op_parallelism_threads=1, inter_op_parallelism_threads=1)\n",
    "    sess = tf.compat.v1.Session(graph=tf.compat.v1.get_default_graph(), config=session_conf)\n",
    "    tf.compat.v1.keras.backend.set_session(sess)\n"
   ]
  },
  {
   "cell_type": "markdown",
   "metadata": {},
   "source": [
    "# SVM training\n",
    "\n",
    "we sepparate into train and test based on whether the client passes ou business rules or not. Then we take some of \n",
    "our good clients from training and put them in test to evaluate more"
   ]
  },
  {
   "cell_type": "code",
   "execution_count": 13,
   "metadata": {},
   "outputs": [],
   "source": [
    "def calculate_classifier_predictions(trained_model ,X_train, y_train, X_test, y_test): \n",
    "    y_train_predict = trained_model.predict(X_train)\n",
    "    y_train_proba = trained_model.predict_proba(X_train)[:,1]\n",
    "\n",
    "    print('-----TRAINING RESULTS--------------------------------')\n",
    "\n",
    "    print(classification_report(y_train, y_train_predict))\n",
    "    print('auc: ', roc_auc_score(y_train, y_train_proba))\n",
    "    print(confusion_matrix(y_train, y_train_predict))\n",
    "\n",
    "    y_test_predict = trained_model.predict(X_test)\n",
    "    y_test_proba = trained_model.predict_proba(X_test)[:,1]\n",
    "\n",
    "    print('------TEST RESULTS------------------------------')\n",
    "\n",
    "    print(classification_report(y_test, y_test_predict ))\n",
    "    print('auc: ', roc_auc_score(y_test, y_test_proba))\n",
    "    print(confusion_matrix(y_test, y_test_predict))\n",
    "\n"
   ]
  },
  {
   "cell_type": "code",
   "execution_count": 14,
   "metadata": {},
   "outputs": [],
   "source": [
    "# high gamma increases chance of overfitting\n",
    "# C: controls the permeability of the decision boundary, high values lead to overfiting\n",
    "svm_params = {'classifier__kernel':['rbf','poly','sigmoid'],\n",
    "             'classifier__gamma': np.linspace(0.001, 10,10),\n",
    "              'classifier__C': np.linspace(0.001, 10,10)\n",
    "             }"
   ]
  },
  {
   "cell_type": "code",
   "execution_count": 15,
   "metadata": {},
   "outputs": [],
   "source": [
    "good_client_ids = [1270, 1808, 1999, 2052, 2195, 3055, 3453,\n",
    "       4950, 5070, 5426, 1397,769,1107]\n",
    "# get the goo client loans\n",
    "good_client_loans = list(svm_days[svm_days.customer_id.isin(good_client_ids)].index)\n"
   ]
  },
  {
   "cell_type": "markdown",
   "metadata": {},
   "source": [
    "### daily agg"
   ]
  },
  {
   "cell_type": "code",
   "execution_count": 29,
   "metadata": {},
   "outputs": [],
   "source": [
    "X_train, X_test, y_train, y_test, X_evaluation, y_evaluation = risk_train_test_split(svm_days)\n",
    "svm_days_features = X_train.columns \n"
   ]
  },
  {
   "cell_type": "code",
   "execution_count": 30,
   "metadata": {},
   "outputs": [
    {
     "name": "stdout",
     "output_type": "stream",
     "text": [
      "{'classifier__kernel': 'poly', 'classifier__gamma': 5.556, 'classifier__C': 7.7780000000000005}\n",
      "-----TRAINING RESULTS--------------------------------\n",
      "              precision    recall  f1-score   support\n",
      "\n",
      "           2       1.00      1.00      1.00       106\n",
      "           8       1.00      1.00      1.00       631\n",
      "\n",
      "    accuracy                           1.00       737\n",
      "   macro avg       1.00      1.00      1.00       737\n",
      "weighted avg       1.00      1.00      1.00       737\n",
      "\n",
      "auc:  1.0\n",
      "[[106   0]\n",
      " [  0 631]]\n",
      "------TEST RESULTS------------------------------\n",
      "              precision    recall  f1-score   support\n",
      "\n",
      "           2       0.21      0.27      0.24        26\n",
      "           8       0.88      0.84      0.86       159\n",
      "\n",
      "    accuracy                           0.76       185\n",
      "   macro avg       0.54      0.55      0.55       185\n",
      "weighted avg       0.78      0.76      0.77       185\n",
      "\n",
      "auc:  0.5130624092888243\n",
      "[[  7  19]\n",
      " [ 26 133]]\n"
     ]
    }
   ],
   "source": [
    "svm = SVC(probability=True)\n",
    "steps_ = [('classifier',svm)]\n",
    "pipe = Pipeline(steps_) \n",
    "params = svm_params\n",
    "scoring = 'recall_macro'\n",
    "\n",
    "r_search = RandomizedSearchCV(estimator = pipe, param_distributions = params,n_iter = 15, \n",
    "                                  cv=3 ,scoring = scoring, random_state=42, n_jobs = -1)\n",
    "r_search.fit(X_train, y_train)\n",
    "print(r_search.best_params_)\n",
    "calculate_classifier_predictions(r_search, X_train, y_train, X_test, y_test)\n"
   ]
  },
  {
   "cell_type": "code",
   "execution_count": 31,
   "metadata": {},
   "outputs": [
    {
     "name": "stdout",
     "output_type": "stream",
     "text": [
      "[2 2 2 2 2 8 2 2 2 2 2 2 2]\n",
      "[[0.1436577  0.8563423 ]\n",
      " [0.1436577  0.8563423 ]\n",
      " [0.1436577  0.8563423 ]\n",
      " [0.1436577  0.8563423 ]\n",
      " [0.1436577  0.8563423 ]\n",
      " [0.14363784 0.85636216]\n",
      " [0.1436577  0.8563423 ]\n",
      " [0.1436577  0.8563423 ]\n",
      " [0.1436577  0.8563423 ]\n",
      " [0.1436577  0.8563423 ]\n",
      " [0.1436577  0.8563423 ]\n",
      " [0.1436577  0.8563423 ]\n",
      " [0.1436577  0.8563423 ]]\n"
     ]
    }
   ],
   "source": [
    "print(r_search.predict(svm_days[svm_days['customer_id'].isin(good_client_ids)][svm_days_features]))\n",
    "print(r_search.predict_proba(svm_days[svm_days['customer_id'].isin(good_client_ids)][svm_days_features]))"
   ]
  },
  {
   "cell_type": "markdown",
   "metadata": {},
   "source": [
    "### Weekly agg"
   ]
  },
  {
   "cell_type": "code",
   "execution_count": 39,
   "metadata": {},
   "outputs": [],
   "source": [
    "X_train, X_test, y_train, y_test, X_evaluation, y_evaluation = risk_train_test_split(svm_weeks)\n",
    "svm_weeks_features = X_train.columns "
   ]
  },
  {
   "cell_type": "code",
   "execution_count": 40,
   "metadata": {},
   "outputs": [
    {
     "name": "stdout",
     "output_type": "stream",
     "text": [
      "-----TRAINING RESULTS--------------------------------\n",
      "              precision    recall  f1-score   support\n",
      "\n",
      "           2       0.17      0.93      0.28       106\n",
      "           8       0.95      0.22      0.36       631\n",
      "\n",
      "    accuracy                           0.32       737\n",
      "   macro avg       0.56      0.58      0.32       737\n",
      "weighted avg       0.84      0.32      0.35       737\n",
      "\n",
      "auc:  0.5763313697933798\n",
      "[[ 99   7]\n",
      " [493 138]]\n",
      "------TEST RESULTS------------------------------\n",
      "              precision    recall  f1-score   support\n",
      "\n",
      "           2       0.15      0.85      0.25        26\n",
      "           8       0.88      0.19      0.31       159\n",
      "\n",
      "    accuracy                           0.28       185\n",
      "   macro avg       0.51      0.52      0.28       185\n",
      "weighted avg       0.78      0.28      0.30       185\n",
      "\n",
      "auc:  0.5174165457184324\n",
      "[[ 22   4]\n",
      " [129  30]]\n"
     ]
    }
   ],
   "source": [
    "svm = SVC(probability=True, kernel='poly')\n",
    "steps_ = [('scaler', StandardScaler()), ('classifier',svm)]\n",
    "pipe = Pipeline(steps_) \n",
    "pipe.fit(X_train, y_train)\n",
    "\n",
    "calculate_classifier_predictions(svm, X_train, y_train, X_test, y_test)\n"
   ]
  },
  {
   "cell_type": "code",
   "execution_count": 41,
   "metadata": {},
   "outputs": [
    {
     "name": "stdout",
     "output_type": "stream",
     "text": [
      "[[0.13955873 0.86044127]\n",
      " [0.1443565  0.8556435 ]\n",
      " [0.28290768 0.71709232]\n",
      " [0.1496071  0.8503929 ]\n",
      " [0.13962599 0.86037401]\n",
      " [0.13961853 0.86038147]\n",
      " [0.13952017 0.86047983]\n",
      " [0.28288113 0.71711887]\n",
      " [0.28285823 0.71714177]\n",
      " [0.15414542 0.84585458]\n",
      " [0.13945704 0.86054296]\n",
      " [0.31488306 0.68511694]\n",
      " [0.28285285 0.71714715]]\n"
     ]
    }
   ],
   "source": [
    "X_train, X_test, y_train, y_test, X_evaluation, y_evaluation = risk_train_test_split(svm_days)\n",
    "print(pipe.predict_proba(svm_weeks[svm_weeks['customer_id'].isin(good_client_ids)][svm_weeks_features]))\n"
   ]
  },
  {
   "cell_type": "markdown",
   "metadata": {},
   "source": [
    "### Monthly agg"
   ]
  },
  {
   "cell_type": "code",
   "execution_count": 43,
   "metadata": {},
   "outputs": [],
   "source": [
    "X_train, X_test, y_train, y_test, X_evaluation, y_evaluation = risk_train_test_split(svm_months)\n",
    "svm_months_features = X_train.columns "
   ]
  },
  {
   "cell_type": "code",
   "execution_count": 44,
   "metadata": {},
   "outputs": [
    {
     "name": "stdout",
     "output_type": "stream",
     "text": [
      "-----TRAINING RESULTS--------------------------------\n",
      "              precision    recall  f1-score   support\n",
      "\n",
      "           2       0.17      0.89      0.28       106\n",
      "           8       0.93      0.26      0.41       631\n",
      "\n",
      "    accuracy                           0.35       737\n",
      "   macro avg       0.55      0.57      0.35       737\n",
      "weighted avg       0.82      0.35      0.39       737\n",
      "\n",
      "auc:  0.5741410758604193\n",
      "[[ 94  12]\n",
      " [466 165]]\n",
      "------TEST RESULTS------------------------------\n",
      "              precision    recall  f1-score   support\n",
      "\n",
      "           2       0.15      0.81      0.25        26\n",
      "           8       0.88      0.23      0.36       159\n",
      "\n",
      "    accuracy                           0.31       185\n",
      "   macro avg       0.51      0.52      0.30       185\n",
      "weighted avg       0.78      0.31      0.34       185\n",
      "\n",
      "auc:  0.5170537010159652\n",
      "[[ 21   5]\n",
      " [123  36]]\n"
     ]
    }
   ],
   "source": [
    "svm = SVC(probability=True, kernel='poly')\n",
    "steps_ = [('scaler', StandardScaler()), ('classifier',svm)]\n",
    "pipe = Pipeline(steps_) \n",
    "pipe.fit(X_train, y_train)\n",
    "\n",
    "calculate_classifier_predictions(svm, X_train, y_train, X_test, y_test)"
   ]
  },
  {
   "cell_type": "code",
   "execution_count": 45,
   "metadata": {},
   "outputs": [
    {
     "name": "stdout",
     "output_type": "stream",
     "text": [
      "[2 2 2 2 2 2 2 2 2 2 2 2 2]\n",
      "[[9.9999990e-01 1.0000001e-07]\n",
      " [9.9999990e-01 1.0000001e-07]\n",
      " [9.9999990e-01 1.0000001e-07]\n",
      " [9.9999990e-01 1.0000001e-07]\n",
      " [9.9999990e-01 1.0000001e-07]\n",
      " [9.9999990e-01 1.0000001e-07]\n",
      " [9.9999990e-01 1.0000001e-07]\n",
      " [9.9999990e-01 1.0000001e-07]\n",
      " [9.9999990e-01 1.0000001e-07]\n",
      " [9.9999990e-01 1.0000001e-07]\n",
      " [9.9999990e-01 1.0000001e-07]\n",
      " [9.9999990e-01 1.0000001e-07]\n",
      " [9.9999990e-01 1.0000001e-07]]\n"
     ]
    }
   ],
   "source": [
    "print(svm.predict(svm_months[svm_months['customer_id'].isin(good_client_ids)][svm_months_features]))\n",
    "print(svm.predict_proba(svm_months[svm_months['customer_id'].isin(good_client_ids)][svm_months_features]))"
   ]
  },
  {
   "cell_type": "markdown",
   "metadata": {},
   "source": [
    "# LSTM "
   ]
  },
  {
   "cell_type": "markdown",
   "metadata": {},
   "source": [
    "First, we create the data set  that the LSTM wil receive. We have to split according to the risk factor\n",
    "(training with most of the clients that pass the business rules), normalize the data, enconde the label with 0 and\n",
    "1 and finally transform he time series into the correct tensor shape.\n",
    "\n",
    "**bidireccionales:** es otra capa para empaquetar el LSTM \n",
    "\n"
   ]
  },
  {
   "cell_type": "code",
   "execution_count": 16,
   "metadata": {},
   "outputs": [
    {
     "name": "stdout",
     "output_type": "stream",
     "text": [
      "train test length:\n",
      "737 185\n",
      "labels:\n",
      "train\n",
      "1    631\n",
      "0    106\n",
      "Name: loan_status, dtype: int64\n",
      "test\n",
      "1    159\n",
      "0     26\n",
      "Name: loan_status, dtype: int64\n",
      "eval\n",
      "1    328\n",
      "0     96\n",
      "Name: loan_status, dtype: int64\n",
      "tensor shapes:\n",
      "(737, 6, 90)\n",
      "(185, 6, 90)\n"
     ]
    }
   ],
   "source": [
    "\n",
    "# svm days es simplemente el dataframe de days con las columnas colapsadas y con el risk ahí pegado\n",
    "time_window_svm = svm_days.copy()\n",
    "time_window_series = pd_day_series.copy()\n",
    "# get the training and test indices\n",
    "X_train, X_test, y_train, y_test, X_evaluation, y_evaluation = risk_train_test_split(time_window_svm, 0.2)\n",
    "\n",
    "# scale the data  to send it to the LSTM\n",
    "tensor_scaler = StandardScaler()\n",
    "X_train = pd.DataFrame(tensor_scaler.fit_transform(X_train), columns=time_window_series.columns ,index=X_train.index)\n",
    "X_test = pd.DataFrame(tensor_scaler.transform(X_test), columns = time_window_series.columns ,index=X_test.index)\n",
    "X_evaluation = pd.DataFrame(tensor_scaler.transform(X_evaluation), columns = time_window_series.columns \n",
    "                            , index=X_evaluation.index)\n",
    "\n",
    "X_train = pd.DataFrame(X_train, columns=time_window_series.columns ,index=X_train.index)\n",
    "X_test = pd.DataFrame(X_test, columns = time_window_series.columns ,index=X_test.index)\n",
    "X_evaluation = pd.DataFrame(X_evaluation, columns = time_window_series.columns ,index=X_evaluation.index)\n",
    "# now we encode the label into 1 and 0 where:\n",
    "# 8 -----> 1  (the event that a client falls into bad debt)\n",
    "# 2 -----> 0 (a client is a good payer)\n",
    "\n",
    "y_train.loc[y_train==8]=1\n",
    "y_train.loc[y_train==2]=0\n",
    "\n",
    "y_test.loc[y_test==8]=1\n",
    "y_test.loc[y_test==2]=0\n",
    "\n",
    "y_evaluation.loc[y_evaluation==8]=1\n",
    "y_evaluation.loc[y_evaluation==2]=0\n",
    "\n",
    "print('train test length:')\n",
    "print(len(y_train), len(y_test))\n",
    "\n",
    "print('labels:')\n",
    "print('train')\n",
    "print(y_train.value_counts())\n",
    "print('test')\n",
    "print(y_test.value_counts())\n",
    "print('eval')\n",
    "print(y_evaluation.value_counts())\n",
    "\n",
    "# transform into the correct tensor shape\n",
    "Tensor_train = build_tensor(X_train)\n",
    "Tensor_test = build_tensor(X_test)\n",
    "Tensor_evaluation = build_tensor(X_evaluation)\n",
    "\n",
    "\n",
    "print('tensor shapes:')\n",
    "print(Tensor_train.shape)\n",
    "print(Tensor_test.shape)\n"
   ]
  },
  {
   "cell_type": "markdown",
   "metadata": {},
   "source": [
    "Now, we try to build the LSTM. We will have a layer compossed of memory cells (the basic computation unit of an LSTM) which will receive our time series tensor data. The output of the LSTM layer will correspond to the input of a densely connected layer which will have an output of one neuron (the classification task).\n",
    "\n"
   ]
  },
  {
   "cell_type": "markdown",
   "metadata": {},
   "source": [
    "## Baseline"
   ]
  },
  {
   "cell_type": "code",
   "execution_count": 17,
   "metadata": {},
   "outputs": [],
   "source": [
    "def build_lstm(epochs, batch_size, hidden_layer_size, num_layers, \n",
    "               use_dropout, use_batch_norm ,learnin_rate, reg ,weights_name, time_steps, features):\n",
    "    # hidden layer size should be a list with the sizes for each hidden layer\n",
    "    # metrics\n",
    "    METRICS = [\n",
    "          keras.metrics.TruePositives(name='tp'),\n",
    "          keras.metrics.FalsePositives(name='fp'),\n",
    "          keras.metrics.TrueNegatives(name='tn'),\n",
    "          keras.metrics.FalseNegatives(name='fn'), \n",
    "          keras.metrics.BinaryAccuracy(name='accuracy'),\n",
    "          keras.metrics.Precision(name='precision'),\n",
    "          keras.metrics.Recall(name='recall'),\n",
    "          keras.metrics.AUC(name='auc'),\n",
    "    ]\n",
    "\n",
    "    # build the LSTM layers\n",
    "    model = Sequential()\n",
    "    if num_layers==1:\n",
    "        model.add(Bidirectional(GRU(hidden_layer_size[0], input_shape=(features, time_steps), kernel_regularizer=reg)))\n",
    "    # add more than 1 layer\n",
    "    else:\n",
    "        for i in range(num_layers-1):\n",
    "            # all the layers before the last one should return a sequence\n",
    "            model.add(Bidirectional(GRU(hidden_layer_size[i], \n",
    "                                         input_shape=(features, time_steps),return_sequences=True)))\n",
    "        # final LSTM\n",
    "        model.add(LSTM(hidden_layer_size[i+1], input_shape=(features, time_steps)))        \n",
    "        \n",
    "    if use_batch_norm:\n",
    "        model.add(BatchNormalization())\n",
    "        \n",
    "    if use_dropout:\n",
    "        model.add(Dropout(0.3))\n",
    "        # the output is a dense layer with one neuron\n",
    "        \n",
    "    model.add(Flatten())\n",
    "    model.add(Dense(1, activation='sigmoid'))\n",
    "\n",
    "    # compile the algorithm\n",
    "    optimizer = Adam(lr=learnin_rate)\n",
    "    model.compile(loss='binary_crossentropy', optimizer=optimizer, metrics=[METRICS])\n",
    "    \n",
    "    return model\n"
   ]
  },
  {
   "cell_type": "code",
   "execution_count": 18,
   "metadata": {},
   "outputs": [],
   "source": [
    "# define callbacks\n",
    "early_stopping = tf.keras.callbacks.EarlyStopping(\n",
    "    monitor='val_loss', \n",
    "    verbose=1,\n",
    "    patience=40,\n",
    "    mode='max',\n",
    "    restore_best_weights=True)\n"
   ]
  },
  {
   "cell_type": "code",
   "execution_count": 19,
   "metadata": {},
   "outputs": [],
   "source": [
    "# DEFINING THE BASIC FORM OF THE NN\n",
    "EPOCHS = 300\n",
    "BATCH_SIZE = 32\n",
    "NUM_LAYERS = 1\n",
    "HIDDEN_LAYER_SIZES = [10]\n",
    "TIME_STEPS = Tensor_train.shape[2]\n",
    "FEATURES = Tensor_train.shape[1]\n",
    "# no reg\n",
    "REG = L1L2(l1=0.0, l2=0.0)\n",
    "\n",
    "BATCH_NORM = False\n",
    "USE_DROPOUT = False\n",
    "LEARNING_RATE = 0.001\n",
    "\n",
    "# name of the files to save\n",
    "weights_name = 'weights_lstm.h5'\n"
   ]
  },
  {
   "cell_type": "code",
   "execution_count": 20,
   "metadata": {},
   "outputs": [],
   "source": [
    "# compile the model \n",
    "tf.keras.backend.clear_session()\n",
    "init_random(1234)\n",
    "\n",
    "# build the model\n",
    "model = build_lstm(EPOCHS, BATCH_SIZE, HIDDEN_LAYER_SIZES, NUM_LAYERS, USE_DROPOUT, BATCH_NORM ,LEARNING_RATE, REG,\n",
    "                   weights_name, TIME_STEPS, FEATURES)\n"
   ]
  },
  {
   "cell_type": "code",
   "execution_count": 52,
   "metadata": {
    "scrolled": true
   },
   "outputs": [
    {
     "name": "stdout",
     "output_type": "stream",
     "text": [
      "time start\n",
      "Train on 737 samples, validate on 185 samples\n",
      "Epoch 1/300\n",
      "737/737 [==============================] - 22s 29ms/sample - loss: 0.6575 - tp: 433.0000 - fp: 67.0000 - tn: 39.0000 - fn: 198.0000 - accuracy: 0.6404 - precision: 0.8660 - recall: 0.6862 - auc: 0.5209 - val_loss: 0.5884 - val_tp: 133.0000 - val_fp: 22.0000 - val_tn: 4.0000 - val_fn: 26.0000 - val_accuracy: 0.7405 - val_precision: 0.8581 - val_recall: 0.8365 - val_auc: 0.4925\n",
      "Epoch 2/300\n",
      "737/737 [==============================] - 1s 1ms/sample - loss: 0.5339 - tp: 560.0000 - fp: 85.0000 - tn: 21.0000 - fn: 71.0000 - accuracy: 0.7883 - precision: 0.8682 - recall: 0.8875 - auc: 0.5721 - val_loss: 0.5127 - val_tp: 146.0000 - val_fp: 23.0000 - val_tn: 3.0000 - val_fn: 13.0000 - val_accuracy: 0.8054 - val_precision: 0.8639 - val_recall: 0.9182 - val_auc: 0.5096\n",
      "Epoch 3/300\n",
      "737/737 [==============================] - 1s 1ms/sample - loss: 0.4601 - tp: 594.0000 - fp: 93.0000 - tn: 13.0000 - fn: 37.0000 - accuracy: 0.8236 - precision: 0.8646 - recall: 0.9414 - auc: 0.6132 - val_loss: 0.4697 - val_tp: 154.0000 - val_fp: 26.0000 - val_tn: 0.0000e+00 - val_fn: 5.0000 - val_accuracy: 0.8324 - val_precision: 0.8556 - val_recall: 0.9686 - val_auc: 0.5162\n",
      "Epoch 4/300\n",
      "737/737 [==============================] - 1s 1ms/sample - loss: 0.4139 - tp: 620.0000 - fp: 95.0000 - tn: 11.0000 - fn: 11.0000 - accuracy: 0.8562 - precision: 0.8671 - recall: 0.9826 - auc: 0.6521 - val_loss: 0.4481 - val_tp: 156.0000 - val_fp: 26.0000 - val_tn: 0.0000e+00 - val_fn: 3.0000 - val_accuracy: 0.8432 - val_precision: 0.8571 - val_recall: 0.9811 - val_auc: 0.5239\n",
      "Epoch 5/300\n",
      "737/737 [==============================] - 1s 1ms/sample - loss: 0.3895 - tp: 624.0000 - fp: 96.0000 - tn: 10.0000 - fn: 7.0000 - accuracy: 0.8602 - precision: 0.8667 - recall: 0.9889 - auc: 0.6889 - val_loss: 0.4428 - val_tp: 157.0000 - val_fp: 26.0000 - val_tn: 0.0000e+00 - val_fn: 2.0000 - val_accuracy: 0.8486 - val_precision: 0.8579 - val_recall: 0.9874 - val_auc: 0.5258\n",
      "Epoch 6/300\n",
      "737/737 [==============================] - 1s 1ms/sample - loss: 0.3693 - tp: 627.0000 - fp: 95.0000 - tn: 11.0000 - fn: 4.0000 - accuracy: 0.8657 - precision: 0.8684 - recall: 0.9937 - auc: 0.7493 - val_loss: 0.4414 - val_tp: 157.0000 - val_fp: 26.0000 - val_tn: 0.0000e+00 - val_fn: 2.0000 - val_accuracy: 0.8486 - val_precision: 0.8579 - val_recall: 0.9874 - val_auc: 0.5099\n",
      "Epoch 7/300\n",
      "737/737 [==============================] - 1s 1ms/sample - loss: 0.3523 - tp: 630.0000 - fp: 93.0000 - tn: 13.0000 - fn: 1.0000 - accuracy: 0.8725 - precision: 0.8714 - recall: 0.9984 - auc: 0.7917 - val_loss: 0.4367 - val_tp: 157.0000 - val_fp: 26.0000 - val_tn: 0.0000e+00 - val_fn: 2.0000 - val_accuracy: 0.8486 - val_precision: 0.8579 - val_recall: 0.9874 - val_auc: 0.5156\n",
      "Epoch 8/300\n",
      "737/737 [==============================] - 1s 1ms/sample - loss: 0.3363 - tp: 631.0000 - fp: 94.0000 - tn: 12.0000 - fn: 0.0000e+00 - accuracy: 0.8725 - precision: 0.8703 - recall: 1.0000 - auc: 0.8310 - val_loss: 0.4373 - val_tp: 157.0000 - val_fp: 26.0000 - val_tn: 0.0000e+00 - val_fn: 2.0000 - val_accuracy: 0.8486 - val_precision: 0.8579 - val_recall: 0.9874 - val_auc: 0.4985\n",
      "Epoch 9/300\n",
      "737/737 [==============================] - 1s 1ms/sample - loss: 0.3242 - tp: 630.0000 - fp: 92.0000 - tn: 14.0000 - fn: 1.0000 - accuracy: 0.8738 - precision: 0.8726 - recall: 0.9984 - auc: 0.8548 - val_loss: 0.4389 - val_tp: 157.0000 - val_fp: 26.0000 - val_tn: 0.0000e+00 - val_fn: 2.0000 - val_accuracy: 0.8486 - val_precision: 0.8579 - val_recall: 0.9874 - val_auc: 0.4955\n",
      "Epoch 10/300\n",
      "737/737 [==============================] - 1s 1ms/sample - loss: 0.3120 - tp: 631.0000 - fp: 91.0000 - tn: 15.0000 - fn: 0.0000e+00 - accuracy: 0.8765 - precision: 0.8740 - recall: 1.0000 - auc: 0.8752 - val_loss: 0.4390 - val_tp: 157.0000 - val_fp: 26.0000 - val_tn: 0.0000e+00 - val_fn: 2.0000 - val_accuracy: 0.8486 - val_precision: 0.8579 - val_recall: 0.9874 - val_auc: 0.4863\n",
      "Epoch 11/300\n",
      "737/737 [==============================] - 1s 1ms/sample - loss: 0.2996 - tp: 631.0000 - fp: 92.0000 - tn: 14.0000 - fn: 0.0000e+00 - accuracy: 0.8752 - precision: 0.8728 - recall: 1.0000 - auc: 0.8985 - val_loss: 0.4405 - val_tp: 157.0000 - val_fp: 26.0000 - val_tn: 0.0000e+00 - val_fn: 2.0000 - val_accuracy: 0.8486 - val_precision: 0.8579 - val_recall: 0.9874 - val_auc: 0.4834\n",
      "Epoch 12/300\n",
      "737/737 [==============================] - 1s 1ms/sample - loss: 0.2874 - tp: 631.0000 - fp: 90.0000 - tn: 16.0000 - fn: 0.0000e+00 - accuracy: 0.8779 - precision: 0.8752 - recall: 1.0000 - auc: 0.9164 - val_loss: 0.4429 - val_tp: 158.0000 - val_fp: 26.0000 - val_tn: 0.0000e+00 - val_fn: 1.0000 - val_accuracy: 0.8541 - val_precision: 0.8587 - val_recall: 0.9937 - val_auc: 0.4805\n",
      "Epoch 13/300\n",
      "737/737 [==============================] - 1s 1ms/sample - loss: 0.2743 - tp: 631.0000 - fp: 87.0000 - tn: 19.0000 - fn: 0.0000e+00 - accuracy: 0.8820 - precision: 0.8788 - recall: 1.0000 - auc: 0.9289 - val_loss: 0.4443 - val_tp: 157.0000 - val_fp: 26.0000 - val_tn: 0.0000e+00 - val_fn: 2.0000 - val_accuracy: 0.8486 - val_precision: 0.8579 - val_recall: 0.9874 - val_auc: 0.4836\n",
      "Epoch 14/300\n",
      "737/737 [==============================] - 1s 1ms/sample - loss: 0.2639 - tp: 631.0000 - fp: 82.0000 - tn: 24.0000 - fn: 0.0000e+00 - accuracy: 0.8887 - precision: 0.8850 - recall: 1.0000 - auc: 0.9396 - val_loss: 0.4466 - val_tp: 157.0000 - val_fp: 26.0000 - val_tn: 0.0000e+00 - val_fn: 2.0000 - val_accuracy: 0.8486 - val_precision: 0.8579 - val_recall: 0.9874 - val_auc: 0.4811\n",
      "Epoch 15/300\n",
      "737/737 [==============================] - 1s 1ms/sample - loss: 0.2513 - tp: 631.0000 - fp: 79.0000 - tn: 27.0000 - fn: 0.0000e+00 - accuracy: 0.8928 - precision: 0.8887 - recall: 1.0000 - auc: 0.9504 - val_loss: 0.4500 - val_tp: 157.0000 - val_fp: 26.0000 - val_tn: 0.0000e+00 - val_fn: 2.0000 - val_accuracy: 0.8486 - val_precision: 0.8579 - val_recall: 0.9874 - val_auc: 0.4858\n",
      "Epoch 16/300\n",
      "737/737 [==============================] - 1s 1ms/sample - loss: 0.2401 - tp: 631.0000 - fp: 77.0000 - tn: 29.0000 - fn: 0.0000e+00 - accuracy: 0.8955 - precision: 0.8912 - recall: 1.0000 - auc: 0.9564 - val_loss: 0.4546 - val_tp: 157.0000 - val_fp: 26.0000 - val_tn: 0.0000e+00 - val_fn: 2.0000 - val_accuracy: 0.8486 - val_precision: 0.8579 - val_recall: 0.9874 - val_auc: 0.4827\n",
      "Epoch 17/300\n",
      "737/737 [==============================] - 1s 1ms/sample - loss: 0.2278 - tp: 631.0000 - fp: 73.0000 - tn: 33.0000 - fn: 0.0000e+00 - accuracy: 0.9009 - precision: 0.8963 - recall: 1.0000 - auc: 0.9652 - val_loss: 0.4593 - val_tp: 157.0000 - val_fp: 26.0000 - val_tn: 0.0000e+00 - val_fn: 2.0000 - val_accuracy: 0.8486 - val_precision: 0.8579 - val_recall: 0.9874 - val_auc: 0.4788\n",
      "Epoch 18/300\n",
      "737/737 [==============================] - 1s 1ms/sample - loss: 0.2153 - tp: 631.0000 - fp: 68.0000 - tn: 38.0000 - fn: 0.0000e+00 - accuracy: 0.9077 - precision: 0.9027 - recall: 1.0000 - auc: 0.9720 - val_loss: 0.4668 - val_tp: 157.0000 - val_fp: 26.0000 - val_tn: 0.0000e+00 - val_fn: 2.0000 - val_accuracy: 0.8486 - val_precision: 0.8579 - val_recall: 0.9874 - val_auc: 0.4768\n",
      "Epoch 19/300\n",
      "737/737 [==============================] - 1s 1ms/sample - loss: 0.2037 - tp: 631.0000 - fp: 65.0000 - tn: 41.0000 - fn: 0.0000e+00 - accuracy: 0.9118 - precision: 0.9066 - recall: 1.0000 - auc: 0.9742 - val_loss: 0.4754 - val_tp: 157.0000 - val_fp: 26.0000 - val_tn: 0.0000e+00 - val_fn: 2.0000 - val_accuracy: 0.8486 - val_precision: 0.8579 - val_recall: 0.9874 - val_auc: 0.4762\n",
      "Epoch 20/300\n",
      "737/737 [==============================] - 1s 1ms/sample - loss: 0.1912 - tp: 631.0000 - fp: 60.0000 - tn: 46.0000 - fn: 0.0000e+00 - accuracy: 0.9186 - precision: 0.9132 - recall: 1.0000 - auc: 0.9790 - val_loss: 0.4830 - val_tp: 157.0000 - val_fp: 26.0000 - val_tn: 0.0000e+00 - val_fn: 2.0000 - val_accuracy: 0.8486 - val_precision: 0.8579 - val_recall: 0.9874 - val_auc: 0.4731\n",
      "Epoch 21/300\n",
      "737/737 [==============================] - 1s 1ms/sample - loss: 0.1791 - tp: 631.0000 - fp: 52.0000 - tn: 54.0000 - fn: 0.0000e+00 - accuracy: 0.9294 - precision: 0.9239 - recall: 1.0000 - auc: 0.9822 - val_loss: 0.4932 - val_tp: 156.0000 - val_fp: 26.0000 - val_tn: 0.0000e+00 - val_fn: 3.0000 - val_accuracy: 0.8432 - val_precision: 0.8571 - val_recall: 0.9811 - val_auc: 0.4751\n"
     ]
    },
    {
     "name": "stdout",
     "output_type": "stream",
     "text": [
      "Epoch 22/300\n",
      "737/737 [==============================] - 1s 1ms/sample - loss: 0.1669 - tp: 631.0000 - fp: 45.0000 - tn: 61.0000 - fn: 0.0000e+00 - accuracy: 0.9389 - precision: 0.9334 - recall: 1.0000 - auc: 0.9847 - val_loss: 0.5018 - val_tp: 155.0000 - val_fp: 26.0000 - val_tn: 0.0000e+00 - val_fn: 4.0000 - val_accuracy: 0.8378 - val_precision: 0.8564 - val_recall: 0.9748 - val_auc: 0.4722\n",
      "Epoch 23/300\n",
      "737/737 [==============================] - 1s 1ms/sample - loss: 0.1550 - tp: 631.0000 - fp: 36.0000 - tn: 70.0000 - fn: 0.0000e+00 - accuracy: 0.9512 - precision: 0.9460 - recall: 1.0000 - auc: 0.9874 - val_loss: 0.5116 - val_tp: 155.0000 - val_fp: 25.0000 - val_tn: 1.0000 - val_fn: 4.0000 - val_accuracy: 0.8432 - val_precision: 0.8611 - val_recall: 0.9748 - val_auc: 0.4780\n",
      "Epoch 24/300\n",
      "737/737 [==============================] - 1s 1ms/sample - loss: 0.1433 - tp: 631.0000 - fp: 31.0000 - tn: 75.0000 - fn: 0.0000e+00 - accuracy: 0.9579 - precision: 0.9532 - recall: 1.0000 - auc: 0.9872 - val_loss: 0.5224 - val_tp: 155.0000 - val_fp: 25.0000 - val_tn: 1.0000 - val_fn: 4.0000 - val_accuracy: 0.8432 - val_precision: 0.8611 - val_recall: 0.9748 - val_auc: 0.4904\n",
      "Epoch 25/300\n",
      "737/737 [==============================] - 1s 1ms/sample - loss: 0.1325 - tp: 631.0000 - fp: 29.0000 - tn: 77.0000 - fn: 0.0000e+00 - accuracy: 0.9607 - precision: 0.9561 - recall: 1.0000 - auc: 0.9909 - val_loss: 0.5365 - val_tp: 153.0000 - val_fp: 25.0000 - val_tn: 1.0000 - val_fn: 6.0000 - val_accuracy: 0.8324 - val_precision: 0.8596 - val_recall: 0.9623 - val_auc: 0.4879\n",
      "Epoch 26/300\n",
      "737/737 [==============================] - 1s 1ms/sample - loss: 0.1208 - tp: 631.0000 - fp: 23.0000 - tn: 83.0000 - fn: 0.0000e+00 - accuracy: 0.9688 - precision: 0.9648 - recall: 1.0000 - auc: 0.9919 - val_loss: 0.5459 - val_tp: 153.0000 - val_fp: 25.0000 - val_tn: 1.0000 - val_fn: 6.0000 - val_accuracy: 0.8324 - val_precision: 0.8596 - val_recall: 0.9623 - val_auc: 0.4930\n",
      "Epoch 27/300\n",
      "737/737 [==============================] - 1s 1ms/sample - loss: 0.1132 - tp: 631.0000 - fp: 22.0000 - tn: 84.0000 - fn: 0.0000e+00 - accuracy: 0.9701 - precision: 0.9663 - recall: 1.0000 - auc: 0.9905 - val_loss: 0.5563 - val_tp: 153.0000 - val_fp: 24.0000 - val_tn: 2.0000 - val_fn: 6.0000 - val_accuracy: 0.8378 - val_precision: 0.8644 - val_recall: 0.9623 - val_auc: 0.4975\n",
      "Epoch 28/300\n",
      "737/737 [==============================] - 1s 1ms/sample - loss: 0.1007 - tp: 631.0000 - fp: 16.0000 - tn: 90.0000 - fn: 0.0000e+00 - accuracy: 0.9783 - precision: 0.9753 - recall: 1.0000 - auc: 0.9939 - val_loss: 0.5728 - val_tp: 153.0000 - val_fp: 25.0000 - val_tn: 1.0000 - val_fn: 6.0000 - val_accuracy: 0.8324 - val_precision: 0.8596 - val_recall: 0.9623 - val_auc: 0.4937\n",
      "Epoch 29/300\n",
      "737/737 [==============================] - 1s 1ms/sample - loss: 0.0933 - tp: 631.0000 - fp: 15.0000 - tn: 91.0000 - fn: 0.0000e+00 - accuracy: 0.9796 - precision: 0.9768 - recall: 1.0000 - auc: 0.9945 - val_loss: 0.5813 - val_tp: 153.0000 - val_fp: 25.0000 - val_tn: 1.0000 - val_fn: 6.0000 - val_accuracy: 0.8324 - val_precision: 0.8596 - val_recall: 0.9623 - val_auc: 0.5025\n",
      "Epoch 30/300\n",
      "737/737 [==============================] - 1s 1ms/sample - loss: 0.0846 - tp: 631.0000 - fp: 16.0000 - tn: 90.0000 - fn: 0.0000e+00 - accuracy: 0.9783 - precision: 0.9753 - recall: 1.0000 - auc: 0.9944 - val_loss: 0.5929 - val_tp: 152.0000 - val_fp: 24.0000 - val_tn: 2.0000 - val_fn: 7.0000 - val_accuracy: 0.8324 - val_precision: 0.8636 - val_recall: 0.9560 - val_auc: 0.5023\n",
      "Epoch 31/300\n",
      "737/737 [==============================] - 1s 1ms/sample - loss: 0.0760 - tp: 631.0000 - fp: 13.0000 - tn: 93.0000 - fn: 0.0000e+00 - accuracy: 0.9824 - precision: 0.9798 - recall: 1.0000 - auc: 0.9966 - val_loss: 0.6044 - val_tp: 152.0000 - val_fp: 24.0000 - val_tn: 2.0000 - val_fn: 7.0000 - val_accuracy: 0.8324 - val_precision: 0.8636 - val_recall: 0.9560 - val_auc: 0.5047\n",
      "Epoch 32/300\n",
      "737/737 [==============================] - 1s 1ms/sample - loss: 0.0693 - tp: 631.0000 - fp: 11.0000 - tn: 95.0000 - fn: 0.0000e+00 - accuracy: 0.9851 - precision: 0.9829 - recall: 1.0000 - auc: 0.9972 - val_loss: 0.6211 - val_tp: 149.0000 - val_fp: 24.0000 - val_tn: 2.0000 - val_fn: 10.0000 - val_accuracy: 0.8162 - val_precision: 0.8613 - val_recall: 0.9371 - val_auc: 0.5012\n",
      "Epoch 33/300\n",
      "737/737 [==============================] - 1s 1ms/sample - loss: 0.0630 - tp: 631.0000 - fp: 6.0000 - tn: 100.0000 - fn: 0.0000e+00 - accuracy: 0.9919 - precision: 0.9906 - recall: 1.0000 - auc: 0.9987 - val_loss: 0.6380 - val_tp: 151.0000 - val_fp: 24.0000 - val_tn: 2.0000 - val_fn: 8.0000 - val_accuracy: 0.8270 - val_precision: 0.8629 - val_recall: 0.9497 - val_auc: 0.5131\n",
      "Epoch 34/300\n",
      "737/737 [==============================] - 1s 1ms/sample - loss: 0.0577 - tp: 630.0000 - fp: 5.0000 - tn: 101.0000 - fn: 1.0000 - accuracy: 0.9919 - precision: 0.9921 - recall: 0.9984 - auc: 0.9985 - val_loss: 0.6494 - val_tp: 150.0000 - val_fp: 24.0000 - val_tn: 2.0000 - val_fn: 9.0000 - val_accuracy: 0.8216 - val_precision: 0.8621 - val_recall: 0.9434 - val_auc: 0.5045\n",
      "Epoch 35/300\n",
      "737/737 [==============================] - 1s 1ms/sample - loss: 0.0528 - tp: 630.0000 - fp: 3.0000 - tn: 103.0000 - fn: 1.0000 - accuracy: 0.9946 - precision: 0.9953 - recall: 0.9984 - auc: 0.9991 - val_loss: 0.6651 - val_tp: 150.0000 - val_fp: 24.0000 - val_tn: 2.0000 - val_fn: 9.0000 - val_accuracy: 0.8216 - val_precision: 0.8621 - val_recall: 0.9434 - val_auc: 0.5123\n",
      "Epoch 36/300\n",
      "737/737 [==============================] - 1s 1ms/sample - loss: 0.0482 - tp: 630.0000 - fp: 6.0000 - tn: 100.0000 - fn: 1.0000 - accuracy: 0.9905 - precision: 0.9906 - recall: 0.9984 - auc: 0.9991 - val_loss: 0.6795 - val_tp: 145.0000 - val_fp: 24.0000 - val_tn: 2.0000 - val_fn: 14.0000 - val_accuracy: 0.7946 - val_precision: 0.8580 - val_recall: 0.9119 - val_auc: 0.5052\n",
      "Epoch 37/300\n",
      "737/737 [==============================] - 1s 1ms/sample - loss: 0.0421 - tp: 630.0000 - fp: 3.0000 - tn: 103.0000 - fn: 1.0000 - accuracy: 0.9946 - precision: 0.9953 - recall: 0.9984 - auc: 0.9998 - val_loss: 0.6932 - val_tp: 147.0000 - val_fp: 24.0000 - val_tn: 2.0000 - val_fn: 12.0000 - val_accuracy: 0.8054 - val_precision: 0.8596 - val_recall: 0.9245 - val_auc: 0.5082\n",
      "Epoch 38/300\n",
      "737/737 [==============================] - 1s 1ms/sample - loss: 0.0374 - tp: 631.0000 - fp: 3.0000 - tn: 103.0000 - fn: 0.0000e+00 - accuracy: 0.9959 - precision: 0.9953 - recall: 1.0000 - auc: 0.9998 - val_loss: 0.7065 - val_tp: 147.0000 - val_fp: 24.0000 - val_tn: 2.0000 - val_fn: 12.0000 - val_accuracy: 0.8054 - val_precision: 0.8596 - val_recall: 0.9245 - val_auc: 0.5054\n",
      "Epoch 39/300\n",
      "737/737 [==============================] - 1s 1ms/sample - loss: 0.0337 - tp: 631.0000 - fp: 3.0000 - tn: 103.0000 - fn: 0.0000e+00 - accuracy: 0.9959 - precision: 0.9953 - recall: 1.0000 - auc: 0.9999 - val_loss: 0.7217 - val_tp: 147.0000 - val_fp: 24.0000 - val_tn: 2.0000 - val_fn: 12.0000 - val_accuracy: 0.8054 - val_precision: 0.8596 - val_recall: 0.9245 - val_auc: 0.4963\n",
      "Epoch 40/300\n",
      "737/737 [==============================] - 1s 1ms/sample - loss: 0.0307 - tp: 631.0000 - fp: 2.0000 - tn: 104.0000 - fn: 0.0000e+00 - accuracy: 0.9973 - precision: 0.9968 - recall: 1.0000 - auc: 1.0000 - val_loss: 0.7395 - val_tp: 144.0000 - val_fp: 24.0000 - val_tn: 2.0000 - val_fn: 15.0000 - val_accuracy: 0.7892 - val_precision: 0.8571 - val_recall: 0.9057 - val_auc: 0.4836\n",
      "Epoch 41/300\n",
      "737/737 [==============================] - 1s 1ms/sample - loss: 0.0275 - tp: 630.0000 - fp: 0.0000e+00 - tn: 106.0000 - fn: 1.0000 - accuracy: 0.9986 - precision: 1.0000 - recall: 0.9984 - auc: 1.0000 - val_loss: 0.7627 - val_tp: 147.0000 - val_fp: 24.0000 - val_tn: 2.0000 - val_fn: 12.0000 - val_accuracy: 0.8054 - val_precision: 0.8596 - val_recall: 0.9245 - val_auc: 0.4994\n",
      "Epoch 42/300\n",
      "737/737 [==============================] - 1s 1ms/sample - loss: 0.0264 - tp: 630.0000 - fp: 1.0000 - tn: 105.0000 - fn: 1.0000 - accuracy: 0.9973 - precision: 0.9984 - recall: 0.9984 - auc: 0.9999 - val_loss: 0.7756 - val_tp: 144.0000 - val_fp: 23.0000 - val_tn: 3.0000 - val_fn: 15.0000 - val_accuracy: 0.7946 - val_precision: 0.8623 - val_recall: 0.9057 - val_auc: 0.4931\n"
     ]
    },
    {
     "name": "stdout",
     "output_type": "stream",
     "text": [
      "Epoch 43/300\n",
      "737/737 [==============================] - 1s 1ms/sample - loss: 0.0225 - tp: 631.0000 - fp: 0.0000e+00 - tn: 106.0000 - fn: 0.0000e+00 - accuracy: 1.0000 - precision: 1.0000 - recall: 1.0000 - auc: 1.0000 - val_loss: 0.7843 - val_tp: 147.0000 - val_fp: 24.0000 - val_tn: 2.0000 - val_fn: 12.0000 - val_accuracy: 0.8054 - val_precision: 0.8596 - val_recall: 0.9245 - val_auc: 0.4982\n",
      "Epoch 44/300\n",
      "737/737 [==============================] - 1s 1ms/sample - loss: 0.0206 - tp: 630.0000 - fp: 0.0000e+00 - tn: 106.0000 - fn: 1.0000 - accuracy: 0.9986 - precision: 1.0000 - recall: 0.9984 - auc: 1.0000 - val_loss: 0.7999 - val_tp: 145.0000 - val_fp: 24.0000 - val_tn: 2.0000 - val_fn: 14.0000 - val_accuracy: 0.7946 - val_precision: 0.8580 - val_recall: 0.9119 - val_auc: 0.4995\n",
      "Epoch 45/300\n",
      "737/737 [==============================] - 1s 1ms/sample - loss: 0.0176 - tp: 631.0000 - fp: 0.0000e+00 - tn: 106.0000 - fn: 0.0000e+00 - accuracy: 1.0000 - precision: 1.0000 - recall: 1.0000 - auc: 1.0000 - val_loss: 0.8147 - val_tp: 145.0000 - val_fp: 24.0000 - val_tn: 2.0000 - val_fn: 14.0000 - val_accuracy: 0.7946 - val_precision: 0.8580 - val_recall: 0.9119 - val_auc: 0.5016\n",
      "Epoch 46/300\n",
      "737/737 [==============================] - 1s 1ms/sample - loss: 0.0179 - tp: 631.0000 - fp: 1.0000 - tn: 105.0000 - fn: 0.0000e+00 - accuracy: 0.9986 - precision: 0.9984 - recall: 1.0000 - auc: 1.0000 - val_loss: 0.8264 - val_tp: 143.0000 - val_fp: 23.0000 - val_tn: 3.0000 - val_fn: 16.0000 - val_accuracy: 0.7892 - val_precision: 0.8614 - val_recall: 0.8994 - val_auc: 0.4912\n",
      "Epoch 47/300\n",
      "737/737 [==============================] - 1s 1ms/sample - loss: 0.0148 - tp: 631.0000 - fp: 0.0000e+00 - tn: 106.0000 - fn: 0.0000e+00 - accuracy: 1.0000 - precision: 1.0000 - recall: 1.0000 - auc: 1.0000 - val_loss: 0.8356 - val_tp: 146.0000 - val_fp: 24.0000 - val_tn: 2.0000 - val_fn: 13.0000 - val_accuracy: 0.8000 - val_precision: 0.8588 - val_recall: 0.9182 - val_auc: 0.5108\n",
      "Epoch 48/300\n",
      "737/737 [==============================] - 1s 1ms/sample - loss: 0.0137 - tp: 631.0000 - fp: 0.0000e+00 - tn: 106.0000 - fn: 0.0000e+00 - accuracy: 1.0000 - precision: 1.0000 - recall: 1.0000 - auc: 1.0000 - val_loss: 0.8503 - val_tp: 144.0000 - val_fp: 23.0000 - val_tn: 3.0000 - val_fn: 15.0000 - val_accuracy: 0.7946 - val_precision: 0.8623 - val_recall: 0.9057 - val_auc: 0.5143\n",
      "Epoch 49/300\n",
      "737/737 [==============================] - 1s 1ms/sample - loss: 0.0129 - tp: 631.0000 - fp: 0.0000e+00 - tn: 106.0000 - fn: 0.0000e+00 - accuracy: 1.0000 - precision: 1.0000 - recall: 1.0000 - auc: 1.0000 - val_loss: 0.8595 - val_tp: 147.0000 - val_fp: 24.0000 - val_tn: 2.0000 - val_fn: 12.0000 - val_accuracy: 0.8054 - val_precision: 0.8596 - val_recall: 0.9245 - val_auc: 0.5128\n",
      "Epoch 50/300\n",
      "737/737 [==============================] - 1s 1ms/sample - loss: 0.0127 - tp: 631.0000 - fp: 0.0000e+00 - tn: 106.0000 - fn: 0.0000e+00 - accuracy: 1.0000 - precision: 1.0000 - recall: 1.0000 - auc: 1.0000 - val_loss: 0.8748 - val_tp: 144.0000 - val_fp: 23.0000 - val_tn: 3.0000 - val_fn: 15.0000 - val_accuracy: 0.7946 - val_precision: 0.8623 - val_recall: 0.9057 - val_auc: 0.5031\n",
      "Epoch 51/300\n",
      "737/737 [==============================] - 1s 1ms/sample - loss: 0.0118 - tp: 631.0000 - fp: 0.0000e+00 - tn: 106.0000 - fn: 0.0000e+00 - accuracy: 1.0000 - precision: 1.0000 - recall: 1.0000 - auc: 1.0000 - val_loss: 0.8822 - val_tp: 147.0000 - val_fp: 24.0000 - val_tn: 2.0000 - val_fn: 12.0000 - val_accuracy: 0.8054 - val_precision: 0.8596 - val_recall: 0.9245 - val_auc: 0.5001\n",
      "Epoch 52/300\n",
      "737/737 [==============================] - 1s 1ms/sample - loss: 0.0107 - tp: 631.0000 - fp: 0.0000e+00 - tn: 106.0000 - fn: 0.0000e+00 - accuracy: 1.0000 - precision: 1.0000 - recall: 1.0000 - auc: 1.0000 - val_loss: 0.9011 - val_tp: 146.0000 - val_fp: 24.0000 - val_tn: 2.0000 - val_fn: 13.0000 - val_accuracy: 0.8000 - val_precision: 0.8588 - val_recall: 0.9182 - val_auc: 0.4815\n",
      "Epoch 53/300\n",
      "737/737 [==============================] - 1s 1ms/sample - loss: 0.0095 - tp: 631.0000 - fp: 0.0000e+00 - tn: 106.0000 - fn: 0.0000e+00 - accuracy: 1.0000 - precision: 1.0000 - recall: 1.0000 - auc: 1.0000 - val_loss: 0.9043 - val_tp: 147.0000 - val_fp: 24.0000 - val_tn: 2.0000 - val_fn: 12.0000 - val_accuracy: 0.8054 - val_precision: 0.8596 - val_recall: 0.9245 - val_auc: 0.4790\n",
      "Epoch 54/300\n",
      "737/737 [==============================] - 1s 1ms/sample - loss: 0.0087 - tp: 631.0000 - fp: 0.0000e+00 - tn: 106.0000 - fn: 0.0000e+00 - accuracy: 1.0000 - precision: 1.0000 - recall: 1.0000 - auc: 1.0000 - val_loss: 0.9103 - val_tp: 145.0000 - val_fp: 24.0000 - val_tn: 2.0000 - val_fn: 14.0000 - val_accuracy: 0.7946 - val_precision: 0.8580 - val_recall: 0.9119 - val_auc: 0.4857\n",
      "Epoch 55/300\n",
      "737/737 [==============================] - 1s 1ms/sample - loss: 0.0082 - tp: 631.0000 - fp: 0.0000e+00 - tn: 106.0000 - fn: 0.0000e+00 - accuracy: 1.0000 - precision: 1.0000 - recall: 1.0000 - auc: 1.0000 - val_loss: 0.9229 - val_tp: 145.0000 - val_fp: 23.0000 - val_tn: 3.0000 - val_fn: 14.0000 - val_accuracy: 0.8000 - val_precision: 0.8631 - val_recall: 0.9119 - val_auc: 0.4828\n",
      "Epoch 56/300\n",
      "737/737 [==============================] - 1s 1ms/sample - loss: 0.0078 - tp: 631.0000 - fp: 0.0000e+00 - tn: 106.0000 - fn: 0.0000e+00 - accuracy: 1.0000 - precision: 1.0000 - recall: 1.0000 - auc: 1.0000 - val_loss: 0.9236 - val_tp: 146.0000 - val_fp: 24.0000 - val_tn: 2.0000 - val_fn: 13.0000 - val_accuracy: 0.8000 - val_precision: 0.8588 - val_recall: 0.9182 - val_auc: 0.4959\n",
      "Epoch 57/300\n",
      "737/737 [==============================] - 1s 1ms/sample - loss: 0.0067 - tp: 631.0000 - fp: 0.0000e+00 - tn: 106.0000 - fn: 0.0000e+00 - accuracy: 1.0000 - precision: 1.0000 - recall: 1.0000 - auc: 1.0000 - val_loss: 0.9365 - val_tp: 145.0000 - val_fp: 23.0000 - val_tn: 3.0000 - val_fn: 14.0000 - val_accuracy: 0.8000 - val_precision: 0.8631 - val_recall: 0.9119 - val_auc: 0.4823\n",
      "Epoch 58/300\n",
      "737/737 [==============================] - 1s 1ms/sample - loss: 0.0062 - tp: 631.0000 - fp: 0.0000e+00 - tn: 106.0000 - fn: 0.0000e+00 - accuracy: 1.0000 - precision: 1.0000 - recall: 1.0000 - auc: 1.0000 - val_loss: 0.9473 - val_tp: 145.0000 - val_fp: 23.0000 - val_tn: 3.0000 - val_fn: 14.0000 - val_accuracy: 0.8000 - val_precision: 0.8631 - val_recall: 0.9119 - val_auc: 0.4863\n",
      "Epoch 59/300\n",
      "737/737 [==============================] - 1s 1ms/sample - loss: 0.0058 - tp: 631.0000 - fp: 0.0000e+00 - tn: 106.0000 - fn: 0.0000e+00 - accuracy: 1.0000 - precision: 1.0000 - recall: 1.0000 - auc: 1.0000 - val_loss: 0.9540 - val_tp: 145.0000 - val_fp: 23.0000 - val_tn: 3.0000 - val_fn: 14.0000 - val_accuracy: 0.8000 - val_precision: 0.8631 - val_recall: 0.9119 - val_auc: 0.4833\n",
      "Epoch 60/300\n",
      "737/737 [==============================] - 1s 1ms/sample - loss: 0.0056 - tp: 631.0000 - fp: 0.0000e+00 - tn: 106.0000 - fn: 0.0000e+00 - accuracy: 1.0000 - precision: 1.0000 - recall: 1.0000 - auc: 1.0000 - val_loss: 0.9642 - val_tp: 145.0000 - val_fp: 23.0000 - val_tn: 3.0000 - val_fn: 14.0000 - val_accuracy: 0.8000 - val_precision: 0.8631 - val_recall: 0.9119 - val_auc: 0.4768\n",
      "Epoch 61/300\n",
      "737/737 [==============================] - 1s 1ms/sample - loss: 0.0055 - tp: 631.0000 - fp: 0.0000e+00 - tn: 106.0000 - fn: 0.0000e+00 - accuracy: 1.0000 - precision: 1.0000 - recall: 1.0000 - auc: 1.0000 - val_loss: 0.9651 - val_tp: 145.0000 - val_fp: 23.0000 - val_tn: 3.0000 - val_fn: 14.0000 - val_accuracy: 0.8000 - val_precision: 0.8631 - val_recall: 0.9119 - val_auc: 0.4845\n",
      "Epoch 62/300\n",
      "737/737 [==============================] - 1s 1ms/sample - loss: 0.0049 - tp: 631.0000 - fp: 0.0000e+00 - tn: 106.0000 - fn: 0.0000e+00 - accuracy: 1.0000 - precision: 1.0000 - recall: 1.0000 - auc: 1.0000 - val_loss: 0.9760 - val_tp: 145.0000 - val_fp: 23.0000 - val_tn: 3.0000 - val_fn: 14.0000 - val_accuracy: 0.8000 - val_precision: 0.8631 - val_recall: 0.9119 - val_auc: 0.4704\n",
      "Epoch 63/300\n",
      "737/737 [==============================] - 1s 1ms/sample - loss: 0.0047 - tp: 631.0000 - fp: 0.0000e+00 - tn: 106.0000 - fn: 0.0000e+00 - accuracy: 1.0000 - precision: 1.0000 - recall: 1.0000 - auc: 1.0000 - val_loss: 0.9897 - val_tp: 145.0000 - val_fp: 23.0000 - val_tn: 3.0000 - val_fn: 14.0000 - val_accuracy: 0.8000 - val_precision: 0.8631 - val_recall: 0.9119 - val_auc: 0.4724\n"
     ]
    },
    {
     "name": "stdout",
     "output_type": "stream",
     "text": [
      "Epoch 64/300\n",
      "737/737 [==============================] - 1s 1ms/sample - loss: 0.0044 - tp: 631.0000 - fp: 0.0000e+00 - tn: 106.0000 - fn: 0.0000e+00 - accuracy: 1.0000 - precision: 1.0000 - recall: 1.0000 - auc: 1.0000 - val_loss: 0.9950 - val_tp: 144.0000 - val_fp: 23.0000 - val_tn: 3.0000 - val_fn: 15.0000 - val_accuracy: 0.7946 - val_precision: 0.8623 - val_recall: 0.9057 - val_auc: 0.4727\n",
      "Epoch 65/300\n",
      "737/737 [==============================] - 1s 1ms/sample - loss: 0.0043 - tp: 631.0000 - fp: 0.0000e+00 - tn: 106.0000 - fn: 0.0000e+00 - accuracy: 1.0000 - precision: 1.0000 - recall: 1.0000 - auc: 1.0000 - val_loss: 1.0043 - val_tp: 144.0000 - val_fp: 23.0000 - val_tn: 3.0000 - val_fn: 15.0000 - val_accuracy: 0.7946 - val_precision: 0.8623 - val_recall: 0.9057 - val_auc: 0.4722\n",
      "Epoch 66/300\n",
      "737/737 [==============================] - 1s 1ms/sample - loss: 0.0040 - tp: 631.0000 - fp: 0.0000e+00 - tn: 106.0000 - fn: 0.0000e+00 - accuracy: 1.0000 - precision: 1.0000 - recall: 1.0000 - auc: 1.0000 - val_loss: 1.0151 - val_tp: 144.0000 - val_fp: 23.0000 - val_tn: 3.0000 - val_fn: 15.0000 - val_accuracy: 0.7946 - val_precision: 0.8623 - val_recall: 0.9057 - val_auc: 0.4781\n",
      "Epoch 67/300\n",
      "737/737 [==============================] - 1s 1ms/sample - loss: 0.0038 - tp: 631.0000 - fp: 0.0000e+00 - tn: 106.0000 - fn: 0.0000e+00 - accuracy: 1.0000 - precision: 1.0000 - recall: 1.0000 - auc: 1.0000 - val_loss: 1.0206 - val_tp: 144.0000 - val_fp: 23.0000 - val_tn: 3.0000 - val_fn: 15.0000 - val_accuracy: 0.7946 - val_precision: 0.8623 - val_recall: 0.9057 - val_auc: 0.4804\n",
      "Epoch 68/300\n",
      "737/737 [==============================] - 1s 1ms/sample - loss: 0.0035 - tp: 631.0000 - fp: 0.0000e+00 - tn: 106.0000 - fn: 0.0000e+00 - accuracy: 1.0000 - precision: 1.0000 - recall: 1.0000 - auc: 1.0000 - val_loss: 1.0335 - val_tp: 144.0000 - val_fp: 23.0000 - val_tn: 3.0000 - val_fn: 15.0000 - val_accuracy: 0.7946 - val_precision: 0.8623 - val_recall: 0.9057 - val_auc: 0.4838\n",
      "Epoch 69/300\n",
      "737/737 [==============================] - 1s 1ms/sample - loss: 0.0033 - tp: 631.0000 - fp: 0.0000e+00 - tn: 106.0000 - fn: 0.0000e+00 - accuracy: 1.0000 - precision: 1.0000 - recall: 1.0000 - auc: 1.0000 - val_loss: 1.0371 - val_tp: 144.0000 - val_fp: 23.0000 - val_tn: 3.0000 - val_fn: 15.0000 - val_accuracy: 0.7946 - val_precision: 0.8623 - val_recall: 0.9057 - val_auc: 0.4770\n",
      "Epoch 70/300\n",
      "737/737 [==============================] - 1s 1ms/sample - loss: 0.0032 - tp: 631.0000 - fp: 0.0000e+00 - tn: 106.0000 - fn: 0.0000e+00 - accuracy: 1.0000 - precision: 1.0000 - recall: 1.0000 - auc: 1.0000 - val_loss: 1.0464 - val_tp: 144.0000 - val_fp: 23.0000 - val_tn: 3.0000 - val_fn: 15.0000 - val_accuracy: 0.7946 - val_precision: 0.8623 - val_recall: 0.9057 - val_auc: 0.4736\n",
      "Epoch 71/300\n",
      "737/737 [==============================] - 1s 1ms/sample - loss: 0.0031 - tp: 631.0000 - fp: 0.0000e+00 - tn: 106.0000 - fn: 0.0000e+00 - accuracy: 1.0000 - precision: 1.0000 - recall: 1.0000 - auc: 1.0000 - val_loss: 1.0528 - val_tp: 144.0000 - val_fp: 23.0000 - val_tn: 3.0000 - val_fn: 15.0000 - val_accuracy: 0.7946 - val_precision: 0.8623 - val_recall: 0.9057 - val_auc: 0.4937\n",
      "Epoch 72/300\n",
      "737/737 [==============================] - 1s 1ms/sample - loss: 0.0031 - tp: 631.0000 - fp: 0.0000e+00 - tn: 106.0000 - fn: 0.0000e+00 - accuracy: 1.0000 - precision: 1.0000 - recall: 1.0000 - auc: 1.0000 - val_loss: 1.0596 - val_tp: 144.0000 - val_fp: 23.0000 - val_tn: 3.0000 - val_fn: 15.0000 - val_accuracy: 0.7946 - val_precision: 0.8623 - val_recall: 0.9057 - val_auc: 0.4937\n",
      "Epoch 73/300\n",
      "737/737 [==============================] - 1s 1ms/sample - loss: 0.0030 - tp: 631.0000 - fp: 0.0000e+00 - tn: 106.0000 - fn: 0.0000e+00 - accuracy: 1.0000 - precision: 1.0000 - recall: 1.0000 - auc: 1.0000 - val_loss: 1.0658 - val_tp: 143.0000 - val_fp: 23.0000 - val_tn: 3.0000 - val_fn: 16.0000 - val_accuracy: 0.7892 - val_precision: 0.8614 - val_recall: 0.8994 - val_auc: 0.4933\n",
      "Epoch 74/300\n",
      "737/737 [==============================] - 1s 1ms/sample - loss: 0.0028 - tp: 631.0000 - fp: 0.0000e+00 - tn: 106.0000 - fn: 0.0000e+00 - accuracy: 1.0000 - precision: 1.0000 - recall: 1.0000 - auc: 1.0000 - val_loss: 1.0710 - val_tp: 144.0000 - val_fp: 23.0000 - val_tn: 3.0000 - val_fn: 15.0000 - val_accuracy: 0.7946 - val_precision: 0.8623 - val_recall: 0.9057 - val_auc: 0.4782\n",
      "Epoch 75/300\n",
      "737/737 [==============================] - 1s 1ms/sample - loss: 0.0027 - tp: 631.0000 - fp: 0.0000e+00 - tn: 106.0000 - fn: 0.0000e+00 - accuracy: 1.0000 - precision: 1.0000 - recall: 1.0000 - auc: 1.0000 - val_loss: 1.0825 - val_tp: 143.0000 - val_fp: 23.0000 - val_tn: 3.0000 - val_fn: 16.0000 - val_accuracy: 0.7892 - val_precision: 0.8614 - val_recall: 0.8994 - val_auc: 0.4913\n",
      "Epoch 76/300\n",
      "737/737 [==============================] - 1s 1ms/sample - loss: 0.0025 - tp: 631.0000 - fp: 0.0000e+00 - tn: 106.0000 - fn: 0.0000e+00 - accuracy: 1.0000 - precision: 1.0000 - recall: 1.0000 - auc: 1.0000 - val_loss: 1.0856 - val_tp: 144.0000 - val_fp: 23.0000 - val_tn: 3.0000 - val_fn: 15.0000 - val_accuracy: 0.7946 - val_precision: 0.8623 - val_recall: 0.9057 - val_auc: 0.4798\n",
      "Epoch 77/300\n",
      "737/737 [==============================] - 1s 1ms/sample - loss: 0.0024 - tp: 631.0000 - fp: 0.0000e+00 - tn: 106.0000 - fn: 0.0000e+00 - accuracy: 1.0000 - precision: 1.0000 - recall: 1.0000 - auc: 1.0000 - val_loss: 1.0937 - val_tp: 144.0000 - val_fp: 23.0000 - val_tn: 3.0000 - val_fn: 15.0000 - val_accuracy: 0.7946 - val_precision: 0.8623 - val_recall: 0.9057 - val_auc: 0.4793\n",
      "Epoch 78/300\n",
      "737/737 [==============================] - 1s 1ms/sample - loss: 0.0023 - tp: 631.0000 - fp: 0.0000e+00 - tn: 106.0000 - fn: 0.0000e+00 - accuracy: 1.0000 - precision: 1.0000 - recall: 1.0000 - auc: 1.0000 - val_loss: 1.0986 - val_tp: 143.0000 - val_fp: 23.0000 - val_tn: 3.0000 - val_fn: 16.0000 - val_accuracy: 0.7892 - val_precision: 0.8614 - val_recall: 0.8994 - val_auc: 0.4802\n",
      "Epoch 79/300\n",
      "737/737 [==============================] - 1s 1ms/sample - loss: 0.0023 - tp: 631.0000 - fp: 0.0000e+00 - tn: 106.0000 - fn: 0.0000e+00 - accuracy: 1.0000 - precision: 1.0000 - recall: 1.0000 - auc: 1.0000 - val_loss: 1.1071 - val_tp: 143.0000 - val_fp: 23.0000 - val_tn: 3.0000 - val_fn: 16.0000 - val_accuracy: 0.7892 - val_precision: 0.8614 - val_recall: 0.8994 - val_auc: 0.4808\n",
      "Epoch 80/300\n",
      "737/737 [==============================] - 1s 1ms/sample - loss: 0.0021 - tp: 631.0000 - fp: 0.0000e+00 - tn: 106.0000 - fn: 0.0000e+00 - accuracy: 1.0000 - precision: 1.0000 - recall: 1.0000 - auc: 1.0000 - val_loss: 1.1109 - val_tp: 144.0000 - val_fp: 23.0000 - val_tn: 3.0000 - val_fn: 15.0000 - val_accuracy: 0.7946 - val_precision: 0.8623 - val_recall: 0.9057 - val_auc: 0.4831\n",
      "Epoch 81/300\n",
      "737/737 [==============================] - 1s 1ms/sample - loss: 0.0021 - tp: 631.0000 - fp: 0.0000e+00 - tn: 106.0000 - fn: 0.0000e+00 - accuracy: 1.0000 - precision: 1.0000 - recall: 1.0000 - auc: 1.0000 - val_loss: 1.1182 - val_tp: 143.0000 - val_fp: 23.0000 - val_tn: 3.0000 - val_fn: 16.0000 - val_accuracy: 0.7892 - val_precision: 0.8614 - val_recall: 0.8994 - val_auc: 0.4842\n",
      "Epoch 82/300\n",
      "737/737 [==============================] - 1s 1ms/sample - loss: 0.0020 - tp: 631.0000 - fp: 0.0000e+00 - tn: 106.0000 - fn: 0.0000e+00 - accuracy: 1.0000 - precision: 1.0000 - recall: 1.0000 - auc: 1.0000 - val_loss: 1.1254 - val_tp: 143.0000 - val_fp: 23.0000 - val_tn: 3.0000 - val_fn: 16.0000 - val_accuracy: 0.7892 - val_precision: 0.8614 - val_recall: 0.8994 - val_auc: 0.4857\n",
      "Epoch 83/300\n",
      "737/737 [==============================] - 1s 1ms/sample - loss: 0.0019 - tp: 631.0000 - fp: 0.0000e+00 - tn: 106.0000 - fn: 0.0000e+00 - accuracy: 1.0000 - precision: 1.0000 - recall: 1.0000 - auc: 1.0000 - val_loss: 1.1325 - val_tp: 143.0000 - val_fp: 23.0000 - val_tn: 3.0000 - val_fn: 16.0000 - val_accuracy: 0.7892 - val_precision: 0.8614 - val_recall: 0.8994 - val_auc: 0.4730\n",
      "Epoch 84/300\n",
      "737/737 [==============================] - 1s 1ms/sample - loss: 0.0019 - tp: 631.0000 - fp: 0.0000e+00 - tn: 106.0000 - fn: 0.0000e+00 - accuracy: 1.0000 - precision: 1.0000 - recall: 1.0000 - auc: 1.0000 - val_loss: 1.1424 - val_tp: 143.0000 - val_fp: 23.0000 - val_tn: 3.0000 - val_fn: 16.0000 - val_accuracy: 0.7892 - val_precision: 0.8614 - val_recall: 0.8994 - val_auc: 0.4875\n"
     ]
    },
    {
     "name": "stdout",
     "output_type": "stream",
     "text": [
      "Epoch 85/300\n",
      "737/737 [==============================] - 1s 1ms/sample - loss: 0.0018 - tp: 631.0000 - fp: 0.0000e+00 - tn: 106.0000 - fn: 0.0000e+00 - accuracy: 1.0000 - precision: 1.0000 - recall: 1.0000 - auc: 1.0000 - val_loss: 1.1462 - val_tp: 144.0000 - val_fp: 23.0000 - val_tn: 3.0000 - val_fn: 15.0000 - val_accuracy: 0.7946 - val_precision: 0.8623 - val_recall: 0.9057 - val_auc: 0.4793\n",
      "Epoch 86/300\n",
      "737/737 [==============================] - 1s 1ms/sample - loss: 0.0018 - tp: 631.0000 - fp: 0.0000e+00 - tn: 106.0000 - fn: 0.0000e+00 - accuracy: 1.0000 - precision: 1.0000 - recall: 1.0000 - auc: 1.0000 - val_loss: 1.1530 - val_tp: 143.0000 - val_fp: 23.0000 - val_tn: 3.0000 - val_fn: 16.0000 - val_accuracy: 0.7892 - val_precision: 0.8614 - val_recall: 0.8994 - val_auc: 0.4750\n",
      "Epoch 87/300\n",
      "737/737 [==============================] - 1s 1ms/sample - loss: 0.0016 - tp: 631.0000 - fp: 0.0000e+00 - tn: 106.0000 - fn: 0.0000e+00 - accuracy: 1.0000 - precision: 1.0000 - recall: 1.0000 - auc: 1.0000 - val_loss: 1.1553 - val_tp: 143.0000 - val_fp: 23.0000 - val_tn: 3.0000 - val_fn: 16.0000 - val_accuracy: 0.7892 - val_precision: 0.8614 - val_recall: 0.8994 - val_auc: 0.4825\n",
      "Epoch 88/300\n",
      "737/737 [==============================] - 1s 1ms/sample - loss: 0.0016 - tp: 631.0000 - fp: 0.0000e+00 - tn: 106.0000 - fn: 0.0000e+00 - accuracy: 1.0000 - precision: 1.0000 - recall: 1.0000 - auc: 1.0000 - val_loss: 1.1600 - val_tp: 144.0000 - val_fp: 23.0000 - val_tn: 3.0000 - val_fn: 15.0000 - val_accuracy: 0.7946 - val_precision: 0.8623 - val_recall: 0.9057 - val_auc: 0.4678\n",
      "Epoch 89/300\n",
      "737/737 [==============================] - 1s 1ms/sample - loss: 0.0015 - tp: 631.0000 - fp: 0.0000e+00 - tn: 106.0000 - fn: 0.0000e+00 - accuracy: 1.0000 - precision: 1.0000 - recall: 1.0000 - auc: 1.0000 - val_loss: 1.1681 - val_tp: 143.0000 - val_fp: 23.0000 - val_tn: 3.0000 - val_fn: 16.0000 - val_accuracy: 0.7892 - val_precision: 0.8614 - val_recall: 0.8994 - val_auc: 0.4655\n",
      "Epoch 90/300\n",
      "737/737 [==============================] - 1s 1ms/sample - loss: 0.0015 - tp: 631.0000 - fp: 0.0000e+00 - tn: 106.0000 - fn: 0.0000e+00 - accuracy: 1.0000 - precision: 1.0000 - recall: 1.0000 - auc: 1.0000 - val_loss: 1.1735 - val_tp: 143.0000 - val_fp: 23.0000 - val_tn: 3.0000 - val_fn: 16.0000 - val_accuracy: 0.7892 - val_precision: 0.8614 - val_recall: 0.8994 - val_auc: 0.4661\n",
      "Epoch 91/300\n",
      "737/737 [==============================] - 1s 1ms/sample - loss: 0.0014 - tp: 631.0000 - fp: 0.0000e+00 - tn: 106.0000 - fn: 0.0000e+00 - accuracy: 1.0000 - precision: 1.0000 - recall: 1.0000 - auc: 1.0000 - val_loss: 1.1775 - val_tp: 144.0000 - val_fp: 23.0000 - val_tn: 3.0000 - val_fn: 15.0000 - val_accuracy: 0.7946 - val_precision: 0.8623 - val_recall: 0.9057 - val_auc: 0.4724\n",
      "Epoch 92/300\n",
      "737/737 [==============================] - 1s 1ms/sample - loss: 0.0014 - tp: 631.0000 - fp: 0.0000e+00 - tn: 106.0000 - fn: 0.0000e+00 - accuracy: 1.0000 - precision: 1.0000 - recall: 1.0000 - auc: 1.0000 - val_loss: 1.1828 - val_tp: 143.0000 - val_fp: 23.0000 - val_tn: 3.0000 - val_fn: 16.0000 - val_accuracy: 0.7892 - val_precision: 0.8614 - val_recall: 0.8994 - val_auc: 0.4705\n",
      "Epoch 93/300\n",
      "737/737 [==============================] - 1s 1ms/sample - loss: 0.0013 - tp: 631.0000 - fp: 0.0000e+00 - tn: 106.0000 - fn: 0.0000e+00 - accuracy: 1.0000 - precision: 1.0000 - recall: 1.0000 - auc: 1.0000 - val_loss: 1.1856 - val_tp: 144.0000 - val_fp: 23.0000 - val_tn: 3.0000 - val_fn: 15.0000 - val_accuracy: 0.7946 - val_precision: 0.8623 - val_recall: 0.9057 - val_auc: 0.4725\n",
      "Epoch 94/300\n",
      "737/737 [==============================] - 1s 1ms/sample - loss: 0.0013 - tp: 631.0000 - fp: 0.0000e+00 - tn: 106.0000 - fn: 0.0000e+00 - accuracy: 1.0000 - precision: 1.0000 - recall: 1.0000 - auc: 1.0000 - val_loss: 1.1902 - val_tp: 143.0000 - val_fp: 23.0000 - val_tn: 3.0000 - val_fn: 16.0000 - val_accuracy: 0.7892 - val_precision: 0.8614 - val_recall: 0.8994 - val_auc: 0.4736\n",
      "Epoch 95/300\n",
      "737/737 [==============================] - 1s 1ms/sample - loss: 0.0013 - tp: 631.0000 - fp: 0.0000e+00 - tn: 106.0000 - fn: 0.0000e+00 - accuracy: 1.0000 - precision: 1.0000 - recall: 1.0000 - auc: 1.0000 - val_loss: 1.1945 - val_tp: 144.0000 - val_fp: 23.0000 - val_tn: 3.0000 - val_fn: 15.0000 - val_accuracy: 0.7946 - val_precision: 0.8623 - val_recall: 0.9057 - val_auc: 0.4734\n",
      "Epoch 96/300\n",
      "737/737 [==============================] - 1s 1ms/sample - loss: 0.0012 - tp: 631.0000 - fp: 0.0000e+00 - tn: 106.0000 - fn: 0.0000e+00 - accuracy: 1.0000 - precision: 1.0000 - recall: 1.0000 - auc: 1.0000 - val_loss: 1.2008 - val_tp: 144.0000 - val_fp: 23.0000 - val_tn: 3.0000 - val_fn: 15.0000 - val_accuracy: 0.7946 - val_precision: 0.8623 - val_recall: 0.9057 - val_auc: 0.4758\n",
      "Epoch 97/300\n",
      "737/737 [==============================] - 1s 1ms/sample - loss: 0.0012 - tp: 631.0000 - fp: 0.0000e+00 - tn: 106.0000 - fn: 0.0000e+00 - accuracy: 1.0000 - precision: 1.0000 - recall: 1.0000 - auc: 1.0000 - val_loss: 1.2054 - val_tp: 144.0000 - val_fp: 23.0000 - val_tn: 3.0000 - val_fn: 15.0000 - val_accuracy: 0.7946 - val_precision: 0.8623 - val_recall: 0.9057 - val_auc: 0.4751\n",
      "Epoch 98/300\n",
      "737/737 [==============================] - 1s 1ms/sample - loss: 0.0012 - tp: 631.0000 - fp: 0.0000e+00 - tn: 106.0000 - fn: 0.0000e+00 - accuracy: 1.0000 - precision: 1.0000 - recall: 1.0000 - auc: 1.0000 - val_loss: 1.2125 - val_tp: 143.0000 - val_fp: 23.0000 - val_tn: 3.0000 - val_fn: 16.0000 - val_accuracy: 0.7892 - val_precision: 0.8614 - val_recall: 0.8994 - val_auc: 0.4659\n",
      "Epoch 99/300\n",
      "737/737 [==============================] - 1s 1ms/sample - loss: 0.0011 - tp: 631.0000 - fp: 0.0000e+00 - tn: 106.0000 - fn: 0.0000e+00 - accuracy: 1.0000 - precision: 1.0000 - recall: 1.0000 - auc: 1.0000 - val_loss: 1.2128 - val_tp: 143.0000 - val_fp: 23.0000 - val_tn: 3.0000 - val_fn: 16.0000 - val_accuracy: 0.7892 - val_precision: 0.8614 - val_recall: 0.8994 - val_auc: 0.4803\n",
      "Epoch 100/300\n",
      "737/737 [==============================] - 1s 2ms/sample - loss: 0.0011 - tp: 631.0000 - fp: 0.0000e+00 - tn: 106.0000 - fn: 0.0000e+00 - accuracy: 1.0000 - precision: 1.0000 - recall: 1.0000 - auc: 1.0000 - val_loss: 1.2158 - val_tp: 143.0000 - val_fp: 24.0000 - val_tn: 2.0000 - val_fn: 16.0000 - val_accuracy: 0.7838 - val_precision: 0.8563 - val_recall: 0.8994 - val_auc: 0.4705\n",
      "Epoch 101/300\n",
      "737/737 [==============================] - 1s 1ms/sample - loss: 0.0010 - tp: 631.0000 - fp: 0.0000e+00 - tn: 106.0000 - fn: 0.0000e+00 - accuracy: 1.0000 - precision: 1.0000 - recall: 1.0000 - auc: 1.0000 - val_loss: 1.2185 - val_tp: 143.0000 - val_fp: 24.0000 - val_tn: 2.0000 - val_fn: 16.0000 - val_accuracy: 0.7838 - val_precision: 0.8563 - val_recall: 0.8994 - val_auc: 0.4677\n",
      "Epoch 102/300\n",
      "737/737 [==============================] - 1s 1ms/sample - loss: 0.0010 - tp: 631.0000 - fp: 0.0000e+00 - tn: 106.0000 - fn: 0.0000e+00 - accuracy: 1.0000 - precision: 1.0000 - recall: 1.0000 - auc: 1.0000 - val_loss: 1.2221 - val_tp: 143.0000 - val_fp: 24.0000 - val_tn: 2.0000 - val_fn: 16.0000 - val_accuracy: 0.7838 - val_precision: 0.8563 - val_recall: 0.8994 - val_auc: 0.4659\n",
      "Epoch 103/300\n",
      "737/737 [==============================] - 1s 1ms/sample - loss: 9.8571e-04 - tp: 631.0000 - fp: 0.0000e+00 - tn: 106.0000 - fn: 0.0000e+00 - accuracy: 1.0000 - precision: 1.0000 - recall: 1.0000 - auc: 1.0000 - val_loss: 1.2268 - val_tp: 143.0000 - val_fp: 24.0000 - val_tn: 2.0000 - val_fn: 16.0000 - val_accuracy: 0.7838 - val_precision: 0.8563 - val_recall: 0.8994 - val_auc: 0.4687\n",
      "Epoch 104/300\n",
      "737/737 [==============================] - 1s 1ms/sample - loss: 9.6685e-04 - tp: 631.0000 - fp: 0.0000e+00 - tn: 106.0000 - fn: 0.0000e+00 - accuracy: 1.0000 - precision: 1.0000 - recall: 1.0000 - auc: 1.0000 - val_loss: 1.2307 - val_tp: 143.0000 - val_fp: 23.0000 - val_tn: 3.0000 - val_fn: 16.0000 - val_accuracy: 0.7892 - val_precision: 0.8614 - val_recall: 0.8994 - val_auc: 0.4684\n",
      "Epoch 105/300\n",
      "737/737 [==============================] - 1s 1ms/sample - loss: 9.3715e-04 - tp: 631.0000 - fp: 0.0000e+00 - tn: 106.0000 - fn: 0.0000e+00 - accuracy: 1.0000 - precision: 1.0000 - recall: 1.0000 - auc: 1.0000 - val_loss: 1.2326 - val_tp: 143.0000 - val_fp: 24.0000 - val_tn: 2.0000 - val_fn: 16.0000 - val_accuracy: 0.7838 - val_precision: 0.8563 - val_recall: 0.8994 - val_auc: 0.4677\n"
     ]
    },
    {
     "name": "stdout",
     "output_type": "stream",
     "text": [
      "Epoch 106/300\n",
      "737/737 [==============================] - 1s 1ms/sample - loss: 9.1637e-04 - tp: 631.0000 - fp: 0.0000e+00 - tn: 106.0000 - fn: 0.0000e+00 - accuracy: 1.0000 - precision: 1.0000 - recall: 1.0000 - auc: 1.0000 - val_loss: 1.2395 - val_tp: 143.0000 - val_fp: 24.0000 - val_tn: 2.0000 - val_fn: 16.0000 - val_accuracy: 0.7838 - val_precision: 0.8563 - val_recall: 0.8994 - val_auc: 0.4712\n",
      "Epoch 107/300\n",
      "737/737 [==============================] - 1s 1ms/sample - loss: 8.9708e-04 - tp: 631.0000 - fp: 0.0000e+00 - tn: 106.0000 - fn: 0.0000e+00 - accuracy: 1.0000 - precision: 1.0000 - recall: 1.0000 - auc: 1.0000 - val_loss: 1.2414 - val_tp: 143.0000 - val_fp: 24.0000 - val_tn: 2.0000 - val_fn: 16.0000 - val_accuracy: 0.7838 - val_precision: 0.8563 - val_recall: 0.8994 - val_auc: 0.4710\n",
      "Epoch 108/300\n",
      "737/737 [==============================] - 1s 1ms/sample - loss: 8.6274e-04 - tp: 631.0000 - fp: 0.0000e+00 - tn: 106.0000 - fn: 0.0000e+00 - accuracy: 1.0000 - precision: 1.0000 - recall: 1.0000 - auc: 1.0000 - val_loss: 1.2409 - val_tp: 143.0000 - val_fp: 24.0000 - val_tn: 2.0000 - val_fn: 16.0000 - val_accuracy: 0.7838 - val_precision: 0.8563 - val_recall: 0.8994 - val_auc: 0.4678\n",
      "Epoch 109/300\n",
      "737/737 [==============================] - 1s 1ms/sample - loss: 8.4223e-04 - tp: 631.0000 - fp: 0.0000e+00 - tn: 106.0000 - fn: 0.0000e+00 - accuracy: 1.0000 - precision: 1.0000 - recall: 1.0000 - auc: 1.0000 - val_loss: 1.2467 - val_tp: 143.0000 - val_fp: 24.0000 - val_tn: 2.0000 - val_fn: 16.0000 - val_accuracy: 0.7838 - val_precision: 0.8563 - val_recall: 0.8994 - val_auc: 0.4689\n",
      "Epoch 110/300\n",
      "737/737 [==============================] - 1s 1ms/sample - loss: 8.1336e-04 - tp: 631.0000 - fp: 0.0000e+00 - tn: 106.0000 - fn: 0.0000e+00 - accuracy: 1.0000 - precision: 1.0000 - recall: 1.0000 - auc: 1.0000 - val_loss: 1.2487 - val_tp: 143.0000 - val_fp: 24.0000 - val_tn: 2.0000 - val_fn: 16.0000 - val_accuracy: 0.7838 - val_precision: 0.8563 - val_recall: 0.8994 - val_auc: 0.4709\n",
      "Epoch 111/300\n",
      "737/737 [==============================] - 1s 1ms/sample - loss: 7.8227e-04 - tp: 631.0000 - fp: 0.0000e+00 - tn: 106.0000 - fn: 0.0000e+00 - accuracy: 1.0000 - precision: 1.0000 - recall: 1.0000 - auc: 1.0000 - val_loss: 1.2486 - val_tp: 143.0000 - val_fp: 24.0000 - val_tn: 2.0000 - val_fn: 16.0000 - val_accuracy: 0.7838 - val_precision: 0.8563 - val_recall: 0.8994 - val_auc: 0.4699\n",
      "Epoch 112/300\n",
      "737/737 [==============================] - 1s 1ms/sample - loss: 7.7885e-04 - tp: 631.0000 - fp: 0.0000e+00 - tn: 106.0000 - fn: 0.0000e+00 - accuracy: 1.0000 - precision: 1.0000 - recall: 1.0000 - auc: 1.0000 - val_loss: 1.2562 - val_tp: 143.0000 - val_fp: 24.0000 - val_tn: 2.0000 - val_fn: 16.0000 - val_accuracy: 0.7838 - val_precision: 0.8563 - val_recall: 0.8994 - val_auc: 0.4657\n",
      "Epoch 113/300\n",
      "737/737 [==============================] - 1s 1ms/sample - loss: 7.6031e-04 - tp: 631.0000 - fp: 0.0000e+00 - tn: 106.0000 - fn: 0.0000e+00 - accuracy: 1.0000 - precision: 1.0000 - recall: 1.0000 - auc: 1.0000 - val_loss: 1.2586 - val_tp: 143.0000 - val_fp: 24.0000 - val_tn: 2.0000 - val_fn: 16.0000 - val_accuracy: 0.7838 - val_precision: 0.8563 - val_recall: 0.8994 - val_auc: 0.4702\n",
      "Epoch 114/300\n",
      "737/737 [==============================] - 1s 1ms/sample - loss: 7.4876e-04 - tp: 631.0000 - fp: 0.0000e+00 - tn: 106.0000 - fn: 0.0000e+00 - accuracy: 1.0000 - precision: 1.0000 - recall: 1.0000 - auc: 1.0000 - val_loss: 1.2634 - val_tp: 143.0000 - val_fp: 24.0000 - val_tn: 2.0000 - val_fn: 16.0000 - val_accuracy: 0.7838 - val_precision: 0.8563 - val_recall: 0.8994 - val_auc: 0.4757\n",
      "Epoch 115/300\n",
      "737/737 [==============================] - 1s 1ms/sample - loss: 7.1563e-04 - tp: 631.0000 - fp: 0.0000e+00 - tn: 106.0000 - fn: 0.0000e+00 - accuracy: 1.0000 - precision: 1.0000 - recall: 1.0000 - auc: 1.0000 - val_loss: 1.2677 - val_tp: 143.0000 - val_fp: 24.0000 - val_tn: 2.0000 - val_fn: 16.0000 - val_accuracy: 0.7838 - val_precision: 0.8563 - val_recall: 0.8994 - val_auc: 0.4752\n",
      "Epoch 116/300\n",
      "737/737 [==============================] - 1s 1ms/sample - loss: 6.9407e-04 - tp: 631.0000 - fp: 0.0000e+00 - tn: 106.0000 - fn: 0.0000e+00 - accuracy: 1.0000 - precision: 1.0000 - recall: 1.0000 - auc: 1.0000 - val_loss: 1.2715 - val_tp: 143.0000 - val_fp: 24.0000 - val_tn: 2.0000 - val_fn: 16.0000 - val_accuracy: 0.7838 - val_precision: 0.8563 - val_recall: 0.8994 - val_auc: 0.4728\n",
      "Epoch 117/300\n",
      "737/737 [==============================] - 1s 1ms/sample - loss: 6.7922e-04 - tp: 631.0000 - fp: 0.0000e+00 - tn: 106.0000 - fn: 0.0000e+00 - accuracy: 1.0000 - precision: 1.0000 - recall: 1.0000 - auc: 1.0000 - val_loss: 1.2756 - val_tp: 143.0000 - val_fp: 24.0000 - val_tn: 2.0000 - val_fn: 16.0000 - val_accuracy: 0.7838 - val_precision: 0.8563 - val_recall: 0.8994 - val_auc: 0.4775\n",
      "Epoch 118/300\n",
      "737/737 [==============================] - 1s 1ms/sample - loss: 6.6100e-04 - tp: 631.0000 - fp: 0.0000e+00 - tn: 106.0000 - fn: 0.0000e+00 - accuracy: 1.0000 - precision: 1.0000 - recall: 1.0000 - auc: 1.0000 - val_loss: 1.2815 - val_tp: 143.0000 - val_fp: 24.0000 - val_tn: 2.0000 - val_fn: 16.0000 - val_accuracy: 0.7838 - val_precision: 0.8563 - val_recall: 0.8994 - val_auc: 0.4776\n",
      "Epoch 119/300\n",
      "737/737 [==============================] - 1s 1ms/sample - loss: 6.5169e-04 - tp: 631.0000 - fp: 0.0000e+00 - tn: 106.0000 - fn: 0.0000e+00 - accuracy: 1.0000 - precision: 1.0000 - recall: 1.0000 - auc: 1.0000 - val_loss: 1.2849 - val_tp: 143.0000 - val_fp: 24.0000 - val_tn: 2.0000 - val_fn: 16.0000 - val_accuracy: 0.7838 - val_precision: 0.8563 - val_recall: 0.8994 - val_auc: 0.4777\n",
      "Epoch 120/300\n",
      "737/737 [==============================] - 1s 1ms/sample - loss: 6.4162e-04 - tp: 631.0000 - fp: 0.0000e+00 - tn: 106.0000 - fn: 0.0000e+00 - accuracy: 1.0000 - precision: 1.0000 - recall: 1.0000 - auc: 1.0000 - val_loss: 1.2881 - val_tp: 143.0000 - val_fp: 24.0000 - val_tn: 2.0000 - val_fn: 16.0000 - val_accuracy: 0.7838 - val_precision: 0.8563 - val_recall: 0.8994 - val_auc: 0.4779\n",
      "Epoch 121/300\n",
      "737/737 [==============================] - 1s 1ms/sample - loss: 6.1842e-04 - tp: 631.0000 - fp: 0.0000e+00 - tn: 106.0000 - fn: 0.0000e+00 - accuracy: 1.0000 - precision: 1.0000 - recall: 1.0000 - auc: 1.0000 - val_loss: 1.2921 - val_tp: 142.0000 - val_fp: 24.0000 - val_tn: 2.0000 - val_fn: 17.0000 - val_accuracy: 0.7784 - val_precision: 0.8554 - val_recall: 0.8931 - val_auc: 0.4777\n",
      "Epoch 122/300\n",
      "737/737 [==============================] - 2s 3ms/sample - loss: 6.0147e-04 - tp: 631.0000 - fp: 0.0000e+00 - tn: 106.0000 - fn: 0.0000e+00 - accuracy: 1.0000 - precision: 1.0000 - recall: 1.0000 - auc: 1.0000 - val_loss: 1.2938 - val_tp: 143.0000 - val_fp: 24.0000 - val_tn: 2.0000 - val_fn: 16.0000 - val_accuracy: 0.7838 - val_precision: 0.8563 - val_recall: 0.8994 - val_auc: 0.4817\n",
      "Epoch 123/300\n",
      "737/737 [==============================] - 1s 1ms/sample - loss: 5.9366e-04 - tp: 631.0000 - fp: 0.0000e+00 - tn: 106.0000 - fn: 0.0000e+00 - accuracy: 1.0000 - precision: 1.0000 - recall: 1.0000 - auc: 1.0000 - val_loss: 1.2990 - val_tp: 142.0000 - val_fp: 24.0000 - val_tn: 2.0000 - val_fn: 17.0000 - val_accuracy: 0.7784 - val_precision: 0.8554 - val_recall: 0.8931 - val_auc: 0.4802\n",
      "Epoch 124/300\n",
      "737/737 [==============================] - 1s 1ms/sample - loss: 5.8030e-04 - tp: 631.0000 - fp: 0.0000e+00 - tn: 106.0000 - fn: 0.0000e+00 - accuracy: 1.0000 - precision: 1.0000 - recall: 1.0000 - auc: 1.0000 - val_loss: 1.3030 - val_tp: 142.0000 - val_fp: 24.0000 - val_tn: 2.0000 - val_fn: 17.0000 - val_accuracy: 0.7784 - val_precision: 0.8554 - val_recall: 0.8931 - val_auc: 0.4799\n",
      "Epoch 125/300\n",
      "737/737 [==============================] - 1s 1ms/sample - loss: 5.6127e-04 - tp: 631.0000 - fp: 0.0000e+00 - tn: 106.0000 - fn: 0.0000e+00 - accuracy: 1.0000 - precision: 1.0000 - recall: 1.0000 - auc: 1.0000 - val_loss: 1.3062 - val_tp: 142.0000 - val_fp: 24.0000 - val_tn: 2.0000 - val_fn: 17.0000 - val_accuracy: 0.7784 - val_precision: 0.8554 - val_recall: 0.8931 - val_auc: 0.4825\n",
      "Epoch 126/300\n"
     ]
    },
    {
     "name": "stdout",
     "output_type": "stream",
     "text": [
      "737/737 [==============================] - 1s 1ms/sample - loss: 5.5495e-04 - tp: 631.0000 - fp: 0.0000e+00 - tn: 106.0000 - fn: 0.0000e+00 - accuracy: 1.0000 - precision: 1.0000 - recall: 1.0000 - auc: 1.0000 - val_loss: 1.3099 - val_tp: 142.0000 - val_fp: 24.0000 - val_tn: 2.0000 - val_fn: 17.0000 - val_accuracy: 0.7784 - val_precision: 0.8554 - val_recall: 0.8931 - val_auc: 0.4845\n",
      "Epoch 127/300\n",
      "737/737 [==============================] - 1s 1ms/sample - loss: 5.4061e-04 - tp: 631.0000 - fp: 0.0000e+00 - tn: 106.0000 - fn: 0.0000e+00 - accuracy: 1.0000 - precision: 1.0000 - recall: 1.0000 - auc: 1.0000 - val_loss: 1.3127 - val_tp: 142.0000 - val_fp: 24.0000 - val_tn: 2.0000 - val_fn: 17.0000 - val_accuracy: 0.7784 - val_precision: 0.8554 - val_recall: 0.8931 - val_auc: 0.4843\n",
      "Epoch 128/300\n",
      "737/737 [==============================] - 1s 1ms/sample - loss: 5.2887e-04 - tp: 631.0000 - fp: 0.0000e+00 - tn: 106.0000 - fn: 0.0000e+00 - accuracy: 1.0000 - precision: 1.0000 - recall: 1.0000 - auc: 1.0000 - val_loss: 1.3141 - val_tp: 142.0000 - val_fp: 24.0000 - val_tn: 2.0000 - val_fn: 17.0000 - val_accuracy: 0.7784 - val_precision: 0.8554 - val_recall: 0.8931 - val_auc: 0.4823\n",
      "Epoch 129/300\n",
      "737/737 [==============================] - 1s 1ms/sample - loss: 5.1653e-04 - tp: 631.0000 - fp: 0.0000e+00 - tn: 106.0000 - fn: 0.0000e+00 - accuracy: 1.0000 - precision: 1.0000 - recall: 1.0000 - auc: 1.0000 - val_loss: 1.3201 - val_tp: 142.0000 - val_fp: 24.0000 - val_tn: 2.0000 - val_fn: 17.0000 - val_accuracy: 0.7784 - val_precision: 0.8554 - val_recall: 0.8931 - val_auc: 0.4822\n",
      "Epoch 130/300\n",
      "737/737 [==============================] - 1s 1ms/sample - loss: 5.0439e-04 - tp: 631.0000 - fp: 0.0000e+00 - tn: 106.0000 - fn: 0.0000e+00 - accuracy: 1.0000 - precision: 1.0000 - recall: 1.0000 - auc: 1.0000 - val_loss: 1.3210 - val_tp: 142.0000 - val_fp: 24.0000 - val_tn: 2.0000 - val_fn: 17.0000 - val_accuracy: 0.7784 - val_precision: 0.8554 - val_recall: 0.8931 - val_auc: 0.4821\n",
      "Epoch 131/300\n",
      "737/737 [==============================] - 1s 1ms/sample - loss: 4.9542e-04 - tp: 631.0000 - fp: 0.0000e+00 - tn: 106.0000 - fn: 0.0000e+00 - accuracy: 1.0000 - precision: 1.0000 - recall: 1.0000 - auc: 1.0000 - val_loss: 1.3250 - val_tp: 142.0000 - val_fp: 24.0000 - val_tn: 2.0000 - val_fn: 17.0000 - val_accuracy: 0.7784 - val_precision: 0.8554 - val_recall: 0.8931 - val_auc: 0.4821\n",
      "Epoch 132/300\n",
      "737/737 [==============================] - 1s 1ms/sample - loss: 4.8622e-04 - tp: 631.0000 - fp: 0.0000e+00 - tn: 106.0000 - fn: 0.0000e+00 - accuracy: 1.0000 - precision: 1.0000 - recall: 1.0000 - auc: 1.0000 - val_loss: 1.3268 - val_tp: 142.0000 - val_fp: 24.0000 - val_tn: 2.0000 - val_fn: 17.0000 - val_accuracy: 0.7784 - val_precision: 0.8554 - val_recall: 0.8931 - val_auc: 0.4813\n",
      "Epoch 133/300\n",
      "737/737 [==============================] - 1s 1ms/sample - loss: 4.8986e-04 - tp: 631.0000 - fp: 0.0000e+00 - tn: 106.0000 - fn: 0.0000e+00 - accuracy: 1.0000 - precision: 1.0000 - recall: 1.0000 - auc: 1.0000 - val_loss: 1.3281 - val_tp: 142.0000 - val_fp: 24.0000 - val_tn: 2.0000 - val_fn: 17.0000 - val_accuracy: 0.7784 - val_precision: 0.8554 - val_recall: 0.8931 - val_auc: 0.4823\n",
      "Epoch 134/300\n",
      "737/737 [==============================] - 1s 1ms/sample - loss: 4.7882e-04 - tp: 631.0000 - fp: 0.0000e+00 - tn: 106.0000 - fn: 0.0000e+00 - accuracy: 1.0000 - precision: 1.0000 - recall: 1.0000 - auc: 1.0000 - val_loss: 1.3326 - val_tp: 142.0000 - val_fp: 24.0000 - val_tn: 2.0000 - val_fn: 17.0000 - val_accuracy: 0.7784 - val_precision: 0.8554 - val_recall: 0.8931 - val_auc: 0.4815\n",
      "Epoch 135/300\n",
      "737/737 [==============================] - 1s 1ms/sample - loss: 4.5335e-04 - tp: 631.0000 - fp: 0.0000e+00 - tn: 106.0000 - fn: 0.0000e+00 - accuracy: 1.0000 - precision: 1.0000 - recall: 1.0000 - auc: 1.0000 - val_loss: 1.3363 - val_tp: 142.0000 - val_fp: 24.0000 - val_tn: 2.0000 - val_fn: 17.0000 - val_accuracy: 0.7784 - val_precision: 0.8554 - val_recall: 0.8931 - val_auc: 0.4820\n",
      "Epoch 136/300\n",
      "737/737 [==============================] - 1s 1ms/sample - loss: 4.4532e-04 - tp: 631.0000 - fp: 0.0000e+00 - tn: 106.0000 - fn: 0.0000e+00 - accuracy: 1.0000 - precision: 1.0000 - recall: 1.0000 - auc: 1.0000 - val_loss: 1.3407 - val_tp: 142.0000 - val_fp: 24.0000 - val_tn: 2.0000 - val_fn: 17.0000 - val_accuracy: 0.7784 - val_precision: 0.8554 - val_recall: 0.8931 - val_auc: 0.4819\n",
      "Epoch 137/300\n",
      "737/737 [==============================] - 1s 1ms/sample - loss: 4.3714e-04 - tp: 631.0000 - fp: 0.0000e+00 - tn: 106.0000 - fn: 0.0000e+00 - accuracy: 1.0000 - precision: 1.0000 - recall: 1.0000 - auc: 1.0000 - val_loss: 1.3434 - val_tp: 142.0000 - val_fp: 24.0000 - val_tn: 2.0000 - val_fn: 17.0000 - val_accuracy: 0.7784 - val_precision: 0.8554 - val_recall: 0.8931 - val_auc: 0.4819\n",
      "Epoch 138/300\n",
      "737/737 [==============================] - 1s 1ms/sample - loss: 4.2645e-04 - tp: 631.0000 - fp: 0.0000e+00 - tn: 106.0000 - fn: 0.0000e+00 - accuracy: 1.0000 - precision: 1.0000 - recall: 1.0000 - auc: 1.0000 - val_loss: 1.3460 - val_tp: 142.0000 - val_fp: 24.0000 - val_tn: 2.0000 - val_fn: 17.0000 - val_accuracy: 0.7784 - val_precision: 0.8554 - val_recall: 0.8931 - val_auc: 0.4819\n",
      "Epoch 139/300\n",
      "737/737 [==============================] - 1s 1ms/sample - loss: 4.1688e-04 - tp: 631.0000 - fp: 0.0000e+00 - tn: 106.0000 - fn: 0.0000e+00 - accuracy: 1.0000 - precision: 1.0000 - recall: 1.0000 - auc: 1.0000 - val_loss: 1.3491 - val_tp: 142.0000 - val_fp: 24.0000 - val_tn: 2.0000 - val_fn: 17.0000 - val_accuracy: 0.7784 - val_precision: 0.8554 - val_recall: 0.8931 - val_auc: 0.4846\n",
      "Epoch 140/300\n",
      "737/737 [==============================] - 1s 1ms/sample - loss: 4.1396e-04 - tp: 631.0000 - fp: 0.0000e+00 - tn: 106.0000 - fn: 0.0000e+00 - accuracy: 1.0000 - precision: 1.0000 - recall: 1.0000 - auc: 1.0000 - val_loss: 1.3513 - val_tp: 142.0000 - val_fp: 24.0000 - val_tn: 2.0000 - val_fn: 17.0000 - val_accuracy: 0.7784 - val_precision: 0.8554 - val_recall: 0.8931 - val_auc: 0.4867\n",
      "Epoch 141/300\n",
      "737/737 [==============================] - 1s 1ms/sample - loss: 4.0989e-04 - tp: 631.0000 - fp: 0.0000e+00 - tn: 106.0000 - fn: 0.0000e+00 - accuracy: 1.0000 - precision: 1.0000 - recall: 1.0000 - auc: 1.0000 - val_loss: 1.3521 - val_tp: 142.0000 - val_fp: 24.0000 - val_tn: 2.0000 - val_fn: 17.0000 - val_accuracy: 0.7784 - val_precision: 0.8554 - val_recall: 0.8931 - val_auc: 0.4846\n",
      "Epoch 142/300\n",
      "737/737 [==============================] - 1s 1ms/sample - loss: 3.9484e-04 - tp: 631.0000 - fp: 0.0000e+00 - tn: 106.0000 - fn: 0.0000e+00 - accuracy: 1.0000 - precision: 1.0000 - recall: 1.0000 - auc: 1.0000 - val_loss: 1.3573 - val_tp: 142.0000 - val_fp: 24.0000 - val_tn: 2.0000 - val_fn: 17.0000 - val_accuracy: 0.7784 - val_precision: 0.8554 - val_recall: 0.8931 - val_auc: 0.4871\n",
      "Epoch 143/300\n",
      "737/737 [==============================] - 1s 1ms/sample - loss: 3.8987e-04 - tp: 631.0000 - fp: 0.0000e+00 - tn: 106.0000 - fn: 0.0000e+00 - accuracy: 1.0000 - precision: 1.0000 - recall: 1.0000 - auc: 1.0000 - val_loss: 1.3647 - val_tp: 142.0000 - val_fp: 24.0000 - val_tn: 2.0000 - val_fn: 17.0000 - val_accuracy: 0.7784 - val_precision: 0.8554 - val_recall: 0.8931 - val_auc: 0.4869\n",
      "Epoch 144/300\n",
      "737/737 [==============================] - 1s 1ms/sample - loss: 3.9025e-04 - tp: 631.0000 - fp: 0.0000e+00 - tn: 106.0000 - fn: 0.0000e+00 - accuracy: 1.0000 - precision: 1.0000 - recall: 1.0000 - auc: 1.0000 - val_loss: 1.3665 - val_tp: 142.0000 - val_fp: 24.0000 - val_tn: 2.0000 - val_fn: 17.0000 - val_accuracy: 0.7784 - val_precision: 0.8554 - val_recall: 0.8931 - val_auc: 0.4872\n",
      "Epoch 145/300\n",
      "737/737 [==============================] - 1s 1ms/sample - loss: 3.8205e-04 - tp: 631.0000 - fp: 0.0000e+00 - tn: 106.0000 - fn: 0.0000e+00 - accuracy: 1.0000 - precision: 1.0000 - recall: 1.0000 - auc: 1.0000 - val_loss: 1.3656 - val_tp: 142.0000 - val_fp: 24.0000 - val_tn: 2.0000 - val_fn: 17.0000 - val_accuracy: 0.7784 - val_precision: 0.8554 - val_recall: 0.8931 - val_auc: 0.4863\n",
      "Epoch 146/300\n"
     ]
    },
    {
     "name": "stdout",
     "output_type": "stream",
     "text": [
      "737/737 [==============================] - 1s 1ms/sample - loss: 3.7260e-04 - tp: 631.0000 - fp: 0.0000e+00 - tn: 106.0000 - fn: 0.0000e+00 - accuracy: 1.0000 - precision: 1.0000 - recall: 1.0000 - auc: 1.0000 - val_loss: 1.3710 - val_tp: 142.0000 - val_fp: 24.0000 - val_tn: 2.0000 - val_fn: 17.0000 - val_accuracy: 0.7784 - val_precision: 0.8554 - val_recall: 0.8931 - val_auc: 0.4875\n",
      "Epoch 147/300\n",
      "737/737 [==============================] - 1s 1ms/sample - loss: 3.5932e-04 - tp: 631.0000 - fp: 0.0000e+00 - tn: 106.0000 - fn: 0.0000e+00 - accuracy: 1.0000 - precision: 1.0000 - recall: 1.0000 - auc: 1.0000 - val_loss: 1.3732 - val_tp: 142.0000 - val_fp: 24.0000 - val_tn: 2.0000 - val_fn: 17.0000 - val_accuracy: 0.7784 - val_precision: 0.8554 - val_recall: 0.8931 - val_auc: 0.4868\n",
      "Epoch 148/300\n",
      "737/737 [==============================] - 1s 1ms/sample - loss: 3.5753e-04 - tp: 631.0000 - fp: 0.0000e+00 - tn: 106.0000 - fn: 0.0000e+00 - accuracy: 1.0000 - precision: 1.0000 - recall: 1.0000 - auc: 1.0000 - val_loss: 1.3754 - val_tp: 142.0000 - val_fp: 24.0000 - val_tn: 2.0000 - val_fn: 17.0000 - val_accuracy: 0.7784 - val_precision: 0.8554 - val_recall: 0.8931 - val_auc: 0.4869\n",
      "Epoch 149/300\n",
      "737/737 [==============================] - 1s 1ms/sample - loss: 3.5222e-04 - tp: 631.0000 - fp: 0.0000e+00 - tn: 106.0000 - fn: 0.0000e+00 - accuracy: 1.0000 - precision: 1.0000 - recall: 1.0000 - auc: 1.0000 - val_loss: 1.3748 - val_tp: 142.0000 - val_fp: 24.0000 - val_tn: 2.0000 - val_fn: 17.0000 - val_accuracy: 0.7784 - val_precision: 0.8554 - val_recall: 0.8931 - val_auc: 0.4888\n",
      "Epoch 150/300\n",
      "737/737 [==============================] - 1s 1ms/sample - loss: 3.3814e-04 - tp: 631.0000 - fp: 0.0000e+00 - tn: 106.0000 - fn: 0.0000e+00 - accuracy: 1.0000 - precision: 1.0000 - recall: 1.0000 - auc: 1.0000 - val_loss: 1.3769 - val_tp: 142.0000 - val_fp: 24.0000 - val_tn: 2.0000 - val_fn: 17.0000 - val_accuracy: 0.7784 - val_precision: 0.8554 - val_recall: 0.8931 - val_auc: 0.4889\n",
      "Epoch 151/300\n",
      "737/737 [==============================] - 1s 1ms/sample - loss: 3.2888e-04 - tp: 631.0000 - fp: 0.0000e+00 - tn: 106.0000 - fn: 0.0000e+00 - accuracy: 1.0000 - precision: 1.0000 - recall: 1.0000 - auc: 1.0000 - val_loss: 1.3814 - val_tp: 142.0000 - val_fp: 24.0000 - val_tn: 2.0000 - val_fn: 17.0000 - val_accuracy: 0.7784 - val_precision: 0.8554 - val_recall: 0.8931 - val_auc: 0.4865\n",
      "Epoch 152/300\n",
      "737/737 [==============================] - 1s 1ms/sample - loss: 3.2134e-04 - tp: 631.0000 - fp: 0.0000e+00 - tn: 106.0000 - fn: 0.0000e+00 - accuracy: 1.0000 - precision: 1.0000 - recall: 1.0000 - auc: 1.0000 - val_loss: 1.3866 - val_tp: 142.0000 - val_fp: 24.0000 - val_tn: 2.0000 - val_fn: 17.0000 - val_accuracy: 0.7784 - val_precision: 0.8554 - val_recall: 0.8931 - val_auc: 0.4865\n",
      "Epoch 153/300\n",
      "737/737 [==============================] - 1s 1ms/sample - loss: 3.2252e-04 - tp: 631.0000 - fp: 0.0000e+00 - tn: 106.0000 - fn: 0.0000e+00 - accuracy: 1.0000 - precision: 1.0000 - recall: 1.0000 - auc: 1.0000 - val_loss: 1.3876 - val_tp: 142.0000 - val_fp: 24.0000 - val_tn: 2.0000 - val_fn: 17.0000 - val_accuracy: 0.7784 - val_precision: 0.8554 - val_recall: 0.8931 - val_auc: 0.5019\n",
      "Epoch 154/300\n",
      "737/737 [==============================] - 1s 1ms/sample - loss: 3.1993e-04 - tp: 631.0000 - fp: 0.0000e+00 - tn: 106.0000 - fn: 0.0000e+00 - accuracy: 1.0000 - precision: 1.0000 - recall: 1.0000 - auc: 1.0000 - val_loss: 1.3900 - val_tp: 142.0000 - val_fp: 24.0000 - val_tn: 2.0000 - val_fn: 17.0000 - val_accuracy: 0.7784 - val_precision: 0.8554 - val_recall: 0.8931 - val_auc: 0.5016\n",
      "Epoch 155/300\n",
      "737/737 [==============================] - 1s 1ms/sample - loss: 3.0741e-04 - tp: 631.0000 - fp: 0.0000e+00 - tn: 106.0000 - fn: 0.0000e+00 - accuracy: 1.0000 - precision: 1.0000 - recall: 1.0000 - auc: 1.0000 - val_loss: 1.3894 - val_tp: 142.0000 - val_fp: 24.0000 - val_tn: 2.0000 - val_fn: 17.0000 - val_accuracy: 0.7784 - val_precision: 0.8554 - val_recall: 0.8931 - val_auc: 0.4857\n",
      "Epoch 156/300\n",
      "737/737 [==============================] - 1s 1ms/sample - loss: 2.9910e-04 - tp: 631.0000 - fp: 0.0000e+00 - tn: 106.0000 - fn: 0.0000e+00 - accuracy: 1.0000 - precision: 1.0000 - recall: 1.0000 - auc: 1.0000 - val_loss: 1.3914 - val_tp: 142.0000 - val_fp: 24.0000 - val_tn: 2.0000 - val_fn: 17.0000 - val_accuracy: 0.7784 - val_precision: 0.8554 - val_recall: 0.8931 - val_auc: 0.4855\n",
      "Epoch 157/300\n",
      "737/737 [==============================] - 1s 1ms/sample - loss: 2.9841e-04 - tp: 631.0000 - fp: 0.0000e+00 - tn: 106.0000 - fn: 0.0000e+00 - accuracy: 1.0000 - precision: 1.0000 - recall: 1.0000 - auc: 1.0000 - val_loss: 1.3935 - val_tp: 142.0000 - val_fp: 24.0000 - val_tn: 2.0000 - val_fn: 17.0000 - val_accuracy: 0.7784 - val_precision: 0.8554 - val_recall: 0.8931 - val_auc: 0.5015\n",
      "Epoch 158/300\n",
      "737/737 [==============================] - 1s 1ms/sample - loss: 3.0738e-04 - tp: 631.0000 - fp: 0.0000e+00 - tn: 106.0000 - fn: 0.0000e+00 - accuracy: 1.0000 - precision: 1.0000 - recall: 1.0000 - auc: 1.0000 - val_loss: 1.3908 - val_tp: 142.0000 - val_fp: 24.0000 - val_tn: 2.0000 - val_fn: 17.0000 - val_accuracy: 0.7784 - val_precision: 0.8554 - val_recall: 0.8931 - val_auc: 0.5024\n",
      "Epoch 159/300\n",
      "737/737 [==============================] - 1s 1ms/sample - loss: 3.0440e-04 - tp: 631.0000 - fp: 0.0000e+00 - tn: 106.0000 - fn: 0.0000e+00 - accuracy: 1.0000 - precision: 1.0000 - recall: 1.0000 - auc: 1.0000 - val_loss: 1.3896 - val_tp: 142.0000 - val_fp: 24.0000 - val_tn: 2.0000 - val_fn: 17.0000 - val_accuracy: 0.7784 - val_precision: 0.8554 - val_recall: 0.8931 - val_auc: 0.5023\n",
      "Epoch 160/300\n",
      "737/737 [==============================] - 1s 1ms/sample - loss: 2.9294e-04 - tp: 631.0000 - fp: 0.0000e+00 - tn: 106.0000 - fn: 0.0000e+00 - accuracy: 1.0000 - precision: 1.0000 - recall: 1.0000 - auc: 1.0000 - val_loss: 1.3875 - val_tp: 142.0000 - val_fp: 24.0000 - val_tn: 2.0000 - val_fn: 17.0000 - val_accuracy: 0.7784 - val_precision: 0.8554 - val_recall: 0.8931 - val_auc: 0.5019\n",
      "Epoch 161/300\n",
      "737/737 [==============================] - 1s 1ms/sample - loss: 3.0642e-04 - tp: 631.0000 - fp: 0.0000e+00 - tn: 106.0000 - fn: 0.0000e+00 - accuracy: 1.0000 - precision: 1.0000 - recall: 1.0000 - auc: 1.0000 - val_loss: 1.3911 - val_tp: 142.0000 - val_fp: 24.0000 - val_tn: 2.0000 - val_fn: 17.0000 - val_accuracy: 0.7784 - val_precision: 0.8554 - val_recall: 0.8931 - val_auc: 0.5013\n",
      "Epoch 162/300\n",
      "737/737 [==============================] - 1s 1ms/sample - loss: 2.7032e-04 - tp: 631.0000 - fp: 0.0000e+00 - tn: 106.0000 - fn: 0.0000e+00 - accuracy: 1.0000 - precision: 1.0000 - recall: 1.0000 - auc: 1.0000 - val_loss: 1.3925 - val_tp: 143.0000 - val_fp: 24.0000 - val_tn: 2.0000 - val_fn: 16.0000 - val_accuracy: 0.7838 - val_precision: 0.8563 - val_recall: 0.8994 - val_auc: 0.5006\n",
      "Epoch 163/300\n",
      "737/737 [==============================] - 1s 1ms/sample - loss: 2.6536e-04 - tp: 631.0000 - fp: 0.0000e+00 - tn: 106.0000 - fn: 0.0000e+00 - accuracy: 1.0000 - precision: 1.0000 - recall: 1.0000 - auc: 1.0000 - val_loss: 1.3969 - val_tp: 144.0000 - val_fp: 24.0000 - val_tn: 2.0000 - val_fn: 15.0000 - val_accuracy: 0.7892 - val_precision: 0.8571 - val_recall: 0.9057 - val_auc: 0.4985\n",
      "Epoch 164/300\n",
      "737/737 [==============================] - 1s 1ms/sample - loss: 2.5937e-04 - tp: 631.0000 - fp: 0.0000e+00 - tn: 106.0000 - fn: 0.0000e+00 - accuracy: 1.0000 - precision: 1.0000 - recall: 1.0000 - auc: 1.0000 - val_loss: 1.4053 - val_tp: 143.0000 - val_fp: 24.0000 - val_tn: 2.0000 - val_fn: 16.0000 - val_accuracy: 0.7838 - val_precision: 0.8563 - val_recall: 0.8994 - val_auc: 0.5007\n",
      "Epoch 165/300\n",
      "737/737 [==============================] - 1s 1ms/sample - loss: 2.5228e-04 - tp: 631.0000 - fp: 0.0000e+00 - tn: 106.0000 - fn: 0.0000e+00 - accuracy: 1.0000 - precision: 1.0000 - recall: 1.0000 - auc: 1.0000 - val_loss: 1.4052 - val_tp: 143.0000 - val_fp: 24.0000 - val_tn: 2.0000 - val_fn: 16.0000 - val_accuracy: 0.7838 - val_precision: 0.8563 - val_recall: 0.8994 - val_auc: 0.5006\n",
      "Epoch 166/300\n"
     ]
    },
    {
     "name": "stdout",
     "output_type": "stream",
     "text": [
      "737/737 [==============================] - 1s 1ms/sample - loss: 2.4810e-04 - tp: 631.0000 - fp: 0.0000e+00 - tn: 106.0000 - fn: 0.0000e+00 - accuracy: 1.0000 - precision: 1.0000 - recall: 1.0000 - auc: 1.0000 - val_loss: 1.4069 - val_tp: 143.0000 - val_fp: 24.0000 - val_tn: 2.0000 - val_fn: 16.0000 - val_accuracy: 0.7838 - val_precision: 0.8563 - val_recall: 0.8994 - val_auc: 0.4993\n",
      "Epoch 167/300\n",
      "737/737 [==============================] - 1s 1ms/sample - loss: 2.4342e-04 - tp: 631.0000 - fp: 0.0000e+00 - tn: 106.0000 - fn: 0.0000e+00 - accuracy: 1.0000 - precision: 1.0000 - recall: 1.0000 - auc: 1.0000 - val_loss: 1.4111 - val_tp: 143.0000 - val_fp: 24.0000 - val_tn: 2.0000 - val_fn: 16.0000 - val_accuracy: 0.7838 - val_precision: 0.8563 - val_recall: 0.8994 - val_auc: 0.4993\n",
      "Epoch 168/300\n",
      "737/737 [==============================] - 1s 1ms/sample - loss: 2.3725e-04 - tp: 631.0000 - fp: 0.0000e+00 - tn: 106.0000 - fn: 0.0000e+00 - accuracy: 1.0000 - precision: 1.0000 - recall: 1.0000 - auc: 1.0000 - val_loss: 1.4124 - val_tp: 143.0000 - val_fp: 24.0000 - val_tn: 2.0000 - val_fn: 16.0000 - val_accuracy: 0.7838 - val_precision: 0.8563 - val_recall: 0.8994 - val_auc: 0.5018\n",
      "Epoch 169/300\n",
      "737/737 [==============================] - 1s 1ms/sample - loss: 2.3403e-04 - tp: 631.0000 - fp: 0.0000e+00 - tn: 106.0000 - fn: 0.0000e+00 - accuracy: 1.0000 - precision: 1.0000 - recall: 1.0000 - auc: 1.0000 - val_loss: 1.4157 - val_tp: 143.0000 - val_fp: 24.0000 - val_tn: 2.0000 - val_fn: 16.0000 - val_accuracy: 0.7838 - val_precision: 0.8563 - val_recall: 0.8994 - val_auc: 0.4993\n",
      "Epoch 170/300\n",
      "737/737 [==============================] - 1s 1ms/sample - loss: 2.3305e-04 - tp: 631.0000 - fp: 0.0000e+00 - tn: 106.0000 - fn: 0.0000e+00 - accuracy: 1.0000 - precision: 1.0000 - recall: 1.0000 - auc: 1.0000 - val_loss: 1.4145 - val_tp: 143.0000 - val_fp: 24.0000 - val_tn: 2.0000 - val_fn: 16.0000 - val_accuracy: 0.7838 - val_precision: 0.8563 - val_recall: 0.8994 - val_auc: 0.5021\n",
      "Epoch 171/300\n",
      "737/737 [==============================] - 1s 1ms/sample - loss: 2.2615e-04 - tp: 631.0000 - fp: 0.0000e+00 - tn: 106.0000 - fn: 0.0000e+00 - accuracy: 1.0000 - precision: 1.0000 - recall: 1.0000 - auc: 1.0000 - val_loss: 1.4215 - val_tp: 143.0000 - val_fp: 24.0000 - val_tn: 2.0000 - val_fn: 16.0000 - val_accuracy: 0.7838 - val_precision: 0.8563 - val_recall: 0.8994 - val_auc: 0.4993\n",
      "Epoch 172/300\n",
      "737/737 [==============================] - 1s 1ms/sample - loss: 2.2132e-04 - tp: 631.0000 - fp: 0.0000e+00 - tn: 106.0000 - fn: 0.0000e+00 - accuracy: 1.0000 - precision: 1.0000 - recall: 1.0000 - auc: 1.0000 - val_loss: 1.4205 - val_tp: 143.0000 - val_fp: 24.0000 - val_tn: 2.0000 - val_fn: 16.0000 - val_accuracy: 0.7838 - val_precision: 0.8563 - val_recall: 0.8994 - val_auc: 0.5021\n",
      "Epoch 173/300\n",
      "737/737 [==============================] - 1s 1ms/sample - loss: 2.1768e-04 - tp: 631.0000 - fp: 0.0000e+00 - tn: 106.0000 - fn: 0.0000e+00 - accuracy: 1.0000 - precision: 1.0000 - recall: 1.0000 - auc: 1.0000 - val_loss: 1.4268 - val_tp: 143.0000 - val_fp: 24.0000 - val_tn: 2.0000 - val_fn: 16.0000 - val_accuracy: 0.7838 - val_precision: 0.8563 - val_recall: 0.8994 - val_auc: 0.4993\n",
      "Epoch 174/300\n",
      "737/737 [==============================] - 1s 1ms/sample - loss: 2.1403e-04 - tp: 631.0000 - fp: 0.0000e+00 - tn: 106.0000 - fn: 0.0000e+00 - accuracy: 1.0000 - precision: 1.0000 - recall: 1.0000 - auc: 1.0000 - val_loss: 1.4308 - val_tp: 143.0000 - val_fp: 24.0000 - val_tn: 2.0000 - val_fn: 16.0000 - val_accuracy: 0.7838 - val_precision: 0.8563 - val_recall: 0.8994 - val_auc: 0.4994\n",
      "Epoch 175/300\n",
      "737/737 [==============================] - 1s 1ms/sample - loss: 2.1062e-04 - tp: 631.0000 - fp: 0.0000e+00 - tn: 106.0000 - fn: 0.0000e+00 - accuracy: 1.0000 - precision: 1.0000 - recall: 1.0000 - auc: 1.0000 - val_loss: 1.4315 - val_tp: 143.0000 - val_fp: 24.0000 - val_tn: 2.0000 - val_fn: 16.0000 - val_accuracy: 0.7838 - val_precision: 0.8563 - val_recall: 0.8994 - val_auc: 0.4995\n",
      "Epoch 176/300\n",
      "737/737 [==============================] - 1s 1ms/sample - loss: 2.0750e-04 - tp: 631.0000 - fp: 0.0000e+00 - tn: 106.0000 - fn: 0.0000e+00 - accuracy: 1.0000 - precision: 1.0000 - recall: 1.0000 - auc: 1.0000 - val_loss: 1.4323 - val_tp: 143.0000 - val_fp: 24.0000 - val_tn: 2.0000 - val_fn: 16.0000 - val_accuracy: 0.7838 - val_precision: 0.8563 - val_recall: 0.8994 - val_auc: 0.4995\n",
      "Epoch 177/300\n",
      "737/737 [==============================] - 1s 1ms/sample - loss: 2.0312e-04 - tp: 631.0000 - fp: 0.0000e+00 - tn: 106.0000 - fn: 0.0000e+00 - accuracy: 1.0000 - precision: 1.0000 - recall: 1.0000 - auc: 1.0000 - val_loss: 1.4358 - val_tp: 143.0000 - val_fp: 24.0000 - val_tn: 2.0000 - val_fn: 16.0000 - val_accuracy: 0.7838 - val_precision: 0.8563 - val_recall: 0.8994 - val_auc: 0.4995\n",
      "Epoch 178/300\n",
      "737/737 [==============================] - 1s 1ms/sample - loss: 2.0207e-04 - tp: 631.0000 - fp: 0.0000e+00 - tn: 106.0000 - fn: 0.0000e+00 - accuracy: 1.0000 - precision: 1.0000 - recall: 1.0000 - auc: 1.0000 - val_loss: 1.4378 - val_tp: 143.0000 - val_fp: 24.0000 - val_tn: 2.0000 - val_fn: 16.0000 - val_accuracy: 0.7838 - val_precision: 0.8563 - val_recall: 0.8994 - val_auc: 0.4994\n",
      "Epoch 179/300\n",
      "737/737 [==============================] - 1s 1ms/sample - loss: 1.9963e-04 - tp: 631.0000 - fp: 0.0000e+00 - tn: 106.0000 - fn: 0.0000e+00 - accuracy: 1.0000 - precision: 1.0000 - recall: 1.0000 - auc: 1.0000 - val_loss: 1.4402 - val_tp: 143.0000 - val_fp: 24.0000 - val_tn: 2.0000 - val_fn: 16.0000 - val_accuracy: 0.7838 - val_precision: 0.8563 - val_recall: 0.8994 - val_auc: 0.4994\n",
      "Epoch 180/300\n",
      "737/737 [==============================] - 1s 1ms/sample - loss: 1.9284e-04 - tp: 631.0000 - fp: 0.0000e+00 - tn: 106.0000 - fn: 0.0000e+00 - accuracy: 1.0000 - precision: 1.0000 - recall: 1.0000 - auc: 1.0000 - val_loss: 1.4414 - val_tp: 143.0000 - val_fp: 24.0000 - val_tn: 2.0000 - val_fn: 16.0000 - val_accuracy: 0.7838 - val_precision: 0.8563 - val_recall: 0.8994 - val_auc: 0.5019\n",
      "Epoch 181/300\n",
      "737/737 [==============================] - 1s 1ms/sample - loss: 1.8985e-04 - tp: 631.0000 - fp: 0.0000e+00 - tn: 106.0000 - fn: 0.0000e+00 - accuracy: 1.0000 - precision: 1.0000 - recall: 1.0000 - auc: 1.0000 - val_loss: 1.4443 - val_tp: 143.0000 - val_fp: 24.0000 - val_tn: 2.0000 - val_fn: 16.0000 - val_accuracy: 0.7838 - val_precision: 0.8563 - val_recall: 0.8994 - val_auc: 0.5019\n",
      "Epoch 182/300\n",
      "737/737 [==============================] - 1s 1ms/sample - loss: 1.8788e-04 - tp: 631.0000 - fp: 0.0000e+00 - tn: 106.0000 - fn: 0.0000e+00 - accuracy: 1.0000 - precision: 1.0000 - recall: 1.0000 - auc: 1.0000 - val_loss: 1.4451 - val_tp: 143.0000 - val_fp: 24.0000 - val_tn: 2.0000 - val_fn: 16.0000 - val_accuracy: 0.7838 - val_precision: 0.8563 - val_recall: 0.8994 - val_auc: 0.4993\n",
      "Epoch 183/300\n",
      "737/737 [==============================] - 1s 1ms/sample - loss: 1.8320e-04 - tp: 631.0000 - fp: 0.0000e+00 - tn: 106.0000 - fn: 0.0000e+00 - accuracy: 1.0000 - precision: 1.0000 - recall: 1.0000 - auc: 1.0000 - val_loss: 1.4477 - val_tp: 143.0000 - val_fp: 24.0000 - val_tn: 2.0000 - val_fn: 16.0000 - val_accuracy: 0.7838 - val_precision: 0.8563 - val_recall: 0.8994 - val_auc: 0.4993\n",
      "Epoch 184/300\n",
      "737/737 [==============================] - 1s 1ms/sample - loss: 1.7990e-04 - tp: 631.0000 - fp: 0.0000e+00 - tn: 106.0000 - fn: 0.0000e+00 - accuracy: 1.0000 - precision: 1.0000 - recall: 1.0000 - auc: 1.0000 - val_loss: 1.4522 - val_tp: 143.0000 - val_fp: 24.0000 - val_tn: 2.0000 - val_fn: 16.0000 - val_accuracy: 0.7838 - val_precision: 0.8563 - val_recall: 0.8994 - val_auc: 0.4993\n",
      "Epoch 185/300\n",
      "737/737 [==============================] - 1s 1ms/sample - loss: 1.7890e-04 - tp: 631.0000 - fp: 0.0000e+00 - tn: 106.0000 - fn: 0.0000e+00 - accuracy: 1.0000 - precision: 1.0000 - recall: 1.0000 - auc: 1.0000 - val_loss: 1.4552 - val_tp: 143.0000 - val_fp: 24.0000 - val_tn: 2.0000 - val_fn: 16.0000 - val_accuracy: 0.7838 - val_precision: 0.8563 - val_recall: 0.8994 - val_auc: 0.4992\n",
      "Epoch 186/300\n"
     ]
    },
    {
     "name": "stdout",
     "output_type": "stream",
     "text": [
      "737/737 [==============================] - 1s 1ms/sample - loss: 1.7562e-04 - tp: 631.0000 - fp: 0.0000e+00 - tn: 106.0000 - fn: 0.0000e+00 - accuracy: 1.0000 - precision: 1.0000 - recall: 1.0000 - auc: 1.0000 - val_loss: 1.4577 - val_tp: 143.0000 - val_fp: 24.0000 - val_tn: 2.0000 - val_fn: 16.0000 - val_accuracy: 0.7838 - val_precision: 0.8563 - val_recall: 0.8994 - val_auc: 0.4992\n",
      "Epoch 187/300\n",
      "737/737 [==============================] - 1s 1ms/sample - loss: 1.7160e-04 - tp: 631.0000 - fp: 0.0000e+00 - tn: 106.0000 - fn: 0.0000e+00 - accuracy: 1.0000 - precision: 1.0000 - recall: 1.0000 - auc: 1.0000 - val_loss: 1.4620 - val_tp: 143.0000 - val_fp: 24.0000 - val_tn: 2.0000 - val_fn: 16.0000 - val_accuracy: 0.7838 - val_precision: 0.8563 - val_recall: 0.8994 - val_auc: 0.4992\n",
      "Epoch 188/300\n",
      "737/737 [==============================] - 1s 1ms/sample - loss: 1.6895e-04 - tp: 631.0000 - fp: 0.0000e+00 - tn: 106.0000 - fn: 0.0000e+00 - accuracy: 1.0000 - precision: 1.0000 - recall: 1.0000 - auc: 1.0000 - val_loss: 1.4629 - val_tp: 143.0000 - val_fp: 24.0000 - val_tn: 2.0000 - val_fn: 16.0000 - val_accuracy: 0.7838 - val_precision: 0.8563 - val_recall: 0.8994 - val_auc: 0.4992\n",
      "Epoch 189/300\n",
      "737/737 [==============================] - 1s 1ms/sample - loss: 1.6535e-04 - tp: 631.0000 - fp: 0.0000e+00 - tn: 106.0000 - fn: 0.0000e+00 - accuracy: 1.0000 - precision: 1.0000 - recall: 1.0000 - auc: 1.0000 - val_loss: 1.4645 - val_tp: 143.0000 - val_fp: 24.0000 - val_tn: 2.0000 - val_fn: 16.0000 - val_accuracy: 0.7838 - val_precision: 0.8563 - val_recall: 0.8994 - val_auc: 0.4840\n",
      "Epoch 190/300\n",
      "737/737 [==============================] - 1s 1ms/sample - loss: 1.6314e-04 - tp: 631.0000 - fp: 0.0000e+00 - tn: 106.0000 - fn: 0.0000e+00 - accuracy: 1.0000 - precision: 1.0000 - recall: 1.0000 - auc: 1.0000 - val_loss: 1.4668 - val_tp: 143.0000 - val_fp: 24.0000 - val_tn: 2.0000 - val_fn: 16.0000 - val_accuracy: 0.7838 - val_precision: 0.8563 - val_recall: 0.8994 - val_auc: 0.4992\n",
      "Epoch 191/300\n",
      "737/737 [==============================] - 1s 1ms/sample - loss: 1.6031e-04 - tp: 631.0000 - fp: 0.0000e+00 - tn: 106.0000 - fn: 0.0000e+00 - accuracy: 1.0000 - precision: 1.0000 - recall: 1.0000 - auc: 1.0000 - val_loss: 1.4710 - val_tp: 143.0000 - val_fp: 24.0000 - val_tn: 2.0000 - val_fn: 16.0000 - val_accuracy: 0.7838 - val_precision: 0.8563 - val_recall: 0.8994 - val_auc: 0.4992\n",
      "Epoch 192/300\n",
      "737/737 [==============================] - 1s 1ms/sample - loss: 1.5884e-04 - tp: 631.0000 - fp: 0.0000e+00 - tn: 106.0000 - fn: 0.0000e+00 - accuracy: 1.0000 - precision: 1.0000 - recall: 1.0000 - auc: 1.0000 - val_loss: 1.4709 - val_tp: 143.0000 - val_fp: 24.0000 - val_tn: 2.0000 - val_fn: 16.0000 - val_accuracy: 0.7838 - val_precision: 0.8563 - val_recall: 0.8994 - val_auc: 0.4992\n",
      "Epoch 193/300\n",
      "737/737 [==============================] - 1s 1ms/sample - loss: 1.5399e-04 - tp: 631.0000 - fp: 0.0000e+00 - tn: 106.0000 - fn: 0.0000e+00 - accuracy: 1.0000 - precision: 1.0000 - recall: 1.0000 - auc: 1.0000 - val_loss: 1.4736 - val_tp: 143.0000 - val_fp: 24.0000 - val_tn: 2.0000 - val_fn: 16.0000 - val_accuracy: 0.7838 - val_precision: 0.8563 - val_recall: 0.8994 - val_auc: 0.4866\n",
      "Epoch 194/300\n",
      "737/737 [==============================] - 1s 1ms/sample - loss: 1.5404e-04 - tp: 631.0000 - fp: 0.0000e+00 - tn: 106.0000 - fn: 0.0000e+00 - accuracy: 1.0000 - precision: 1.0000 - recall: 1.0000 - auc: 1.0000 - val_loss: 1.4779 - val_tp: 143.0000 - val_fp: 24.0000 - val_tn: 2.0000 - val_fn: 16.0000 - val_accuracy: 0.7838 - val_precision: 0.8563 - val_recall: 0.8994 - val_auc: 0.5019\n",
      "Epoch 195/300\n",
      "737/737 [==============================] - 1s 1ms/sample - loss: 1.5055e-04 - tp: 631.0000 - fp: 0.0000e+00 - tn: 106.0000 - fn: 0.0000e+00 - accuracy: 1.0000 - precision: 1.0000 - recall: 1.0000 - auc: 1.0000 - val_loss: 1.4780 - val_tp: 143.0000 - val_fp: 24.0000 - val_tn: 2.0000 - val_fn: 16.0000 - val_accuracy: 0.7838 - val_precision: 0.8563 - val_recall: 0.8994 - val_auc: 0.4891\n",
      "Epoch 196/300\n",
      "737/737 [==============================] - 1s 1ms/sample - loss: 1.4857e-04 - tp: 631.0000 - fp: 0.0000e+00 - tn: 106.0000 - fn: 0.0000e+00 - accuracy: 1.0000 - precision: 1.0000 - recall: 1.0000 - auc: 1.0000 - val_loss: 1.4787 - val_tp: 143.0000 - val_fp: 24.0000 - val_tn: 2.0000 - val_fn: 16.0000 - val_accuracy: 0.7838 - val_precision: 0.8563 - val_recall: 0.8994 - val_auc: 0.4892\n",
      "Epoch 197/300\n",
      "737/737 [==============================] - 1s 1ms/sample - loss: 1.4558e-04 - tp: 631.0000 - fp: 0.0000e+00 - tn: 106.0000 - fn: 0.0000e+00 - accuracy: 1.0000 - precision: 1.0000 - recall: 1.0000 - auc: 1.0000 - val_loss: 1.4829 - val_tp: 143.0000 - val_fp: 24.0000 - val_tn: 2.0000 - val_fn: 16.0000 - val_accuracy: 0.7838 - val_precision: 0.8563 - val_recall: 0.8994 - val_auc: 0.4844\n",
      "Epoch 198/300\n",
      "737/737 [==============================] - 1s 1ms/sample - loss: 1.4548e-04 - tp: 631.0000 - fp: 0.0000e+00 - tn: 106.0000 - fn: 0.0000e+00 - accuracy: 1.0000 - precision: 1.0000 - recall: 1.0000 - auc: 1.0000 - val_loss: 1.4867 - val_tp: 143.0000 - val_fp: 24.0000 - val_tn: 2.0000 - val_fn: 16.0000 - val_accuracy: 0.7838 - val_precision: 0.8563 - val_recall: 0.8994 - val_auc: 0.4845\n",
      "Epoch 199/300\n",
      "737/737 [==============================] - 1s 1ms/sample - loss: 1.4052e-04 - tp: 631.0000 - fp: 0.0000e+00 - tn: 106.0000 - fn: 0.0000e+00 - accuracy: 1.0000 - precision: 1.0000 - recall: 1.0000 - auc: 1.0000 - val_loss: 1.4875 - val_tp: 143.0000 - val_fp: 24.0000 - val_tn: 2.0000 - val_fn: 16.0000 - val_accuracy: 0.7838 - val_precision: 0.8563 - val_recall: 0.8994 - val_auc: 0.4872\n",
      "Epoch 200/300\n",
      "737/737 [==============================] - 1s 1ms/sample - loss: 1.3981e-04 - tp: 631.0000 - fp: 0.0000e+00 - tn: 106.0000 - fn: 0.0000e+00 - accuracy: 1.0000 - precision: 1.0000 - recall: 1.0000 - auc: 1.0000 - val_loss: 1.4897 - val_tp: 143.0000 - val_fp: 24.0000 - val_tn: 2.0000 - val_fn: 16.0000 - val_accuracy: 0.7838 - val_precision: 0.8563 - val_recall: 0.8994 - val_auc: 0.4898\n",
      "Epoch 201/300\n",
      "737/737 [==============================] - 1s 1ms/sample - loss: 1.3650e-04 - tp: 631.0000 - fp: 0.0000e+00 - tn: 106.0000 - fn: 0.0000e+00 - accuracy: 1.0000 - precision: 1.0000 - recall: 1.0000 - auc: 1.0000 - val_loss: 1.4908 - val_tp: 143.0000 - val_fp: 24.0000 - val_tn: 2.0000 - val_fn: 16.0000 - val_accuracy: 0.7838 - val_precision: 0.8563 - val_recall: 0.8994 - val_auc: 0.4740\n",
      "Epoch 202/300\n",
      "737/737 [==============================] - 1s 1ms/sample - loss: 1.3470e-04 - tp: 631.0000 - fp: 0.0000e+00 - tn: 106.0000 - fn: 0.0000e+00 - accuracy: 1.0000 - precision: 1.0000 - recall: 1.0000 - auc: 1.0000 - val_loss: 1.4949 - val_tp: 143.0000 - val_fp: 24.0000 - val_tn: 2.0000 - val_fn: 16.0000 - val_accuracy: 0.7838 - val_precision: 0.8563 - val_recall: 0.8994 - val_auc: 0.4738\n",
      "Epoch 203/300\n",
      "737/737 [==============================] - 1s 1ms/sample - loss: 1.3276e-04 - tp: 631.0000 - fp: 0.0000e+00 - tn: 106.0000 - fn: 0.0000e+00 - accuracy: 1.0000 - precision: 1.0000 - recall: 1.0000 - auc: 1.0000 - val_loss: 1.4970 - val_tp: 143.0000 - val_fp: 24.0000 - val_tn: 2.0000 - val_fn: 16.0000 - val_accuracy: 0.7838 - val_precision: 0.8563 - val_recall: 0.8994 - val_auc: 0.4740\n",
      "Epoch 204/300\n",
      "737/737 [==============================] - 1s 1ms/sample - loss: 1.3012e-04 - tp: 631.0000 - fp: 0.0000e+00 - tn: 106.0000 - fn: 0.0000e+00 - accuracy: 1.0000 - precision: 1.0000 - recall: 1.0000 - auc: 1.0000 - val_loss: 1.4982 - val_tp: 143.0000 - val_fp: 24.0000 - val_tn: 2.0000 - val_fn: 16.0000 - val_accuracy: 0.7838 - val_precision: 0.8563 - val_recall: 0.8994 - val_auc: 0.4739\n",
      "Epoch 205/300\n",
      "737/737 [==============================] - 1s 1ms/sample - loss: 1.2864e-04 - tp: 631.0000 - fp: 0.0000e+00 - tn: 106.0000 - fn: 0.0000e+00 - accuracy: 1.0000 - precision: 1.0000 - recall: 1.0000 - auc: 1.0000 - val_loss: 1.5018 - val_tp: 142.0000 - val_fp: 24.0000 - val_tn: 2.0000 - val_fn: 17.0000 - val_accuracy: 0.7784 - val_precision: 0.8554 - val_recall: 0.8931 - val_auc: 0.4739\n",
      "Epoch 206/300\n"
     ]
    },
    {
     "name": "stdout",
     "output_type": "stream",
     "text": [
      "737/737 [==============================] - 1s 1ms/sample - loss: 1.2764e-04 - tp: 631.0000 - fp: 0.0000e+00 - tn: 106.0000 - fn: 0.0000e+00 - accuracy: 1.0000 - precision: 1.0000 - recall: 1.0000 - auc: 1.0000 - val_loss: 1.5026 - val_tp: 143.0000 - val_fp: 24.0000 - val_tn: 2.0000 - val_fn: 16.0000 - val_accuracy: 0.7838 - val_precision: 0.8563 - val_recall: 0.8994 - val_auc: 0.4736\n",
      "Epoch 207/300\n",
      "737/737 [==============================] - 1s 1ms/sample - loss: 1.2608e-04 - tp: 631.0000 - fp: 0.0000e+00 - tn: 106.0000 - fn: 0.0000e+00 - accuracy: 1.0000 - precision: 1.0000 - recall: 1.0000 - auc: 1.0000 - val_loss: 1.5039 - val_tp: 143.0000 - val_fp: 24.0000 - val_tn: 2.0000 - val_fn: 16.0000 - val_accuracy: 0.7838 - val_precision: 0.8563 - val_recall: 0.8994 - val_auc: 0.4736\n",
      "Epoch 208/300\n",
      "737/737 [==============================] - 1s 1ms/sample - loss: 1.2531e-04 - tp: 631.0000 - fp: 0.0000e+00 - tn: 106.0000 - fn: 0.0000e+00 - accuracy: 1.0000 - precision: 1.0000 - recall: 1.0000 - auc: 1.0000 - val_loss: 1.5074 - val_tp: 142.0000 - val_fp: 24.0000 - val_tn: 2.0000 - val_fn: 17.0000 - val_accuracy: 0.7784 - val_precision: 0.8554 - val_recall: 0.8931 - val_auc: 0.4736\n",
      "Epoch 209/300\n",
      "737/737 [==============================] - 1s 1ms/sample - loss: 1.2028e-04 - tp: 631.0000 - fp: 0.0000e+00 - tn: 106.0000 - fn: 0.0000e+00 - accuracy: 1.0000 - precision: 1.0000 - recall: 1.0000 - auc: 1.0000 - val_loss: 1.5068 - val_tp: 143.0000 - val_fp: 24.0000 - val_tn: 2.0000 - val_fn: 16.0000 - val_accuracy: 0.7838 - val_precision: 0.8563 - val_recall: 0.8994 - val_auc: 0.4734\n",
      "Epoch 210/300\n",
      "737/737 [==============================] - 1s 1ms/sample - loss: 1.1972e-04 - tp: 631.0000 - fp: 0.0000e+00 - tn: 106.0000 - fn: 0.0000e+00 - accuracy: 1.0000 - precision: 1.0000 - recall: 1.0000 - auc: 1.0000 - val_loss: 1.5103 - val_tp: 142.0000 - val_fp: 24.0000 - val_tn: 2.0000 - val_fn: 17.0000 - val_accuracy: 0.7784 - val_precision: 0.8554 - val_recall: 0.8931 - val_auc: 0.4735\n",
      "Epoch 211/300\n",
      "737/737 [==============================] - 1s 1ms/sample - loss: 1.1687e-04 - tp: 631.0000 - fp: 0.0000e+00 - tn: 106.0000 - fn: 0.0000e+00 - accuracy: 1.0000 - precision: 1.0000 - recall: 1.0000 - auc: 1.0000 - val_loss: 1.5112 - val_tp: 142.0000 - val_fp: 24.0000 - val_tn: 2.0000 - val_fn: 17.0000 - val_accuracy: 0.7784 - val_precision: 0.8554 - val_recall: 0.8931 - val_auc: 0.4735\n",
      "Epoch 212/300\n",
      "737/737 [==============================] - 1s 1ms/sample - loss: 1.1613e-04 - tp: 631.0000 - fp: 0.0000e+00 - tn: 106.0000 - fn: 0.0000e+00 - accuracy: 1.0000 - precision: 1.0000 - recall: 1.0000 - auc: 1.0000 - val_loss: 1.5157 - val_tp: 142.0000 - val_fp: 24.0000 - val_tn: 2.0000 - val_fn: 17.0000 - val_accuracy: 0.7784 - val_precision: 0.8554 - val_recall: 0.8931 - val_auc: 0.4735\n",
      "Epoch 213/300\n",
      "737/737 [==============================] - 1s 1ms/sample - loss: 1.1475e-04 - tp: 631.0000 - fp: 0.0000e+00 - tn: 106.0000 - fn: 0.0000e+00 - accuracy: 1.0000 - precision: 1.0000 - recall: 1.0000 - auc: 1.0000 - val_loss: 1.5170 - val_tp: 142.0000 - val_fp: 24.0000 - val_tn: 2.0000 - val_fn: 17.0000 - val_accuracy: 0.7784 - val_precision: 0.8554 - val_recall: 0.8931 - val_auc: 0.4735\n",
      "Epoch 214/300\n",
      "737/737 [==============================] - 1s 1ms/sample - loss: 1.1187e-04 - tp: 631.0000 - fp: 0.0000e+00 - tn: 106.0000 - fn: 0.0000e+00 - accuracy: 1.0000 - precision: 1.0000 - recall: 1.0000 - auc: 1.0000 - val_loss: 1.5241 - val_tp: 141.0000 - val_fp: 24.0000 - val_tn: 2.0000 - val_fn: 18.0000 - val_accuracy: 0.7730 - val_precision: 0.8545 - val_recall: 0.8868 - val_auc: 0.4709\n",
      "Epoch 215/300\n",
      "737/737 [==============================] - 1s 1ms/sample - loss: 1.1074e-04 - tp: 631.0000 - fp: 0.0000e+00 - tn: 106.0000 - fn: 0.0000e+00 - accuracy: 1.0000 - precision: 1.0000 - recall: 1.0000 - auc: 1.0000 - val_loss: 1.5244 - val_tp: 141.0000 - val_fp: 24.0000 - val_tn: 2.0000 - val_fn: 18.0000 - val_accuracy: 0.7730 - val_precision: 0.8545 - val_recall: 0.8868 - val_auc: 0.4709\n",
      "Epoch 216/300\n",
      "737/737 [==============================] - 1s 1ms/sample - loss: 1.0895e-04 - tp: 631.0000 - fp: 0.0000e+00 - tn: 106.0000 - fn: 0.0000e+00 - accuracy: 1.0000 - precision: 1.0000 - recall: 1.0000 - auc: 1.0000 - val_loss: 1.5240 - val_tp: 141.0000 - val_fp: 24.0000 - val_tn: 2.0000 - val_fn: 18.0000 - val_accuracy: 0.7730 - val_precision: 0.8545 - val_recall: 0.8868 - val_auc: 0.4707\n",
      "Epoch 217/300\n",
      "737/737 [==============================] - 1s 1ms/sample - loss: 1.0697e-04 - tp: 631.0000 - fp: 0.0000e+00 - tn: 106.0000 - fn: 0.0000e+00 - accuracy: 1.0000 - precision: 1.0000 - recall: 1.0000 - auc: 1.0000 - val_loss: 1.5261 - val_tp: 141.0000 - val_fp: 24.0000 - val_tn: 2.0000 - val_fn: 18.0000 - val_accuracy: 0.7730 - val_precision: 0.8545 - val_recall: 0.8868 - val_auc: 0.4710\n",
      "Epoch 218/300\n",
      "737/737 [==============================] - 1s 1ms/sample - loss: 1.0514e-04 - tp: 631.0000 - fp: 0.0000e+00 - tn: 106.0000 - fn: 0.0000e+00 - accuracy: 1.0000 - precision: 1.0000 - recall: 1.0000 - auc: 1.0000 - val_loss: 1.5283 - val_tp: 141.0000 - val_fp: 24.0000 - val_tn: 2.0000 - val_fn: 18.0000 - val_accuracy: 0.7730 - val_precision: 0.8545 - val_recall: 0.8868 - val_auc: 0.4710\n",
      "Epoch 219/300\n",
      "737/737 [==============================] - 1s 1ms/sample - loss: 1.0398e-04 - tp: 631.0000 - fp: 0.0000e+00 - tn: 106.0000 - fn: 0.0000e+00 - accuracy: 1.0000 - precision: 1.0000 - recall: 1.0000 - auc: 1.0000 - val_loss: 1.5298 - val_tp: 142.0000 - val_fp: 24.0000 - val_tn: 2.0000 - val_fn: 17.0000 - val_accuracy: 0.7784 - val_precision: 0.8554 - val_recall: 0.8931 - val_auc: 0.4738\n",
      "Epoch 220/300\n",
      "737/737 [==============================] - 1s 1ms/sample - loss: 1.0230e-04 - tp: 631.0000 - fp: 0.0000e+00 - tn: 106.0000 - fn: 0.0000e+00 - accuracy: 1.0000 - precision: 1.0000 - recall: 1.0000 - auc: 1.0000 - val_loss: 1.5327 - val_tp: 142.0000 - val_fp: 24.0000 - val_tn: 2.0000 - val_fn: 17.0000 - val_accuracy: 0.7784 - val_precision: 0.8554 - val_recall: 0.8931 - val_auc: 0.4713\n",
      "Epoch 221/300\n",
      "737/737 [==============================] - 1s 1ms/sample - loss: 1.0095e-04 - tp: 631.0000 - fp: 0.0000e+00 - tn: 106.0000 - fn: 0.0000e+00 - accuracy: 1.0000 - precision: 1.0000 - recall: 1.0000 - auc: 1.0000 - val_loss: 1.5342 - val_tp: 142.0000 - val_fp: 24.0000 - val_tn: 2.0000 - val_fn: 17.0000 - val_accuracy: 0.7784 - val_precision: 0.8554 - val_recall: 0.8931 - val_auc: 0.4712\n",
      "Epoch 222/300\n",
      "737/737 [==============================] - 1s 1ms/sample - loss: 9.9668e-05 - tp: 631.0000 - fp: 0.0000e+00 - tn: 106.0000 - fn: 0.0000e+00 - accuracy: 1.0000 - precision: 1.0000 - recall: 1.0000 - auc: 1.0000 - val_loss: 1.5361 - val_tp: 142.0000 - val_fp: 24.0000 - val_tn: 2.0000 - val_fn: 17.0000 - val_accuracy: 0.7784 - val_precision: 0.8554 - val_recall: 0.8931 - val_auc: 0.4713\n",
      "Epoch 223/300\n",
      "737/737 [==============================] - 1s 1ms/sample - loss: 9.7763e-05 - tp: 631.0000 - fp: 0.0000e+00 - tn: 106.0000 - fn: 0.0000e+00 - accuracy: 1.0000 - precision: 1.0000 - recall: 1.0000 - auc: 1.0000 - val_loss: 1.5375 - val_tp: 142.0000 - val_fp: 24.0000 - val_tn: 2.0000 - val_fn: 17.0000 - val_accuracy: 0.7784 - val_precision: 0.8554 - val_recall: 0.8931 - val_auc: 0.4713\n",
      "Epoch 224/300\n",
      "737/737 [==============================] - 1s 1ms/sample - loss: 9.6678e-05 - tp: 631.0000 - fp: 0.0000e+00 - tn: 106.0000 - fn: 0.0000e+00 - accuracy: 1.0000 - precision: 1.0000 - recall: 1.0000 - auc: 1.0000 - val_loss: 1.5386 - val_tp: 142.0000 - val_fp: 24.0000 - val_tn: 2.0000 - val_fn: 17.0000 - val_accuracy: 0.7784 - val_precision: 0.8554 - val_recall: 0.8931 - val_auc: 0.4739\n",
      "Epoch 225/300\n",
      "737/737 [==============================] - 1s 1ms/sample - loss: 9.5623e-05 - tp: 631.0000 - fp: 0.0000e+00 - tn: 106.0000 - fn: 0.0000e+00 - accuracy: 1.0000 - precision: 1.0000 - recall: 1.0000 - auc: 1.0000 - val_loss: 1.5431 - val_tp: 142.0000 - val_fp: 24.0000 - val_tn: 2.0000 - val_fn: 17.0000 - val_accuracy: 0.7784 - val_precision: 0.8554 - val_recall: 0.8931 - val_auc: 0.4740\n",
      "Epoch 226/300\n"
     ]
    },
    {
     "name": "stdout",
     "output_type": "stream",
     "text": [
      "737/737 [==============================] - 1s 1ms/sample - loss: 9.3668e-05 - tp: 631.0000 - fp: 0.0000e+00 - tn: 106.0000 - fn: 0.0000e+00 - accuracy: 1.0000 - precision: 1.0000 - recall: 1.0000 - auc: 1.0000 - val_loss: 1.5436 - val_tp: 142.0000 - val_fp: 24.0000 - val_tn: 2.0000 - val_fn: 17.0000 - val_accuracy: 0.7784 - val_precision: 0.8554 - val_recall: 0.8931 - val_auc: 0.4740\n",
      "Epoch 227/300\n",
      "737/737 [==============================] - 1s 1ms/sample - loss: 9.4173e-05 - tp: 631.0000 - fp: 0.0000e+00 - tn: 106.0000 - fn: 0.0000e+00 - accuracy: 1.0000 - precision: 1.0000 - recall: 1.0000 - auc: 1.0000 - val_loss: 1.5448 - val_tp: 142.0000 - val_fp: 24.0000 - val_tn: 2.0000 - val_fn: 17.0000 - val_accuracy: 0.7784 - val_precision: 0.8554 - val_recall: 0.8931 - val_auc: 0.4740\n",
      "Epoch 228/300\n",
      "737/737 [==============================] - 1s 1ms/sample - loss: 9.0901e-05 - tp: 631.0000 - fp: 0.0000e+00 - tn: 106.0000 - fn: 0.0000e+00 - accuracy: 1.0000 - precision: 1.0000 - recall: 1.0000 - auc: 1.0000 - val_loss: 1.5498 - val_tp: 142.0000 - val_fp: 24.0000 - val_tn: 2.0000 - val_fn: 17.0000 - val_accuracy: 0.7784 - val_precision: 0.8554 - val_recall: 0.8931 - val_auc: 0.4740\n",
      "Epoch 229/300\n",
      "737/737 [==============================] - 1s 1ms/sample - loss: 9.0009e-05 - tp: 631.0000 - fp: 0.0000e+00 - tn: 106.0000 - fn: 0.0000e+00 - accuracy: 1.0000 - precision: 1.0000 - recall: 1.0000 - auc: 1.0000 - val_loss: 1.5481 - val_tp: 142.0000 - val_fp: 24.0000 - val_tn: 2.0000 - val_fn: 17.0000 - val_accuracy: 0.7784 - val_precision: 0.8554 - val_recall: 0.8931 - val_auc: 0.4740\n",
      "Epoch 230/300\n",
      "737/737 [==============================] - 1s 1ms/sample - loss: 8.9504e-05 - tp: 631.0000 - fp: 0.0000e+00 - tn: 106.0000 - fn: 0.0000e+00 - accuracy: 1.0000 - precision: 1.0000 - recall: 1.0000 - auc: 1.0000 - val_loss: 1.5534 - val_tp: 142.0000 - val_fp: 24.0000 - val_tn: 2.0000 - val_fn: 17.0000 - val_accuracy: 0.7784 - val_precision: 0.8554 - val_recall: 0.8931 - val_auc: 0.4740\n",
      "Epoch 231/300\n",
      "737/737 [==============================] - 1s 1ms/sample - loss: 8.7110e-05 - tp: 631.0000 - fp: 0.0000e+00 - tn: 106.0000 - fn: 0.0000e+00 - accuracy: 1.0000 - precision: 1.0000 - recall: 1.0000 - auc: 1.0000 - val_loss: 1.5527 - val_tp: 142.0000 - val_fp: 24.0000 - val_tn: 2.0000 - val_fn: 17.0000 - val_accuracy: 0.7784 - val_precision: 0.8554 - val_recall: 0.8931 - val_auc: 0.4738\n",
      "Epoch 232/300\n",
      "737/737 [==============================] - 1s 1ms/sample - loss: 8.6687e-05 - tp: 631.0000 - fp: 0.0000e+00 - tn: 106.0000 - fn: 0.0000e+00 - accuracy: 1.0000 - precision: 1.0000 - recall: 1.0000 - auc: 1.0000 - val_loss: 1.5545 - val_tp: 142.0000 - val_fp: 24.0000 - val_tn: 2.0000 - val_fn: 17.0000 - val_accuracy: 0.7784 - val_precision: 0.8554 - val_recall: 0.8931 - val_auc: 0.4740\n",
      "Epoch 233/300\n",
      "737/737 [==============================] - 1s 1ms/sample - loss: 8.5094e-05 - tp: 631.0000 - fp: 0.0000e+00 - tn: 106.0000 - fn: 0.0000e+00 - accuracy: 1.0000 - precision: 1.0000 - recall: 1.0000 - auc: 1.0000 - val_loss: 1.5607 - val_tp: 142.0000 - val_fp: 24.0000 - val_tn: 2.0000 - val_fn: 17.0000 - val_accuracy: 0.7784 - val_precision: 0.8554 - val_recall: 0.8931 - val_auc: 0.4740\n",
      "Epoch 234/300\n",
      "737/737 [==============================] - 1s 1ms/sample - loss: 8.3389e-05 - tp: 631.0000 - fp: 0.0000e+00 - tn: 106.0000 - fn: 0.0000e+00 - accuracy: 1.0000 - precision: 1.0000 - recall: 1.0000 - auc: 1.0000 - val_loss: 1.5605 - val_tp: 142.0000 - val_fp: 24.0000 - val_tn: 2.0000 - val_fn: 17.0000 - val_accuracy: 0.7784 - val_precision: 0.8554 - val_recall: 0.8931 - val_auc: 0.4740\n",
      "Epoch 235/300\n",
      "737/737 [==============================] - 1s 1ms/sample - loss: 8.2771e-05 - tp: 631.0000 - fp: 0.0000e+00 - tn: 106.0000 - fn: 0.0000e+00 - accuracy: 1.0000 - precision: 1.0000 - recall: 1.0000 - auc: 1.0000 - val_loss: 1.5637 - val_tp: 142.0000 - val_fp: 24.0000 - val_tn: 2.0000 - val_fn: 17.0000 - val_accuracy: 0.7784 - val_precision: 0.8554 - val_recall: 0.8931 - val_auc: 0.4739\n",
      "Epoch 236/300\n",
      "737/737 [==============================] - 1s 1ms/sample - loss: 8.1776e-05 - tp: 631.0000 - fp: 0.0000e+00 - tn: 106.0000 - fn: 0.0000e+00 - accuracy: 1.0000 - precision: 1.0000 - recall: 1.0000 - auc: 1.0000 - val_loss: 1.5627 - val_tp: 142.0000 - val_fp: 24.0000 - val_tn: 2.0000 - val_fn: 17.0000 - val_accuracy: 0.7784 - val_precision: 0.8554 - val_recall: 0.8931 - val_auc: 0.4738\n",
      "Epoch 237/300\n",
      "737/737 [==============================] - 1s 1ms/sample - loss: 8.0784e-05 - tp: 631.0000 - fp: 0.0000e+00 - tn: 106.0000 - fn: 0.0000e+00 - accuracy: 1.0000 - precision: 1.0000 - recall: 1.0000 - auc: 1.0000 - val_loss: 1.5662 - val_tp: 142.0000 - val_fp: 24.0000 - val_tn: 2.0000 - val_fn: 17.0000 - val_accuracy: 0.7784 - val_precision: 0.8554 - val_recall: 0.8931 - val_auc: 0.4738\n",
      "Epoch 238/300\n",
      "737/737 [==============================] - 1s 1ms/sample - loss: 7.9256e-05 - tp: 631.0000 - fp: 0.0000e+00 - tn: 106.0000 - fn: 0.0000e+00 - accuracy: 1.0000 - precision: 1.0000 - recall: 1.0000 - auc: 1.0000 - val_loss: 1.5700 - val_tp: 142.0000 - val_fp: 24.0000 - val_tn: 2.0000 - val_fn: 17.0000 - val_accuracy: 0.7784 - val_precision: 0.8554 - val_recall: 0.8931 - val_auc: 0.4736\n",
      "Epoch 239/300\n",
      "737/737 [==============================] - 1s 1ms/sample - loss: 7.7669e-05 - tp: 631.0000 - fp: 0.0000e+00 - tn: 106.0000 - fn: 0.0000e+00 - accuracy: 1.0000 - precision: 1.0000 - recall: 1.0000 - auc: 1.0000 - val_loss: 1.5694 - val_tp: 142.0000 - val_fp: 24.0000 - val_tn: 2.0000 - val_fn: 17.0000 - val_accuracy: 0.7784 - val_precision: 0.8554 - val_recall: 0.8931 - val_auc: 0.4738\n",
      "Epoch 240/300\n",
      "737/737 [==============================] - 1s 1ms/sample - loss: 7.6548e-05 - tp: 631.0000 - fp: 0.0000e+00 - tn: 106.0000 - fn: 0.0000e+00 - accuracy: 1.0000 - precision: 1.0000 - recall: 1.0000 - auc: 1.0000 - val_loss: 1.5703 - val_tp: 142.0000 - val_fp: 24.0000 - val_tn: 2.0000 - val_fn: 17.0000 - val_accuracy: 0.7784 - val_precision: 0.8554 - val_recall: 0.8931 - val_auc: 0.4739\n",
      "Epoch 241/300\n",
      "737/737 [==============================] - 1s 1ms/sample - loss: 7.6564e-05 - tp: 631.0000 - fp: 0.0000e+00 - tn: 106.0000 - fn: 0.0000e+00 - accuracy: 1.0000 - precision: 1.0000 - recall: 1.0000 - auc: 1.0000 - val_loss: 1.5761 - val_tp: 142.0000 - val_fp: 24.0000 - val_tn: 2.0000 - val_fn: 17.0000 - val_accuracy: 0.7784 - val_precision: 0.8554 - val_recall: 0.8931 - val_auc: 0.4739\n",
      "Epoch 242/300\n",
      "737/737 [==============================] - 1s 1ms/sample - loss: 7.4312e-05 - tp: 631.0000 - fp: 0.0000e+00 - tn: 106.0000 - fn: 0.0000e+00 - accuracy: 1.0000 - precision: 1.0000 - recall: 1.0000 - auc: 1.0000 - val_loss: 1.5800 - val_tp: 142.0000 - val_fp: 24.0000 - val_tn: 2.0000 - val_fn: 17.0000 - val_accuracy: 0.7784 - val_precision: 0.8554 - val_recall: 0.8931 - val_auc: 0.4735\n",
      "Epoch 243/300\n",
      "737/737 [==============================] - 1s 1ms/sample - loss: 7.3583e-05 - tp: 631.0000 - fp: 0.0000e+00 - tn: 106.0000 - fn: 0.0000e+00 - accuracy: 1.0000 - precision: 1.0000 - recall: 1.0000 - auc: 1.0000 - val_loss: 1.5827 - val_tp: 142.0000 - val_fp: 24.0000 - val_tn: 2.0000 - val_fn: 17.0000 - val_accuracy: 0.7784 - val_precision: 0.8554 - val_recall: 0.8931 - val_auc: 0.4734\n",
      "Epoch 244/300\n",
      "737/737 [==============================] - 1s 1ms/sample - loss: 7.3519e-05 - tp: 631.0000 - fp: 0.0000e+00 - tn: 106.0000 - fn: 0.0000e+00 - accuracy: 1.0000 - precision: 1.0000 - recall: 1.0000 - auc: 1.0000 - val_loss: 1.5833 - val_tp: 142.0000 - val_fp: 24.0000 - val_tn: 2.0000 - val_fn: 17.0000 - val_accuracy: 0.7784 - val_precision: 0.8554 - val_recall: 0.8931 - val_auc: 0.4733\n",
      "Epoch 245/300\n",
      "737/737 [==============================] - 1s 1ms/sample - loss: 7.2120e-05 - tp: 631.0000 - fp: 0.0000e+00 - tn: 106.0000 - fn: 0.0000e+00 - accuracy: 1.0000 - precision: 1.0000 - recall: 1.0000 - auc: 1.0000 - val_loss: 1.5872 - val_tp: 142.0000 - val_fp: 24.0000 - val_tn: 2.0000 - val_fn: 17.0000 - val_accuracy: 0.7784 - val_precision: 0.8554 - val_recall: 0.8931 - val_auc: 0.4735\n",
      "Epoch 246/300\n"
     ]
    },
    {
     "name": "stdout",
     "output_type": "stream",
     "text": [
      "737/737 [==============================] - 1s 1ms/sample - loss: 7.0077e-05 - tp: 631.0000 - fp: 0.0000e+00 - tn: 106.0000 - fn: 0.0000e+00 - accuracy: 1.0000 - precision: 1.0000 - recall: 1.0000 - auc: 1.0000 - val_loss: 1.5858 - val_tp: 142.0000 - val_fp: 24.0000 - val_tn: 2.0000 - val_fn: 17.0000 - val_accuracy: 0.7784 - val_precision: 0.8554 - val_recall: 0.8931 - val_auc: 0.4734\n",
      "Epoch 247/300\n",
      "737/737 [==============================] - 1s 1ms/sample - loss: 7.0461e-05 - tp: 631.0000 - fp: 0.0000e+00 - tn: 106.0000 - fn: 0.0000e+00 - accuracy: 1.0000 - precision: 1.0000 - recall: 1.0000 - auc: 1.0000 - val_loss: 1.5881 - val_tp: 142.0000 - val_fp: 24.0000 - val_tn: 2.0000 - val_fn: 17.0000 - val_accuracy: 0.7784 - val_precision: 0.8554 - val_recall: 0.8931 - val_auc: 0.4735\n",
      "Epoch 248/300\n",
      "737/737 [==============================] - 1s 1ms/sample - loss: 6.8388e-05 - tp: 631.0000 - fp: 0.0000e+00 - tn: 106.0000 - fn: 0.0000e+00 - accuracy: 1.0000 - precision: 1.0000 - recall: 1.0000 - auc: 1.0000 - val_loss: 1.5920 - val_tp: 142.0000 - val_fp: 24.0000 - val_tn: 2.0000 - val_fn: 17.0000 - val_accuracy: 0.7784 - val_precision: 0.8554 - val_recall: 0.8931 - val_auc: 0.4735\n",
      "Epoch 249/300\n",
      "737/737 [==============================] - 1s 1ms/sample - loss: 6.7133e-05 - tp: 631.0000 - fp: 0.0000e+00 - tn: 106.0000 - fn: 0.0000e+00 - accuracy: 1.0000 - precision: 1.0000 - recall: 1.0000 - auc: 1.0000 - val_loss: 1.5930 - val_tp: 142.0000 - val_fp: 24.0000 - val_tn: 2.0000 - val_fn: 17.0000 - val_accuracy: 0.7784 - val_precision: 0.8554 - val_recall: 0.8931 - val_auc: 0.4735\n",
      "Epoch 250/300\n",
      "737/737 [==============================] - 1s 1ms/sample - loss: 6.6459e-05 - tp: 631.0000 - fp: 0.0000e+00 - tn: 106.0000 - fn: 0.0000e+00 - accuracy: 1.0000 - precision: 1.0000 - recall: 1.0000 - auc: 1.0000 - val_loss: 1.5945 - val_tp: 142.0000 - val_fp: 24.0000 - val_tn: 2.0000 - val_fn: 17.0000 - val_accuracy: 0.7784 - val_precision: 0.8554 - val_recall: 0.8931 - val_auc: 0.4734\n",
      "Epoch 251/300\n",
      "737/737 [==============================] - 1s 1ms/sample - loss: 6.5631e-05 - tp: 631.0000 - fp: 0.0000e+00 - tn: 106.0000 - fn: 0.0000e+00 - accuracy: 1.0000 - precision: 1.0000 - recall: 1.0000 - auc: 1.0000 - val_loss: 1.5953 - val_tp: 142.0000 - val_fp: 24.0000 - val_tn: 2.0000 - val_fn: 17.0000 - val_accuracy: 0.7784 - val_precision: 0.8554 - val_recall: 0.8931 - val_auc: 0.4735\n",
      "Epoch 252/300\n",
      "737/737 [==============================] - 1s 1ms/sample - loss: 6.4980e-05 - tp: 631.0000 - fp: 0.0000e+00 - tn: 106.0000 - fn: 0.0000e+00 - accuracy: 1.0000 - precision: 1.0000 - recall: 1.0000 - auc: 1.0000 - val_loss: 1.5962 - val_tp: 142.0000 - val_fp: 24.0000 - val_tn: 2.0000 - val_fn: 17.0000 - val_accuracy: 0.7784 - val_precision: 0.8554 - val_recall: 0.8931 - val_auc: 0.4739\n",
      "Epoch 253/300\n",
      "737/737 [==============================] - 1s 1ms/sample - loss: 6.4433e-05 - tp: 631.0000 - fp: 0.0000e+00 - tn: 106.0000 - fn: 0.0000e+00 - accuracy: 1.0000 - precision: 1.0000 - recall: 1.0000 - auc: 1.0000 - val_loss: 1.6005 - val_tp: 142.0000 - val_fp: 24.0000 - val_tn: 2.0000 - val_fn: 17.0000 - val_accuracy: 0.7784 - val_precision: 0.8554 - val_recall: 0.8931 - val_auc: 0.4765\n",
      "Epoch 254/300\n",
      "737/737 [==============================] - 1s 1ms/sample - loss: 6.2726e-05 - tp: 631.0000 - fp: 0.0000e+00 - tn: 106.0000 - fn: 0.0000e+00 - accuracy: 1.0000 - precision: 1.0000 - recall: 1.0000 - auc: 1.0000 - val_loss: 1.6037 - val_tp: 142.0000 - val_fp: 24.0000 - val_tn: 2.0000 - val_fn: 17.0000 - val_accuracy: 0.7784 - val_precision: 0.8554 - val_recall: 0.8931 - val_auc: 0.4767\n",
      "Epoch 255/300\n",
      "737/737 [==============================] - 1s 1ms/sample - loss: 6.2237e-05 - tp: 631.0000 - fp: 0.0000e+00 - tn: 106.0000 - fn: 0.0000e+00 - accuracy: 1.0000 - precision: 1.0000 - recall: 1.0000 - auc: 1.0000 - val_loss: 1.6036 - val_tp: 142.0000 - val_fp: 24.0000 - val_tn: 2.0000 - val_fn: 17.0000 - val_accuracy: 0.7784 - val_precision: 0.8554 - val_recall: 0.8931 - val_auc: 0.4765\n",
      "Epoch 256/300\n",
      "737/737 [==============================] - 1s 1ms/sample - loss: 6.1352e-05 - tp: 631.0000 - fp: 0.0000e+00 - tn: 106.0000 - fn: 0.0000e+00 - accuracy: 1.0000 - precision: 1.0000 - recall: 1.0000 - auc: 1.0000 - val_loss: 1.6045 - val_tp: 142.0000 - val_fp: 24.0000 - val_tn: 2.0000 - val_fn: 17.0000 - val_accuracy: 0.7784 - val_precision: 0.8554 - val_recall: 0.8931 - val_auc: 0.4768\n",
      "Epoch 257/300\n",
      "737/737 [==============================] - 1s 1ms/sample - loss: 6.0346e-05 - tp: 631.0000 - fp: 0.0000e+00 - tn: 106.0000 - fn: 0.0000e+00 - accuracy: 1.0000 - precision: 1.0000 - recall: 1.0000 - auc: 1.0000 - val_loss: 1.6081 - val_tp: 142.0000 - val_fp: 24.0000 - val_tn: 2.0000 - val_fn: 17.0000 - val_accuracy: 0.7784 - val_precision: 0.8554 - val_recall: 0.8931 - val_auc: 0.4765\n",
      "Epoch 258/300\n",
      "737/737 [==============================] - 1s 1ms/sample - loss: 5.9556e-05 - tp: 631.0000 - fp: 0.0000e+00 - tn: 106.0000 - fn: 0.0000e+00 - accuracy: 1.0000 - precision: 1.0000 - recall: 1.0000 - auc: 1.0000 - val_loss: 1.6100 - val_tp: 142.0000 - val_fp: 24.0000 - val_tn: 2.0000 - val_fn: 17.0000 - val_accuracy: 0.7784 - val_precision: 0.8554 - val_recall: 0.8931 - val_auc: 0.4765\n",
      "Epoch 259/300\n",
      "737/737 [==============================] - 1s 1ms/sample - loss: 5.8873e-05 - tp: 631.0000 - fp: 0.0000e+00 - tn: 106.0000 - fn: 0.0000e+00 - accuracy: 1.0000 - precision: 1.0000 - recall: 1.0000 - auc: 1.0000 - val_loss: 1.6100 - val_tp: 142.0000 - val_fp: 24.0000 - val_tn: 2.0000 - val_fn: 17.0000 - val_accuracy: 0.7784 - val_precision: 0.8554 - val_recall: 0.8931 - val_auc: 0.4767\n",
      "Epoch 260/300\n",
      "737/737 [==============================] - 1s 2ms/sample - loss: 5.7743e-05 - tp: 631.0000 - fp: 0.0000e+00 - tn: 106.0000 - fn: 0.0000e+00 - accuracy: 1.0000 - precision: 1.0000 - recall: 1.0000 - auc: 1.0000 - val_loss: 1.6116 - val_tp: 142.0000 - val_fp: 24.0000 - val_tn: 2.0000 - val_fn: 17.0000 - val_accuracy: 0.7784 - val_precision: 0.8554 - val_recall: 0.8931 - val_auc: 0.4768\n",
      "Epoch 261/300\n",
      "737/737 [==============================] - 1s 1ms/sample - loss: 5.7014e-05 - tp: 631.0000 - fp: 0.0000e+00 - tn: 106.0000 - fn: 0.0000e+00 - accuracy: 1.0000 - precision: 1.0000 - recall: 1.0000 - auc: 1.0000 - val_loss: 1.6149 - val_tp: 142.0000 - val_fp: 24.0000 - val_tn: 2.0000 - val_fn: 17.0000 - val_accuracy: 0.7784 - val_precision: 0.8554 - val_recall: 0.8931 - val_auc: 0.4768\n",
      "Epoch 262/300\n",
      "737/737 [==============================] - 1s 1ms/sample - loss: 5.6321e-05 - tp: 631.0000 - fp: 0.0000e+00 - tn: 106.0000 - fn: 0.0000e+00 - accuracy: 1.0000 - precision: 1.0000 - recall: 1.0000 - auc: 1.0000 - val_loss: 1.6174 - val_tp: 142.0000 - val_fp: 24.0000 - val_tn: 2.0000 - val_fn: 17.0000 - val_accuracy: 0.7784 - val_precision: 0.8554 - val_recall: 0.8931 - val_auc: 0.4768\n",
      "Epoch 263/300\n",
      "737/737 [==============================] - 1s 1ms/sample - loss: 5.5550e-05 - tp: 631.0000 - fp: 0.0000e+00 - tn: 106.0000 - fn: 0.0000e+00 - accuracy: 1.0000 - precision: 1.0000 - recall: 1.0000 - auc: 1.0000 - val_loss: 1.6194 - val_tp: 142.0000 - val_fp: 24.0000 - val_tn: 2.0000 - val_fn: 17.0000 - val_accuracy: 0.7784 - val_precision: 0.8554 - val_recall: 0.8931 - val_auc: 0.4768\n",
      "Epoch 264/300\n",
      "737/737 [==============================] - 1s 1ms/sample - loss: 5.4766e-05 - tp: 631.0000 - fp: 0.0000e+00 - tn: 106.0000 - fn: 0.0000e+00 - accuracy: 1.0000 - precision: 1.0000 - recall: 1.0000 - auc: 1.0000 - val_loss: 1.6199 - val_tp: 142.0000 - val_fp: 24.0000 - val_tn: 2.0000 - val_fn: 17.0000 - val_accuracy: 0.7784 - val_precision: 0.8554 - val_recall: 0.8931 - val_auc: 0.4768\n",
      "Epoch 265/300\n",
      "737/737 [==============================] - 1s 1ms/sample - loss: 5.4171e-05 - tp: 631.0000 - fp: 0.0000e+00 - tn: 106.0000 - fn: 0.0000e+00 - accuracy: 1.0000 - precision: 1.0000 - recall: 1.0000 - auc: 1.0000 - val_loss: 1.6236 - val_tp: 142.0000 - val_fp: 24.0000 - val_tn: 2.0000 - val_fn: 17.0000 - val_accuracy: 0.7784 - val_precision: 0.8554 - val_recall: 0.8931 - val_auc: 0.4768\n",
      "Epoch 266/300\n"
     ]
    },
    {
     "name": "stdout",
     "output_type": "stream",
     "text": [
      "737/737 [==============================] - 1s 1ms/sample - loss: 5.3449e-05 - tp: 631.0000 - fp: 0.0000e+00 - tn: 106.0000 - fn: 0.0000e+00 - accuracy: 1.0000 - precision: 1.0000 - recall: 1.0000 - auc: 1.0000 - val_loss: 1.6260 - val_tp: 142.0000 - val_fp: 24.0000 - val_tn: 2.0000 - val_fn: 17.0000 - val_accuracy: 0.7784 - val_precision: 0.8554 - val_recall: 0.8931 - val_auc: 0.4768\n",
      "Epoch 267/300\n",
      "737/737 [==============================] - 1s 1ms/sample - loss: 5.2545e-05 - tp: 631.0000 - fp: 0.0000e+00 - tn: 106.0000 - fn: 0.0000e+00 - accuracy: 1.0000 - precision: 1.0000 - recall: 1.0000 - auc: 1.0000 - val_loss: 1.6261 - val_tp: 142.0000 - val_fp: 24.0000 - val_tn: 2.0000 - val_fn: 17.0000 - val_accuracy: 0.7784 - val_precision: 0.8554 - val_recall: 0.8931 - val_auc: 0.4768\n",
      "Epoch 268/300\n",
      "737/737 [==============================] - 1s 1ms/sample - loss: 5.1880e-05 - tp: 631.0000 - fp: 0.0000e+00 - tn: 106.0000 - fn: 0.0000e+00 - accuracy: 1.0000 - precision: 1.0000 - recall: 1.0000 - auc: 1.0000 - val_loss: 1.6264 - val_tp: 142.0000 - val_fp: 24.0000 - val_tn: 2.0000 - val_fn: 17.0000 - val_accuracy: 0.7784 - val_precision: 0.8554 - val_recall: 0.8931 - val_auc: 0.4768\n",
      "Epoch 269/300\n",
      "737/737 [==============================] - 1s 1ms/sample - loss: 5.0984e-05 - tp: 631.0000 - fp: 0.0000e+00 - tn: 106.0000 - fn: 0.0000e+00 - accuracy: 1.0000 - precision: 1.0000 - recall: 1.0000 - auc: 1.0000 - val_loss: 1.6294 - val_tp: 142.0000 - val_fp: 24.0000 - val_tn: 2.0000 - val_fn: 17.0000 - val_accuracy: 0.7784 - val_precision: 0.8554 - val_recall: 0.8931 - val_auc: 0.4768\n",
      "Epoch 270/300\n",
      "737/737 [==============================] - 1s 1ms/sample - loss: 5.0382e-05 - tp: 631.0000 - fp: 0.0000e+00 - tn: 106.0000 - fn: 0.0000e+00 - accuracy: 1.0000 - precision: 1.0000 - recall: 1.0000 - auc: 1.0000 - val_loss: 1.6320 - val_tp: 142.0000 - val_fp: 24.0000 - val_tn: 2.0000 - val_fn: 17.0000 - val_accuracy: 0.7784 - val_precision: 0.8554 - val_recall: 0.8931 - val_auc: 0.4768\n",
      "Epoch 271/300\n",
      "737/737 [==============================] - 1s 1ms/sample - loss: 4.9652e-05 - tp: 631.0000 - fp: 0.0000e+00 - tn: 106.0000 - fn: 0.0000e+00 - accuracy: 1.0000 - precision: 1.0000 - recall: 1.0000 - auc: 1.0000 - val_loss: 1.6329 - val_tp: 142.0000 - val_fp: 24.0000 - val_tn: 2.0000 - val_fn: 17.0000 - val_accuracy: 0.7784 - val_precision: 0.8554 - val_recall: 0.8931 - val_auc: 0.4767\n",
      "Epoch 272/300\n",
      "737/737 [==============================] - 1s 1ms/sample - loss: 4.9019e-05 - tp: 631.0000 - fp: 0.0000e+00 - tn: 106.0000 - fn: 0.0000e+00 - accuracy: 1.0000 - precision: 1.0000 - recall: 1.0000 - auc: 1.0000 - val_loss: 1.6333 - val_tp: 142.0000 - val_fp: 24.0000 - val_tn: 2.0000 - val_fn: 17.0000 - val_accuracy: 0.7784 - val_precision: 0.8554 - val_recall: 0.8931 - val_auc: 0.4767\n",
      "Epoch 273/300\n",
      "737/737 [==============================] - 1s 1ms/sample - loss: 4.8669e-05 - tp: 631.0000 - fp: 0.0000e+00 - tn: 106.0000 - fn: 0.0000e+00 - accuracy: 1.0000 - precision: 1.0000 - recall: 1.0000 - auc: 1.0000 - val_loss: 1.6406 - val_tp: 142.0000 - val_fp: 24.0000 - val_tn: 2.0000 - val_fn: 17.0000 - val_accuracy: 0.7784 - val_precision: 0.8554 - val_recall: 0.8931 - val_auc: 0.4765\n",
      "Epoch 274/300\n",
      "737/737 [==============================] - 1s 2ms/sample - loss: 4.7672e-05 - tp: 631.0000 - fp: 0.0000e+00 - tn: 106.0000 - fn: 0.0000e+00 - accuracy: 1.0000 - precision: 1.0000 - recall: 1.0000 - auc: 1.0000 - val_loss: 1.6403 - val_tp: 142.0000 - val_fp: 23.0000 - val_tn: 3.0000 - val_fn: 17.0000 - val_accuracy: 0.7838 - val_precision: 0.8606 - val_recall: 0.8931 - val_auc: 0.4765\n",
      "Epoch 275/300\n",
      "737/737 [==============================] - 1s 1ms/sample - loss: 4.7166e-05 - tp: 631.0000 - fp: 0.0000e+00 - tn: 106.0000 - fn: 0.0000e+00 - accuracy: 1.0000 - precision: 1.0000 - recall: 1.0000 - auc: 1.0000 - val_loss: 1.6396 - val_tp: 142.0000 - val_fp: 23.0000 - val_tn: 3.0000 - val_fn: 17.0000 - val_accuracy: 0.7838 - val_precision: 0.8606 - val_recall: 0.8931 - val_auc: 0.4765\n",
      "Epoch 276/300\n",
      "737/737 [==============================] - 1s 1ms/sample - loss: 4.6241e-05 - tp: 631.0000 - fp: 0.0000e+00 - tn: 106.0000 - fn: 0.0000e+00 - accuracy: 1.0000 - precision: 1.0000 - recall: 1.0000 - auc: 1.0000 - val_loss: 1.6435 - val_tp: 142.0000 - val_fp: 23.0000 - val_tn: 3.0000 - val_fn: 17.0000 - val_accuracy: 0.7838 - val_precision: 0.8606 - val_recall: 0.8931 - val_auc: 0.4765\n",
      "Epoch 277/300\n",
      "737/737 [==============================] - 1s 1ms/sample - loss: 4.5746e-05 - tp: 631.0000 - fp: 0.0000e+00 - tn: 106.0000 - fn: 0.0000e+00 - accuracy: 1.0000 - precision: 1.0000 - recall: 1.0000 - auc: 1.0000 - val_loss: 1.6467 - val_tp: 142.0000 - val_fp: 23.0000 - val_tn: 3.0000 - val_fn: 17.0000 - val_accuracy: 0.7838 - val_precision: 0.8606 - val_recall: 0.8931 - val_auc: 0.4765\n",
      "Epoch 278/300\n",
      "737/737 [==============================] - 1s 1ms/sample - loss: 4.5200e-05 - tp: 631.0000 - fp: 0.0000e+00 - tn: 106.0000 - fn: 0.0000e+00 - accuracy: 1.0000 - precision: 1.0000 - recall: 1.0000 - auc: 1.0000 - val_loss: 1.6478 - val_tp: 143.0000 - val_fp: 23.0000 - val_tn: 3.0000 - val_fn: 16.0000 - val_accuracy: 0.7892 - val_precision: 0.8614 - val_recall: 0.8994 - val_auc: 0.4793\n",
      "Epoch 279/300\n",
      "737/737 [==============================] - 1s 1ms/sample - loss: 4.5112e-05 - tp: 631.0000 - fp: 0.0000e+00 - tn: 106.0000 - fn: 0.0000e+00 - accuracy: 1.0000 - precision: 1.0000 - recall: 1.0000 - auc: 1.0000 - val_loss: 1.6431 - val_tp: 141.0000 - val_fp: 23.0000 - val_tn: 3.0000 - val_fn: 18.0000 - val_accuracy: 0.7784 - val_precision: 0.8598 - val_recall: 0.8868 - val_auc: 0.4790\n",
      "Epoch 280/300\n",
      "737/737 [==============================] - 1s 1ms/sample - loss: 4.4232e-05 - tp: 631.0000 - fp: 0.0000e+00 - tn: 106.0000 - fn: 0.0000e+00 - accuracy: 1.0000 - precision: 1.0000 - recall: 1.0000 - auc: 1.0000 - val_loss: 1.6481 - val_tp: 141.0000 - val_fp: 23.0000 - val_tn: 3.0000 - val_fn: 18.0000 - val_accuracy: 0.7784 - val_precision: 0.8598 - val_recall: 0.8868 - val_auc: 0.4790\n",
      "Epoch 281/300\n",
      "737/737 [==============================] - 1s 1ms/sample - loss: 5.5747e-05 - tp: 631.0000 - fp: 0.0000e+00 - tn: 106.0000 - fn: 0.0000e+00 - accuracy: 1.0000 - precision: 1.0000 - recall: 1.0000 - auc: 1.0000 - val_loss: 1.6442 - val_tp: 144.0000 - val_fp: 24.0000 - val_tn: 2.0000 - val_fn: 15.0000 - val_accuracy: 0.7892 - val_precision: 0.8571 - val_recall: 0.9057 - val_auc: 0.4811\n",
      "Epoch 282/300\n",
      "737/737 [==============================] - 1s 1ms/sample - loss: 4.8582e-05 - tp: 631.0000 - fp: 0.0000e+00 - tn: 106.0000 - fn: 0.0000e+00 - accuracy: 1.0000 - precision: 1.0000 - recall: 1.0000 - auc: 1.0000 - val_loss: 1.6678 - val_tp: 142.0000 - val_fp: 23.0000 - val_tn: 3.0000 - val_fn: 17.0000 - val_accuracy: 0.7838 - val_precision: 0.8606 - val_recall: 0.8931 - val_auc: 0.4924\n",
      "Epoch 283/300\n",
      "737/737 [==============================] - 1s 1ms/sample - loss: 7.8831e-04 - tp: 631.0000 - fp: 0.0000e+00 - tn: 106.0000 - fn: 0.0000e+00 - accuracy: 1.0000 - precision: 1.0000 - recall: 1.0000 - auc: 1.0000 - val_loss: 1.6755 - val_tp: 147.0000 - val_fp: 24.0000 - val_tn: 2.0000 - val_fn: 12.0000 - val_accuracy: 0.8054 - val_precision: 0.8596 - val_recall: 0.9245 - val_auc: 0.4682\n",
      "Epoch 284/300\n",
      "737/737 [==============================] - 1s 1ms/sample - loss: 0.0031 - tp: 630.0000 - fp: 0.0000e+00 - tn: 106.0000 - fn: 1.0000 - accuracy: 0.9986 - precision: 1.0000 - recall: 0.9984 - auc: 1.0000 - val_loss: 1.6517 - val_tp: 147.0000 - val_fp: 24.0000 - val_tn: 2.0000 - val_fn: 12.0000 - val_accuracy: 0.8054 - val_precision: 0.8596 - val_recall: 0.9245 - val_auc: 0.4705\n",
      "Epoch 285/300\n",
      "737/737 [==============================] - 1s 1ms/sample - loss: 0.0083 - tp: 629.0000 - fp: 0.0000e+00 - tn: 106.0000 - fn: 2.0000 - accuracy: 0.9973 - precision: 1.0000 - recall: 0.9968 - auc: 0.9999 - val_loss: 1.6518 - val_tp: 143.0000 - val_fp: 24.0000 - val_tn: 2.0000 - val_fn: 16.0000 - val_accuracy: 0.7838 - val_precision: 0.8563 - val_recall: 0.8994 - val_auc: 0.4683\n",
      "Epoch 286/300\n"
     ]
    },
    {
     "name": "stdout",
     "output_type": "stream",
     "text": [
      "737/737 [==============================] - 1s 1ms/sample - loss: 0.0049 - tp: 631.0000 - fp: 1.0000 - tn: 105.0000 - fn: 0.0000e+00 - accuracy: 0.9986 - precision: 0.9984 - recall: 1.0000 - auc: 1.0000 - val_loss: 1.7088 - val_tp: 141.0000 - val_fp: 23.0000 - val_tn: 3.0000 - val_fn: 18.0000 - val_accuracy: 0.7784 - val_precision: 0.8598 - val_recall: 0.8868 - val_auc: 0.4758\n",
      "Epoch 287/300\n",
      "737/737 [==============================] - 1s 1ms/sample - loss: 0.0202 - tp: 630.0000 - fp: 3.0000 - tn: 103.0000 - fn: 1.0000 - accuracy: 0.9946 - precision: 0.9953 - recall: 0.9984 - auc: 0.9950 - val_loss: 1.4850 - val_tp: 140.0000 - val_fp: 23.0000 - val_tn: 3.0000 - val_fn: 19.0000 - val_accuracy: 0.7730 - val_precision: 0.8589 - val_recall: 0.8805 - val_auc: 0.4979\n",
      "Epoch 288/300\n",
      "737/737 [==============================] - 1s 1ms/sample - loss: 0.0056 - tp: 630.0000 - fp: 1.0000 - tn: 105.0000 - fn: 1.0000 - accuracy: 0.9973 - precision: 0.9984 - recall: 0.9984 - auc: 1.0000 - val_loss: 1.4198 - val_tp: 147.0000 - val_fp: 23.0000 - val_tn: 3.0000 - val_fn: 12.0000 - val_accuracy: 0.8108 - val_precision: 0.8647 - val_recall: 0.9245 - val_auc: 0.4751\n",
      "Epoch 289/300\n",
      "737/737 [==============================] - 1s 1ms/sample - loss: 9.4883e-04 - tp: 631.0000 - fp: 0.0000e+00 - tn: 106.0000 - fn: 0.0000e+00 - accuracy: 1.0000 - precision: 1.0000 - recall: 1.0000 - auc: 1.0000 - val_loss: 1.4309 - val_tp: 144.0000 - val_fp: 23.0000 - val_tn: 3.0000 - val_fn: 15.0000 - val_accuracy: 0.7946 - val_precision: 0.8623 - val_recall: 0.9057 - val_auc: 0.4988\n",
      "Epoch 290/300\n",
      "737/737 [==============================] - 1s 1ms/sample - loss: 4.1309e-04 - tp: 631.0000 - fp: 0.0000e+00 - tn: 106.0000 - fn: 0.0000e+00 - accuracy: 1.0000 - precision: 1.0000 - recall: 1.0000 - auc: 1.0000 - val_loss: 1.4404 - val_tp: 144.0000 - val_fp: 23.0000 - val_tn: 3.0000 - val_fn: 15.0000 - val_accuracy: 0.7946 - val_precision: 0.8623 - val_recall: 0.9057 - val_auc: 0.4829\n",
      "Epoch 291/300\n",
      "737/737 [==============================] - 1s 1ms/sample - loss: 3.2687e-04 - tp: 631.0000 - fp: 0.0000e+00 - tn: 106.0000 - fn: 0.0000e+00 - accuracy: 1.0000 - precision: 1.0000 - recall: 1.0000 - auc: 1.0000 - val_loss: 1.4461 - val_tp: 144.0000 - val_fp: 23.0000 - val_tn: 3.0000 - val_fn: 15.0000 - val_accuracy: 0.7946 - val_precision: 0.8623 - val_recall: 0.9057 - val_auc: 0.4829\n",
      "Epoch 292/300\n",
      "737/737 [==============================] - 1s 1ms/sample - loss: 2.9146e-04 - tp: 631.0000 - fp: 0.0000e+00 - tn: 106.0000 - fn: 0.0000e+00 - accuracy: 1.0000 - precision: 1.0000 - recall: 1.0000 - auc: 1.0000 - val_loss: 1.4528 - val_tp: 144.0000 - val_fp: 23.0000 - val_tn: 3.0000 - val_fn: 15.0000 - val_accuracy: 0.7946 - val_precision: 0.8623 - val_recall: 0.9057 - val_auc: 0.4854\n",
      "Epoch 293/300\n",
      "737/737 [==============================] - 1s 1ms/sample - loss: 2.6634e-04 - tp: 631.0000 - fp: 0.0000e+00 - tn: 106.0000 - fn: 0.0000e+00 - accuracy: 1.0000 - precision: 1.0000 - recall: 1.0000 - auc: 1.0000 - val_loss: 1.4564 - val_tp: 144.0000 - val_fp: 23.0000 - val_tn: 3.0000 - val_fn: 15.0000 - val_accuracy: 0.7946 - val_precision: 0.8623 - val_recall: 0.9057 - val_auc: 0.4829\n",
      "Epoch 294/300\n",
      "737/737 [==============================] - 2s 2ms/sample - loss: 2.4206e-04 - tp: 631.0000 - fp: 0.0000e+00 - tn: 106.0000 - fn: 0.0000e+00 - accuracy: 1.0000 - precision: 1.0000 - recall: 1.0000 - auc: 1.0000 - val_loss: 1.4613 - val_tp: 144.0000 - val_fp: 23.0000 - val_tn: 3.0000 - val_fn: 15.0000 - val_accuracy: 0.7946 - val_precision: 0.8623 - val_recall: 0.9057 - val_auc: 0.4831\n",
      "Epoch 295/300\n",
      "737/737 [==============================] - 2s 3ms/sample - loss: 2.2616e-04 - tp: 631.0000 - fp: 0.0000e+00 - tn: 106.0000 - fn: 0.0000e+00 - accuracy: 1.0000 - precision: 1.0000 - recall: 1.0000 - auc: 1.0000 - val_loss: 1.4658 - val_tp: 144.0000 - val_fp: 23.0000 - val_tn: 3.0000 - val_fn: 15.0000 - val_accuracy: 0.7946 - val_precision: 0.8623 - val_recall: 0.9057 - val_auc: 0.4831\n",
      "Epoch 296/300\n",
      "737/737 [==============================] - 1s 1ms/sample - loss: 2.1184e-04 - tp: 631.0000 - fp: 0.0000e+00 - tn: 106.0000 - fn: 0.0000e+00 - accuracy: 1.0000 - precision: 1.0000 - recall: 1.0000 - auc: 1.0000 - val_loss: 1.4698 - val_tp: 144.0000 - val_fp: 23.0000 - val_tn: 3.0000 - val_fn: 15.0000 - val_accuracy: 0.7946 - val_precision: 0.8623 - val_recall: 0.9057 - val_auc: 0.4858\n",
      "Epoch 297/300\n",
      "737/737 [==============================] - 2s 2ms/sample - loss: 2.0086e-04 - tp: 631.0000 - fp: 0.0000e+00 - tn: 106.0000 - fn: 0.0000e+00 - accuracy: 1.0000 - precision: 1.0000 - recall: 1.0000 - auc: 1.0000 - val_loss: 1.4738 - val_tp: 144.0000 - val_fp: 23.0000 - val_tn: 3.0000 - val_fn: 15.0000 - val_accuracy: 0.7946 - val_precision: 0.8623 - val_recall: 0.9057 - val_auc: 0.4858\n",
      "Epoch 298/300\n",
      "737/737 [==============================] - 2s 2ms/sample - loss: 1.8980e-04 - tp: 631.0000 - fp: 0.0000e+00 - tn: 106.0000 - fn: 0.0000e+00 - accuracy: 1.0000 - precision: 1.0000 - recall: 1.0000 - auc: 1.0000 - val_loss: 1.4805 - val_tp: 144.0000 - val_fp: 23.0000 - val_tn: 3.0000 - val_fn: 15.0000 - val_accuracy: 0.7946 - val_precision: 0.8623 - val_recall: 0.9057 - val_auc: 0.4855\n",
      "Epoch 299/300\n",
      "737/737 [==============================] - 2s 3ms/sample - loss: 1.8197e-04 - tp: 631.0000 - fp: 0.0000e+00 - tn: 106.0000 - fn: 0.0000e+00 - accuracy: 1.0000 - precision: 1.0000 - recall: 1.0000 - auc: 1.0000 - val_loss: 1.4840 - val_tp: 144.0000 - val_fp: 23.0000 - val_tn: 3.0000 - val_fn: 15.0000 - val_accuracy: 0.7946 - val_precision: 0.8623 - val_recall: 0.9057 - val_auc: 0.4698\n",
      "Epoch 300/300\n",
      "737/737 [==============================] - 2s 2ms/sample - loss: 1.7439e-04 - tp: 631.0000 - fp: 0.0000e+00 - tn: 106.0000 - fn: 0.0000e+00 - accuracy: 1.0000 - precision: 1.0000 - recall: 1.0000 - auc: 1.0000 - val_loss: 1.4879 - val_tp: 144.0000 - val_fp: 23.0000 - val_tn: 3.0000 - val_fn: 15.0000 - val_accuracy: 0.7946 - val_precision: 0.8623 - val_recall: 0.9057 - val_auc: 0.4858\n"
     ]
    }
   ],
   "source": [
    "# train\n",
    "print('time start')\n",
    "start = timeit.default_timer()\n",
    "\n",
    "history = model.fit(Tensor_train, np.asarray(y_train), validation_data=(Tensor_test, np.asarray(y_test)),\n",
    "                    epochs=EPOCHS, batch_size=BATCH_SIZE, callbacks=[early_stopping])\n",
    "\n",
    "stop = timeit.default_timer()\n"
   ]
  },
  {
   "cell_type": "code",
   "execution_count": 53,
   "metadata": {
    "scrolled": false
   },
   "outputs": [
    {
     "name": "stdout",
     "output_type": "stream",
     "text": [
      "training took:  280.1346534339999\n",
      "Model: \"sequential\"\n",
      "_________________________________________________________________\n",
      "Layer (type)                 Output Shape              Param #   \n",
      "=================================================================\n",
      "bidirectional (Bidirectional multiple                  6120      \n",
      "_________________________________________________________________\n",
      "flatten (Flatten)            multiple                  0         \n",
      "_________________________________________________________________\n",
      "dense (Dense)                multiple                  21        \n",
      "=================================================================\n",
      "Total params: 6,141\n",
      "Trainable params: 6,141\n",
      "Non-trainable params: 0\n",
      "_________________________________________________________________\n",
      "None\n"
     ]
    },
    {
     "data": {
      "image/png": "[encoded data removed]",
      "text/plain": [
       "<Figure size 1080x864 with 4 Axes>"
      ]
     },
     "metadata": {},
     "output_type": "display_data"
    }
   ],
   "source": [
    "print('training took: ', stop - start)\n",
    "print(model.summary())\n",
    "\n",
    "plot_metrics(history)"
   ]
  },
  {
   "cell_type": "markdown",
   "metadata": {},
   "source": [
    "**Evaluate the model**\n",
    "\n",
    "We the confussion matriz, se the ROC curve and finally we take a look at the good clients to see how the model performs"
   ]
  },
  {
   "cell_type": "code",
   "execution_count": 54,
   "metadata": {},
   "outputs": [
    {
     "name": "stdout",
     "output_type": "stream",
     "text": [
      "Accuracy: 0.7945946\n",
      "Area Under Curve: 0.48584908\n",
      "\n"
     ]
    },
    {
     "data": {
      "text/plain": [
       "Index(['true_label', 'predicted_proba', 'predicted_label'], dtype='object')"
      ]
     },
     "execution_count": 54,
     "metadata": {},
     "output_type": "execute_result"
    }
   ],
   "source": [
    "train_results_baseline, test_results_baseline = keras_model_evaluation(model, Tensor_train, \n",
    "                                                                       y_train, Tensor_test, y_test,BATCH_SIZE)\n",
    "train_results_baseline.columns"
   ]
  },
  {
   "cell_type": "code",
   "execution_count": 55,
   "metadata": {},
   "outputs": [
    {
     "data": {
      "text/plain": [
       "<matplotlib.axes._subplots.AxesSubplot at 0x1a6849b2d0>"
      ]
     },
     "execution_count": 55,
     "metadata": {},
     "output_type": "execute_result"
    },
    {
     "data": {
      "image/png": "[encoded data removed]",
      "text/plain": [
       "<Figure size 792x360 with 1 Axes>"
      ]
     },
     "metadata": {},
     "output_type": "display_data"
    },
    {
     "data": {
      "image/png": "[encoded data removed]",
      "text/plain": [
       "<Figure size 792x360 with 1 Axes>"
      ]
     },
     "metadata": {},
     "output_type": "display_data"
    }
   ],
   "source": [
    "# plot the probability distributions in training and test\n",
    "current_df = train_results_baseline\n",
    "plt.figure(figsize=(11,5))\n",
    "plt.title('Probability of falling into bad debt training')\n",
    "sns.kdeplot(current_df[current_df.true_label==1]['predicted_proba'],color='red' ,label='bad clients')\n",
    "sns.kdeplot(current_df[current_df.true_label==0]['predicted_proba'],color='blue' ,label='good clients')\n",
    "\n",
    "current_df = test_results_baseline\n",
    "\n",
    "plt.figure(figsize=(11,5))\n",
    "plt.title('Probability of falling into bad debt test')\n",
    "sns.kdeplot(current_df[current_df.true_label==1]['predicted_proba'],color='red' ,label='bad clients')\n",
    "sns.kdeplot(current_df[current_df.true_label==0]['predicted_proba'],color='blue' ,label='good clients')\n"
   ]
  },
  {
   "cell_type": "code",
   "execution_count": 56,
   "metadata": {},
   "outputs": [
    {
     "name": "stdout",
     "output_type": "stream",
     "text": [
      "Train confussion matrix: \n",
      "[[106   0]\n",
      " [  0 631]]\n",
      "test confussion matrix: \n",
      "[[  3  23]\n",
      " [ 15 144]]\n",
      "ROC z=15\n"
     ]
    },
    {
     "data": {
      "image/png": "[encoded data removed]",
      "text/plain": [
       "<Figure size 576x504 with 1 Axes>"
      ]
     },
     "metadata": {},
     "output_type": "display_data"
    }
   ],
   "source": [
    "print('Train confussion matrix: ')\n",
    "print(confusion_matrix(train_results_baseline['true_label'], train_results_baseline['predicted_label']))\n",
    "print('test confussion matrix: ')\n",
    "print(confusion_matrix(test_results_baseline['true_label'], test_results_baseline['predicted_label']))\n",
    "\n",
    "print('ROC z=15')    \n",
    "plot_roc_curve(train_results_baseline['true_label'], train_results_baseline['predicted_proba'],\n",
    "               test_results_baseline['true_label'], test_results_baseline['predicted_proba'])\n"
   ]
  },
  {
   "cell_type": "markdown",
   "metadata": {},
   "source": [
    "# Optimization\n",
    "# IT MAY BE FASTER TO USE GRID SEARCH TO TUNE THESE PARAMETERS\n",
    "\n",
    "we try to uprade the model by tuning the hyper parameters and architecture\n",
    "\n",
    "1. increase num of neurons: for 1 hidden layer 10 neurons gives the best performance\n",
    "2. increase num of layers\n",
    "3. tune droput\n",
    "4. regularization\n",
    "5. Tune learning rate\n",
    "6. tune batch size\n",
    "7. use sample weights\n"
   ]
  },
  {
   "cell_type": "markdown",
   "metadata": {},
   "source": [
    "First we optimize one layer for several values of learning rates, different regularization and batches. In all of these we vary the number of neurons a bit also"
   ]
  },
  {
   "cell_type": "markdown",
   "metadata": {},
   "source": [
    "### Learning Rate"
   ]
  },
  {
   "cell_type": "code",
   "execution_count": 24,
   "metadata": {},
   "outputs": [],
   "source": [
    "rate_metrics_dict = {'first_layer_neurons':[], 'learning_rate':[], 'train_auc':[], 'test_auc':[], \n",
    "                     'test_tnr':[],'test_fnr':[], 'regularization':[], 'history':[]}\n",
    "\n",
    "# DEFINING THE BASIC FORM OF THE NN\n",
    "EPOCHS = 300\n",
    "BATCH_SIZE = 32\n",
    "NUM_LAYERS = 1\n",
    "TIME_STEPS = Tensor_train.shape[2]\n",
    "FEATURES = Tensor_train.shape[1]\n",
    "\n",
    "# name of the files to save\n",
    "weights_name = 'weights_lstm_optimized.h5'\n",
    "\n",
    "USE_DROPOUT = True\n",
    "BATCH_NORM = False\n",
    "# hyper params\n",
    "first_layer_sizes = [100]\n",
    "LEARNING_RATES = [0.0001,0.001,0.01,0.1]\n",
    "REGULARIZATIONS = [L1L2(l1=0.0, l2=0.0), L1L2(l1=0.01, l2=0.0), L1L2(l1=0.0, l2=0.01), L1L2(l1=0.01, l2=0.01)]\n",
    "\n",
    "#scores = model.evaluate(Tensor_test, np.asarray(y_test), verbose=0)\n",
    "#val_tnr = 3, val_fnr = 4"
   ]
  },
  {
   "cell_type": "code",
   "execution_count": 25,
   "metadata": {},
   "outputs": [
    {
     "name": "stdout",
     "output_type": "stream",
     "text": [
      "\n",
      "init\n",
      "{'l1': 0.0, 'l2': 0.0}\n",
      "Restoring model weights from the end of the best epoch.\n",
      "Epoch 00041: early stopping\n",
      "train Accuracy: 0.6227951\n",
      "train Area Under Curve: 0.4761086\n",
      "test Accuracy: 0.61621624\n",
      "test Area Under Curve: 0.4534349\n",
      "\n",
      "init\n",
      "{'l1': 0.009999999776482582, 'l2': 0.0}\n",
      "Restoring model weights from the end of the best epoch.\n",
      "Epoch 00041: early stopping\n",
      "train Accuracy: 0.5766621\n",
      "train Area Under Curve: 0.46141195\n",
      "test Accuracy: 0.55135137\n",
      "test Area Under Curve: 0.44593614\n",
      "\n",
      "init\n",
      "{'l1': 0.0, 'l2': 0.009999999776482582}\n",
      "Restoring model weights from the end of the best epoch.\n",
      "Epoch 00041: early stopping\n",
      "train Accuracy: 0.60786974\n",
      "train Area Under Curve: 0.47287923\n",
      "test Accuracy: 0.6\n",
      "test Area Under Curve: 0.45706338\n",
      "\n",
      "init\n",
      "{'l1': 0.009999999776482582, 'l2': 0.009999999776482582}\n",
      "Restoring model weights from the end of the best epoch.\n",
      "Epoch 00041: early stopping\n",
      "train Accuracy: 0.5753053\n",
      "train Area Under Curve: 0.46126246\n",
      "test Accuracy: 0.55135137\n",
      "test Area Under Curve: 0.44593614\n",
      "\n",
      "init\n",
      "{'l1': 0.0, 'l2': 0.0}\n",
      "Restoring model weights from the end of the best epoch.\n",
      "Epoch 00137: early stopping\n",
      "train Accuracy: 0.9864315\n",
      "train Area Under Curve: 0.9992076\n",
      "test Accuracy: 0.72432435\n",
      "test Area Under Curve: 0.5319303\n",
      "\n",
      "init\n",
      "{'l1': 0.009999999776482582, 'l2': 0.0}\n",
      "Restoring model weights from the end of the best epoch.\n",
      "Epoch 00041: early stopping\n",
      "train Accuracy: 0.8426052\n",
      "train Area Under Curve: 0.5462055\n",
      "test Accuracy: 0.8378378\n",
      "test Area Under Curve: 0.4764151\n",
      "\n",
      "init\n",
      "{'l1': 0.0, 'l2': 0.009999999776482582}\n",
      "Restoring model weights from the end of the best epoch.\n",
      "Epoch 00041: early stopping\n",
      "train Accuracy: 0.85753053\n",
      "train Area Under Curve: 0.6211165\n",
      "test Accuracy: 0.84324324\n",
      "test Area Under Curve: 0.504717\n",
      "\n",
      "init\n",
      "{'l1': 0.009999999776482582, 'l2': 0.009999999776482582}\n",
      "Restoring model weights from the end of the best epoch.\n",
      "Epoch 00041: early stopping\n",
      "train Accuracy: 0.8426052\n",
      "train Area Under Curve: 0.5445534\n",
      "test Accuracy: 0.8378378\n",
      "test Area Under Curve: 0.47665697\n",
      "\n",
      "init\n",
      "{'l1': 0.0, 'l2': 0.0}\n",
      "train Accuracy: 1.0\n",
      "train Area Under Curve: 1.0\n",
      "test Accuracy: 0.8378378\n",
      "test Area Under Curve: 0.55999035\n",
      "\n",
      "init\n",
      "{'l1': 0.009999999776482582, 'l2': 0.0}\n",
      "Restoring model weights from the end of the best epoch.\n",
      "Epoch 00041: early stopping\n",
      "train Accuracy: 0.8588874\n",
      "train Area Under Curve: 0.6454041\n",
      "test Accuracy: 0.85945946\n",
      "test Area Under Curve: 0.5370102\n",
      "\n",
      "init\n",
      "{'l1': 0.0, 'l2': 0.009999999776482582}\n",
      "Restoring model weights from the end of the best epoch.\n",
      "Epoch 00114: early stopping\n",
      "train Accuracy: 0.97286296\n",
      "train Area Under Curve: 0.9888168\n",
      "test Accuracy: 0.78918916\n",
      "test Area Under Curve: 0.42743105\n",
      "\n",
      "init\n",
      "{'l1': 0.009999999776482582, 'l2': 0.009999999776482582}\n",
      "Restoring model weights from the end of the best epoch.\n",
      "Epoch 00041: early stopping\n",
      "train Accuracy: 0.8588874\n",
      "train Area Under Curve: 0.6505771\n",
      "test Accuracy: 0.85945946\n",
      "test Area Under Curve: 0.5220126\n",
      "\n",
      "init\n",
      "{'l1': 0.0, 'l2': 0.0}\n",
      "Restoring model weights from the end of the best epoch.\n",
      "Epoch 00045: early stopping\n",
      "train Accuracy: 0.55766624\n",
      "train Area Under Curve: 0.6288387\n",
      "test Accuracy: 0.4972973\n",
      "test Area Under Curve: 0.46855348\n",
      "\n",
      "init\n",
      "{'l1': 0.009999999776482582, 'l2': 0.0}\n",
      "Restoring model weights from the end of the best epoch.\n",
      "Epoch 00041: early stopping\n",
      "train Accuracy: 0.85345995\n",
      "train Area Under Curve: 0.61583143\n",
      "test Accuracy: 0.85945946\n",
      "test Area Under Curve: 0.37917274\n",
      "\n",
      "init\n",
      "{'l1': 0.0, 'l2': 0.009999999776482582}\n",
      "Restoring model weights from the end of the best epoch.\n",
      "Epoch 00041: early stopping\n",
      "train Accuracy: 0.8616011\n",
      "train Area Under Curve: 0.6253626\n",
      "test Accuracy: 0.85945946\n",
      "test Area Under Curve: 0.4170295\n",
      "\n",
      "init\n",
      "{'l1': 0.009999999776482582, 'l2': 0.009999999776482582}\n",
      "Restoring model weights from the end of the best epoch.\n",
      "Epoch 00041: early stopping\n",
      "train Accuracy: 0.8561737\n",
      "train Area Under Curve: 0.60306346\n",
      "test Accuracy: 0.85945946\n",
      "test Area Under Curve: 0.3959845\n"
     ]
    }
   ],
   "source": [
    "for h1 in first_layer_sizes:\n",
    "    for lr in LEARNING_RATES:\n",
    "        for REG in REGULARIZATIONS:\n",
    "            print()\n",
    "            print('init')\n",
    "            print(REG.get_config())\n",
    "            HIDDEN_LAYER_SIZES = [h1]\n",
    "            # compile the model \n",
    "            tf.keras.backend.clear_session()\n",
    "            init_random(1234)\n",
    "            # build the model\n",
    "            model = build_lstm(EPOCHS, BATCH_SIZE, HIDDEN_LAYER_SIZES, NUM_LAYERS, USE_DROPOUT, BATCH_NORM ,lr, REG,\n",
    "                               weights_name, TIME_STEPS, FEATURES)\n",
    "            # train the model\n",
    "            start = timeit.default_timer()\n",
    "            history = model.fit(Tensor_train, np.asarray(y_train), validation_data=(Tensor_test, np.asarray(y_test)),\n",
    "                        epochs=EPOCHS, batch_size=BATCH_SIZE, callbacks=[early_stopping], verbose = 0)\n",
    "            stop = timeit.default_timer()\n",
    "\n",
    "            scores = model.evaluate(Tensor_train, np.asarray(y_train), verbose=0)\n",
    "            print(\"train Accuracy:\", scores[5] )\n",
    "            print(\"train Area Under Curve:\", scores[8] )\n",
    "\n",
    "            rate_metrics_dict['train_auc'].append(scores[8])\n",
    "\n",
    "            scores = model.evaluate(Tensor_test, np.asarray(y_test), verbose=0)\n",
    "            print(\"test Accuracy:\", scores[5] )\n",
    "            print(\"test Area Under Curve:\", scores[8] )\n",
    "            rate_metrics_dict['test_auc'].append(scores[8])\n",
    "            rate_metrics_dict['test_tnr'].append(scores[3])\n",
    "            rate_metrics_dict['test_fnr'].append(scores[4])\n",
    "\n",
    "            # append parameters\n",
    "            rate_metrics_dict['first_layer_neurons'].append(h1)\n",
    "            rate_metrics_dict['learning_rate'].append(lr)\n",
    "            rate_metrics_dict['regularization'].append(REG.get_config())\n",
    "            rate_metrics_dict['history'].append(history)\n"
   ]
  },
  {
   "cell_type": "code",
   "execution_count": 40,
   "metadata": {},
   "outputs": [
    {
     "data": {
      "text/plain": [
       "['rate_metrics_dict_100.p']"
      ]
     },
     "execution_count": 40,
     "metadata": {},
     "output_type": "execute_result"
    }
   ],
   "source": [
    "#joblib.dump(rate_metrics_dict, 'rate_metrics_dict_100.p') \n",
    "#history_list = [rate_metrics_dict['history'][i].history for i in range (0, len(rate_metrics_dict['history']))]\n",
    "rate_metrics_dict['history_list'] = history_list\n",
    "joblib.dump(rate_metrics_dict, 'rate_metrics_dict_100.p') \n"
   ]
  },
  {
   "cell_type": "code",
   "execution_count": 41,
   "metadata": {},
   "outputs": [
    {
     "name": "stdout",
     "output_type": "stream",
     "text": [
      "dict_keys(['first_layer_neurons', 'learning_rate', 'train_auc', 'test_auc', 'test_tnr', 'test_fnr', 'regularization', 'history_list'])\n"
     ]
    }
   ],
   "source": [
    "optimizer_metrics = joblib.load('rate_metrics_dict_100.p') \n",
    "print(optimizer_metrics.keys())\n",
    "pd_metrics = pd.DataFrame.from_dict(optimizer_metrics)\n",
    "# get the interesting metrics\n",
    "pd_metrics = pd_metrics[pd_metrics['test_tnr']>0]"
   ]
  },
  {
   "cell_type": "code",
   "execution_count": 42,
   "metadata": {},
   "outputs": [
    {
     "data": {
      "text/html": [
       "<div>\n",
       "<style scoped>\n",
       "    .dataframe tbody tr th:only-of-type {\n",
       "        vertical-align: middle;\n",
       "    }\n",
       "\n",
       "    .dataframe tbody tr th {\n",
       "        vertical-align: top;\n",
       "    }\n",
       "\n",
       "    .dataframe thead th {\n",
       "        text-align: right;\n",
       "    }\n",
       "</style>\n",
       "<table border=\"1\" class=\"dataframe\">\n",
       "  <thead>\n",
       "    <tr style=\"text-align: right;\">\n",
       "      <th></th>\n",
       "      <th>first_layer_neurons</th>\n",
       "      <th>learning_rate</th>\n",
       "      <th>train_auc</th>\n",
       "      <th>test_auc</th>\n",
       "      <th>test_tnr</th>\n",
       "      <th>test_fnr</th>\n",
       "      <th>regularization</th>\n",
       "      <th>history_list</th>\n",
       "    </tr>\n",
       "  </thead>\n",
       "  <tbody>\n",
       "    <tr>\n",
       "      <th>5</th>\n",
       "      <td>100</td>\n",
       "      <td>0.001</td>\n",
       "      <td>0.546206</td>\n",
       "      <td>0.476415</td>\n",
       "      <td>1.0</td>\n",
       "      <td>5.0</td>\n",
       "      <td>{'l1': 0.009999999776482582, 'l2': 0.0}</td>\n",
       "      <td>{'loss': [28.755253586063876, 18.3521045079224...</td>\n",
       "    </tr>\n",
       "    <tr>\n",
       "      <th>7</th>\n",
       "      <td>100</td>\n",
       "      <td>0.001</td>\n",
       "      <td>0.544553</td>\n",
       "      <td>0.476657</td>\n",
       "      <td>1.0</td>\n",
       "      <td>5.0</td>\n",
       "      <td>{'l1': 0.009999999776482582, 'l2': 0.009999999...</td>\n",
       "      <td>{'loss': [30.87544112548414, 19.44197125997763...</td>\n",
       "    </tr>\n",
       "  </tbody>\n",
       "</table>\n",
       "</div>"
      ],
      "text/plain": [
       "   first_layer_neurons  learning_rate  train_auc  test_auc  test_tnr  \\\n",
       "5                  100          0.001   0.546206  0.476415       1.0   \n",
       "7                  100          0.001   0.544553  0.476657       1.0   \n",
       "\n",
       "   test_fnr                                     regularization  \\\n",
       "5       5.0            {'l1': 0.009999999776482582, 'l2': 0.0}   \n",
       "7       5.0  {'l1': 0.009999999776482582, 'l2': 0.009999999...   \n",
       "\n",
       "                                        history_list  \n",
       "5  {'loss': [28.755253586063876, 18.3521045079224...  \n",
       "7  {'loss': [30.87544112548414, 19.44197125997763...  "
      ]
     },
     "execution_count": 42,
     "metadata": {},
     "output_type": "execute_result"
    }
   ],
   "source": [
    "pd_metrics[pd_metrics['test_fnr']==pd_metrics['test_fnr'].min()]"
   ]
  },
  {
   "cell_type": "code",
   "execution_count": 43,
   "metadata": {
    "scrolled": false
   },
   "outputs": [
    {
     "data": {
      "text/html": [
       "<div>\n",
       "<style scoped>\n",
       "    .dataframe tbody tr th:only-of-type {\n",
       "        vertical-align: middle;\n",
       "    }\n",
       "\n",
       "    .dataframe tbody tr th {\n",
       "        vertical-align: top;\n",
       "    }\n",
       "\n",
       "    .dataframe thead th {\n",
       "        text-align: right;\n",
       "    }\n",
       "</style>\n",
       "<table border=\"1\" class=\"dataframe\">\n",
       "  <thead>\n",
       "    <tr style=\"text-align: right;\">\n",
       "      <th></th>\n",
       "      <th>first_layer_neurons</th>\n",
       "      <th>learning_rate</th>\n",
       "      <th>train_auc</th>\n",
       "      <th>test_auc</th>\n",
       "      <th>test_tnr</th>\n",
       "      <th>test_fnr</th>\n",
       "      <th>regularization</th>\n",
       "      <th>history_list</th>\n",
       "    </tr>\n",
       "  </thead>\n",
       "  <tbody>\n",
       "    <tr>\n",
       "      <th>8</th>\n",
       "      <td>100</td>\n",
       "      <td>0.010</td>\n",
       "      <td>1.000000</td>\n",
       "      <td>0.55999</td>\n",
       "      <td>4.0</td>\n",
       "      <td>8.0</td>\n",
       "      <td>{'l1': 0.0, 'l2': 0.0}</td>\n",
       "      <td>{'loss': [0.517947541264213, 0.251028442843798...</td>\n",
       "    </tr>\n",
       "    <tr>\n",
       "      <th>4</th>\n",
       "      <td>100</td>\n",
       "      <td>0.001</td>\n",
       "      <td>0.999208</td>\n",
       "      <td>0.53193</td>\n",
       "      <td>5.0</td>\n",
       "      <td>30.0</td>\n",
       "      <td>{'l1': 0.0, 'l2': 0.0}</td>\n",
       "      <td>{'loss': [0.5890502445248121, 0.40183012009556...</td>\n",
       "    </tr>\n",
       "  </tbody>\n",
       "</table>\n",
       "</div>"
      ],
      "text/plain": [
       "   first_layer_neurons  learning_rate  train_auc  test_auc  test_tnr  \\\n",
       "8                  100          0.010   1.000000   0.55999       4.0   \n",
       "4                  100          0.001   0.999208   0.53193       5.0   \n",
       "\n",
       "   test_fnr          regularization  \\\n",
       "8       8.0  {'l1': 0.0, 'l2': 0.0}   \n",
       "4      30.0  {'l1': 0.0, 'l2': 0.0}   \n",
       "\n",
       "                                        history_list  \n",
       "8  {'loss': [0.517947541264213, 0.251028442843798...  \n",
       "4  {'loss': [0.5890502445248121, 0.40183012009556...  "
      ]
     },
     "execution_count": 43,
     "metadata": {},
     "output_type": "execute_result"
    }
   ],
   "source": [
    "pd_metrics[(pd_metrics['train_auc']>0.5) & (pd_metrics['test_auc']>0.5)].sort_values(by='test_auc',ascending=False)"
   ]
  },
  {
   "cell_type": "markdown",
   "metadata": {},
   "source": [
    "### class weights and batch norms\n",
    "\n",
    "we take the \"best\" of the previous analysis and then use a class weight to punish erros in the minority class. First we get the count of each class in the training set.\n",
    "\n",
    "Also try with batch normalization."
   ]
  },
  {
   "cell_type": "code",
   "execution_count": 45,
   "metadata": {},
   "outputs": [
    {
     "name": "stdout",
     "output_type": "stream",
     "text": [
      "Weight for class 0: 3.48\n",
      "Weight for class 1: 0.58\n"
     ]
    }
   ],
   "source": [
    "# first, calculate the class weights\n",
    "neg, pos = np.bincount(y_train)\n",
    "total = neg + pos\n",
    "\n",
    "weight_for_0 = (1 / neg)*(total)/2.0 \n",
    "weight_for_1 = (1 / pos)*(total)/2.0\n",
    "\n",
    "class_weight = {0: weight_for_0, 1: weight_for_1}\n",
    "\n",
    "print('Weight for class 0: {:.2f}'.format(weight_for_0))\n",
    "print('Weight for class 1: {:.2f}'.format(weight_for_1))"
   ]
  },
  {
   "cell_type": "code",
   "execution_count": 55,
   "metadata": {},
   "outputs": [],
   "source": [
    "# define callbacks\n",
    "early_stopping = tf.keras.callbacks.EarlyStopping(\n",
    "    monitor='val_loss', \n",
    "    verbose=1,\n",
    "    patience=50,\n",
    "    mode='max',\n",
    "    restore_best_weights=True)\n"
   ]
  },
  {
   "cell_type": "code",
   "execution_count": 62,
   "metadata": {},
   "outputs": [],
   "source": [
    "# DEFINING THE BASIC FORM OF THE NN\n",
    "EPOCHS = 300\n",
    "BATCH_SIZE = 32\n",
    "NUM_LAYERS = 1\n",
    "HIDDEN_LAYER_SIZES = [15]\n",
    "TIME_STEPS = Tensor_train.shape[2]\n",
    "FEATURES = Tensor_train.shape[1]\n",
    "# no reg\n",
    "REG = L1L2(l1=0.01, l2=0.0)\n",
    "\n",
    "USE_DROPOUT = True\n",
    "BATCH_NORM = False\n",
    "LEARNING_RATE = 0.0005\n",
    "\n",
    "# name of the files to save\n",
    "weights_name = 'weights_lstm.h5'\n",
    "\n",
    "# compile the model \n",
    "tf.keras.backend.clear_session()\n",
    "init_random(1234)\n",
    "\n",
    "# build the model\n",
    "model = build_lstm(EPOCHS, BATCH_SIZE, HIDDEN_LAYER_SIZES, NUM_LAYERS, USE_DROPOUT, BATCH_NORM, LEARNING_RATE, REG,\n",
    "                   weights_name, TIME_STEPS, FEATURES)\n",
    "\n"
   ]
  },
  {
   "cell_type": "code",
   "execution_count": 63,
   "metadata": {
    "scrolled": true
   },
   "outputs": [
    {
     "name": "stdout",
     "output_type": "stream",
     "text": [
      "time start\n",
      "Train on 737 samples, validate on 185 samples\n",
      "Epoch 1/300\n",
      "737/737 [==============================] - 19s 26ms/sample - loss: 8.8353 - tp: 342.0000 - fp: 49.0000 - tn: 57.0000 - fn: 289.0000 - accuracy: 0.5414 - precision: 0.8747 - recall: 0.5420 - auc: 0.5202 - val_loss: 8.3601 - val_tp: 99.0000 - val_fp: 16.0000 - val_tn: 10.0000 - val_fn: 60.0000 - val_accuracy: 0.5892 - val_precision: 0.8609 - val_recall: 0.6226 - val_auc: 0.5024\n",
      "Epoch 2/300\n",
      "737/737 [==============================] - 1s 2ms/sample - loss: 8.0064 - tp: 374.0000 - fp: 53.0000 - tn: 53.0000 - fn: 257.0000 - accuracy: 0.5794 - precision: 0.8759 - recall: 0.5927 - auc: 0.5657 - val_loss: 7.5877 - val_tp: 98.0000 - val_fp: 16.0000 - val_tn: 10.0000 - val_fn: 61.0000 - val_accuracy: 0.5838 - val_precision: 0.8596 - val_recall: 0.6164 - val_auc: 0.4886\n",
      "Epoch 3/300\n",
      "737/737 [==============================] - 1s 1ms/sample - loss: 7.2508 - tp: 352.0000 - fp: 53.0000 - tn: 53.0000 - fn: 279.0000 - accuracy: 0.5495 - precision: 0.8691 - recall: 0.5578 - auc: 0.5663 - val_loss: 6.8573 - val_tp: 94.0000 - val_fp: 16.0000 - val_tn: 10.0000 - val_fn: 65.0000 - val_accuracy: 0.5622 - val_precision: 0.8545 - val_recall: 0.5912 - val_auc: 0.4825\n",
      "Epoch 4/300\n",
      "737/737 [==============================] - 1s 1ms/sample - loss: 6.5292 - tp: 342.0000 - fp: 45.0000 - tn: 61.0000 - fn: 289.0000 - accuracy: 0.5468 - precision: 0.8837 - recall: 0.5420 - auc: 0.5822 - val_loss: 6.1737 - val_tp: 98.0000 - val_fp: 16.0000 - val_tn: 10.0000 - val_fn: 61.0000 - val_accuracy: 0.5838 - val_precision: 0.8596 - val_recall: 0.6164 - val_auc: 0.4770\n",
      "Epoch 5/300\n",
      "737/737 [==============================] - 1s 1ms/sample - loss: 5.8692 - tp: 350.0000 - fp: 43.0000 - tn: 63.0000 - fn: 281.0000 - accuracy: 0.5604 - precision: 0.8906 - recall: 0.5547 - auc: 0.5956 - val_loss: 5.5538 - val_tp: 93.0000 - val_fp: 16.0000 - val_tn: 10.0000 - val_fn: 66.0000 - val_accuracy: 0.5568 - val_precision: 0.8532 - val_recall: 0.5849 - val_auc: 0.4768\n",
      "Epoch 6/300\n",
      "737/737 [==============================] - 1s 1ms/sample - loss: 5.2629 - tp: 354.0000 - fp: 38.0000 - tn: 68.0000 - fn: 277.0000 - accuracy: 0.5726 - precision: 0.9031 - recall: 0.5610 - auc: 0.6349 - val_loss: 4.9856 - val_tp: 85.0000 - val_fp: 14.0000 - val_tn: 12.0000 - val_fn: 74.0000 - val_accuracy: 0.5243 - val_precision: 0.8586 - val_recall: 0.5346 - val_auc: 0.4727\n",
      "Epoch 7/300\n",
      "737/737 [==============================] - 1s 1ms/sample - loss: 4.7023 - tp: 327.0000 - fp: 39.0000 - tn: 67.0000 - fn: 304.0000 - accuracy: 0.5346 - precision: 0.8934 - recall: 0.5182 - auc: 0.6221 - val_loss: 4.4543 - val_tp: 92.0000 - val_fp: 15.0000 - val_tn: 11.0000 - val_fn: 67.0000 - val_accuracy: 0.5568 - val_precision: 0.8598 - val_recall: 0.5786 - val_auc: 0.4721\n",
      "Epoch 8/300\n",
      "737/737 [==============================] - 1s 1ms/sample - loss: 4.1934 - tp: 350.0000 - fp: 43.0000 - tn: 63.0000 - fn: 281.0000 - accuracy: 0.5604 - precision: 0.8906 - recall: 0.5547 - auc: 0.6142 - val_loss: 3.9628 - val_tp: 93.0000 - val_fp: 15.0000 - val_tn: 11.0000 - val_fn: 66.0000 - val_accuracy: 0.5622 - val_precision: 0.8611 - val_recall: 0.5849 - val_auc: 0.4698\n",
      "Epoch 9/300\n",
      "737/737 [==============================] - 1s 1ms/sample - loss: 3.7161 - tp: 352.0000 - fp: 31.0000 - tn: 75.0000 - fn: 279.0000 - accuracy: 0.5794 - precision: 0.9191 - recall: 0.5578 - auc: 0.6538 - val_loss: 3.5217 - val_tp: 87.0000 - val_fp: 15.0000 - val_tn: 11.0000 - val_fn: 72.0000 - val_accuracy: 0.5297 - val_precision: 0.8529 - val_recall: 0.5472 - val_auc: 0.4684\n",
      "Epoch 10/300\n",
      "737/737 [==============================] - 1s 1ms/sample - loss: 3.2947 - tp: 330.0000 - fp: 40.0000 - tn: 66.0000 - fn: 301.0000 - accuracy: 0.5373 - precision: 0.8919 - recall: 0.5230 - auc: 0.6178 - val_loss: 3.1131 - val_tp: 89.0000 - val_fp: 14.0000 - val_tn: 12.0000 - val_fn: 70.0000 - val_accuracy: 0.5459 - val_precision: 0.8641 - val_recall: 0.5597 - val_auc: 0.4786\n",
      "Epoch 11/300\n",
      "737/737 [==============================] - 1s 1ms/sample - loss: 2.8823 - tp: 362.0000 - fp: 37.0000 - tn: 69.0000 - fn: 269.0000 - accuracy: 0.5848 - precision: 0.9073 - recall: 0.5737 - auc: 0.6719 - val_loss: 2.7429 - val_tp: 91.0000 - val_fp: 15.0000 - val_tn: 11.0000 - val_fn: 68.0000 - val_accuracy: 0.5514 - val_precision: 0.8585 - val_recall: 0.5723 - val_auc: 0.4862\n",
      "Epoch 12/300\n",
      "737/737 [==============================] - 1s 1ms/sample - loss: 2.5315 - tp: 361.0000 - fp: 31.0000 - tn: 75.0000 - fn: 270.0000 - accuracy: 0.5916 - precision: 0.9209 - recall: 0.5721 - auc: 0.6851 - val_loss: 2.4123 - val_tp: 94.0000 - val_fp: 16.0000 - val_tn: 10.0000 - val_fn: 65.0000 - val_accuracy: 0.5622 - val_precision: 0.8545 - val_recall: 0.5912 - val_auc: 0.4902\n",
      "Epoch 13/300\n",
      "737/737 [==============================] - 1s 1ms/sample - loss: 2.2382 - tp: 367.0000 - fp: 37.0000 - tn: 69.0000 - fn: 264.0000 - accuracy: 0.5916 - precision: 0.9084 - recall: 0.5816 - auc: 0.6457 - val_loss: 2.1383 - val_tp: 91.0000 - val_fp: 15.0000 - val_tn: 11.0000 - val_fn: 68.0000 - val_accuracy: 0.5514 - val_precision: 0.8585 - val_recall: 0.5723 - val_auc: 0.4946\n",
      "Epoch 14/300\n",
      "737/737 [==============================] - 1s 1ms/sample - loss: 1.9608 - tp: 362.0000 - fp: 36.0000 - tn: 70.0000 - fn: 269.0000 - accuracy: 0.5862 - precision: 0.9095 - recall: 0.5737 - auc: 0.6750 - val_loss: 1.8902 - val_tp: 93.0000 - val_fp: 16.0000 - val_tn: 10.0000 - val_fn: 66.0000 - val_accuracy: 0.5568 - val_precision: 0.8532 - val_recall: 0.5849 - val_auc: 0.4985\n",
      "Epoch 15/300\n",
      "737/737 [==============================] - 1s 1ms/sample - loss: 1.7279 - tp: 393.0000 - fp: 38.0000 - tn: 68.0000 - fn: 238.0000 - accuracy: 0.6255 - precision: 0.9118 - recall: 0.6228 - auc: 0.6863 - val_loss: 1.6800 - val_tp: 102.0000 - val_fp: 17.0000 - val_tn: 9.0000 - val_fn: 57.0000 - val_accuracy: 0.6000 - val_precision: 0.8571 - val_recall: 0.6415 - val_auc: 0.5060\n",
      "Epoch 16/300\n",
      "737/737 [==============================] - 1s 1ms/sample - loss: 1.5499 - tp: 410.0000 - fp: 46.0000 - tn: 60.0000 - fn: 221.0000 - accuracy: 0.6377 - precision: 0.8991 - recall: 0.6498 - auc: 0.6582 - val_loss: 1.5102 - val_tp: 106.0000 - val_fp: 17.0000 - val_tn: 9.0000 - val_fn: 53.0000 - val_accuracy: 0.6216 - val_precision: 0.8618 - val_recall: 0.6667 - val_auc: 0.4994\n",
      "Epoch 17/300\n",
      "737/737 [==============================] - 1s 1ms/sample - loss: 1.3906 - tp: 418.0000 - fp: 50.0000 - tn: 56.0000 - fn: 213.0000 - accuracy: 0.6431 - precision: 0.8932 - recall: 0.6624 - auc: 0.6719 - val_loss: 1.3768 - val_tp: 107.0000 - val_fp: 17.0000 - val_tn: 9.0000 - val_fn: 52.0000 - val_accuracy: 0.6270 - val_precision: 0.8629 - val_recall: 0.6730 - val_auc: 0.5110\n",
      "Epoch 18/300\n",
      "737/737 [==============================] - 1s 1ms/sample - loss: 1.2737 - tp: 422.0000 - fp: 45.0000 - tn: 61.0000 - fn: 209.0000 - accuracy: 0.6554 - precision: 0.9036 - recall: 0.6688 - auc: 0.6946 - val_loss: 1.2820 - val_tp: 110.0000 - val_fp: 18.0000 - val_tn: 8.0000 - val_fn: 49.0000 - val_accuracy: 0.6378 - val_precision: 0.8594 - val_recall: 0.6918 - val_auc: 0.5184\n",
      "Epoch 19/300\n",
      "737/737 [==============================] - 1s 1ms/sample - loss: 1.1882 - tp: 442.0000 - fp: 46.0000 - tn: 60.0000 - fn: 189.0000 - accuracy: 0.6811 - precision: 0.9057 - recall: 0.7005 - auc: 0.7080 - val_loss: 1.2054 - val_tp: 114.0000 - val_fp: 19.0000 - val_tn: 7.0000 - val_fn: 45.0000 - val_accuracy: 0.6541 - val_precision: 0.8571 - val_recall: 0.7170 - val_auc: 0.5195\n",
      "Epoch 20/300\n",
      "737/737 [==============================] - 1s 1ms/sample - loss: 1.1208 - tp: 458.0000 - fp: 52.0000 - tn: 54.0000 - fn: 173.0000 - accuracy: 0.6947 - precision: 0.8980 - recall: 0.7258 - auc: 0.7053 - val_loss: 1.1450 - val_tp: 116.0000 - val_fp: 20.0000 - val_tn: 6.0000 - val_fn: 43.0000 - val_accuracy: 0.6595 - val_precision: 0.8529 - val_recall: 0.7296 - val_auc: 0.5081\n",
      "Epoch 21/300\n",
      "737/737 [==============================] - 1s 1ms/sample - loss: 1.0642 - tp: 486.0000 - fp: 51.0000 - tn: 55.0000 - fn: 145.0000 - accuracy: 0.7341 - precision: 0.9050 - recall: 0.7702 - auc: 0.7151 - val_loss: 1.0939 - val_tp: 121.0000 - val_fp: 20.0000 - val_tn: 6.0000 - val_fn: 38.0000 - val_accuracy: 0.6865 - val_precision: 0.8582 - val_recall: 0.7610 - val_auc: 0.5064\n"
     ]
    },
    {
     "name": "stdout",
     "output_type": "stream",
     "text": [
      "Epoch 22/300\n",
      "737/737 [==============================] - 1s 1ms/sample - loss: 1.0155 - tp: 471.0000 - fp: 50.0000 - tn: 56.0000 - fn: 160.0000 - accuracy: 0.7151 - precision: 0.9040 - recall: 0.7464 - auc: 0.7274 - val_loss: 1.0505 - val_tp: 126.0000 - val_fp: 20.0000 - val_tn: 6.0000 - val_fn: 33.0000 - val_accuracy: 0.7135 - val_precision: 0.8630 - val_recall: 0.7925 - val_auc: 0.5079\n",
      "Epoch 23/300\n",
      "737/737 [==============================] - 1s 1ms/sample - loss: 0.9749 - tp: 504.0000 - fp: 53.0000 - tn: 53.0000 - fn: 127.0000 - accuracy: 0.7558 - precision: 0.9048 - recall: 0.7987 - auc: 0.7235 - val_loss: 1.0136 - val_tp: 124.0000 - val_fp: 20.0000 - val_tn: 6.0000 - val_fn: 35.0000 - val_accuracy: 0.7027 - val_precision: 0.8611 - val_recall: 0.7799 - val_auc: 0.5096\n",
      "Epoch 24/300\n",
      "737/737 [==============================] - 1s 1ms/sample - loss: 0.9385 - tp: 506.0000 - fp: 50.0000 - tn: 56.0000 - fn: 125.0000 - accuracy: 0.7626 - precision: 0.9101 - recall: 0.8019 - auc: 0.7551 - val_loss: 0.9799 - val_tp: 126.0000 - val_fp: 20.0000 - val_tn: 6.0000 - val_fn: 33.0000 - val_accuracy: 0.7135 - val_precision: 0.8630 - val_recall: 0.7925 - val_auc: 0.5110\n",
      "Epoch 25/300\n",
      "737/737 [==============================] - 1s 1ms/sample - loss: 0.9076 - tp: 518.0000 - fp: 53.0000 - tn: 53.0000 - fn: 113.0000 - accuracy: 0.7748 - precision: 0.9072 - recall: 0.8209 - auc: 0.7471 - val_loss: 0.9535 - val_tp: 128.0000 - val_fp: 19.0000 - val_tn: 7.0000 - val_fn: 31.0000 - val_accuracy: 0.7297 - val_precision: 0.8707 - val_recall: 0.8050 - val_auc: 0.5090\n",
      "Epoch 26/300\n",
      "737/737 [==============================] - 1s 1ms/sample - loss: 0.8887 - tp: 505.0000 - fp: 53.0000 - tn: 53.0000 - fn: 126.0000 - accuracy: 0.7571 - precision: 0.9050 - recall: 0.8003 - auc: 0.7424 - val_loss: 0.9297 - val_tp: 128.0000 - val_fp: 19.0000 - val_tn: 7.0000 - val_fn: 31.0000 - val_accuracy: 0.7297 - val_precision: 0.8707 - val_recall: 0.8050 - val_auc: 0.5041\n",
      "Epoch 27/300\n",
      "737/737 [==============================] - 1s 1ms/sample - loss: 0.8646 - tp: 527.0000 - fp: 53.0000 - tn: 53.0000 - fn: 104.0000 - accuracy: 0.7870 - precision: 0.9086 - recall: 0.8352 - auc: 0.7379 - val_loss: 0.9052 - val_tp: 127.0000 - val_fp: 19.0000 - val_tn: 7.0000 - val_fn: 32.0000 - val_accuracy: 0.7243 - val_precision: 0.8699 - val_recall: 0.7987 - val_auc: 0.5132\n",
      "Epoch 28/300\n",
      "737/737 [==============================] - 1s 1ms/sample - loss: 0.8418 - tp: 529.0000 - fp: 51.0000 - tn: 55.0000 - fn: 102.0000 - accuracy: 0.7924 - precision: 0.9121 - recall: 0.8384 - auc: 0.7536 - val_loss: 0.8889 - val_tp: 125.0000 - val_fp: 19.0000 - val_tn: 7.0000 - val_fn: 34.0000 - val_accuracy: 0.7135 - val_precision: 0.8681 - val_recall: 0.7862 - val_auc: 0.5086\n",
      "Epoch 29/300\n",
      "737/737 [==============================] - 1s 1ms/sample - loss: 0.8354 - tp: 478.0000 - fp: 46.0000 - tn: 60.0000 - fn: 153.0000 - accuracy: 0.7300 - precision: 0.9122 - recall: 0.7575 - auc: 0.7602 - val_loss: 0.8827 - val_tp: 119.0000 - val_fp: 17.0000 - val_tn: 9.0000 - val_fn: 40.0000 - val_accuracy: 0.6919 - val_precision: 0.8750 - val_recall: 0.7484 - val_auc: 0.5197\n",
      "Epoch 30/300\n",
      "737/737 [==============================] - 1s 1ms/sample - loss: 0.8243 - tp: 466.0000 - fp: 45.0000 - tn: 61.0000 - fn: 165.0000 - accuracy: 0.7151 - precision: 0.9119 - recall: 0.7385 - auc: 0.7409 - val_loss: 0.8650 - val_tp: 124.0000 - val_fp: 19.0000 - val_tn: 7.0000 - val_fn: 35.0000 - val_accuracy: 0.7081 - val_precision: 0.8671 - val_recall: 0.7799 - val_auc: 0.5149\n",
      "Epoch 31/300\n",
      "737/737 [==============================] - 1s 1ms/sample - loss: 0.8102 - tp: 490.0000 - fp: 49.0000 - tn: 57.0000 - fn: 141.0000 - accuracy: 0.7422 - precision: 0.9091 - recall: 0.7765 - auc: 0.7436 - val_loss: 0.8510 - val_tp: 125.0000 - val_fp: 20.0000 - val_tn: 6.0000 - val_fn: 34.0000 - val_accuracy: 0.7081 - val_precision: 0.8621 - val_recall: 0.7862 - val_auc: 0.5210\n",
      "Epoch 32/300\n",
      "737/737 [==============================] - 1s 1ms/sample - loss: 0.7982 - tp: 509.0000 - fp: 57.0000 - tn: 49.0000 - fn: 122.0000 - accuracy: 0.7571 - precision: 0.8993 - recall: 0.8067 - auc: 0.7486 - val_loss: 0.8427 - val_tp: 125.0000 - val_fp: 20.0000 - val_tn: 6.0000 - val_fn: 34.0000 - val_accuracy: 0.7081 - val_precision: 0.8621 - val_recall: 0.7862 - val_auc: 0.4993\n",
      "Epoch 33/300\n",
      "737/737 [==============================] - 1s 1ms/sample - loss: 0.7881 - tp: 510.0000 - fp: 56.0000 - tn: 50.0000 - fn: 121.0000 - accuracy: 0.7598 - precision: 0.9011 - recall: 0.8082 - auc: 0.7400 - val_loss: 0.8310 - val_tp: 130.0000 - val_fp: 20.0000 - val_tn: 6.0000 - val_fn: 29.0000 - val_accuracy: 0.7351 - val_precision: 0.8667 - val_recall: 0.8176 - val_auc: 0.5046\n",
      "Epoch 34/300\n",
      "737/737 [==============================] - 1s 1ms/sample - loss: 0.7789 - tp: 505.0000 - fp: 57.0000 - tn: 49.0000 - fn: 126.0000 - accuracy: 0.7517 - precision: 0.8986 - recall: 0.8003 - auc: 0.7394 - val_loss: 0.8208 - val_tp: 122.0000 - val_fp: 20.0000 - val_tn: 6.0000 - val_fn: 37.0000 - val_accuracy: 0.6919 - val_precision: 0.8592 - val_recall: 0.7673 - val_auc: 0.5018\n",
      "Epoch 35/300\n",
      "737/737 [==============================] - 1s 1ms/sample - loss: 0.7865 - tp: 431.0000 - fp: 39.0000 - tn: 67.0000 - fn: 200.0000 - accuracy: 0.6757 - precision: 0.9170 - recall: 0.6830 - auc: 0.7318 - val_loss: 0.8220 - val_tp: 105.0000 - val_fp: 15.0000 - val_tn: 11.0000 - val_fn: 54.0000 - val_accuracy: 0.6270 - val_precision: 0.8750 - val_recall: 0.6604 - val_auc: 0.5056\n",
      "Epoch 36/300\n",
      "737/737 [==============================] - 1s 1ms/sample - loss: 0.7736 - tp: 430.0000 - fp: 31.0000 - tn: 75.0000 - fn: 201.0000 - accuracy: 0.6852 - precision: 0.9328 - recall: 0.6815 - auc: 0.7457 - val_loss: 0.8050 - val_tp: 110.0000 - val_fp: 15.0000 - val_tn: 11.0000 - val_fn: 49.0000 - val_accuracy: 0.6541 - val_precision: 0.8800 - val_recall: 0.6918 - val_auc: 0.5276\n",
      "Epoch 37/300\n",
      "737/737 [==============================] - 1s 1ms/sample - loss: 0.7568 - tp: 461.0000 - fp: 43.0000 - tn: 63.0000 - fn: 170.0000 - accuracy: 0.7110 - precision: 0.9147 - recall: 0.7306 - auc: 0.7541 - val_loss: 0.7954 - val_tp: 118.0000 - val_fp: 16.0000 - val_tn: 10.0000 - val_fn: 41.0000 - val_accuracy: 0.6919 - val_precision: 0.8806 - val_recall: 0.7421 - val_auc: 0.5301\n",
      "Epoch 38/300\n",
      "737/737 [==============================] - 1s 1ms/sample - loss: 0.7513 - tp: 486.0000 - fp: 44.0000 - tn: 62.0000 - fn: 145.0000 - accuracy: 0.7436 - precision: 0.9170 - recall: 0.7702 - auc: 0.7607 - val_loss: 0.7888 - val_tp: 128.0000 - val_fp: 17.0000 - val_tn: 9.0000 - val_fn: 31.0000 - val_accuracy: 0.7405 - val_precision: 0.8828 - val_recall: 0.8050 - val_auc: 0.5247\n",
      "Epoch 39/300\n",
      "737/737 [==============================] - 1s 1ms/sample - loss: 0.7457 - tp: 500.0000 - fp: 44.0000 - tn: 62.0000 - fn: 131.0000 - accuracy: 0.7626 - precision: 0.9191 - recall: 0.7924 - auc: 0.7594 - val_loss: 0.7806 - val_tp: 127.0000 - val_fp: 18.0000 - val_tn: 8.0000 - val_fn: 32.0000 - val_accuracy: 0.7297 - val_precision: 0.8759 - val_recall: 0.7987 - val_auc: 0.5487\n",
      "Epoch 40/300\n",
      "737/737 [==============================] - 1s 2ms/sample - loss: 0.7428 - tp: 509.0000 - fp: 54.0000 - tn: 52.0000 - fn: 122.0000 - accuracy: 0.7612 - precision: 0.9041 - recall: 0.8067 - auc: 0.7446 - val_loss: 0.7751 - val_tp: 132.0000 - val_fp: 17.0000 - val_tn: 9.0000 - val_fn: 27.0000 - val_accuracy: 0.7622 - val_precision: 0.8859 - val_recall: 0.8302 - val_auc: 0.5486\n",
      "Epoch 41/300\n",
      "737/737 [==============================] - 1s 2ms/sample - loss: 0.7399 - tp: 472.0000 - fp: 39.0000 - tn: 67.0000 - fn: 159.0000 - accuracy: 0.7313 - precision: 0.9237 - recall: 0.7480 - auc: 0.7694 - val_loss: 0.7753 - val_tp: 116.0000 - val_fp: 16.0000 - val_tn: 10.0000 - val_fn: 43.0000 - val_accuracy: 0.6811 - val_precision: 0.8788 - val_recall: 0.7296 - val_auc: 0.5305\n",
      "Epoch 42/300\n",
      "737/737 [==============================] - 1s 2ms/sample - loss: 0.7317 - tp: 462.0000 - fp: 34.0000 - tn: 72.0000 - fn: 169.0000 - accuracy: 0.7246 - precision: 0.9315 - recall: 0.7322 - auc: 0.7796 - val_loss: 0.7696 - val_tp: 119.0000 - val_fp: 16.0000 - val_tn: 10.0000 - val_fn: 40.0000 - val_accuracy: 0.6973 - val_precision: 0.8815 - val_recall: 0.7484 - val_auc: 0.5313\n"
     ]
    },
    {
     "name": "stdout",
     "output_type": "stream",
     "text": [
      "Epoch 43/300\n",
      "737/737 [==============================] - 1s 1ms/sample - loss: 0.7282 - tp: 504.0000 - fp: 45.0000 - tn: 61.0000 - fn: 127.0000 - accuracy: 0.7666 - precision: 0.9180 - recall: 0.7987 - auc: 0.7514 - val_loss: 0.7650 - val_tp: 127.0000 - val_fp: 17.0000 - val_tn: 9.0000 - val_fn: 32.0000 - val_accuracy: 0.7351 - val_precision: 0.8819 - val_recall: 0.7987 - val_auc: 0.5352\n",
      "Epoch 44/300\n",
      "737/737 [==============================] - 1s 1ms/sample - loss: 0.7257 - tp: 513.0000 - fp: 53.0000 - tn: 53.0000 - fn: 118.0000 - accuracy: 0.7680 - precision: 0.9064 - recall: 0.8130 - auc: 0.7478 - val_loss: 0.7612 - val_tp: 124.0000 - val_fp: 17.0000 - val_tn: 9.0000 - val_fn: 35.0000 - val_accuracy: 0.7189 - val_precision: 0.8794 - val_recall: 0.7799 - val_auc: 0.5425\n",
      "Epoch 45/300\n",
      "737/737 [==============================] - 1s 2ms/sample - loss: 0.7221 - tp: 502.0000 - fp: 47.0000 - tn: 59.0000 - fn: 129.0000 - accuracy: 0.7612 - precision: 0.9144 - recall: 0.7956 - auc: 0.7483 - val_loss: 0.7585 - val_tp: 125.0000 - val_fp: 17.0000 - val_tn: 9.0000 - val_fn: 34.0000 - val_accuracy: 0.7243 - val_precision: 0.8803 - val_recall: 0.7862 - val_auc: 0.5502\n",
      "Epoch 46/300\n",
      "737/737 [==============================] - 1s 1ms/sample - loss: 0.7198 - tp: 514.0000 - fp: 52.0000 - tn: 54.0000 - fn: 117.0000 - accuracy: 0.7707 - precision: 0.9081 - recall: 0.8146 - auc: 0.7508 - val_loss: 0.7559 - val_tp: 128.0000 - val_fp: 18.0000 - val_tn: 8.0000 - val_fn: 31.0000 - val_accuracy: 0.7351 - val_precision: 0.8767 - val_recall: 0.8050 - val_auc: 0.5604\n",
      "Epoch 47/300\n",
      "737/737 [==============================] - 1s 1ms/sample - loss: 0.7215 - tp: 504.0000 - fp: 55.0000 - tn: 51.0000 - fn: 127.0000 - accuracy: 0.7531 - precision: 0.9016 - recall: 0.7987 - auc: 0.7465 - val_loss: 0.7564 - val_tp: 129.0000 - val_fp: 19.0000 - val_tn: 7.0000 - val_fn: 30.0000 - val_accuracy: 0.7351 - val_precision: 0.8716 - val_recall: 0.8113 - val_auc: 0.5455\n",
      "Epoch 48/300\n",
      "737/737 [==============================] - 1s 1ms/sample - loss: 0.7157 - tp: 514.0000 - fp: 49.0000 - tn: 57.0000 - fn: 117.0000 - accuracy: 0.7748 - precision: 0.9130 - recall: 0.8146 - auc: 0.7593 - val_loss: 0.7546 - val_tp: 134.0000 - val_fp: 19.0000 - val_tn: 7.0000 - val_fn: 25.0000 - val_accuracy: 0.7622 - val_precision: 0.8758 - val_recall: 0.8428 - val_auc: 0.5595\n",
      "Epoch 49/300\n",
      "737/737 [==============================] - 1s 1ms/sample - loss: 0.7133 - tp: 526.0000 - fp: 57.0000 - tn: 49.0000 - fn: 105.0000 - accuracy: 0.7802 - precision: 0.9022 - recall: 0.8336 - auc: 0.7559 - val_loss: 0.7529 - val_tp: 134.0000 - val_fp: 21.0000 - val_tn: 5.0000 - val_fn: 25.0000 - val_accuracy: 0.7514 - val_precision: 0.8645 - val_recall: 0.8428 - val_auc: 0.5686\n",
      "Epoch 50/300\n",
      "737/737 [==============================] - 1s 1ms/sample - loss: 0.7139 - tp: 530.0000 - fp: 59.0000 - tn: 47.0000 - fn: 101.0000 - accuracy: 0.7829 - precision: 0.8998 - recall: 0.8399 - auc: 0.7490 - val_loss: 0.7513 - val_tp: 136.0000 - val_fp: 21.0000 - val_tn: 5.0000 - val_fn: 23.0000 - val_accuracy: 0.7622 - val_precision: 0.8662 - val_recall: 0.8553 - val_auc: 0.5660\n",
      "Epoch 51/300\n",
      "736/737 [============================>.] - ETA: 0s - loss: 0.7105 - tp: 513.0000 - fp: 53.0000 - tn: 53.0000 - fn: 117.0000 - accuracy: 0.7690 - precision: 0.9064 - recall: 0.8143 - auc: 0.7598Restoring model weights from the end of the best epoch.\n",
      "737/737 [==============================] - 1s 1ms/sample - loss: 0.7102 - tp: 514.0000 - fp: 53.0000 - tn: 53.0000 - fn: 117.0000 - accuracy: 0.7693 - precision: 0.9065 - recall: 0.8146 - auc: 0.7596 - val_loss: 0.7525 - val_tp: 134.0000 - val_fp: 20.0000 - val_tn: 6.0000 - val_fn: 25.0000 - val_accuracy: 0.7568 - val_precision: 0.8701 - val_recall: 0.8428 - val_auc: 0.5616\n",
      "Epoch 00051: early stopping\n"
     ]
    }
   ],
   "source": [
    "# train ,class_weight=class_weight\n",
    "print('time start')\n",
    "start = timeit.default_timer()\n",
    "\n",
    "history = model.fit(Tensor_train, np.asarray(y_train), validation_data=(Tensor_test, np.asarray(y_test)),\n",
    "                    epochs=EPOCHS, batch_size=BATCH_SIZE, callbacks=[early_stopping], class_weight=class_weight)\n",
    "\n",
    "stop = timeit.default_timer()\n"
   ]
  },
  {
   "cell_type": "code",
   "execution_count": 64,
   "metadata": {},
   "outputs": [
    {
     "name": "stdout",
     "output_type": "stream",
     "text": [
      "training took:  67.71727518100033\n",
      "Model: \"sequential\"\n",
      "_________________________________________________________________\n",
      "Layer (type)                 Output Shape              Param #   \n",
      "=================================================================\n",
      "bidirectional (Bidirectional multiple                  9630      \n",
      "_________________________________________________________________\n",
      "dropout (Dropout)            multiple                  0         \n",
      "_________________________________________________________________\n",
      "flatten (Flatten)            multiple                  0         \n",
      "_________________________________________________________________\n",
      "dense (Dense)                multiple                  31        \n",
      "=================================================================\n",
      "Total params: 9,661\n",
      "Trainable params: 9,661\n",
      "Non-trainable params: 0\n",
      "_________________________________________________________________\n",
      "None\n"
     ]
    },
    {
     "data": {
      "image/png": "[encoded data removed]",
      "text/plain": [
       "<Figure size 1080x864 with 4 Axes>"
      ]
     },
     "metadata": {},
     "output_type": "display_data"
    }
   ],
   "source": [
    "print('training took: ', stop - start)\n",
    "print(model.summary())\n",
    "\n",
    "plot_metrics(history)"
   ]
  },
  {
   "cell_type": "code",
   "execution_count": 65,
   "metadata": {},
   "outputs": [
    {
     "name": "stdout",
     "output_type": "stream",
     "text": [
      "Accuracy: 0.5891892\n",
      "Area Under Curve: 0.502419\n",
      "\n"
     ]
    },
    {
     "data": {
      "text/plain": [
       "Index(['true_label', 'predicted_proba', 'predicted_label'], dtype='object')"
      ]
     },
     "execution_count": 65,
     "metadata": {},
     "output_type": "execute_result"
    }
   ],
   "source": [
    "train_results_baseline, test_results_baseline = keras_model_evaluation(model, Tensor_train, \n",
    "                                                                       y_train, Tensor_test, y_test,BATCH_SIZE)\n",
    "train_results_baseline.columns"
   ]
  },
  {
   "cell_type": "code",
   "execution_count": 66,
   "metadata": {},
   "outputs": [
    {
     "name": "stdout",
     "output_type": "stream",
     "text": [
      "Train confussion matrix: \n",
      "[[ 49  57]\n",
      " [263 368]]\n",
      "test confussion matrix: \n",
      "[[10 16]\n",
      " [60 99]]\n",
      "ROC z=15\n"
     ]
    },
    {
     "data": {
      "image/png": "[encoded data removed]",
      "text/plain": [
       "<Figure size 576x504 with 1 Axes>"
      ]
     },
     "metadata": {},
     "output_type": "display_data"
    }
   ],
   "source": [
    "print('Train confussion matrix: ')\n",
    "print(confusion_matrix(train_results_baseline['true_label'], train_results_baseline['predicted_label']))\n",
    "print('test confussion matrix: ')\n",
    "print(confusion_matrix(test_results_baseline['true_label'], test_results_baseline['predicted_label']))\n",
    "\n",
    "print('ROC z=15')    \n",
    "plot_roc_curve(train_results_baseline['true_label'], train_results_baseline['predicted_proba'],\n",
    "               test_results_baseline['true_label'], test_results_baseline['predicted_proba'])"
   ]
  },
  {
   "cell_type": "markdown",
   "metadata": {},
   "source": [
    "### Batch size"
   ]
  },
  {
   "cell_type": "markdown",
   "metadata": {},
   "source": [
    "# Adding hidden layers\n",
    "\n",
    "First, try 2 hidden layers of LSTM'S find best configuration of neurons. Then, try adding 1 dense layer on top of the recursive one. \n"
   ]
  },
  {
   "cell_type": "markdown",
   "metadata": {},
   "source": [
    "### extra LSTM layer"
   ]
  },
  {
   "cell_type": "code",
   "execution_count": 26,
   "metadata": {},
   "outputs": [],
   "source": [
    "# define callbacks\n",
    "early_stopping = tf.keras.callbacks.EarlyStopping(\n",
    "    monitor='val_loss', \n",
    "    verbose=1,\n",
    "    patience=30,\n",
    "    mode='max',\n",
    "    restore_best_weights=True)"
   ]
  },
  {
   "cell_type": "code",
   "execution_count": 27,
   "metadata": {},
   "outputs": [],
   "source": [
    "metrics_dict = {'first_layer_neurons':[], 'second_layer_neurons':[], 'train_auc':[], 'test_auc':[], \n",
    "                     'test_tnr':[],'test_fnr':[], 'history':[]}"
   ]
  },
  {
   "cell_type": "code",
   "execution_count": 28,
   "metadata": {},
   "outputs": [
    {
     "name": "stdout",
     "output_type": "stream",
     "text": [
      "init\n",
      "Restoring model weights from the end of the best epoch.\n",
      "Epoch 00031: early stopping\n",
      "train Accuracy: 0.6119403\n",
      "train Area Under Curve: 0.46391624\n",
      "test Accuracy: 0.61621624\n",
      "test Area Under Curve: 0.4669811\n",
      "init\n",
      "Restoring model weights from the end of the best epoch.\n",
      "Epoch 00031: early stopping\n",
      "train Accuracy: 0.73948437\n",
      "train Area Under Curve: 0.46815473\n",
      "test Accuracy: 0.7297297\n",
      "test Area Under Curve: 0.5232221\n",
      "init\n",
      "Restoring model weights from the end of the best epoch.\n",
      "Epoch 00031: early stopping\n",
      "train Accuracy: 0.7503392\n",
      "train Area Under Curve: 0.47490507\n",
      "test Accuracy: 0.7675676\n",
      "test Area Under Curve: 0.54704887\n",
      "init\n",
      "Restoring model weights from the end of the best epoch.\n",
      "Epoch 00031: early stopping\n",
      "train Accuracy: 0.85345995\n",
      "train Area Under Curve: 0.46115035\n",
      "test Accuracy: 0.85945946\n",
      "test Area Under Curve: 0.4358974\n",
      "init\n",
      "Restoring model weights from the end of the best epoch.\n",
      "Epoch 00031: early stopping\n",
      "train Accuracy: 0.6621438\n",
      "train Area Under Curve: 0.5589735\n",
      "test Accuracy: 0.6756757\n",
      "test Area Under Curve: 0.49346876\n",
      "init\n",
      "Restoring model weights from the end of the best epoch.\n",
      "Epoch 00031: early stopping\n",
      "train Accuracy: 0.78561735\n",
      "train Area Under Curve: 0.5604536\n",
      "test Accuracy: 0.73513514\n",
      "test Area Under Curve: 0.44230768\n",
      "init\n",
      "Restoring model weights from the end of the best epoch.\n",
      "Epoch 00031: early stopping\n",
      "train Accuracy: 0.74626863\n",
      "train Area Under Curve: 0.53925335\n",
      "test Accuracy: 0.7567568\n",
      "test Area Under Curve: 0.4811321\n",
      "init\n",
      "Restoring model weights from the end of the best epoch.\n",
      "Epoch 00148: early stopping\n",
      "train Accuracy: 0.9918589\n",
      "train Area Under Curve: 1.0\n",
      "test Accuracy: 0.75135136\n",
      "test Area Under Curve: 0.5488631\n",
      "init\n",
      "Restoring model weights from the end of the best epoch.\n",
      "Epoch 00031: early stopping\n",
      "train Accuracy: 0.74355495\n",
      "train Area Under Curve: 0.50822294\n",
      "test Accuracy: 0.76216215\n",
      "test Area Under Curve: 0.50604737\n",
      "init\n",
      "Restoring model weights from the end of the best epoch.\n",
      "Epoch 00031: early stopping\n",
      "train Accuracy: 0.73541385\n",
      "train Area Under Curve: 0.5219777\n",
      "test Accuracy: 0.72432435\n",
      "test Area Under Curve: 0.54148525\n",
      "init\n",
      "train Accuracy: 1.0\n",
      "train Area Under Curve: 1.0\n",
      "test Accuracy: 0.772973\n",
      "test Area Under Curve: 0.5065312\n",
      "init\n",
      "train Accuracy: 1.0\n",
      "train Area Under Curve: 1.0\n",
      "test Accuracy: 0.77837837\n",
      "test Area Under Curve: 0.51112723\n",
      "init\n",
      "Restoring model weights from the end of the best epoch.\n",
      "Epoch 00031: early stopping\n",
      "train Accuracy: 0.81546813\n",
      "train Area Under Curve: 0.57837963\n",
      "test Accuracy: 0.8216216\n",
      "test Area Under Curve: 0.45125788\n",
      "init\n",
      "train Accuracy: 1.0\n",
      "train Area Under Curve: 1.0\n",
      "test Accuracy: 0.74594593\n",
      "test Area Under Curve: 0.4410982\n",
      "init\n",
      "train Accuracy: 1.0\n",
      "train Area Under Curve: 1.0\n",
      "test Accuracy: 0.8\n",
      "test Area Under Curve: 0.5285438\n",
      "init\n",
      "train Accuracy: 1.0\n",
      "train Area Under Curve: 1.0\n",
      "test Accuracy: 0.75135136\n",
      "test Area Under Curve: 0.450895\n"
     ]
    }
   ],
   "source": [
    "# DEFINING THE BASIC FORM OF THE NN\n",
    "EPOCHS = 300\n",
    "BATCH_SIZE = 32\n",
    "NUM_LAYERS = 2\n",
    "TIME_STEPS = Tensor_train.shape[2]\n",
    "FEATURES = Tensor_train.shape[1]\n",
    "REG = L1L2(l1=0.0, l2=0.0)\n",
    "\n",
    "USE_DROPOUT = True\n",
    "BATCH_NORM = False\n",
    "LEARNING_RATE = 0.0005\n",
    "# name of the files to save\n",
    "weights_name = 'weights_lstm_optimized.h5'\n",
    "\n",
    "# for each size of first layer, iterate over all the seond layer sizes\n",
    "first_layer_sizes = [2,10,20,50]\n",
    "second_layer_sizes = [2,10,20,50]\n",
    "\n",
    "for h1 in first_layer_sizes:\n",
    "    for h2 in second_layer_sizes:\n",
    "        print('init')\n",
    "        HIDDEN_LAYER_SIZES = [h1, h2]\n",
    "        # compile the model \n",
    "        tf.keras.backend.clear_session()\n",
    "        init_random(1234)\n",
    "        # build the model\n",
    "        model = build_lstm(EPOCHS, BATCH_SIZE, HIDDEN_LAYER_SIZES, NUM_LAYERS, USE_DROPOUT, BATCH_NORM ,LEARNING_RATE, REG,\n",
    "                           weights_name, TIME_STEPS, FEATURES)\n",
    "        # train the model\n",
    "        start = timeit.default_timer()\n",
    "        history = model.fit(Tensor_train, np.asarray(y_train), validation_data=(Tensor_test, np.asarray(y_test)),\n",
    "                            epochs=EPOCHS, batch_size=BATCH_SIZE, callbacks=[early_stopping],verbose = 0)\n",
    "        stop = timeit.default_timer()\n",
    "        \n",
    "        scores = model.evaluate(Tensor_train, np.asarray(y_train), verbose=0)\n",
    "        print(\"train Accuracy:\", scores[5] )\n",
    "        print(\"train Area Under Curve:\", scores[8] )\n",
    "        \n",
    "        metrics_dict['train_auc'].append(scores[8])\n",
    "        \n",
    "        scores = model.evaluate(Tensor_test, np.asarray(y_test), verbose=0)\n",
    "        print(\"test Accuracy:\", scores[5] )\n",
    "        print(\"test Area Under Curve:\", scores[8] )\n",
    "        \n",
    "        metrics_dict['test_auc'].append(scores[8])   \n",
    "        metrics_dict['test_tnr'].append(scores[3])\n",
    "        metrics_dict['test_fnr'].append(scores[4])\n",
    "            \n",
    "        # append neurons\n",
    "        metrics_dict['first_layer_neurons'].append(h1)\n",
    "        metrics_dict['second_layer_neurons'].append(h2)\n",
    "        metrics_dict['history'].append(history.history)\n",
    "             \n"
   ]
  },
  {
   "cell_type": "code",
   "execution_count": 32,
   "metadata": {},
   "outputs": [
    {
     "data": {
      "text/plain": [
       "['rate_metrics_dict_2_lstm.p']"
      ]
     },
     "execution_count": 32,
     "metadata": {},
     "output_type": "execute_result"
    }
   ],
   "source": [
    "#joblib.dump(metrics_dict, 'rate_metrics_dict_2_lstm.p') \n"
   ]
  },
  {
   "cell_type": "code",
   "execution_count": 102,
   "metadata": {},
   "outputs": [
    {
     "name": "stdout",
     "output_type": "stream",
     "text": [
      "dict_keys(['first_layer_neurons', 'second_layer_neurons', 'train_auc', 'test_auc', 'test_tnr', 'test_fnr', 'history'])\n"
     ]
    }
   ],
   "source": [
    "optimizer_metrics = joblib.load('rate_metrics_dict_2_lstm.p') \n",
    "print(optimizer_metrics.keys())\n",
    "pd_metrics = pd.DataFrame.from_dict(optimizer_metrics)\n",
    "# get the interesting metrics\n",
    "pd_metrics = pd_metrics[(pd_metrics['train_auc']<1.0) & (pd_metrics['test_tnr']>0)]"
   ]
  },
  {
   "cell_type": "code",
   "execution_count": 103,
   "metadata": {},
   "outputs": [
    {
     "data": {
      "text/html": [
       "<div>\n",
       "<style scoped>\n",
       "    .dataframe tbody tr th:only-of-type {\n",
       "        vertical-align: middle;\n",
       "    }\n",
       "\n",
       "    .dataframe tbody tr th {\n",
       "        vertical-align: top;\n",
       "    }\n",
       "\n",
       "    .dataframe thead th {\n",
       "        text-align: right;\n",
       "    }\n",
       "</style>\n",
       "<table border=\"1\" class=\"dataframe\">\n",
       "  <thead>\n",
       "    <tr style=\"text-align: right;\">\n",
       "      <th></th>\n",
       "      <th>first_layer_neurons</th>\n",
       "      <th>second_layer_neurons</th>\n",
       "      <th>train_auc</th>\n",
       "      <th>test_auc</th>\n",
       "      <th>test_tnr</th>\n",
       "      <th>test_fnr</th>\n",
       "      <th>history</th>\n",
       "    </tr>\n",
       "  </thead>\n",
       "  <tbody>\n",
       "    <tr>\n",
       "      <th>2</th>\n",
       "      <td>2</td>\n",
       "      <td>20</td>\n",
       "      <td>0.474905</td>\n",
       "      <td>0.547049</td>\n",
       "      <td>3.0</td>\n",
       "      <td>20.0</td>\n",
       "      <td>{'loss': [0.6822696449475179, 0.65434218148525...</td>\n",
       "    </tr>\n",
       "    <tr>\n",
       "      <th>9</th>\n",
       "      <td>20</td>\n",
       "      <td>10</td>\n",
       "      <td>0.521978</td>\n",
       "      <td>0.541485</td>\n",
       "      <td>8.0</td>\n",
       "      <td>33.0</td>\n",
       "      <td>{'loss': [0.6895324494007323, 0.65085862813519...</td>\n",
       "    </tr>\n",
       "    <tr>\n",
       "      <th>1</th>\n",
       "      <td>2</td>\n",
       "      <td>10</td>\n",
       "      <td>0.468155</td>\n",
       "      <td>0.523222</td>\n",
       "      <td>6.0</td>\n",
       "      <td>30.0</td>\n",
       "      <td>{'loss': [0.6864906111921676, 0.67479394871635...</td>\n",
       "    </tr>\n",
       "    <tr>\n",
       "      <th>8</th>\n",
       "      <td>20</td>\n",
       "      <td>2</td>\n",
       "      <td>0.508223</td>\n",
       "      <td>0.506047</td>\n",
       "      <td>5.0</td>\n",
       "      <td>23.0</td>\n",
       "      <td>{'loss': [0.6719216317787584, 0.63151714937657...</td>\n",
       "    </tr>\n",
       "    <tr>\n",
       "      <th>4</th>\n",
       "      <td>10</td>\n",
       "      <td>2</td>\n",
       "      <td>0.558973</td>\n",
       "      <td>0.493469</td>\n",
       "      <td>8.0</td>\n",
       "      <td>42.0</td>\n",
       "      <td>{'loss': [0.6945821041976742, 0.66388475886840...</td>\n",
       "    </tr>\n",
       "    <tr>\n",
       "      <th>6</th>\n",
       "      <td>10</td>\n",
       "      <td>20</td>\n",
       "      <td>0.539253</td>\n",
       "      <td>0.481132</td>\n",
       "      <td>5.0</td>\n",
       "      <td>24.0</td>\n",
       "      <td>{'loss': [0.6694069753831892, 0.62413286103322...</td>\n",
       "    </tr>\n",
       "    <tr>\n",
       "      <th>0</th>\n",
       "      <td>2</td>\n",
       "      <td>2</td>\n",
       "      <td>0.463916</td>\n",
       "      <td>0.466981</td>\n",
       "      <td>9.0</td>\n",
       "      <td>54.0</td>\n",
       "      <td>{'loss': [0.6944065189426272, 0.67438347077596...</td>\n",
       "    </tr>\n",
       "    <tr>\n",
       "      <th>12</th>\n",
       "      <td>50</td>\n",
       "      <td>2</td>\n",
       "      <td>0.578380</td>\n",
       "      <td>0.451258</td>\n",
       "      <td>3.0</td>\n",
       "      <td>10.0</td>\n",
       "      <td>{'loss': [0.662767042217617, 0.607018051267155...</td>\n",
       "    </tr>\n",
       "    <tr>\n",
       "      <th>5</th>\n",
       "      <td>10</td>\n",
       "      <td>10</td>\n",
       "      <td>0.560454</td>\n",
       "      <td>0.442308</td>\n",
       "      <td>2.0</td>\n",
       "      <td>25.0</td>\n",
       "      <td>{'loss': [0.6873459507846444, 0.66105104616894...</td>\n",
       "    </tr>\n",
       "  </tbody>\n",
       "</table>\n",
       "</div>"
      ],
      "text/plain": [
       "    first_layer_neurons  second_layer_neurons  train_auc  test_auc  test_tnr  \\\n",
       "2                     2                    20   0.474905  0.547049       3.0   \n",
       "9                    20                    10   0.521978  0.541485       8.0   \n",
       "1                     2                    10   0.468155  0.523222       6.0   \n",
       "8                    20                     2   0.508223  0.506047       5.0   \n",
       "4                    10                     2   0.558973  0.493469       8.0   \n",
       "6                    10                    20   0.539253  0.481132       5.0   \n",
       "0                     2                     2   0.463916  0.466981       9.0   \n",
       "12                   50                     2   0.578380  0.451258       3.0   \n",
       "5                    10                    10   0.560454  0.442308       2.0   \n",
       "\n",
       "    test_fnr                                            history  \n",
       "2       20.0  {'loss': [0.6822696449475179, 0.65434218148525...  \n",
       "9       33.0  {'loss': [0.6895324494007323, 0.65085862813519...  \n",
       "1       30.0  {'loss': [0.6864906111921676, 0.67479394871635...  \n",
       "8       23.0  {'loss': [0.6719216317787584, 0.63151714937657...  \n",
       "4       42.0  {'loss': [0.6945821041976742, 0.66388475886840...  \n",
       "6       24.0  {'loss': [0.6694069753831892, 0.62413286103322...  \n",
       "0       54.0  {'loss': [0.6944065189426272, 0.67438347077596...  \n",
       "12      10.0  {'loss': [0.662767042217617, 0.607018051267155...  \n",
       "5       25.0  {'loss': [0.6873459507846444, 0.66105104616894...  "
      ]
     },
     "execution_count": 103,
     "metadata": {},
     "output_type": "execute_result"
    }
   ],
   "source": [
    "pd_metrics.sort_values(by='test_auc', ascending=False)\n"
   ]
  },
  {
   "cell_type": "markdown",
   "metadata": {},
   "source": [
    "Plot the training history of losss and auc for each architecture"
   ]
  },
  {
   "cell_type": "code",
   "execution_count": 104,
   "metadata": {},
   "outputs": [],
   "source": [
    "number_of_colors = 17\n",
    "color_list = [\"#\"+''.join([random.choice('0123456789ABCDEF') for j in range(6)]) \n",
    "                 for i in range(number_of_colors)]\n"
   ]
  },
  {
   "cell_type": "code",
   "execution_count": 122,
   "metadata": {
    "scrolled": false
   },
   "outputs": [
    {
     "data": {
      "text/plain": [
       "(0, 1.05)"
      ]
     },
     "execution_count": 122,
     "metadata": {},
     "output_type": "execute_result"
    },
    {
     "data": {
      "image/png": "[encoded data removed]",
      "text/plain": [
       "<Figure size 1224x432 with 2 Axes>"
      ]
     },
     "metadata": {},
     "output_type": "display_data"
    }
   ],
   "source": [
    "plt.figure(figsize=(17,6))\n",
    "plt.suptitle('Training history')\n",
    "i = 0\n",
    "# plot all of the losses\n",
    "plt.subplot(1,2,1)\n",
    "for i in range(0,len(pd_metrics)):\n",
    "    history_dict = pd_metrics.iloc[i]['history']\n",
    "    x = np.arange(0,len(history_dict['loss']))\n",
    "\n",
    "    plt.plot(x, history_dict['loss'],color=color_list[i])\n",
    "    plt.plot(x, history_dict['val_loss'], linestyle=':',color=color_list[i])\n",
    "plt.xlabel('epochs')\n",
    "plt.ylabel('loss')\n",
    "plt.xlim(0,32)\n",
    "plt.ylim(0,1.05)\n",
    "\n",
    "#plot all of the auc's\n",
    "plt.subplot(1,2,2)\n",
    "for i in range(0,len(pd_metrics)):\n",
    "    history_dict = pd_metrics.iloc[i]['history']\n",
    "    x = np.arange(0,len(history_dict['auc']))\n",
    "    plt.plot(x, history_dict['auc'],color=color_list[i])\n",
    "    plt.plot(x, history_dict['val_auc'], linestyle=':',color=color_list[i])\n",
    "\n",
    "plt.xlabel('epochs')\n",
    "plt.ylabel('auc')\n",
    "plt.xlim(0,32)\n",
    "plt.ylim(0,1.05)\n"
   ]
  },
  {
   "cell_type": "markdown",
   "metadata": {},
   "source": [
    "### Intentemos con una arcitectura 10 a 10"
   ]
  },
  {
   "cell_type": "code",
   "execution_count": 161,
   "metadata": {},
   "outputs": [],
   "source": [
    "# define callbacks\n",
    "early_stopping = tf.keras.callbacks.EarlyStopping(\n",
    "    monitor='val_loss', \n",
    "    verbose=1,\n",
    "    patience=40,\n",
    "    mode='max',\n",
    "    restore_best_weights=True)\n",
    "\n",
    "# DEFINING THE BASIC FORM OF THE NN\n",
    "EPOCHS = 300\n",
    "BATCH_SIZE = 32\n",
    "NUM_LAYERS = 2\n",
    "HIDDEN_LAYER_SIZES = [10,10]\n",
    "TIME_STEPS = Tensor_train.shape[2]\n",
    "FEATURES = Tensor_train.shape[1]\n",
    "\n",
    "# regularization\n",
    "REG = L1L2(l1=0.01, l2=0.0)\n",
    "\n",
    "USE_DROPOUT = True\n",
    "BATCH_NORM = False\n",
    "\n",
    "# name of the files to save\n",
    "WEIGHTS_NAME = 'weights_lstm_2_layers.h5'\n",
    "\n",
    "# compile the model \n",
    "tf.keras.backend.clear_session()\n",
    "init_random(1234)\n",
    "\n",
    "# build the model in a keras wrapper to gridsearch faster\n",
    "model = KerasClassifier(build_fn=build_lstm)\n",
    "\n",
    "param_grid=dict(\n",
    "    epochs = [EPOCHS], \n",
    "    batch_size=[BATCH_SIZE], \n",
    "    hidden_layer_size=[HIDDEN_LAYER_SIZES], \n",
    "    num_layers=[NUM_LAYERS], \n",
    "    use_dropout=[USE_DROPOUT], \n",
    "    use_batch_norm=[BATCH_NORM] ,\n",
    "    learnin_rate=[0.0005,0.005,0.05], \n",
    "    reg=[REG],\n",
    "    weights_name=[WEIGHTS_NAME], \n",
    "    time_steps=[TIME_STEPS], \n",
    "    features=[FEATURES])"
   ]
  },
  {
   "cell_type": "code",
   "execution_count": null,
   "metadata": {
    "scrolled": false
   },
   "outputs": [],
   "source": [
    "start = timeit.default_timer()\n",
    "\n",
    "grid = GridSearchCV(estimator=model, param_grid=param_grid, n_jobs=-1, cv=3)\n",
    "grid_result = grid.fit(Tensor_train, np.asarray(y_train))\n",
    "\n",
    "stop = timeit.default_timer()\n",
    "\n"
   ]
  },
  {
   "cell_type": "code",
   "execution_count": null,
   "metadata": {},
   "outputs": [],
   "source": [
    "print('training took: ', stop - start)\n",
    "print(grid.summary())\n",
    "\n",
    "#plot_metrics(history)"
   ]
  },
  {
   "cell_type": "code",
   "execution_count": null,
   "metadata": {},
   "outputs": [],
   "source": []
  }
 ],
 "metadata": {
  "kernelspec": {
   "display_name": "Python 3.7 (tensorflow)",
   "language": "python",
   "name": "tensorflow"
  },
  "language_info": {
   "codemirror_mode": {
    "name": "ipython",
    "version": 3
   },
   "file_extension": ".py",
   "mimetype": "text/x-python",
   "name": "python",
   "nbconvert_exporter": "python",
   "pygments_lexer": "ipython3",
   "version": "3.7.7"
  }
 },
 "nbformat": 4,
 "nbformat_minor": 2
}
