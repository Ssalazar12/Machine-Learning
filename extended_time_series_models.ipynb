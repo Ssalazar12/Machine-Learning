{
 "cells": [
  {
   "cell_type": "markdown",
   "metadata": {},
   "source": [
    "In this notebook we explore and train models with a dataset of time series aggregated by time window and transaction category, called super-category based on \n",
    "\n",
    "https://www.youtube.com/watch?v=flMCYqIn3eg\n",
    "\n",
    "Time series can be aggregated by day, week or month which should be taken into account when building tensors\n",
    "\n",
    "We also consider using the business rules features in order to further upgrade our predictions\n",
    "\n"
   ]
  },
  {
   "cell_type": "code",
   "execution_count": 14,
   "metadata": {},
   "outputs": [],
   "source": [
    "import pandas as pd\n",
    "import numpy as np\n",
    "import matplotlib.pyplot as plt\n",
    "import matplotlib\n",
    "import seaborn as sns\n",
    "import os\n",
    "from scipy.stats import norm\n",
    "import random\n",
    "import joblib\n",
    "import timeit\n",
    "\n",
    "sns.set()\n"
   ]
  },
  {
   "cell_type": "code",
   "execution_count": 15,
   "metadata": {},
   "outputs": [],
   "source": [
    "from sklearn.model_selection import RandomizedSearchCV, GridSearchCV, train_test_split\n",
    "\n",
    "from sklearn.metrics import confusion_matrix, classification_report,accuracy_score,\\\n",
    "                            recall_score, f1_score,roc_curve, auc, roc_auc_score\n",
    "from imblearn.pipeline import Pipeline\n",
    "from sklearn.preprocessing import StandardScaler, MinMaxScaler\n",
    "from sklearn.svm import SVC\n"
   ]
  },
  {
   "cell_type": "code",
   "execution_count": 16,
   "metadata": {},
   "outputs": [],
   "source": [
    "import tensorflow as tf\n",
    "from tensorflow import keras\n",
    "from tensorflow.keras.models import Sequential\n",
    "from tensorflow.keras.layers import Dense, LSTM, GRU ,LeakyReLU, Dropout, Bidirectional, Flatten\n",
    "from tensorflow.keras.regularizers import L1L2\n",
    "from tensorflow.keras.preprocessing import sequence\n",
    "from tensorflow.keras.optimizers import Adam\n",
    "from tensorflow.keras.callbacks import ModelCheckpoint\n"
   ]
  },
  {
   "cell_type": "markdown",
   "metadata": {},
   "source": [
    "# Load data and pre process"
   ]
  },
  {
   "cell_type": "code",
   "execution_count": 17,
   "metadata": {},
   "outputs": [],
   "source": [
    "pd_risk = pd.read_csv('business_rules_features.csv',index_col='loan_id')\n",
    "pd_day_series = pd.read_csv('pd_day_series.csv',index_col=0,header=[0,1])\n",
    "pd_week_series = pd.read_csv('pd_week_series.csv',index_col=0,header=[0,1])\n",
    "pd_month_series = pd.read_csv('pd_month_series.csv',index_col=0,header=[0,1])\n"
   ]
  },
  {
   "cell_type": "code",
   "execution_count": 18,
   "metadata": {},
   "outputs": [],
   "source": [
    "def risk_train_test_split(df):\n",
    "    # g_ids are the customer ids for the \"good\" clients\n",
    "    # we return a train test split based on the business rules (risk)\n",
    "    df_dataset = df[df['risk']>0].copy()\n",
    "    # now do another train test split over this to get validation and training sets\n",
    "    X = df_dataset.drop(['loan_status','taken_at','customer_id', 'risk'], axis=1)\n",
    "    Y = df_dataset['loan_status'].copy()\n",
    "    X_train, X_test, y_train, y_test = train_test_split(X, Y, test_size=0.2, random_state=42, stratify=Y)\n",
    "    \n",
    "    # Finally, save clients who do not pass business rules as a validation set\n",
    "    df_evaluation= df[df['risk']==0].copy()\n",
    "    X_evaluation = df_evaluation.drop(['loan_status','taken_at','customer_id', 'risk'], axis=1)\n",
    "    y_evaluation = df_evaluation['loan_status'].copy()\n",
    "\n",
    "    return X_train, X_test, y_train, y_test, X_evaluation, y_evaluation\n",
    "\n",
    "def old_risk_train_test_split(df, g_ids):\n",
    "    # g_ids are the customer ids for the \"good\" clients\n",
    "    # we return a train test split based on the business rules (risk)\n",
    "    df_training = df[(df['risk']>0) & (~df['customer_id'].isin(g_ids))].copy()\n",
    "    X_training = df_training.drop(['loan_status','taken_at','customer_id', 'risk'], axis=1)\n",
    "    Y_training = df_training['loan_status'].copy()\n",
    "    \n",
    "    # get some of the previously identified good clients and put them in test to evaluate properly\n",
    "    good_clients = df[df['customer_id'].isin(g_ids)].copy()\n",
    "    good_client_loans = list(good_clients.index)\n",
    "    df_test = df[df['risk']==0].copy()\n",
    "    df_test = pd.concat([df_test,good_clients], axis=0)\n",
    "    # final dataframes\n",
    "    X_test = df_test.drop(['loan_status','taken_at','customer_id', 'risk'], axis=1)\n",
    "    Y_test = df_test['loan_status'].copy()\n",
    "    \n",
    "    return X_training, X_test, Y_training, Y_test\n"
   ]
  },
  {
   "cell_type": "markdown",
   "metadata": {},
   "source": [
    "### Create the data for a support vector machine"
   ]
  },
  {
   "cell_type": "code",
   "execution_count": 19,
   "metadata": {},
   "outputs": [],
   "source": [
    "def create_svm_data(time_df,rdf):\n",
    "    df = time_df.copy()\n",
    "    columns_tuple = df.columns.values\n",
    "    df.columns = ['_'.join(col) for col in columns_tuple]\n",
    "    \n",
    "    return pd.concat([rdf[['loan_status','taken_at','customer_id_y', 'risk']],df],axis=1)\n"
   ]
  },
  {
   "cell_type": "code",
   "execution_count": 20,
   "metadata": {},
   "outputs": [],
   "source": [
    "svm_days = create_svm_data(pd_day_series,pd_risk)\n",
    "svm_days = svm_days.rename(columns={'customer_id_y':'customer_id'})\n",
    "\n",
    "svm_weeks = create_svm_data(pd_week_series,pd_risk)\n",
    "svm_weeks = svm_weeks.rename(columns={'customer_id_y':'customer_id'})\n",
    "\n",
    "svm_months = create_svm_data(pd_month_series,pd_risk)\n",
    "svm_months = svm_months.rename(columns={'customer_id_y':'customer_id'})"
   ]
  },
  {
   "cell_type": "code",
   "execution_count": 21,
   "metadata": {},
   "outputs": [
    {
     "name": "stdout",
     "output_type": "stream",
     "text": [
      "1346\n",
      "1346\n",
      "1346\n"
     ]
    }
   ],
   "source": [
    "print(len(svm_days))\n",
    "print(len(svm_weeks))\n",
    "print(len(svm_months))\n"
   ]
  },
  {
   "cell_type": "markdown",
   "metadata": {},
   "source": [
    "# Evaluation funcs"
   ]
  },
  {
   "cell_type": "code",
   "execution_count": 22,
   "metadata": {},
   "outputs": [],
   "source": [
    "def plot_roc_curve(y_train_true, y_train_probas, y_test_true, y_test_probas):\n",
    "    # y_true: series with the true labels encoded in 0 and 1\n",
    "    # y_probas: probability estimates by the model\n",
    "    \n",
    "    # train roc calculattion\n",
    "    fpr_train, tpr_train, _ = roc_curve(y_train_true, y_train_probas)\n",
    "    auc_train = roc_auc_score(y_train_true, y_train_probas)\n",
    "    auc_train = auc_train.round(3)\n",
    "\n",
    "    # test roc calculattion\n",
    "    fpr_test, tpr_test, _ = roc_curve(y_test_true, y_test_probas)\n",
    "    auc_test = roc_auc_score(y_test_true, y_test_probas)\n",
    "    auc_test = auc_test.round(3)\n",
    "    \n",
    "    plt.figure(figsize=(8,7))\n",
    "    plt.title('roc_curve')\n",
    "    #plot train\n",
    "    plt.plot(fpr_train, tpr_train, label='train_auc={}'.format(auc_train), color='orangered')\n",
    "    \n",
    "    # plot test\n",
    "    plt.plot(fpr_test, tpr_test, label='test_auc={}'.format(auc_test), color='mediumorchid')\n",
    "    # plot baseline\n",
    "    plt.plot([0, 1], [0, 1], 'k--')\n",
    "    \n",
    "    # format axis\n",
    "    plt.axis([-0.005, 1, 0, 1.005])\n",
    "    plt.xticks(np.arange(0,1, 0.05), rotation=90)\n",
    "    plt.xlabel(\"False Positive Rate\")\n",
    "    plt.ylabel(\"True Positive Rate (Recall)\")\n",
    "    plt.legend(loc='best')\n",
    "    \n",
    "matplotlib.rcParams['figure.figsize'] = (15, 12)\n",
    "colors = plt.rcParams['axes.prop_cycle'].by_key()['color']\n",
    "\n",
    "def plot_metrics(history):\n",
    "    # for keras models\n",
    "    metrics =  ['loss', 'auc', 'precision', 'recall']\n",
    "    for n, metric in enumerate(metrics):\n",
    "        name = metric.replace(\"_\",\" \").capitalize()\n",
    "        plt.subplot(2,2,n+1)\n",
    "        plt.plot(history.epoch,  history.history[metric], color='blue', label='Train')\n",
    "        plt.plot(history.epoch, history.history['val_'+metric],\n",
    "                 color='orange', linestyle=\":\", label='Val')\n",
    "        plt.xlabel('Epoch')\n",
    "        plt.ylabel(name)\n",
    "\n",
    "        plt.ylim([0.3,1.01])\n",
    "\n",
    "        plt.legend()\n",
    "        "
   ]
  },
  {
   "cell_type": "code",
   "execution_count": 23,
   "metadata": {},
   "outputs": [],
   "source": [
    "def keras_model_evaluation(t_model, training_tensor, training_label, test_tensor, test_label, batch_size):\n",
    "    # model: pre trained keras model\n",
    "    # training and test tensor: feautures used to train the models\n",
    "    # training and test label: true labels for both datasets\n",
    "    # this functions prints some validation metrics and returns dataframes with the predicted probabilities and \n",
    "    # labels to compare with the true labels\n",
    "    \n",
    "    # score model and log accuracy and parameters\n",
    "    scores = t_model.evaluate(test_tensor, np.asarray(y_test), verbose=0)\n",
    "    print(\"Accuracy:\", scores[5] )\n",
    "    print(\"Area Under Curve:\", scores[8] )\n",
    "    print()\n",
    "\n",
    "    # save the predictions to compare with the actual label\n",
    "    # this is the probability OF FALLING INTO BAD DEBT\n",
    "    y_train_pred = t_model.predict(training_tensor, batch_size=batch_size)[:,0]\n",
    "    y_test_pred = t_model.predict(test_tensor, batch_size=batch_size)[:,0]\n",
    "\n",
    "    train_results_baseline = pd.DataFrame({'true_label':y_train, 'predicted_proba':y_train_pred}, \n",
    "                                          index=y_train.index)\n",
    "    train_results_baseline['predicted_label'] = 0\n",
    "    train_results_baseline.loc[train_results_baseline['predicted_proba']>=0.5,'predicted_label'] = 1\n",
    "\n",
    "    test_results_baseline = pd.DataFrame({'true_label':y_test, 'predicted_proba':y_test_pred}, \n",
    "                                          index=y_test.index)\n",
    "\n",
    "    test_results_baseline['predicted_label'] = 0\n",
    "    test_results_baseline.loc[test_results_baseline['predicted_proba']>=0.5,'predicted_label'] = 1\n",
    "    \n",
    "    return train_results_baseline, test_results_baseline\n"
   ]
  },
  {
   "cell_type": "markdown",
   "metadata": {},
   "source": [
    "#  FUNCTIONS for NN'S (BOTH LSTM and CNN)"
   ]
  },
  {
   "cell_type": "code",
   "execution_count": 24,
   "metadata": {},
   "outputs": [],
   "source": [
    "def build_tensor(df):\n",
    "    # save category names and then make a list of arrays with the  time series on each category\n",
    "    categories = df.columns.levels[0]\n",
    "    catagory_array_list = [np.asarray(df[cat]) for cat in categories]\n",
    "    # transform the array into the correct tensor shape\n",
    "    t_tensor = np.concatenate( [arr[None,...] for arr in catagory_array_list] ,axis=0)\n",
    "    t_tensor = t_tensor.reshape(t_tensor.shape[1], t_tensor.shape[0], t_tensor.shape[2])\n",
    "    return t_tensor"
   ]
  },
  {
   "cell_type": "code",
   "execution_count": 25,
   "metadata": {},
   "outputs": [],
   "source": [
    "def init_random(seed):\n",
    "    # Apparently you may use different seed values at each stage\n",
    "    seed_value= seed\n",
    "\n",
    "    # 1. Set `PYTHONHASHSEED` environment variable at a fixed value\n",
    "    os.environ['PYTHONHASHSEED']=str(seed_value)\n",
    "\n",
    "    # 2. Set `python` built-in pseudo-random generator at a fixed value\n",
    "    random.seed(seed_value)\n",
    "\n",
    "    # 3. Set `numpy` pseudo-random generator at a fixed value\n",
    "    np.random.seed(seed_value)\n",
    "\n",
    "    # 4. Set the `tensorflow` pseudo-random generator at a fixed value\n",
    "    tf.random.set_seed(seed_value)\n",
    "\n",
    "    # 5. Configure a new global `tensorflow` session\n",
    "    session_conf = tf.compat.v1.ConfigProto(intra_op_parallelism_threads=1, inter_op_parallelism_threads=1)\n",
    "    sess = tf.compat.v1.Session(graph=tf.compat.v1.get_default_graph(), config=session_conf)\n",
    "    tf.compat.v1.keras.backend.set_session(sess)\n"
   ]
  },
  {
   "cell_type": "markdown",
   "metadata": {},
   "source": [
    "# SVM training\n",
    "\n",
    "we sepparate into train and test based on whether the client passes ou business rules or not. Then we take some of \n",
    "our good clients from training and put them in test to evaluate more"
   ]
  },
  {
   "cell_type": "code",
   "execution_count": 26,
   "metadata": {},
   "outputs": [],
   "source": [
    "def calculate_classifier_predictions(trained_model ,X_train, y_train, X_test, y_test): \n",
    "    y_train_predict = trained_model.predict(X_train)\n",
    "    y_train_proba = trained_model.predict_proba(X_train)[:,1]\n",
    "\n",
    "    print('-----TRAINING RESULTS--------------------------------')\n",
    "\n",
    "    print(classification_report(y_train, y_train_predict))\n",
    "    print('auc: ', roc_auc_score(y_train, y_train_proba))\n",
    "    print(confusion_matrix(y_train, y_train_predict))\n",
    "\n",
    "    y_test_predict = trained_model.predict(X_test)\n",
    "    y_test_proba = trained_model.predict_proba(X_test)[:,1]\n",
    "\n",
    "    print('------TEST RESULTS------------------------------')\n",
    "\n",
    "    print(classification_report(y_test, y_test_predict ))\n",
    "    print('auc: ', roc_auc_score(y_test, y_test_proba))\n",
    "    print(confusion_matrix(y_test, y_test_predict))\n",
    "\n"
   ]
  },
  {
   "cell_type": "code",
   "execution_count": 27,
   "metadata": {},
   "outputs": [],
   "source": [
    "# high gamma increases chance of overfitting\n",
    "# C: controls the permeability of the decision boundary, high values lead to overfiting\n",
    "svm_params = {'classifier__kernel':['rbf','poly','sigmoid'],\n",
    "             'classifier__gamma': np.linspace(0.001, 10,10),\n",
    "              'classifier__C': np.linspace(0.001, 10,10)\n",
    "             }"
   ]
  },
  {
   "cell_type": "code",
   "execution_count": 28,
   "metadata": {},
   "outputs": [],
   "source": [
    "good_client_ids = [1270, 1808, 1999, 2052, 2195, 3055, 3453,\n",
    "       4950, 5070, 5426, 1397,769,1107]\n",
    "# get the goo client loans\n",
    "good_client_loans = list(svm_days[svm_days.customer_id.isin(good_client_ids)].index)\n"
   ]
  },
  {
   "cell_type": "markdown",
   "metadata": {},
   "source": [
    "### daily agg"
   ]
  },
  {
   "cell_type": "code",
   "execution_count": 29,
   "metadata": {},
   "outputs": [],
   "source": [
    "X_train, X_test, y_train, y_test, X_evaluation, y_evaluation = risk_train_test_split(svm_days)\n",
    "svm_days_features = X_train.columns \n"
   ]
  },
  {
   "cell_type": "code",
   "execution_count": 30,
   "metadata": {},
   "outputs": [
    {
     "name": "stdout",
     "output_type": "stream",
     "text": [
      "{'classifier__kernel': 'poly', 'classifier__gamma': 5.556, 'classifier__C': 7.7780000000000005}\n",
      "-----TRAINING RESULTS--------------------------------\n",
      "              precision    recall  f1-score   support\n",
      "\n",
      "           2       1.00      1.00      1.00       106\n",
      "           8       1.00      1.00      1.00       631\n",
      "\n",
      "    accuracy                           1.00       737\n",
      "   macro avg       1.00      1.00      1.00       737\n",
      "weighted avg       1.00      1.00      1.00       737\n",
      "\n",
      "auc:  1.0\n",
      "[[106   0]\n",
      " [  0 631]]\n",
      "------TEST RESULTS------------------------------\n",
      "              precision    recall  f1-score   support\n",
      "\n",
      "           2       0.21      0.27      0.24        26\n",
      "           8       0.88      0.84      0.86       159\n",
      "\n",
      "    accuracy                           0.76       185\n",
      "   macro avg       0.54      0.55      0.55       185\n",
      "weighted avg       0.78      0.76      0.77       185\n",
      "\n",
      "auc:  0.5130624092888243\n",
      "[[  7  19]\n",
      " [ 26 133]]\n"
     ]
    }
   ],
   "source": [
    "svm = SVC(probability=True)\n",
    "steps_ = [('classifier',svm)]\n",
    "pipe = Pipeline(steps_) \n",
    "params = svm_params\n",
    "scoring = 'recall_macro'\n",
    "\n",
    "r_search = RandomizedSearchCV(estimator = pipe, param_distributions = params,n_iter = 15, \n",
    "                                  cv=3 ,scoring = scoring, random_state=42, n_jobs = -1)\n",
    "r_search.fit(X_train, y_train)\n",
    "print(r_search.best_params_)\n",
    "calculate_classifier_predictions(r_search, X_train, y_train, X_test, y_test)\n"
   ]
  },
  {
   "cell_type": "code",
   "execution_count": 31,
   "metadata": {},
   "outputs": [
    {
     "name": "stdout",
     "output_type": "stream",
     "text": [
      "[2 2 2 2 2 8 2 2 2 2 2 2 2]\n",
      "[[0.1436577  0.8563423 ]\n",
      " [0.1436577  0.8563423 ]\n",
      " [0.1436577  0.8563423 ]\n",
      " [0.1436577  0.8563423 ]\n",
      " [0.1436577  0.8563423 ]\n",
      " [0.14363784 0.85636216]\n",
      " [0.1436577  0.8563423 ]\n",
      " [0.1436577  0.8563423 ]\n",
      " [0.1436577  0.8563423 ]\n",
      " [0.1436577  0.8563423 ]\n",
      " [0.1436577  0.8563423 ]\n",
      " [0.1436577  0.8563423 ]\n",
      " [0.1436577  0.8563423 ]]\n"
     ]
    }
   ],
   "source": [
    "print(r_search.predict(svm_days[svm_days['customer_id'].isin(good_client_ids)][svm_days_features]))\n",
    "print(r_search.predict_proba(svm_days[svm_days['customer_id'].isin(good_client_ids)][svm_days_features]))"
   ]
  },
  {
   "cell_type": "markdown",
   "metadata": {},
   "source": [
    "### Weekly agg"
   ]
  },
  {
   "cell_type": "code",
   "execution_count": 39,
   "metadata": {},
   "outputs": [],
   "source": [
    "X_train, X_test, y_train, y_test, X_evaluation, y_evaluation = risk_train_test_split(svm_weeks)\n",
    "svm_weeks_features = X_train.columns "
   ]
  },
  {
   "cell_type": "code",
   "execution_count": 40,
   "metadata": {},
   "outputs": [
    {
     "name": "stdout",
     "output_type": "stream",
     "text": [
      "-----TRAINING RESULTS--------------------------------\n",
      "              precision    recall  f1-score   support\n",
      "\n",
      "           2       0.17      0.93      0.28       106\n",
      "           8       0.95      0.22      0.36       631\n",
      "\n",
      "    accuracy                           0.32       737\n",
      "   macro avg       0.56      0.58      0.32       737\n",
      "weighted avg       0.84      0.32      0.35       737\n",
      "\n",
      "auc:  0.5763313697933798\n",
      "[[ 99   7]\n",
      " [493 138]]\n",
      "------TEST RESULTS------------------------------\n",
      "              precision    recall  f1-score   support\n",
      "\n",
      "           2       0.15      0.85      0.25        26\n",
      "           8       0.88      0.19      0.31       159\n",
      "\n",
      "    accuracy                           0.28       185\n",
      "   macro avg       0.51      0.52      0.28       185\n",
      "weighted avg       0.78      0.28      0.30       185\n",
      "\n",
      "auc:  0.5174165457184324\n",
      "[[ 22   4]\n",
      " [129  30]]\n"
     ]
    }
   ],
   "source": [
    "svm = SVC(probability=True, kernel='poly')\n",
    "steps_ = [('scaler', StandardScaler()), ('classifier',svm)]\n",
    "pipe = Pipeline(steps_) \n",
    "pipe.fit(X_train, y_train)\n",
    "\n",
    "calculate_classifier_predictions(svm, X_train, y_train, X_test, y_test)\n"
   ]
  },
  {
   "cell_type": "code",
   "execution_count": 41,
   "metadata": {},
   "outputs": [
    {
     "name": "stdout",
     "output_type": "stream",
     "text": [
      "[[0.13955873 0.86044127]\n",
      " [0.1443565  0.8556435 ]\n",
      " [0.28290768 0.71709232]\n",
      " [0.1496071  0.8503929 ]\n",
      " [0.13962599 0.86037401]\n",
      " [0.13961853 0.86038147]\n",
      " [0.13952017 0.86047983]\n",
      " [0.28288113 0.71711887]\n",
      " [0.28285823 0.71714177]\n",
      " [0.15414542 0.84585458]\n",
      " [0.13945704 0.86054296]\n",
      " [0.31488306 0.68511694]\n",
      " [0.28285285 0.71714715]]\n"
     ]
    }
   ],
   "source": [
    "X_train, X_test, y_train, y_test, X_evaluation, y_evaluation = risk_train_test_split(svm_days)\n",
    "print(pipe.predict_proba(svm_weeks[svm_weeks['customer_id'].isin(good_client_ids)][svm_weeks_features]))\n"
   ]
  },
  {
   "cell_type": "markdown",
   "metadata": {},
   "source": [
    "### Monthly agg"
   ]
  },
  {
   "cell_type": "code",
   "execution_count": 43,
   "metadata": {},
   "outputs": [],
   "source": [
    "X_train, X_test, y_train, y_test, X_evaluation, y_evaluation = risk_train_test_split(svm_months)\n",
    "svm_months_features = X_train.columns "
   ]
  },
  {
   "cell_type": "code",
   "execution_count": 44,
   "metadata": {},
   "outputs": [
    {
     "name": "stdout",
     "output_type": "stream",
     "text": [
      "-----TRAINING RESULTS--------------------------------\n",
      "              precision    recall  f1-score   support\n",
      "\n",
      "           2       0.17      0.89      0.28       106\n",
      "           8       0.93      0.26      0.41       631\n",
      "\n",
      "    accuracy                           0.35       737\n",
      "   macro avg       0.55      0.57      0.35       737\n",
      "weighted avg       0.82      0.35      0.39       737\n",
      "\n",
      "auc:  0.5741410758604193\n",
      "[[ 94  12]\n",
      " [466 165]]\n",
      "------TEST RESULTS------------------------------\n",
      "              precision    recall  f1-score   support\n",
      "\n",
      "           2       0.15      0.81      0.25        26\n",
      "           8       0.88      0.23      0.36       159\n",
      "\n",
      "    accuracy                           0.31       185\n",
      "   macro avg       0.51      0.52      0.30       185\n",
      "weighted avg       0.78      0.31      0.34       185\n",
      "\n",
      "auc:  0.5170537010159652\n",
      "[[ 21   5]\n",
      " [123  36]]\n"
     ]
    }
   ],
   "source": [
    "svm = SVC(probability=True, kernel='poly')\n",
    "steps_ = [('scaler', StandardScaler()), ('classifier',svm)]\n",
    "pipe = Pipeline(steps_) \n",
    "pipe.fit(X_train, y_train)\n",
    "\n",
    "calculate_classifier_predictions(svm, X_train, y_train, X_test, y_test)"
   ]
  },
  {
   "cell_type": "code",
   "execution_count": 45,
   "metadata": {},
   "outputs": [
    {
     "name": "stdout",
     "output_type": "stream",
     "text": [
      "[2 2 2 2 2 2 2 2 2 2 2 2 2]\n",
      "[[9.9999990e-01 1.0000001e-07]\n",
      " [9.9999990e-01 1.0000001e-07]\n",
      " [9.9999990e-01 1.0000001e-07]\n",
      " [9.9999990e-01 1.0000001e-07]\n",
      " [9.9999990e-01 1.0000001e-07]\n",
      " [9.9999990e-01 1.0000001e-07]\n",
      " [9.9999990e-01 1.0000001e-07]\n",
      " [9.9999990e-01 1.0000001e-07]\n",
      " [9.9999990e-01 1.0000001e-07]\n",
      " [9.9999990e-01 1.0000001e-07]\n",
      " [9.9999990e-01 1.0000001e-07]\n",
      " [9.9999990e-01 1.0000001e-07]\n",
      " [9.9999990e-01 1.0000001e-07]]\n"
     ]
    }
   ],
   "source": [
    "print(svm.predict(svm_months[svm_months['customer_id'].isin(good_client_ids)][svm_months_features]))\n",
    "print(svm.predict_proba(svm_months[svm_months['customer_id'].isin(good_client_ids)][svm_months_features]))"
   ]
  },
  {
   "cell_type": "markdown",
   "metadata": {},
   "source": [
    "# LSTM "
   ]
  },
  {
   "cell_type": "markdown",
   "metadata": {},
   "source": [
    "First, we create the data set  that the LSTM wil receive. We have to split according to the risk factor\n",
    "(training with most of the clients that pass the business rules), normalize the data, enconde the label with 0 and\n",
    "1 and finally transform he time series into the correct tensor shape.\n",
    "\n",
    "**bidireccionales:** es otra capa para empaquetar el LSTM \n",
    "\n"
   ]
  },
  {
   "cell_type": "code",
   "execution_count": 46,
   "metadata": {},
   "outputs": [
    {
     "name": "stdout",
     "output_type": "stream",
     "text": [
      "train test length:\n",
      "737 185\n",
      "labels:\n",
      "train\n",
      "1    631\n",
      "0    106\n",
      "Name: loan_status, dtype: int64\n",
      "test\n",
      "1    159\n",
      "0     26\n",
      "Name: loan_status, dtype: int64\n",
      "eval\n",
      "1    328\n",
      "0     96\n",
      "Name: loan_status, dtype: int64\n",
      "tensor shapes:\n",
      "(737, 6, 90)\n",
      "(185, 6, 90)\n"
     ]
    }
   ],
   "source": [
    "\n",
    "# svm days es simplemente el dataframe de days con las columnas colapsadas y con el risk ahí pegado\n",
    "time_window_svm = svm_days.copy()\n",
    "time_window_series = pd_day_series.copy()\n",
    "# get the training and test indices\n",
    "X_train, X_test, y_train, y_test, X_evaluation, y_evaluation = risk_train_test_split(time_window_svm)\n",
    "\n",
    "# scale the data  to send it to the LSTM\n",
    "tensor_scaler = StandardScaler()\n",
    "X_train = pd.DataFrame(tensor_scaler.fit_transform(X_train), columns=time_window_series.columns ,index=X_train.index)\n",
    "X_test = pd.DataFrame(tensor_scaler.transform(X_test), columns = time_window_series.columns ,index=X_test.index)\n",
    "X_evaluation = pd.DataFrame(tensor_scaler.transform(X_evaluation), columns = time_window_series.columns \n",
    "                            , index=X_evaluation.index)\n",
    "\n",
    "X_train = pd.DataFrame(X_train, columns=time_window_series.columns ,index=X_train.index)\n",
    "X_test = pd.DataFrame(X_test, columns = time_window_series.columns ,index=X_test.index)\n",
    "X_evaluation = pd.DataFrame(X_evaluation, columns = time_window_series.columns ,index=X_evaluation.index)\n",
    "# now we encode the label into 1 and 0 where:\n",
    "# 8 -----> 1  (the event that a client falls into bad debt)\n",
    "# 2 -----> 0 (a client is a good payer)\n",
    "\n",
    "y_train.loc[y_train==8]=1\n",
    "y_train.loc[y_train==2]=0\n",
    "\n",
    "y_test.loc[y_test==8]=1\n",
    "y_test.loc[y_test==2]=0\n",
    "\n",
    "y_evaluation.loc[y_evaluation==8]=1\n",
    "y_evaluation.loc[y_evaluation==2]=0\n",
    "\n",
    "print('train test length:')\n",
    "print(len(y_train), len(y_test))\n",
    "\n",
    "print('labels:')\n",
    "print('train')\n",
    "print(y_train.value_counts())\n",
    "print('test')\n",
    "print(y_test.value_counts())\n",
    "print('eval')\n",
    "print(y_evaluation.value_counts())\n",
    "\n",
    "# transform into the correct tensor shape\n",
    "Tensor_train = build_tensor(X_train)\n",
    "Tensor_test = build_tensor(X_test)\n",
    "Tensor_evaluation = build_tensor(X_evaluation)\n",
    "\n",
    "\n",
    "print('tensor shapes:')\n",
    "print(Tensor_train.shape)\n",
    "print(Tensor_test.shape)\n"
   ]
  },
  {
   "cell_type": "markdown",
   "metadata": {},
   "source": [
    "Now, we try to build the LSTM. We will have a layer compossed of memory cells (the basic computation unit of an LSTM) which will receive our time series tensor data. The output of the LSTM layer will correspond to the input of a densely connected layer which will have an output of one neuron (the classification task).\n",
    "\n"
   ]
  },
  {
   "cell_type": "markdown",
   "metadata": {},
   "source": [
    "## Baseline"
   ]
  },
  {
   "cell_type": "code",
   "execution_count": 60,
   "metadata": {},
   "outputs": [],
   "source": [
    "def build_lstm(epochs, batch_size, hidden_layer_size, num_layers, \n",
    "               use_dropout, learnin_rate, reg ,weights_name, time_steps, features):\n",
    "    # hidden layer size should be a list with the sizes for each hidden layer\n",
    "    # metrics\n",
    "    METRICS = [\n",
    "          keras.metrics.TruePositives(name='tp'),\n",
    "          keras.metrics.FalsePositives(name='fp'),\n",
    "          keras.metrics.TrueNegatives(name='tn'),\n",
    "          keras.metrics.FalseNegatives(name='fn'), \n",
    "          keras.metrics.BinaryAccuracy(name='accuracy'),\n",
    "          keras.metrics.Precision(name='precision'),\n",
    "          keras.metrics.Recall(name='recall'),\n",
    "          keras.metrics.AUC(name='auc'),\n",
    "    ]\n",
    "\n",
    "    # build the LSTM layers\n",
    "    model = Sequential()\n",
    "    if num_layers==1:\n",
    "        model.add(Bidirectional(LSTM(hidden_layer_size[0], input_shape=(features, time_steps), kernel_regularizer=reg)))\n",
    "    # add more than 1 layer\n",
    "    else:\n",
    "        for i in range(num_layers-1):\n",
    "            # all the layers before the last one should return a sequence\n",
    "            model.add(Bidirectional(LSTM(hidden_layer_size[i], \n",
    "                                         input_shape=(features, time_steps),return_sequences=True)))\n",
    "        # final LSTM\n",
    "        model.add(LSTM(hidden_layer_size[i+1], input_shape=(features, time_steps)))         \n",
    "        \n",
    "    if use_dropout:\n",
    "        model.add(Dropout(0.3))\n",
    "        # the output is a dense layer with one neuron\n",
    "        \n",
    "    model.add(Flatten())\n",
    "    model.add(Dense(1, activation='sigmoid'))\n",
    "\n",
    "    # compile the algorithm\n",
    "    optimizer = Adam(lr=learnin_rate)\n",
    "    model.compile(loss='binary_crossentropy', optimizer=optimizer, metrics=[METRICS])\n",
    "    \n",
    "    return model\n"
   ]
  },
  {
   "cell_type": "code",
   "execution_count": 70,
   "metadata": {},
   "outputs": [],
   "source": [
    "# define callbacks\n",
    "early_stopping = tf.keras.callbacks.EarlyStopping(\n",
    "    monitor='val_loss', \n",
    "    verbose=1,\n",
    "    patience=50,\n",
    "    mode='max',\n",
    "    restore_best_weights=True)\n"
   ]
  },
  {
   "cell_type": "code",
   "execution_count": 82,
   "metadata": {},
   "outputs": [],
   "source": [
    "# DEFINING THE BASIC FORM OF THE NN\n",
    "EPOCHS = 300\n",
    "BATCH_SIZE = 20\n",
    "NUM_LAYERS = 1\n",
    "HIDDEN_LAYER_SIZES = [10]\n",
    "TIME_STEPS = Tensor_train.shape[2]\n",
    "FEATURES = Tensor_train.shape[1]\n",
    "# no reg\n",
    "REG = L1L2(l1=0.001, l2=0.0)\n",
    "\n",
    "USE_DROPOUT = True\n",
    "LEARNING_RATE = 0.001\n",
    "\n",
    "# name of the files to save\n",
    "weights_name = 'weights_lstm.h5'\n"
   ]
  },
  {
   "cell_type": "code",
   "execution_count": 83,
   "metadata": {},
   "outputs": [],
   "source": [
    "# compile the model \n",
    "tf.keras.backend.clear_session()\n",
    "init_random(1234)\n",
    "\n",
    "# build the model\n",
    "model = build_lstm(EPOCHS, BATCH_SIZE, HIDDEN_LAYER_SIZES, NUM_LAYERS, USE_DROPOUT, LEARNING_RATE, REG,\n",
    "                   weights_name, TIME_STEPS, FEATURES)\n"
   ]
  },
  {
   "cell_type": "code",
   "execution_count": null,
   "metadata": {
    "scrolled": true
   },
   "outputs": [
    {
     "name": "stdout",
     "output_type": "stream",
     "text": [
      "time start\n",
      "Train on 737 samples, validate on 185 samples\n",
      "Epoch 1/300\n",
      "737/737 [==============================] - 14s 19ms/sample - loss: 1.3530 - tp: 462.0000 - fp: 68.0000 - tn: 38.0000 - fn: 169.0000 - accuracy: 0.6784 - precision: 0.8717 - recall: 0.7322 - auc: 0.5281 - val_loss: 1.2432 - val_tp: 142.0000 - val_fp: 22.0000 - val_tn: 4.0000 - val_fn: 17.0000 - val_accuracy: 0.7892 - val_precision: 0.8659 - val_recall: 0.8931 - val_auc: 0.5308\n",
      "Epoch 2/300\n",
      "737/737 [==============================] - 1s 1ms/sample - loss: 1.1568 - tp: 560.0000 - fp: 92.0000 - tn: 14.0000 - fn: 71.0000 - accuracy: 0.7788 - precision: 0.8589 - recall: 0.8875 - auc: 0.5639 - val_loss: 1.0774 - val_tp: 150.0000 - val_fp: 25.0000 - val_tn: 1.0000 - val_fn: 9.0000 - val_accuracy: 0.8162 - val_precision: 0.8571 - val_recall: 0.9434 - val_auc: 0.5229\n",
      "Epoch 3/300\n",
      "737/737 [==============================] - 1s 1ms/sample - loss: 0.9941 - tp: 611.0000 - fp: 92.0000 - tn: 14.0000 - fn: 20.0000 - accuracy: 0.8480 - precision: 0.8691 - recall: 0.9683 - auc: 0.6025 - val_loss: 0.9457 - val_tp: 154.0000 - val_fp: 26.0000 - val_tn: 0.0000e+00 - val_fn: 5.0000 - val_accuracy: 0.8324 - val_precision: 0.8556 - val_recall: 0.9686 - val_auc: 0.5327\n",
      "Epoch 4/300\n",
      "737/737 [==============================] - 1s 1ms/sample - loss: 0.8697 - tp: 623.0000 - fp: 100.0000 - tn: 6.0000 - fn: 8.0000 - accuracy: 0.8535 - precision: 0.8617 - recall: 0.9873 - auc: 0.6477 - val_loss: 0.8497 - val_tp: 159.0000 - val_fp: 26.0000 - val_tn: 0.0000e+00 - val_fn: 0.0000e+00 - val_accuracy: 0.8595 - val_precision: 0.8595 - val_recall: 1.0000 - val_auc: 0.5368\n",
      "Epoch 5/300\n",
      "737/737 [==============================] - 1s 1ms/sample - loss: 0.7773 - tp: 628.0000 - fp: 103.0000 - tn: 3.0000 - fn: 3.0000 - accuracy: 0.8562 - precision: 0.8591 - recall: 0.9952 - auc: 0.6860 - val_loss: 0.7807 - val_tp: 159.0000 - val_fp: 26.0000 - val_tn: 0.0000e+00 - val_fn: 0.0000e+00 - val_accuracy: 0.8595 - val_precision: 0.8595 - val_recall: 1.0000 - val_auc: 0.5478\n",
      "Epoch 6/300\n",
      "737/737 [==============================] - 1s 1ms/sample - loss: 0.7103 - tp: 631.0000 - fp: 103.0000 - tn: 3.0000 - fn: 0.0000e+00 - accuracy: 0.8602 - precision: 0.8597 - recall: 1.0000 - auc: 0.7135 - val_loss: 0.7285 - val_tp: 159.0000 - val_fp: 26.0000 - val_tn: 0.0000e+00 - val_fn: 0.0000e+00 - val_accuracy: 0.8595 - val_precision: 0.8595 - val_recall: 1.0000 - val_auc: 0.5665\n",
      "Epoch 7/300\n",
      "737/737 [==============================] - 1s 1ms/sample - loss: 0.6409 - tp: 631.0000 - fp: 101.0000 - tn: 5.0000 - fn: 0.0000e+00 - accuracy: 0.8630 - precision: 0.8620 - recall: 1.0000 - auc: 0.7917 - val_loss: 0.6903 - val_tp: 159.0000 - val_fp: 26.0000 - val_tn: 0.0000e+00 - val_fn: 0.0000e+00 - val_accuracy: 0.8595 - val_precision: 0.8595 - val_recall: 1.0000 - val_auc: 0.5766\n",
      "Epoch 8/300\n",
      "737/737 [==============================] - 1s 2ms/sample - loss: 0.5997 - tp: 631.0000 - fp: 97.0000 - tn: 9.0000 - fn: 0.0000e+00 - accuracy: 0.8684 - precision: 0.8668 - recall: 1.0000 - auc: 0.8070 - val_loss: 0.6630 - val_tp: 158.0000 - val_fp: 26.0000 - val_tn: 0.0000e+00 - val_fn: 1.0000 - val_accuracy: 0.8541 - val_precision: 0.8587 - val_recall: 0.9937 - val_auc: 0.5796\n",
      "Epoch 9/300\n",
      "737/737 [==============================] - 1s 1ms/sample - loss: 0.5572 - tp: 631.0000 - fp: 99.0000 - tn: 7.0000 - fn: 0.0000e+00 - accuracy: 0.8657 - precision: 0.8644 - recall: 1.0000 - auc: 0.8478 - val_loss: 0.6474 - val_tp: 158.0000 - val_fp: 26.0000 - val_tn: 0.0000e+00 - val_fn: 1.0000 - val_accuracy: 0.8541 - val_precision: 0.8587 - val_recall: 0.9937 - val_auc: 0.5663\n",
      "Epoch 10/300\n",
      "737/737 [==============================] - 1s 1ms/sample - loss: 0.5159 - tp: 629.0000 - fp: 92.0000 - tn: 14.0000 - fn: 2.0000 - accuracy: 0.8725 - precision: 0.8724 - recall: 0.9968 - auc: 0.8711 - val_loss: 0.6357 - val_tp: 158.0000 - val_fp: 25.0000 - val_tn: 1.0000 - val_fn: 1.0000 - val_accuracy: 0.8595 - val_precision: 0.8634 - val_recall: 0.9937 - val_auc: 0.5630\n",
      "Epoch 11/300\n",
      "737/737 [==============================] - 1s 1ms/sample - loss: 0.4826 - tp: 627.0000 - fp: 89.0000 - tn: 17.0000 - fn: 4.0000 - accuracy: 0.8738 - precision: 0.8757 - recall: 0.9937 - auc: 0.8925 - val_loss: 0.6368 - val_tp: 157.0000 - val_fp: 25.0000 - val_tn: 1.0000 - val_fn: 2.0000 - val_accuracy: 0.8541 - val_precision: 0.8626 - val_recall: 0.9874 - val_auc: 0.5432\n",
      "Epoch 12/300\n",
      "737/737 [==============================] - 1s 1ms/sample - loss: 0.4556 - tp: 628.0000 - fp: 77.0000 - tn: 29.0000 - fn: 3.0000 - accuracy: 0.8915 - precision: 0.8908 - recall: 0.9952 - auc: 0.9025 - val_loss: 0.6355 - val_tp: 156.0000 - val_fp: 25.0000 - val_tn: 1.0000 - val_fn: 3.0000 - val_accuracy: 0.8486 - val_precision: 0.8619 - val_recall: 0.9811 - val_auc: 0.5434\n",
      "Epoch 13/300\n",
      "737/737 [==============================] - 1s 1ms/sample - loss: 0.4297 - tp: 629.0000 - fp: 76.0000 - tn: 30.0000 - fn: 2.0000 - accuracy: 0.8942 - precision: 0.8922 - recall: 0.9968 - auc: 0.9185 - val_loss: 0.6404 - val_tp: 154.0000 - val_fp: 25.0000 - val_tn: 1.0000 - val_fn: 5.0000 - val_accuracy: 0.8378 - val_precision: 0.8603 - val_recall: 0.9686 - val_auc: 0.5398\n",
      "Epoch 14/300\n",
      "737/737 [==============================] - 1s 1ms/sample - loss: 0.4036 - tp: 628.0000 - fp: 63.0000 - tn: 43.0000 - fn: 3.0000 - accuracy: 0.9104 - precision: 0.9088 - recall: 0.9952 - auc: 0.9278 - val_loss: 0.6521 - val_tp: 155.0000 - val_fp: 25.0000 - val_tn: 1.0000 - val_fn: 4.0000 - val_accuracy: 0.8432 - val_precision: 0.8611 - val_recall: 0.9748 - val_auc: 0.5434\n",
      "Epoch 15/300\n",
      "737/737 [==============================] - 1s 2ms/sample - loss: 0.3919 - tp: 629.0000 - fp: 65.0000 - tn: 41.0000 - fn: 2.0000 - accuracy: 0.9091 - precision: 0.9063 - recall: 0.9968 - auc: 0.9321 - val_loss: 0.6571 - val_tp: 150.0000 - val_fp: 24.0000 - val_tn: 2.0000 - val_fn: 9.0000 - val_accuracy: 0.8216 - val_precision: 0.8621 - val_recall: 0.9434 - val_auc: 0.5360\n",
      "Epoch 16/300\n",
      "737/737 [==============================] - 1s 2ms/sample - loss: 0.3670 - tp: 627.0000 - fp: 55.0000 - tn: 51.0000 - fn: 4.0000 - accuracy: 0.9199 - precision: 0.9194 - recall: 0.9937 - auc: 0.9445 - val_loss: 0.6748 - val_tp: 146.0000 - val_fp: 23.0000 - val_tn: 3.0000 - val_fn: 13.0000 - val_accuracy: 0.8054 - val_precision: 0.8639 - val_recall: 0.9182 - val_auc: 0.5397\n",
      "Epoch 17/300\n",
      "737/737 [==============================] - 1s 2ms/sample - loss: 0.3406 - tp: 628.0000 - fp: 39.0000 - tn: 67.0000 - fn: 3.0000 - accuracy: 0.9430 - precision: 0.9415 - recall: 0.9952 - auc: 0.9586 - val_loss: 0.6892 - val_tp: 149.0000 - val_fp: 23.0000 - val_tn: 3.0000 - val_fn: 10.0000 - val_accuracy: 0.8216 - val_precision: 0.8663 - val_recall: 0.9371 - val_auc: 0.5392\n",
      "Epoch 18/300\n",
      "737/737 [==============================] - 1s 2ms/sample - loss: 0.3130 - tp: 628.0000 - fp: 34.0000 - tn: 72.0000 - fn: 3.0000 - accuracy: 0.9498 - precision: 0.9486 - recall: 0.9952 - auc: 0.9742 - val_loss: 0.7193 - val_tp: 150.0000 - val_fp: 23.0000 - val_tn: 3.0000 - val_fn: 9.0000 - val_accuracy: 0.8270 - val_precision: 0.8671 - val_recall: 0.9434 - val_auc: 0.5325\n",
      "Epoch 19/300\n",
      "737/737 [==============================] - 1s 2ms/sample - loss: 0.2958 - tp: 628.0000 - fp: 33.0000 - tn: 73.0000 - fn: 3.0000 - accuracy: 0.9512 - precision: 0.9501 - recall: 0.9952 - auc: 0.9797 - val_loss: 0.7541 - val_tp: 147.0000 - val_fp: 23.0000 - val_tn: 3.0000 - val_fn: 12.0000 - val_accuracy: 0.8108 - val_precision: 0.8647 - val_recall: 0.9245 - val_auc: 0.5243\n",
      "Epoch 20/300\n",
      "737/737 [==============================] - 1s 1ms/sample - loss: 0.2816 - tp: 627.0000 - fp: 25.0000 - tn: 81.0000 - fn: 4.0000 - accuracy: 0.9607 - precision: 0.9617 - recall: 0.9937 - auc: 0.9751 - val_loss: 0.7747 - val_tp: 146.0000 - val_fp: 23.0000 - val_tn: 3.0000 - val_fn: 13.0000 - val_accuracy: 0.8054 - val_precision: 0.8639 - val_recall: 0.9182 - val_auc: 0.5164\n",
      "Epoch 21/300\n",
      "737/737 [==============================] - 1s 1ms/sample - loss: 0.2633 - tp: 629.0000 - fp: 27.0000 - tn: 79.0000 - fn: 2.0000 - accuracy: 0.9607 - precision: 0.9588 - recall: 0.9968 - auc: 0.9833 - val_loss: 0.8246 - val_tp: 139.0000 - val_fp: 21.0000 - val_tn: 5.0000 - val_fn: 20.0000 - val_accuracy: 0.7784 - val_precision: 0.8687 - val_recall: 0.8742 - val_auc: 0.5037\n"
     ]
    },
    {
     "name": "stdout",
     "output_type": "stream",
     "text": [
      "Epoch 22/300\n",
      "737/737 [==============================] - 1s 1ms/sample - loss: 0.2556 - tp: 625.0000 - fp: 20.0000 - tn: 86.0000 - fn: 6.0000 - accuracy: 0.9647 - precision: 0.9690 - recall: 0.9905 - auc: 0.9820 - val_loss: 0.8076 - val_tp: 144.0000 - val_fp: 22.0000 - val_tn: 4.0000 - val_fn: 15.0000 - val_accuracy: 0.8000 - val_precision: 0.8675 - val_recall: 0.9057 - val_auc: 0.5233\n",
      "Epoch 23/300\n",
      "737/737 [==============================] - 1s 1ms/sample - loss: 0.2436 - tp: 627.0000 - fp: 16.0000 - tn: 90.0000 - fn: 4.0000 - accuracy: 0.9729 - precision: 0.9751 - recall: 0.9937 - auc: 0.9839 - val_loss: 0.8531 - val_tp: 143.0000 - val_fp: 22.0000 - val_tn: 4.0000 - val_fn: 16.0000 - val_accuracy: 0.7946 - val_precision: 0.8667 - val_recall: 0.8994 - val_auc: 0.5076\n",
      "Epoch 24/300\n",
      "737/737 [==============================] - 1s 1ms/sample - loss: 0.2298 - tp: 630.0000 - fp: 14.0000 - tn: 92.0000 - fn: 1.0000 - accuracy: 0.9796 - precision: 0.9783 - recall: 0.9984 - auc: 0.9857 - val_loss: 0.8922 - val_tp: 144.0000 - val_fp: 21.0000 - val_tn: 5.0000 - val_fn: 15.0000 - val_accuracy: 0.8054 - val_precision: 0.8727 - val_recall: 0.9057 - val_auc: 0.5002\n",
      "Epoch 25/300\n",
      "737/737 [==============================] - 1s 1ms/sample - loss: 0.2175 - tp: 630.0000 - fp: 13.0000 - tn: 93.0000 - fn: 1.0000 - accuracy: 0.9810 - precision: 0.9798 - recall: 0.9984 - auc: 0.9909 - val_loss: 0.9055 - val_tp: 142.0000 - val_fp: 21.0000 - val_tn: 5.0000 - val_fn: 17.0000 - val_accuracy: 0.7946 - val_precision: 0.8712 - val_recall: 0.8931 - val_auc: 0.4867\n",
      "Epoch 26/300\n",
      "737/737 [==============================] - 1s 1ms/sample - loss: 0.2075 - tp: 628.0000 - fp: 10.0000 - tn: 96.0000 - fn: 3.0000 - accuracy: 0.9824 - precision: 0.9843 - recall: 0.9952 - auc: 0.9907 - val_loss: 0.9123 - val_tp: 144.0000 - val_fp: 22.0000 - val_tn: 4.0000 - val_fn: 15.0000 - val_accuracy: 0.8000 - val_precision: 0.8675 - val_recall: 0.9057 - val_auc: 0.5273\n",
      "Epoch 27/300\n",
      "737/737 [==============================] - 1s 1ms/sample - loss: 0.2023 - tp: 626.0000 - fp: 11.0000 - tn: 95.0000 - fn: 5.0000 - accuracy: 0.9783 - precision: 0.9827 - recall: 0.9921 - auc: 0.9888 - val_loss: 0.9433 - val_tp: 147.0000 - val_fp: 24.0000 - val_tn: 2.0000 - val_fn: 12.0000 - val_accuracy: 0.8054 - val_precision: 0.8596 - val_recall: 0.9245 - val_auc: 0.5213\n",
      "Epoch 28/300\n",
      "737/737 [==============================] - 1s 1ms/sample - loss: 0.2013 - tp: 628.0000 - fp: 12.0000 - tn: 94.0000 - fn: 3.0000 - accuracy: 0.9796 - precision: 0.9812 - recall: 0.9952 - auc: 0.9897 - val_loss: 0.9335 - val_tp: 147.0000 - val_fp: 21.0000 - val_tn: 5.0000 - val_fn: 12.0000 - val_accuracy: 0.8216 - val_precision: 0.8750 - val_recall: 0.9245 - val_auc: 0.5117\n",
      "Epoch 29/300\n",
      "737/737 [==============================] - 1s 1ms/sample - loss: 0.1867 - tp: 631.0000 - fp: 9.0000 - tn: 97.0000 - fn: 0.0000e+00 - accuracy: 0.9878 - precision: 0.9859 - recall: 1.0000 - auc: 0.9956 - val_loss: 0.9490 - val_tp: 146.0000 - val_fp: 22.0000 - val_tn: 4.0000 - val_fn: 13.0000 - val_accuracy: 0.8108 - val_precision: 0.8690 - val_recall: 0.9182 - val_auc: 0.5354\n",
      "Epoch 30/300\n",
      "737/737 [==============================] - 1s 1ms/sample - loss: 0.1701 - tp: 629.0000 - fp: 6.0000 - tn: 100.0000 - fn: 2.0000 - accuracy: 0.9891 - precision: 0.9906 - recall: 0.9968 - auc: 0.9976 - val_loss: 0.9627 - val_tp: 145.0000 - val_fp: 22.0000 - val_tn: 4.0000 - val_fn: 14.0000 - val_accuracy: 0.8054 - val_precision: 0.8683 - val_recall: 0.9119 - val_auc: 0.5323\n",
      "Epoch 31/300\n",
      "737/737 [==============================] - 1s 1ms/sample - loss: 0.1625 - tp: 630.0000 - fp: 6.0000 - tn: 100.0000 - fn: 1.0000 - accuracy: 0.9905 - precision: 0.9906 - recall: 0.9984 - auc: 0.9976 - val_loss: 1.0327 - val_tp: 140.0000 - val_fp: 20.0000 - val_tn: 6.0000 - val_fn: 19.0000 - val_accuracy: 0.7892 - val_precision: 0.8750 - val_recall: 0.8805 - val_auc: 0.4987\n",
      "Epoch 32/300\n",
      "737/737 [==============================] - 1s 1ms/sample - loss: 0.1544 - tp: 628.0000 - fp: 4.0000 - tn: 102.0000 - fn: 3.0000 - accuracy: 0.9905 - precision: 0.9937 - recall: 0.9952 - auc: 0.9995 - val_loss: 1.0312 - val_tp: 143.0000 - val_fp: 19.0000 - val_tn: 7.0000 - val_fn: 16.0000 - val_accuracy: 0.8108 - val_precision: 0.8827 - val_recall: 0.8994 - val_auc: 0.5024\n",
      "Epoch 33/300\n",
      "737/737 [==============================] - 1s 1ms/sample - loss: 0.1568 - tp: 628.0000 - fp: 4.0000 - tn: 102.0000 - fn: 3.0000 - accuracy: 0.9905 - precision: 0.9937 - recall: 0.9952 - auc: 0.9983 - val_loss: 1.0352 - val_tp: 145.0000 - val_fp: 21.0000 - val_tn: 5.0000 - val_fn: 14.0000 - val_accuracy: 0.8108 - val_precision: 0.8735 - val_recall: 0.9119 - val_auc: 0.5122\n",
      "Epoch 34/300\n",
      "737/737 [==============================] - 1s 1ms/sample - loss: 0.1768 - tp: 629.0000 - fp: 10.0000 - tn: 96.0000 - fn: 2.0000 - accuracy: 0.9837 - precision: 0.9844 - recall: 0.9968 - auc: 0.9919 - val_loss: 1.0692 - val_tp: 148.0000 - val_fp: 23.0000 - val_tn: 3.0000 - val_fn: 11.0000 - val_accuracy: 0.8162 - val_precision: 0.8655 - val_recall: 0.9308 - val_auc: 0.5463\n",
      "Epoch 35/300\n",
      "737/737 [==============================] - 1s 1ms/sample - loss: 0.1677 - tp: 629.0000 - fp: 10.0000 - tn: 96.0000 - fn: 2.0000 - accuracy: 0.9837 - precision: 0.9844 - recall: 0.9968 - auc: 0.9972 - val_loss: 1.0699 - val_tp: 139.0000 - val_fp: 21.0000 - val_tn: 5.0000 - val_fn: 20.0000 - val_accuracy: 0.7784 - val_precision: 0.8687 - val_recall: 0.8742 - val_auc: 0.5100\n",
      "Epoch 36/300\n",
      "737/737 [==============================] - 1s 1ms/sample - loss: 0.1617 - tp: 626.0000 - fp: 9.0000 - tn: 97.0000 - fn: 5.0000 - accuracy: 0.9810 - precision: 0.9858 - recall: 0.9921 - auc: 0.9979 - val_loss: 1.0719 - val_tp: 146.0000 - val_fp: 23.0000 - val_tn: 3.0000 - val_fn: 13.0000 - val_accuracy: 0.8054 - val_precision: 0.8639 - val_recall: 0.9182 - val_auc: 0.5516\n",
      "Epoch 37/300\n",
      "737/737 [==============================] - 1s 1ms/sample - loss: 0.1574 - tp: 629.0000 - fp: 5.0000 - tn: 101.0000 - fn: 2.0000 - accuracy: 0.9905 - precision: 0.9921 - recall: 0.9968 - auc: 0.9957 - val_loss: 1.0788 - val_tp: 146.0000 - val_fp: 21.0000 - val_tn: 5.0000 - val_fn: 13.0000 - val_accuracy: 0.8162 - val_precision: 0.8743 - val_recall: 0.9182 - val_auc: 0.5100\n",
      "Epoch 38/300\n",
      "737/737 [==============================] - 1s 1ms/sample - loss: 0.1526 - tp: 630.0000 - fp: 7.0000 - tn: 99.0000 - fn: 1.0000 - accuracy: 0.9891 - precision: 0.9890 - recall: 0.9984 - auc: 0.9971 - val_loss: 1.0928 - val_tp: 138.0000 - val_fp: 20.0000 - val_tn: 6.0000 - val_fn: 21.0000 - val_accuracy: 0.7784 - val_precision: 0.8734 - val_recall: 0.8679 - val_auc: 0.5155\n",
      "Epoch 39/300\n",
      "737/737 [==============================] - 1s 1ms/sample - loss: 0.1403 - tp: 629.0000 - fp: 2.0000 - tn: 104.0000 - fn: 2.0000 - accuracy: 0.9946 - precision: 0.9968 - recall: 0.9968 - auc: 0.9985 - val_loss: 1.1180 - val_tp: 145.0000 - val_fp: 22.0000 - val_tn: 4.0000 - val_fn: 14.0000 - val_accuracy: 0.8054 - val_precision: 0.8683 - val_recall: 0.9119 - val_auc: 0.5341\n",
      "Epoch 40/300\n",
      "737/737 [==============================] - 1s 2ms/sample - loss: 0.1270 - tp: 631.0000 - fp: 4.0000 - tn: 102.0000 - fn: 0.0000e+00 - accuracy: 0.9946 - precision: 0.9937 - recall: 1.0000 - auc: 0.9987 - val_loss: 1.1245 - val_tp: 143.0000 - val_fp: 21.0000 - val_tn: 5.0000 - val_fn: 16.0000 - val_accuracy: 0.8000 - val_precision: 0.8720 - val_recall: 0.8994 - val_auc: 0.5290\n",
      "Epoch 41/300\n",
      "737/737 [==============================] - 1s 2ms/sample - loss: 0.1292 - tp: 630.0000 - fp: 3.0000 - tn: 103.0000 - fn: 1.0000 - accuracy: 0.9946 - precision: 0.9953 - recall: 0.9984 - auc: 0.9976 - val_loss: 1.1198 - val_tp: 145.0000 - val_fp: 21.0000 - val_tn: 5.0000 - val_fn: 14.0000 - val_accuracy: 0.8108 - val_precision: 0.8735 - val_recall: 0.9119 - val_auc: 0.5298\n",
      "Epoch 42/300\n",
      "737/737 [==============================] - 2s 3ms/sample - loss: 0.1267 - tp: 630.0000 - fp: 2.0000 - tn: 104.0000 - fn: 1.0000 - accuracy: 0.9959 - precision: 0.9968 - recall: 0.9984 - auc: 0.9988 - val_loss: 1.1431 - val_tp: 144.0000 - val_fp: 21.0000 - val_tn: 5.0000 - val_fn: 15.0000 - val_accuracy: 0.8054 - val_precision: 0.8727 - val_recall: 0.9057 - val_auc: 0.5311\n",
      "Epoch 43/300\n"
     ]
    },
    {
     "name": "stdout",
     "output_type": "stream",
     "text": [
      "737/737 [==============================] - 3s 4ms/sample - loss: 0.1227 - tp: 631.0000 - fp: 3.0000 - tn: 103.0000 - fn: 0.0000e+00 - accuracy: 0.9959 - precision: 0.9953 - recall: 1.0000 - auc: 0.9987 - val_loss: 1.1571 - val_tp: 139.0000 - val_fp: 20.0000 - val_tn: 6.0000 - val_fn: 20.0000 - val_accuracy: 0.7838 - val_precision: 0.8742 - val_recall: 0.8742 - val_auc: 0.5329\n",
      "Epoch 44/300\n",
      "737/737 [==============================] - 3s 3ms/sample - loss: 0.1211 - tp: 628.0000 - fp: 3.0000 - tn: 103.0000 - fn: 3.0000 - accuracy: 0.9919 - precision: 0.9952 - recall: 0.9952 - auc: 0.9991 - val_loss: 1.1522 - val_tp: 145.0000 - val_fp: 22.0000 - val_tn: 4.0000 - val_fn: 14.0000 - val_accuracy: 0.8054 - val_precision: 0.8683 - val_recall: 0.9119 - val_auc: 0.5356\n",
      "Epoch 45/300\n",
      "737/737 [==============================] - 1s 2ms/sample - loss: 0.1204 - tp: 630.0000 - fp: 3.0000 - tn: 103.0000 - fn: 1.0000 - accuracy: 0.9946 - precision: 0.9953 - recall: 0.9984 - auc: 0.9988 - val_loss: 1.1601 - val_tp: 142.0000 - val_fp: 21.0000 - val_tn: 5.0000 - val_fn: 17.0000 - val_accuracy: 0.7946 - val_precision: 0.8712 - val_recall: 0.8931 - val_auc: 0.5422\n",
      "Epoch 46/300\n",
      "737/737 [==============================] - 2s 2ms/sample - loss: 0.1249 - tp: 630.0000 - fp: 3.0000 - tn: 103.0000 - fn: 1.0000 - accuracy: 0.9946 - precision: 0.9953 - recall: 0.9984 - auc: 0.9973 - val_loss: 1.1529 - val_tp: 142.0000 - val_fp: 20.0000 - val_tn: 6.0000 - val_fn: 17.0000 - val_accuracy: 0.8000 - val_precision: 0.8765 - val_recall: 0.8931 - val_auc: 0.5507\n",
      "Epoch 47/300\n",
      "737/737 [==============================] - 3s 4ms/sample - loss: 0.1145 - tp: 629.0000 - fp: 2.0000 - tn: 104.0000 - fn: 2.0000 - accuracy: 0.9946 - precision: 0.9968 - recall: 0.9968 - auc: 0.9996 - val_loss: 1.2584 - val_tp: 136.0000 - val_fp: 19.0000 - val_tn: 7.0000 - val_fn: 23.0000 - val_accuracy: 0.7730 - val_precision: 0.8774 - val_recall: 0.8553 - val_auc: 0.5400\n",
      "Epoch 48/300\n",
      "737/737 [==============================] - 2s 3ms/sample - loss: 0.1172 - tp: 629.0000 - fp: 3.0000 - tn: 103.0000 - fn: 2.0000 - accuracy: 0.9932 - precision: 0.9953 - recall: 0.9968 - auc: 0.9996 - val_loss: 1.2229 - val_tp: 140.0000 - val_fp: 21.0000 - val_tn: 5.0000 - val_fn: 19.0000 - val_accuracy: 0.7838 - val_precision: 0.8696 - val_recall: 0.8805 - val_auc: 0.5485\n",
      "Epoch 49/300\n",
      "737/737 [==============================] - 3s 4ms/sample - loss: 0.1075 - tp: 630.0000 - fp: 3.0000 - tn: 103.0000 - fn: 1.0000 - accuracy: 0.9946 - precision: 0.9953 - recall: 0.9984 - auc: 0.9999 - val_loss: 1.2267 - val_tp: 138.0000 - val_fp: 21.0000 - val_tn: 5.0000 - val_fn: 21.0000 - val_accuracy: 0.7730 - val_precision: 0.8679 - val_recall: 0.8679 - val_auc: 0.5578\n",
      "Epoch 50/300\n",
      "737/737 [==============================] - 3s 4ms/sample - loss: 0.1056 - tp: 630.0000 - fp: 2.0000 - tn: 104.0000 - fn: 1.0000 - accuracy: 0.9959 - precision: 0.9968 - recall: 0.9984 - auc: 0.9999 - val_loss: 1.2583 - val_tp: 134.0000 - val_fp: 20.0000 - val_tn: 6.0000 - val_fn: 25.0000 - val_accuracy: 0.7568 - val_precision: 0.8701 - val_recall: 0.8428 - val_auc: 0.5457\n",
      "Epoch 51/300\n",
      "737/737 [==============================] - 2s 3ms/sample - loss: 0.1031 - tp: 631.0000 - fp: 2.0000 - tn: 104.0000 - fn: 0.0000e+00 - accuracy: 0.9973 - precision: 0.9968 - recall: 1.0000 - auc: 0.9999 - val_loss: 1.2912 - val_tp: 140.0000 - val_fp: 20.0000 - val_tn: 6.0000 - val_fn: 19.0000 - val_accuracy: 0.7892 - val_precision: 0.8750 - val_recall: 0.8805 - val_auc: 0.5564\n",
      "Epoch 52/300\n",
      "737/737 [==============================] - 2s 3ms/sample - loss: 0.1099 - tp: 629.0000 - fp: 4.0000 - tn: 102.0000 - fn: 2.0000 - accuracy: 0.9919 - precision: 0.9937 - recall: 0.9968 - auc: 0.9994 - val_loss: 1.2748 - val_tp: 144.0000 - val_fp: 22.0000 - val_tn: 4.0000 - val_fn: 15.0000 - val_accuracy: 0.8000 - val_precision: 0.8675 - val_recall: 0.9057 - val_auc: 0.5671\n",
      "Epoch 53/300\n",
      "737/737 [==============================] - 3s 4ms/sample - loss: 0.1243 - tp: 626.0000 - fp: 4.0000 - tn: 102.0000 - fn: 5.0000 - accuracy: 0.9878 - precision: 0.9937 - recall: 0.9921 - auc: 0.9989 - val_loss: 1.3538 - val_tp: 137.0000 - val_fp: 22.0000 - val_tn: 4.0000 - val_fn: 22.0000 - val_accuracy: 0.7622 - val_precision: 0.8616 - val_recall: 0.8616 - val_auc: 0.5501\n",
      "Epoch 54/300\n",
      "737/737 [==============================] - 2s 3ms/sample - loss: 0.1855 - tp: 622.0000 - fp: 13.0000 - tn: 93.0000 - fn: 9.0000 - accuracy: 0.9701 - precision: 0.9795 - recall: 0.9857 - auc: 0.9912 - val_loss: 1.3294 - val_tp: 133.0000 - val_fp: 21.0000 - val_tn: 5.0000 - val_fn: 26.0000 - val_accuracy: 0.7459 - val_precision: 0.8636 - val_recall: 0.8365 - val_auc: 0.5454\n",
      "Epoch 55/300\n",
      "737/737 [==============================] - 3s 4ms/sample - loss: 0.1773 - tp: 626.0000 - fp: 8.0000 - tn: 98.0000 - fn: 5.0000 - accuracy: 0.9824 - precision: 0.9874 - recall: 0.9921 - auc: 0.9906 - val_loss: 1.2469 - val_tp: 137.0000 - val_fp: 20.0000 - val_tn: 6.0000 - val_fn: 22.0000 - val_accuracy: 0.7730 - val_precision: 0.8726 - val_recall: 0.8616 - val_auc: 0.5434\n",
      "Epoch 56/300\n",
      "737/737 [==============================] - 2s 2ms/sample - loss: 0.1518 - tp: 626.0000 - fp: 4.0000 - tn: 102.0000 - fn: 5.0000 - accuracy: 0.9878 - precision: 0.9937 - recall: 0.9921 - auc: 0.9988 - val_loss: 1.3113 - val_tp: 142.0000 - val_fp: 24.0000 - val_tn: 2.0000 - val_fn: 17.0000 - val_accuracy: 0.7784 - val_precision: 0.8554 - val_recall: 0.8931 - val_auc: 0.5272\n",
      "Epoch 57/300\n",
      "737/737 [==============================] - 1s 2ms/sample - loss: 0.1280 - tp: 630.0000 - fp: 2.0000 - tn: 104.0000 - fn: 1.0000 - accuracy: 0.9959 - precision: 0.9968 - recall: 0.9984 - auc: 1.0000 - val_loss: 1.3431 - val_tp: 138.0000 - val_fp: 23.0000 - val_tn: 3.0000 - val_fn: 21.0000 - val_accuracy: 0.7622 - val_precision: 0.8571 - val_recall: 0.8679 - val_auc: 0.5186\n",
      "Epoch 58/300\n",
      "737/737 [==============================] - 4s 5ms/sample - loss: 0.1175 - tp: 631.0000 - fp: 2.0000 - tn: 104.0000 - fn: 0.0000e+00 - accuracy: 0.9973 - precision: 0.9968 - recall: 1.0000 - auc: 0.9999 - val_loss: 1.3398 - val_tp: 138.0000 - val_fp: 23.0000 - val_tn: 3.0000 - val_fn: 21.0000 - val_accuracy: 0.7622 - val_precision: 0.8571 - val_recall: 0.8679 - val_auc: 0.5420\n",
      "Epoch 59/300\n",
      "737/737 [==============================] - 2s 3ms/sample - loss: 0.1072 - tp: 631.0000 - fp: 2.0000 - tn: 104.0000 - fn: 0.0000e+00 - accuracy: 0.9973 - precision: 0.9968 - recall: 1.0000 - auc: 1.0000 - val_loss: 1.3001 - val_tp: 141.0000 - val_fp: 23.0000 - val_tn: 3.0000 - val_fn: 18.0000 - val_accuracy: 0.7784 - val_precision: 0.8598 - val_recall: 0.8868 - val_auc: 0.5483\n",
      "Epoch 60/300\n",
      "737/737 [==============================] - 2s 2ms/sample - loss: 0.1060 - tp: 631.0000 - fp: 1.0000 - tn: 105.0000 - fn: 0.0000e+00 - accuracy: 0.9986 - precision: 0.9984 - recall: 1.0000 - auc: 1.0000 - val_loss: 1.3080 - val_tp: 139.0000 - val_fp: 23.0000 - val_tn: 3.0000 - val_fn: 20.0000 - val_accuracy: 0.7676 - val_precision: 0.8580 - val_recall: 0.8742 - val_auc: 0.5553\n",
      "Epoch 61/300\n",
      "737/737 [==============================] - 1s 2ms/sample - loss: 0.1021 - tp: 631.0000 - fp: 1.0000 - tn: 105.0000 - fn: 0.0000e+00 - accuracy: 0.9986 - precision: 0.9984 - recall: 1.0000 - auc: 1.0000 - val_loss: 1.2904 - val_tp: 142.0000 - val_fp: 22.0000 - val_tn: 4.0000 - val_fn: 17.0000 - val_accuracy: 0.7892 - val_precision: 0.8659 - val_recall: 0.8931 - val_auc: 0.5513\n",
      "Epoch 62/300\n",
      " 60/737 [=>............................] - ETA: 0s - loss: 0.1030 - tp: 54.0000 - fp: 0.0000e+00 - tn: 6.0000 - fn: 0.0000e+00 - accuracy: 1.0000 - precision: 1.0000 - recall: 1.0000 - auc: 1.0000"
     ]
    }
   ],
   "source": [
    "# train\n",
    "print('time start')\n",
    "start = timeit.default_timer()\n",
    "\n",
    "history = model.fit(Tensor_train, np.asarray(y_train), validation_data=(Tensor_test, np.asarray(y_test)),\n",
    "                    epochs=EPOCHS, batch_size=BATCH_SIZE, callbacks=[early_stopping])\n",
    "\n",
    "stop = timeit.default_timer()\n",
    "\n"
   ]
  },
  {
   "cell_type": "code",
   "execution_count": null,
   "metadata": {
    "scrolled": false
   },
   "outputs": [],
   "source": [
    "print('training took: ', stop - start)\n",
    "print(model.summary())\n",
    "\n",
    "plot_metrics(history)"
   ]
  },
  {
   "cell_type": "markdown",
   "metadata": {},
   "source": [
    "**Evaluate the model**\n",
    "\n",
    "We the confussion matriz, se the ROC curve and finally we take a look at the good clients to see how the model performs"
   ]
  },
  {
   "cell_type": "code",
   "execution_count": null,
   "metadata": {},
   "outputs": [],
   "source": [
    "train_results_baseline, test_results_baseline = keras_model_evaluation(model, Tensor_train, \n",
    "                                                                       y_train, Tensor_test, y_test,BATCH_SIZE)\n",
    "train_results_baseline.columns"
   ]
  },
  {
   "cell_type": "code",
   "execution_count": null,
   "metadata": {},
   "outputs": [],
   "source": [
    "# plot the probability distributions in training and test\n",
    "current_df = train_results_baseline\n",
    "plt.figure(figsize=(11,5))\n",
    "plt.title('Probability of falling into bad debt training')\n",
    "sns.kdeplot(current_df[current_df.true_label==1]['predicted_proba'],color='red' ,label='bad clients')\n",
    "sns.kdeplot(current_df[current_df.true_label==0]['predicted_proba'],color='blue' ,label='good clients')\n",
    "\n",
    "current_df = test_results_baseline\n",
    "\n",
    "plt.figure(figsize=(11,5))\n",
    "plt.title('Probability of falling into bad debt test')\n",
    "sns.kdeplot(current_df[current_df.true_label==1]['predicted_proba'],color='red' ,label='bad clients')\n",
    "sns.kdeplot(current_df[current_df.true_label==0]['predicted_proba'],color='blue' ,label='good clients')\n"
   ]
  },
  {
   "cell_type": "code",
   "execution_count": null,
   "metadata": {},
   "outputs": [],
   "source": [
    "print('Train confussion matrix: ')\n",
    "print(confusion_matrix(train_results_baseline['true_label'], train_results_baseline['predicted_label']))\n",
    "print('test confussion matrix: ')\n",
    "print(confusion_matrix(test_results_baseline['true_label'], test_results_baseline['predicted_label']))\n",
    "\n",
    "print('ROC z=15')    \n",
    "plot_roc_curve(train_results_baseline['true_label'], train_results_baseline['predicted_proba'],\n",
    "               test_results_baseline['true_label'], test_results_baseline['predicted_proba'])\n"
   ]
  },
  {
   "cell_type": "code",
   "execution_count": null,
   "metadata": {},
   "outputs": [],
   "source": [
    "# test for our \"good\" clients\n",
    "test_results_baseline[test_results_baseline.index.isin(good_client_loans)]\n"
   ]
  },
  {
   "cell_type": "markdown",
   "metadata": {},
   "source": [
    "## Optimized\n",
    "\n",
    "we try to uprade the model by tuning the hyper parameters and architecture\n",
    "\n",
    "1. increase num of neurons: for 1 hidden layer 10 neurons gives the best performance\n",
    "2. increase num of layers\n",
    "3. tune droput\n",
    "4. regularization\n",
    "5. Tune learning rate\n",
    "6. tune batch size\n",
    "7. use sample weights\n"
   ]
  },
  {
   "cell_type": "markdown",
   "metadata": {},
   "source": [
    "First optimize number of neurons for 2 layers. We use the AUC for both training and test sets to find the \"best\" model."
   ]
  },
  {
   "cell_type": "markdown",
   "metadata": {},
   "source": [
    "### hidden layers and number of neurons\n",
    "for 2 hidden layers find best configuration of neurons"
   ]
  },
  {
   "cell_type": "code",
   "execution_count": 158,
   "metadata": {},
   "outputs": [],
   "source": [
    "metrics_dict = {'first_layer_neurons':[], 'second_layer_neurons':[], 'train_auc':[], 'test_auc':[]}"
   ]
  },
  {
   "cell_type": "code",
   "execution_count": 210,
   "metadata": {},
   "outputs": [
    {
     "name": "stdout",
     "output_type": "stream",
     "text": [
      "init\n",
      "Restoring model weights from the end of the best epoch.\n",
      "Epoch 00032: early stopping\n",
      "test Accuracy: 0.88008803\n",
      "test Area Under Curve: 0.6961334\n",
      "test Accuracy: 0.7505721\n",
      "test Area Under Curve: 0.6999329\n",
      "init\n",
      "Restoring model weights from the end of the best epoch.\n",
      "Epoch 00031: early stopping\n",
      "test Accuracy: 0.8690869\n",
      "test Area Under Curve: 0.6031114\n",
      "test Accuracy: 0.7505721\n",
      "test Area Under Curve: 0.7209107\n",
      "init\n",
      "Restoring model weights from the end of the best epoch.\n",
      "Epoch 00032: early stopping\n",
      "test Accuracy: 0.8811881\n",
      "test Area Under Curve: 0.6803425\n",
      "test Accuracy: 0.75514877\n",
      "test Area Under Curve: 0.7188828\n",
      "init\n",
      "Restoring model weights from the end of the best epoch.\n",
      "Epoch 00032: early stopping\n",
      "test Accuracy: 0.87678766\n",
      "test Area Under Curve: 0.7013296\n",
      "test Accuracy: 0.7505721\n",
      "test Area Under Curve: 0.7062542\n",
      "init\n",
      "Restoring model weights from the end of the best epoch.\n",
      "Epoch 00032: early stopping\n",
      "test Accuracy: 0.88448846\n",
      "test Area Under Curve: 0.7441176\n",
      "test Accuracy: 0.7597254\n",
      "test Area Under Curve: 0.7111071\n",
      "init\n",
      "Restoring model weights from the end of the best epoch.\n",
      "Epoch 00032: early stopping\n",
      "test Accuracy: 0.87568754\n",
      "test Area Under Curve: 0.7401021\n",
      "test Accuracy: 0.7505721\n",
      "test Area Under Curve: 0.72095263\n",
      "init\n",
      "Restoring model weights from the end of the best epoch.\n",
      "Epoch 00032: early stopping\n",
      "test Accuracy: 0.88338834\n",
      "test Area Under Curve: 0.6696202\n",
      "test Accuracy: 0.7528604\n",
      "test Area Under Curve: 0.70086986\n",
      "init\n",
      "Restoring model weights from the end of the best epoch.\n",
      "Epoch 00031: early stopping\n",
      "test Accuracy: 0.8690869\n",
      "test Area Under Curve: 0.6534039\n",
      "test Accuracy: 0.7505721\n",
      "test Area Under Curve: 0.7052472\n",
      "init\n",
      "Restoring model weights from the end of the best epoch.\n",
      "Epoch 00031: early stopping\n",
      "test Accuracy: 0.8690869\n",
      "test Area Under Curve: 0.61602485\n",
      "test Accuracy: 0.7505721\n",
      "test Area Under Curve: 0.7285327\n"
     ]
    }
   ],
   "source": [
    "\n",
    "# DEFINING THE BASIC FORM OF THE NN\n",
    "EPOCHS = 300\n",
    "BATCH_SIZE = 32\n",
    "NUM_LAYERS = 2\n",
    "TIME_STEPS = Tensor_train.shape[2]\n",
    "FEATURES = Tensor_train.shape[1]\n",
    "REG = L1L2(l1=0.0, l2=0.0)\n",
    "\n",
    "USE_DROPOUT = True\n",
    "LEARNING_RATE = 0.001\n",
    "# name of the files to save\n",
    "weights_name = 'weights_lstm_optimized.h5'\n",
    "\n",
    "# for each size of first layer, iterate over all the seond layer sizes\n",
    "first_layer_sizes = [2,5,10,15]\n",
    "second_layer_sizes = [2,5,10,15]\n",
    "\n",
    "for h1 in first_layer_sizes:\n",
    "    for h2 in second_layer_sizes:\n",
    "        print('init')\n",
    "        HIDDEN_LAYER_SIZES = [h1, h2]\n",
    "        # compile the model \n",
    "        tf.keras.backend.clear_session()\n",
    "        init_random(1234)\n",
    "        # build the model\n",
    "        model = build_lstm(EPOCHS, BATCH_SIZE, HIDDEN_LAYER_SIZES, NUM_LAYERS, USE_DROPOUT, LEARNING_RATE, REG,\n",
    "                           weights_name, TIME_STEPS, FEATURES)\n",
    "        # train the model\n",
    "        start = timeit.default_timer()\n",
    "        history = model.fit(Tensor_train, np.asarray(y_train), validation_data=(Tensor_test, np.asarray(y_test)),\n",
    "                    epochs=EPOCHS, batch_size=batch_size, callbacks=[early_stopping], verbose = 0)\n",
    "        stop = timeit.default_timer()\n",
    "        \n",
    "        scores = model.evaluate(Tensor_train, np.asarray(y_train), verbose=0)\n",
    "        print(\"test Accuracy:\", scores[5] )\n",
    "        print(\"test Area Under Curve:\", scores[8] )\n",
    "        \n",
    "        metrics_dict['train_auc'].append(scores[8])\n",
    "        \n",
    "        scores = model.evaluate(Tensor_test, np.asarray(y_test), verbose=0)\n",
    "        print(\"test Accuracy:\", scores[5] )\n",
    "        print(\"test Area Under Curve:\", scores[8] )\n",
    "        metrics_dict['test_auc'].append(scores[8])\n",
    "        \n",
    "        # append neurons\n",
    "        metrics_dict['first_layer_neurons'].append(h1)\n",
    "        metrics_dict['second_layer_neurons'].append(h2)\n",
    "             \n"
   ]
  },
  {
   "cell_type": "code",
   "execution_count": 215,
   "metadata": {},
   "outputs": [
    {
     "name": "stdout",
     "output_type": "stream",
     "text": [
      "57\n",
      "53\n",
      "test auc:  0.7285327 train aux: 0.61602485 n h1:  11 n h1:  11\n",
      "test auc:  0.7111071 train aux: 0.7441176 n h1:  10 n h1:  10\n"
     ]
    }
   ],
   "source": [
    "print(np.argmax(metrics_dict['test_auc']))\n",
    "print(np.argmax(metrics_dict['train_auc']))\n",
    "\n",
    "print('test auc: ',metrics_dict['test_auc'][57], 'train aux:' ,metrics_dict['train_auc'][57],\n",
    "         'n h1: ', metrics_dict['first_layer_neurons'][57], 'n h1: ', metrics_dict['second_layer_neurons'][57])\n",
    "\n",
    "print('test auc: ',metrics_dict['test_auc'][53], 'train aux:' ,metrics_dict['train_auc'][53],\n",
    "         'n h1: ', metrics_dict['first_layer_neurons'][53], 'n h1: ', metrics_dict['second_layer_neurons'][53])"
   ]
  },
  {
   "cell_type": "markdown",
   "metadata": {},
   "source": [
    "### Drop out and regularization and learning rate\n",
    "\n",
    "It was found that the best model has 1 layer and 10 neurons. We now try to reduce overfitting"
   ]
  },
  {
   "cell_type": "code",
   "execution_count": 273,
   "metadata": {},
   "outputs": [],
   "source": [
    "# DEFINING THE BASIC FORM OF THE NN\n",
    "EPOCHS = 300\n",
    "BATCH_SIZE = 32\n",
    "NUM_LAYERS = 1\n",
    "HIDDEN_LAYER_SIZES = [10]\n",
    "TIME_STEPS = Tensor_train.shape[2]\n",
    "FEATURES = Tensor_train.shape[1]\n",
    "REG = L1L2(l1=0.01, l2=0.0)\n",
    "\n",
    "USE_DROPOUT = True\n",
    "LEARNING_RATE = 0.001\n",
    "\n",
    "# name of the files to save\n",
    "weights_name = 'weights_lstm.h5'\n",
    "\n",
    "# compile the model \n",
    "tf.keras.backend.clear_session()\n",
    "init_random(1234)\n",
    "\n",
    "# build the model\n",
    "model = build_lstm(EPOCHS, BATCH_SIZE, HIDDEN_LAYER_SIZES, NUM_LAYERS, USE_DROPOUT, LEARNING_RATE, REG,\n",
    "                   weights_name, TIME_STEPS, FEATURES)\n"
   ]
  },
  {
   "cell_type": "code",
   "execution_count": 274,
   "metadata": {
    "scrolled": true
   },
   "outputs": [
    {
     "name": "stdout",
     "output_type": "stream",
     "text": [
      "time start\n",
      "Train on 909 samples, validate on 437 samples\n",
      "Epoch 1/300\n",
      "909/909 [==============================] - 18s 20ms/sample - loss: 7.4755 - tp: 507.0000 - fp: 73.0000 - tn: 46.0000 - fn: 283.0000 - accuracy: 0.6084 - precision: 0.8741 - recall: 0.6418 - auc: 0.5378 - val_loss: 6.5087 - val_tp: 284.0000 - val_fp: 87.0000 - val_tn: 22.0000 - val_fn: 44.0000 - val_accuracy: 0.7002 - val_precision: 0.7655 - val_recall: 0.8659 - val_auc: 0.6115\n",
      "Epoch 2/300\n",
      "909/909 [==============================] - 1s 1ms/sample - loss: 5.7107 - tp: 643.0000 - fp: 88.0000 - tn: 31.0000 - fn: 147.0000 - accuracy: 0.7415 - precision: 0.8796 - recall: 0.8139 - auc: 0.5639 - val_loss: 4.8860 - val_tp: 315.0000 - val_fp: 101.0000 - val_tn: 8.0000 - val_fn: 13.0000 - val_accuracy: 0.7391 - val_precision: 0.7572 - val_recall: 0.9604 - val_auc: 0.6503\n",
      "Epoch 3/300\n",
      "909/909 [==============================] - 1s 1ms/sample - loss: 4.1945 - tp: 734.0000 - fp: 106.0000 - tn: 13.0000 - fn: 56.0000 - accuracy: 0.8218 - precision: 0.8738 - recall: 0.9291 - auc: 0.5582 - val_loss: 3.5272 - val_tp: 323.0000 - val_fp: 105.0000 - val_tn: 4.0000 - val_fn: 5.0000 - val_accuracy: 0.7483 - val_precision: 0.7547 - val_recall: 0.9848 - val_auc: 0.6534\n",
      "Epoch 4/300\n",
      "909/909 [==============================] - 1s 1ms/sample - loss: 2.9329 - tp: 771.0000 - fp: 117.0000 - tn: 2.0000 - fn: 19.0000 - accuracy: 0.8504 - precision: 0.8682 - recall: 0.9759 - auc: 0.5280 - val_loss: 2.4466 - val_tp: 328.0000 - val_fp: 109.0000 - val_tn: 0.0000e+00 - val_fn: 0.0000e+00 - val_accuracy: 0.7506 - val_precision: 0.7506 - val_recall: 1.0000 - val_auc: 0.6303\n",
      "Epoch 5/300\n",
      "909/909 [==============================] - 1s 1ms/sample - loss: 1.9255 - tp: 785.0000 - fp: 119.0000 - tn: 0.0000e+00 - fn: 5.0000 - accuracy: 0.8636 - precision: 0.8684 - recall: 0.9937 - auc: 0.5098 - val_loss: 1.6565 - val_tp: 328.0000 - val_fp: 109.0000 - val_tn: 0.0000e+00 - val_fn: 0.0000e+00 - val_accuracy: 0.7506 - val_precision: 0.7506 - val_recall: 1.0000 - val_auc: 0.5858\n",
      "Epoch 6/300\n",
      "909/909 [==============================] - 1s 2ms/sample - loss: 1.1899 - tp: 790.0000 - fp: 119.0000 - tn: 0.0000e+00 - fn: 0.0000e+00 - accuracy: 0.8691 - precision: 0.8691 - recall: 1.0000 - auc: 0.5310 - val_loss: 1.1353 - val_tp: 328.0000 - val_fp: 109.0000 - val_tn: 0.0000e+00 - val_fn: 0.0000e+00 - val_accuracy: 0.7506 - val_precision: 0.7506 - val_recall: 1.0000 - val_auc: 0.4493\n",
      "Epoch 7/300\n",
      "909/909 [==============================] - 1s 2ms/sample - loss: 0.7326 - tp: 790.0000 - fp: 119.0000 - tn: 0.0000e+00 - fn: 0.0000e+00 - accuracy: 0.8691 - precision: 0.8691 - recall: 1.0000 - auc: 0.5357 - val_loss: 0.8175 - val_tp: 328.0000 - val_fp: 109.0000 - val_tn: 0.0000e+00 - val_fn: 0.0000e+00 - val_accuracy: 0.7506 - val_precision: 0.7506 - val_recall: 1.0000 - val_auc: 0.3976\n",
      "Epoch 8/300\n",
      "909/909 [==============================] - 1s 1ms/sample - loss: 0.5262 - tp: 790.0000 - fp: 119.0000 - tn: 0.0000e+00 - fn: 0.0000e+00 - accuracy: 0.8691 - precision: 0.8691 - recall: 1.0000 - auc: 0.5239 - val_loss: 0.7002 - val_tp: 328.0000 - val_fp: 109.0000 - val_tn: 0.0000e+00 - val_fn: 0.0000e+00 - val_accuracy: 0.7506 - val_precision: 0.7506 - val_recall: 1.0000 - val_auc: 0.4314\n",
      "Epoch 9/300\n",
      "909/909 [==============================] - 1s 1ms/sample - loss: 0.4598 - tp: 790.0000 - fp: 119.0000 - tn: 0.0000e+00 - fn: 0.0000e+00 - accuracy: 0.8691 - precision: 0.8691 - recall: 1.0000 - auc: 0.5401 - val_loss: 0.6615 - val_tp: 328.0000 - val_fp: 109.0000 - val_tn: 0.0000e+00 - val_fn: 0.0000e+00 - val_accuracy: 0.7506 - val_precision: 0.7506 - val_recall: 1.0000 - val_auc: 0.4245\n",
      "Epoch 10/300\n",
      "909/909 [==============================] - 1s 2ms/sample - loss: 0.4335 - tp: 790.0000 - fp: 119.0000 - tn: 0.0000e+00 - fn: 0.0000e+00 - accuracy: 0.8691 - precision: 0.8691 - recall: 1.0000 - auc: 0.5294 - val_loss: 0.6578 - val_tp: 328.0000 - val_fp: 109.0000 - val_tn: 0.0000e+00 - val_fn: 0.0000e+00 - val_accuracy: 0.7506 - val_precision: 0.7506 - val_recall: 1.0000 - val_auc: 0.3786\n",
      "Epoch 11/300\n",
      "909/909 [==============================] - 1s 1ms/sample - loss: 0.4216 - tp: 790.0000 - fp: 119.0000 - tn: 0.0000e+00 - fn: 0.0000e+00 - accuracy: 0.8691 - precision: 0.8691 - recall: 1.0000 - auc: 0.5356 - val_loss: 0.6452 - val_tp: 328.0000 - val_fp: 109.0000 - val_tn: 0.0000e+00 - val_fn: 0.0000e+00 - val_accuracy: 0.7506 - val_precision: 0.7506 - val_recall: 1.0000 - val_auc: 0.3914\n",
      "Epoch 12/300\n",
      "909/909 [==============================] - 2s 2ms/sample - loss: 0.4185 - tp: 790.0000 - fp: 119.0000 - tn: 0.0000e+00 - fn: 0.0000e+00 - accuracy: 0.8691 - precision: 0.8691 - recall: 1.0000 - auc: 0.5365 - val_loss: 0.6339 - val_tp: 328.0000 - val_fp: 109.0000 - val_tn: 0.0000e+00 - val_fn: 0.0000e+00 - val_accuracy: 0.7506 - val_precision: 0.7506 - val_recall: 1.0000 - val_auc: 0.4592\n",
      "Epoch 13/300\n",
      "909/909 [==============================] - 1s 1ms/sample - loss: 0.4171 - tp: 790.0000 - fp: 119.0000 - tn: 0.0000e+00 - fn: 0.0000e+00 - accuracy: 0.8691 - precision: 0.8691 - recall: 1.0000 - auc: 0.5127 - val_loss: 0.6387 - val_tp: 328.0000 - val_fp: 109.0000 - val_tn: 0.0000e+00 - val_fn: 0.0000e+00 - val_accuracy: 0.7506 - val_precision: 0.7506 - val_recall: 1.0000 - val_auc: 0.5167\n",
      "Epoch 14/300\n",
      "909/909 [==============================] - 1s 1ms/sample - loss: 0.4149 - tp: 790.0000 - fp: 119.0000 - tn: 0.0000e+00 - fn: 0.0000e+00 - accuracy: 0.8691 - precision: 0.8691 - recall: 1.0000 - auc: 0.5210 - val_loss: 0.6351 - val_tp: 328.0000 - val_fp: 109.0000 - val_tn: 0.0000e+00 - val_fn: 0.0000e+00 - val_accuracy: 0.7506 - val_precision: 0.7506 - val_recall: 1.0000 - val_auc: 0.3869\n",
      "Epoch 15/300\n",
      "909/909 [==============================] - 1s 1ms/sample - loss: 0.4250 - tp: 790.0000 - fp: 119.0000 - tn: 0.0000e+00 - fn: 0.0000e+00 - accuracy: 0.8691 - precision: 0.8691 - recall: 1.0000 - auc: 0.4877 - val_loss: 0.6313 - val_tp: 328.0000 - val_fp: 109.0000 - val_tn: 0.0000e+00 - val_fn: 0.0000e+00 - val_accuracy: 0.7506 - val_precision: 0.7506 - val_recall: 1.0000 - val_auc: 0.3634\n",
      "Epoch 16/300\n",
      "909/909 [==============================] - 1s 1ms/sample - loss: 0.4198 - tp: 790.0000 - fp: 119.0000 - tn: 0.0000e+00 - fn: 0.0000e+00 - accuracy: 0.8691 - precision: 0.8691 - recall: 1.0000 - auc: 0.4825 - val_loss: 0.6313 - val_tp: 328.0000 - val_fp: 109.0000 - val_tn: 0.0000e+00 - val_fn: 0.0000e+00 - val_accuracy: 0.7506 - val_precision: 0.7506 - val_recall: 1.0000 - val_auc: 0.4043\n",
      "Epoch 17/300\n",
      "909/909 [==============================] - 1s 1ms/sample - loss: 0.4082 - tp: 790.0000 - fp: 119.0000 - tn: 0.0000e+00 - fn: 0.0000e+00 - accuracy: 0.8691 - precision: 0.8691 - recall: 1.0000 - auc: 0.5766 - val_loss: 0.6297 - val_tp: 328.0000 - val_fp: 109.0000 - val_tn: 0.0000e+00 - val_fn: 0.0000e+00 - val_accuracy: 0.7506 - val_precision: 0.7506 - val_recall: 1.0000 - val_auc: 0.4497\n",
      "Epoch 18/300\n",
      "909/909 [==============================] - 1s 1ms/sample - loss: 0.4227 - tp: 790.0000 - fp: 119.0000 - tn: 0.0000e+00 - fn: 0.0000e+00 - accuracy: 0.8691 - precision: 0.8691 - recall: 1.0000 - auc: 0.4720 - val_loss: 0.6374 - val_tp: 328.0000 - val_fp: 109.0000 - val_tn: 0.0000e+00 - val_fn: 0.0000e+00 - val_accuracy: 0.7506 - val_precision: 0.7506 - val_recall: 1.0000 - val_auc: 0.3546\n",
      "Epoch 19/300\n",
      "909/909 [==============================] - 1s 1ms/sample - loss: 0.4112 - tp: 790.0000 - fp: 119.0000 - tn: 0.0000e+00 - fn: 0.0000e+00 - accuracy: 0.8691 - precision: 0.8691 - recall: 1.0000 - auc: 0.5537 - val_loss: 0.6367 - val_tp: 328.0000 - val_fp: 109.0000 - val_tn: 0.0000e+00 - val_fn: 0.0000e+00 - val_accuracy: 0.7506 - val_precision: 0.7506 - val_recall: 1.0000 - val_auc: 0.3872\n",
      "Epoch 20/300\n",
      "909/909 [==============================] - 1s 1ms/sample - loss: 0.4166 - tp: 790.0000 - fp: 119.0000 - tn: 0.0000e+00 - fn: 0.0000e+00 - accuracy: 0.8691 - precision: 0.8691 - recall: 1.0000 - auc: 0.5067 - val_loss: 0.6351 - val_tp: 327.0000 - val_fp: 109.0000 - val_tn: 0.0000e+00 - val_fn: 1.0000 - val_accuracy: 0.7483 - val_precision: 0.7500 - val_recall: 0.9970 - val_auc: 0.4040\n",
      "Epoch 21/300\n"
     ]
    },
    {
     "name": "stdout",
     "output_type": "stream",
     "text": [
      "909/909 [==============================] - 1s 1ms/sample - loss: 0.4094 - tp: 790.0000 - fp: 119.0000 - tn: 0.0000e+00 - fn: 0.0000e+00 - accuracy: 0.8691 - precision: 0.8691 - recall: 1.0000 - auc: 0.5633 - val_loss: 0.6402 - val_tp: 328.0000 - val_fp: 109.0000 - val_tn: 0.0000e+00 - val_fn: 0.0000e+00 - val_accuracy: 0.7506 - val_precision: 0.7506 - val_recall: 1.0000 - val_auc: 0.3842\n",
      "Epoch 22/300\n",
      "909/909 [==============================] - 1s 1ms/sample - loss: 0.4142 - tp: 790.0000 - fp: 119.0000 - tn: 0.0000e+00 - fn: 0.0000e+00 - accuracy: 0.8691 - precision: 0.8691 - recall: 1.0000 - auc: 0.5290 - val_loss: 0.6326 - val_tp: 328.0000 - val_fp: 109.0000 - val_tn: 0.0000e+00 - val_fn: 0.0000e+00 - val_accuracy: 0.7506 - val_precision: 0.7506 - val_recall: 1.0000 - val_auc: 0.3355\n",
      "Epoch 23/300\n",
      "909/909 [==============================] - 1s 1ms/sample - loss: 0.4154 - tp: 790.0000 - fp: 119.0000 - tn: 0.0000e+00 - fn: 0.0000e+00 - accuracy: 0.8691 - precision: 0.8691 - recall: 1.0000 - auc: 0.5006 - val_loss: 0.6364 - val_tp: 328.0000 - val_fp: 109.0000 - val_tn: 0.0000e+00 - val_fn: 0.0000e+00 - val_accuracy: 0.7506 - val_precision: 0.7506 - val_recall: 1.0000 - val_auc: 0.3927\n",
      "Epoch 24/300\n",
      "909/909 [==============================] - 1s 1ms/sample - loss: 0.4123 - tp: 790.0000 - fp: 119.0000 - tn: 0.0000e+00 - fn: 0.0000e+00 - accuracy: 0.8691 - precision: 0.8691 - recall: 1.0000 - auc: 0.5219 - val_loss: 0.6309 - val_tp: 328.0000 - val_fp: 109.0000 - val_tn: 0.0000e+00 - val_fn: 0.0000e+00 - val_accuracy: 0.7506 - val_precision: 0.7506 - val_recall: 1.0000 - val_auc: 0.4465\n",
      "Epoch 25/300\n",
      "909/909 [==============================] - 1s 1ms/sample - loss: 0.4142 - tp: 790.0000 - fp: 119.0000 - tn: 0.0000e+00 - fn: 0.0000e+00 - accuracy: 0.8691 - precision: 0.8691 - recall: 1.0000 - auc: 0.5438 - val_loss: 0.6331 - val_tp: 328.0000 - val_fp: 109.0000 - val_tn: 0.0000e+00 - val_fn: 0.0000e+00 - val_accuracy: 0.7506 - val_precision: 0.7506 - val_recall: 1.0000 - val_auc: 0.5667\n",
      "Epoch 26/300\n",
      "909/909 [==============================] - 1s 1ms/sample - loss: 0.4173 - tp: 790.0000 - fp: 119.0000 - tn: 0.0000e+00 - fn: 0.0000e+00 - accuracy: 0.8691 - precision: 0.8691 - recall: 1.0000 - auc: 0.4953 - val_loss: 0.6341 - val_tp: 328.0000 - val_fp: 109.0000 - val_tn: 0.0000e+00 - val_fn: 0.0000e+00 - val_accuracy: 0.7506 - val_precision: 0.7506 - val_recall: 1.0000 - val_auc: 0.3765\n",
      "Epoch 27/300\n",
      "909/909 [==============================] - 1s 1ms/sample - loss: 0.4047 - tp: 790.0000 - fp: 119.0000 - tn: 0.0000e+00 - fn: 0.0000e+00 - accuracy: 0.8691 - precision: 0.8691 - recall: 1.0000 - auc: 0.5800 - val_loss: 0.6330 - val_tp: 328.0000 - val_fp: 109.0000 - val_tn: 0.0000e+00 - val_fn: 0.0000e+00 - val_accuracy: 0.7506 - val_precision: 0.7506 - val_recall: 1.0000 - val_auc: 0.3998\n",
      "Epoch 28/300\n",
      "909/909 [==============================] - 1s 1ms/sample - loss: 0.4133 - tp: 790.0000 - fp: 119.0000 - tn: 0.0000e+00 - fn: 0.0000e+00 - accuracy: 0.8691 - precision: 0.8691 - recall: 1.0000 - auc: 0.5246 - val_loss: 0.6335 - val_tp: 328.0000 - val_fp: 109.0000 - val_tn: 0.0000e+00 - val_fn: 0.0000e+00 - val_accuracy: 0.7506 - val_precision: 0.7506 - val_recall: 1.0000 - val_auc: 0.4049\n",
      "Epoch 29/300\n",
      "909/909 [==============================] - 1s 1ms/sample - loss: 0.4102 - tp: 790.0000 - fp: 119.0000 - tn: 0.0000e+00 - fn: 0.0000e+00 - accuracy: 0.8691 - precision: 0.8691 - recall: 1.0000 - auc: 0.5577 - val_loss: 0.6328 - val_tp: 328.0000 - val_fp: 109.0000 - val_tn: 0.0000e+00 - val_fn: 0.0000e+00 - val_accuracy: 0.7506 - val_precision: 0.7506 - val_recall: 1.0000 - val_auc: 0.3879\n",
      "Epoch 30/300\n",
      "909/909 [==============================] - 1s 1ms/sample - loss: 0.4268 - tp: 790.0000 - fp: 119.0000 - tn: 0.0000e+00 - fn: 0.0000e+00 - accuracy: 0.8691 - precision: 0.8691 - recall: 1.0000 - auc: 0.4361 - val_loss: 0.6311 - val_tp: 327.0000 - val_fp: 109.0000 - val_tn: 0.0000e+00 - val_fn: 1.0000 - val_accuracy: 0.7483 - val_precision: 0.7500 - val_recall: 0.9970 - val_auc: 0.4087\n",
      "Epoch 31/300\n",
      "909/909 [==============================] - 1s 1ms/sample - loss: 0.4170 - tp: 790.0000 - fp: 119.0000 - tn: 0.0000e+00 - fn: 0.0000e+00 - accuracy: 0.8691 - precision: 0.8691 - recall: 1.0000 - auc: 0.5232 - val_loss: 0.6364 - val_tp: 327.0000 - val_fp: 109.0000 - val_tn: 0.0000e+00 - val_fn: 1.0000 - val_accuracy: 0.7483 - val_precision: 0.7500 - val_recall: 0.9970 - val_auc: 0.4202\n",
      "Epoch 32/300\n",
      "909/909 [==============================] - 1s 1ms/sample - loss: 0.4175 - tp: 790.0000 - fp: 119.0000 - tn: 0.0000e+00 - fn: 0.0000e+00 - accuracy: 0.8691 - precision: 0.8691 - recall: 1.0000 - auc: 0.5207 - val_loss: 0.6313 - val_tp: 328.0000 - val_fp: 109.0000 - val_tn: 0.0000e+00 - val_fn: 0.0000e+00 - val_accuracy: 0.7506 - val_precision: 0.7506 - val_recall: 1.0000 - val_auc: 0.4279\n",
      "Epoch 33/300\n",
      "864/909 [===========================>..] - ETA: 0s - loss: 0.4170 - tp: 752.0000 - fp: 112.0000 - tn: 0.0000e+00 - fn: 0.0000e+00 - accuracy: 0.8704 - precision: 0.8704 - recall: 1.0000 - auc: 0.5230Restoring model weights from the end of the best epoch.\n",
      "909/909 [==============================] - 1s 1ms/sample - loss: 0.4194 - tp: 790.0000 - fp: 119.0000 - tn: 0.0000e+00 - fn: 0.0000e+00 - accuracy: 0.8691 - precision: 0.8691 - recall: 1.0000 - auc: 0.5214 - val_loss: 0.6387 - val_tp: 328.0000 - val_fp: 109.0000 - val_tn: 0.0000e+00 - val_fn: 0.0000e+00 - val_accuracy: 0.7506 - val_precision: 0.7506 - val_recall: 1.0000 - val_auc: 0.3701\n",
      "Epoch 00033: early stopping\n"
     ]
    }
   ],
   "source": [
    "# train\n",
    "print('time start')\n",
    "start = timeit.default_timer()\n",
    "\n",
    "history = model.fit(Tensor_train, np.asarray(y_train), validation_data=(Tensor_test, np.asarray(y_test)),\n",
    "                    epochs=EPOCHS, batch_size=batch_size, callbacks=[early_stopping])\n",
    "\n",
    "stop = timeit.default_timer()\n"
   ]
  },
  {
   "cell_type": "code",
   "execution_count": 243,
   "metadata": {},
   "outputs": [
    {
     "name": "stdout",
     "output_type": "stream",
     "text": [
      "training took:  56.31192269799976\n",
      "Model: \"sequential\"\n",
      "_________________________________________________________________\n",
      "Layer (type)                 Output Shape              Param #   \n",
      "=================================================================\n",
      "bidirectional (Bidirectional multiple                  8080      \n",
      "_________________________________________________________________\n",
      "dropout (Dropout)            multiple                  0         \n",
      "_________________________________________________________________\n",
      "flatten (Flatten)            multiple                  0         \n",
      "_________________________________________________________________\n",
      "dense (Dense)                multiple                  21        \n",
      "=================================================================\n",
      "Total params: 8,101\n",
      "Trainable params: 8,101\n",
      "Non-trainable params: 0\n",
      "_________________________________________________________________\n",
      "None\n"
     ]
    },
    {
     "data": {
      "image/png": "[encoded data removed]",
      "text/plain": [
       "<Figure size 1080x864 with 4 Axes>"
      ]
     },
     "metadata": {},
     "output_type": "display_data"
    }
   ],
   "source": [
    "print('training took: ', stop - start)\n",
    "print(model.summary())\n",
    "plot_metrics(history)"
   ]
  },
  {
   "cell_type": "code",
   "execution_count": 244,
   "metadata": {},
   "outputs": [
    {
     "name": "stdout",
     "output_type": "stream",
     "text": [
      "Accuracy: 0.7688787\n",
      "Area Under Curve: 0.72650486\n",
      "\n",
      "Train confussion matrix: \n",
      "[[  5 114]\n",
      " [  1 789]]\n",
      "test confussion matrix: \n",
      "[[ 14  95]\n",
      " [  6 322]]\n",
      "ROC z=15\n"
     ]
    },
    {
     "data": {
      "image/png": "[encoded data removed]",
      "text/plain": [
       "<Figure size 576x504 with 1 Axes>"
      ]
     },
     "metadata": {},
     "output_type": "display_data"
    }
   ],
   "source": [
    "train_results_baseline, test_results_baseline = keras_model_evaluation(model, Tensor_train, \n",
    "                                                                       y_train, Tensor_test, y_test)\n",
    "print('Train confussion matrix: ')\n",
    "print(confusion_matrix(train_results_baseline['true_label'], train_results_baseline['predicted_label']))\n",
    "print('test confussion matrix: ')\n",
    "print(confusion_matrix(test_results_baseline['true_label'], test_results_baseline['predicted_label']))\n",
    "\n",
    "print('ROC z=15')    \n",
    "plot_roc_curve(train_results_baseline['true_label'], train_results_baseline['predicted_proba'],\n",
    "               test_results_baseline['true_label'], test_results_baseline['predicted_proba'])"
   ]
  },
  {
   "cell_type": "markdown",
   "metadata": {},
   "source": [
    "### batch size"
   ]
  },
  {
   "cell_type": "code",
   "execution_count": null,
   "metadata": {},
   "outputs": [],
   "source": []
  },
  {
   "cell_type": "code",
   "execution_count": null,
   "metadata": {},
   "outputs": [],
   "source": []
  },
  {
   "cell_type": "code",
   "execution_count": null,
   "metadata": {},
   "outputs": [],
   "source": []
  }
 ],
 "metadata": {
  "kernelspec": {
   "display_name": "Python 3.7 (tensorflow)",
   "language": "python",
   "name": "tensorflow"
  },
  "language_info": {
   "codemirror_mode": {
    "name": "ipython",
    "version": 3
   },
   "file_extension": ".py",
   "mimetype": "text/x-python",
   "name": "python",
   "nbconvert_exporter": "python",
   "pygments_lexer": "ipython3",
   "version": "3.7.7"
  }
 },
 "nbformat": 4,
 "nbformat_minor": 2
}
