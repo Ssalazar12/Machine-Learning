{
 "cells": [
  {
   "cell_type": "code",
   "execution_count": 52,
   "metadata": {},
   "outputs": [],
   "source": [
    "#Testing performance by variating learning rules and cost functions\n",
    "import pickle\n",
    "import numpy as np\n",
    "import matplotlib.pyplot as plt\n",
    "import tensorflow as tf\n",
    "import pandas as pd\n",
    "from sklearn.model_selection import train_test_split"
   ]
  },
  {
   "cell_type": "code",
   "execution_count": 53,
   "metadata": {},
   "outputs": [],
   "source": [
    "#The data corresponds to a matrix in which each row vector corresponds to a 20x20 spin configuration\n",
    "#at a certain temperature. The number of rows of this data matrix indicates the number of conficurations\n",
    "#and the number of columns is 20**2\n",
    "\n",
    "#the data was generated using the code found in https://github.com/tarod13/Monograph\n",
    "\n",
    "#configurations with mode=0, the initial state is a random  matrix \n",
    "def load_pickle(pickle_file):\n",
    "    try:\n",
    "        with open(pickle_file, 'rb') as f:\n",
    "            pickle_data = pickle.load(f)\n",
    "    except UnicodeDecodeError as e:\n",
    "        with open(pickle_file, 'rb') as f:\n",
    "            pickle_data = pickle.load(f, encoding='latin1')\n",
    "    except Exception as e:\n",
    "        print('Unable to load data ', pickle_file, ':', e)\n",
    "        raise\n",
    "    return pickle_data\n",
    "\n",
    "with open('spins_nConfig4600.p', 'rb') as f:\n",
    "    data = pickle.load(f)\n",
    "\n",
    "temp = load_pickle('temperatures_nConfig4600.p')"
   ]
  },
  {
   "cell_type": "code",
   "execution_count": 54,
   "metadata": {},
   "outputs": [
    {
     "name": "stdout",
     "output_type": "stream",
     "text": [
      "4600\n",
      "1024\n"
     ]
    }
   ],
   "source": [
    "n_config=np.shape(data)[0]\n",
    "n_spins=len(data[0,:])\n",
    "\n",
    "print(n_config)\n",
    "print(n_spins)\n",
    "\n",
    "M=[] #stores the total (scaled) magnetization of each configuration in terms of temperature\n",
    "\n",
    "#calculates magnetization for each configuration\n",
    "for i in range(0,n_config):\n",
    "    m=0\n",
    "    m=np.sum(data[i,:])/n_spins    \n",
    "    M.append(m)"
   ]
  },
  {
   "cell_type": "code",
   "execution_count": 55,
   "metadata": {},
   "outputs": [
    {
     "data": {
      "image/png": "[encoded data removed]",
      "text/plain": [
       "<Figure size 576x432 with 2 Axes>"
      ]
     },
     "metadata": {},
     "output_type": "display_data"
    }
   ],
   "source": [
    "#Cambiando las labels a temperatura. La idea es que todo antes de la temperatura crítica sea por ejemplo [1,0] y\n",
    "#todo por encima [0,1]. De nuevo usamos newT, newD y newM\n",
    "\n",
    "#represents two output neurons [1,0] means ober critical T and [0,1] means under critical T\n",
    "#holds all the labels\n",
    "labels_T=np.zeros((len(temp),2)) \n",
    "\n",
    "#asigns label with respect to critical temperature\n",
    "def T_labels(Ma,Te,crit,labels):\n",
    "    T=np.array(Te)\n",
    "    M = np.array(Ma)\n",
    "    ii= T< crit\n",
    "    jj = T>=crit\n",
    "    #under Tc\n",
    "    labels[ii,:]=[0,1]\n",
    "    labels[jj,:]=[1,0]\n",
    "    return T[ii], M[ii], T[jj], M[jj]\n",
    "    \n",
    "Tc=2.2691853\n",
    "\n",
    "T_small, M_small, T_big, M_big = T_labels(M, temp, Tc,labels_T)\n",
    "\n",
    "#plt.scatter(T_less,M_less)\n",
    "#plt.scatter(T_big, M_big)\n",
    "#plt.axvline(x=Tc, color='red')\n",
    "\n",
    "fig, subp=plt.subplots(2,1,figsize=(8,6)) #crea 2 subplots en una columna\n",
    "#fig es la entidad figura y subp es un array que en cada posicion guarda el subplot\n",
    "#subp se puede manipular como un array para modificar individualmente los subplots\n",
    "subp[0].scatter(T_small,M_small)\n",
    "subp[0].scatter(T_big, M_big)\n",
    "subp[0].set_title('Temperature separation')\n",
    "subp[0].axvline(x=Tc, color='red')\n",
    "subp[1].scatter(temp,labels_T[:,0], label='High T Neuron')\n",
    "subp[1].scatter(temp,labels_T[:,1], label='Low T Neuron')\n",
    "subp[1].set_title('Label output')\n",
    "subp[1].legend()\n",
    "subp[1].axvline(x=Tc, color='red')\n",
    "subp\n",
    "fig.tight_layout() #ajusta la distancia entre plots\n"
   ]
  },
  {
   "cell_type": "code",
   "execution_count": 56,
   "metadata": {},
   "outputs": [],
   "source": [
    "data = pd.DataFrame(data)\n",
    "temp = pd.DataFrame(temp,columns=['T'])\n",
    "data_withT = pd.concat([data,temp],axis=1)\n"
   ]
  },
  {
   "cell_type": "code",
   "execution_count": 57,
   "metadata": {},
   "outputs": [],
   "source": [
    "#creates a train test split delete if you have another data set\n",
    "X_trainT, X_testT, y_train, y_test = train_test_split(data_withT,labels_T,test_size=0.3,random_state=101)"
   ]
  },
  {
   "cell_type": "code",
   "execution_count": 58,
   "metadata": {},
   "outputs": [],
   "source": [
    "X_train=X_trainT.drop('T', axis=1)\n",
    "X_test = X_testT.drop('T', axis=1)"
   ]
  },
  {
   "cell_type": "code",
   "execution_count": 59,
   "metadata": {},
   "outputs": [],
   "source": [
    "#initializes weights\n",
    "def weig(shape):\n",
    "    first= tf.random_normal(shape,stddev=0.2)\n",
    "    return tf.Variable(first)\n",
    "\n",
    "#initializes bias\n",
    "def bi(shape):\n",
    "    first = tf.constant(np.random.rand(), shape=shape)\n",
    "    return tf.Variable(first)\n",
    "\n",
    "#defines the output function of each neuron in the layer\n",
    "def layers(x, W,b):\n",
    "  return tf.nn.sigmoid(tf.matmul(x, W)+b)\n"
   ]
  },
  {
   "cell_type": "code",
   "execution_count": 60,
   "metadata": {},
   "outputs": [],
   "source": [
    "#WITH REGULARIZATION\n",
    "#IT takes a like 40 minutes to run 60k epochs and we obtain a train_accuracy of 0.96 and eval_acc of 0.93\n",
    "#very, very good\n",
    "\n",
    "\n",
    "n_labels=2 #there will be one output neuron for each label\n",
    "hidden=50 #number of hidden units\n",
    "size=n_spins #system size\n",
    "\n",
    "\n",
    "#Now we create the model with the input vector and teacher vector. This is the input layer\n",
    "x = tf.placeholder(\"float\", shape=[None, size])\n",
    "y = tf.placeholder(\"float\", shape=[None, n_labels]) #teacher vector = label\n",
    "\n",
    "\n",
    "#defining the hidden layer\n",
    "W_1 = weig([size,hidden])\n",
    "b_1 = bi([hidden])\n",
    "lay_1 = layers(x, W_1,b_1)\n",
    "#Output layer\n",
    "W_2 = weig([hidden,n_labels])\n",
    "b_2 = bi([n_labels])\n",
    "y_hat=layers(lay_1, W_2,b_2) #our predicted value\n",
    "\n",
    "#Defining the cost function\n",
    "error = tf.nn.softmax_cross_entropy_with_logits(labels=y, logits=y_hat)\n",
    "\n",
    "#adds an  regularization term to with a beta value\n",
    "beta=0.002 #for L1\n",
    "#beta =0.01 #for L2\n",
    "\n",
    "#creates an l1 regularizer\n",
    "l1_regularizer = tf.contrib.layers.l1_regularizer( scale=beta, scope=None)\n",
    "weights = tf.trainable_variables() # all vars from the graph\n",
    "reg_penalty = tf.contrib.layers.apply_regularization(l1_regularizer, weights)\n",
    "\n",
    "#this one for l2\n",
    "#error = tf.reduce_mean(error + beta *( tf.nn.l2_loss(W_1)+tf.nn.l2_loss(W_2)))\n",
    "\n",
    "#this one for l1\n",
    "error = tf.reduce_mean(error + reg_penalty)\n",
    "\n",
    "#optimizer = tf.train.GradientDescentOptimizer(learning_rate=0.001)\n",
    "optimizer = tf.train.AdamOptimizer(0.001)\n",
    "train = optimizer.minimize(error)\n",
    "\n",
    "\n",
    "#predictions\n",
    "correct_prediction = tf.equal(tf.argmax(y_hat,1), tf.argmax(y,1))\n",
    "accuracy = tf.reduce_mean(tf.cast(correct_prediction, \"float\"))\n"
   ]
  },
  {
   "cell_type": "code",
   "execution_count": 61,
   "metadata": {},
   "outputs": [],
   "source": [
    "saver2= tf.train.Saver()"
   ]
  },
  {
   "cell_type": "code",
   "execution_count": 62,
   "metadata": {
    "scrolled": true
   },
   "outputs": [
    {
     "name": "stdout",
     "output_type": "stream",
     "text": [
      "step 0, training accuracy 0.448447\n",
      "step 50, training accuracy 0.659006\n",
      "step 100, training accuracy 0.779814\n",
      "step 150, training accuracy 0.830435\n",
      "step 200, training accuracy 0.791925\n",
      "step 250, training accuracy 0.695031\n",
      "step 300, training accuracy 0.7\n",
      "step 350, training accuracy 0.693789\n",
      "step 400, training accuracy 0.68354\n",
      "step 450, training accuracy 0.66646\n",
      "step 500, training accuracy 0.648447\n",
      "step 550, training accuracy 0.643478\n",
      "step 600, training accuracy 0.632609\n",
      "step 650, training accuracy 0.648758\n",
      "step 700, training accuracy 0.663354\n",
      "step 750, training accuracy 0.686957\n",
      "step 800, training accuracy 0.702174\n",
      "step 850, training accuracy 0.709317\n",
      "step 900, training accuracy 0.714286\n",
      "step 950, training accuracy 0.717702\n",
      "step 1000, training accuracy 0.719565\n",
      "step 1050, training accuracy 0.719876\n",
      "step 1100, training accuracy 0.721429\n",
      "step 1150, training accuracy 0.72236\n",
      "step 1200, training accuracy 0.723292\n",
      "step 1250, training accuracy 0.723913\n",
      "step 1300, training accuracy 0.723913\n",
      "step 1350, training accuracy 0.723913\n",
      "step 1400, training accuracy 0.724534\n",
      "step 1450, training accuracy 0.724534\n",
      "step 1500, training accuracy 0.726398\n",
      "step 1550, training accuracy 0.727329\n",
      "step 1600, training accuracy 0.72764\n",
      "step 1650, training accuracy 0.72795\n",
      "step 1700, training accuracy 0.72795\n",
      "step 1750, training accuracy 0.72795\n",
      "step 1800, training accuracy 0.728261\n",
      "step 1850, training accuracy 0.728261\n",
      "step 1900, training accuracy 0.728261\n",
      "step 1950, training accuracy 0.728571\n",
      "step 2000, training accuracy 0.728261\n",
      "step 2050, training accuracy 0.728882\n",
      "step 2100, training accuracy 0.729193\n",
      "step 2150, training accuracy 0.729193\n",
      "step 2200, training accuracy 0.729193\n",
      "step 2250, training accuracy 0.729814\n",
      "step 2300, training accuracy 0.729503\n",
      "step 2350, training accuracy 0.730124\n",
      "step 2400, training accuracy 0.730124\n",
      "step 2450, training accuracy 0.730435\n",
      "step 2500, training accuracy 0.730124\n",
      "step 2550, training accuracy 0.730435\n",
      "step 2600, training accuracy 0.730745\n",
      "step 2650, training accuracy 0.730745\n",
      "step 2700, training accuracy 0.730435\n",
      "step 2750, training accuracy 0.730435\n",
      "step 2800, training accuracy 0.731056\n",
      "step 2850, training accuracy 0.730124\n",
      "step 2900, training accuracy 0.730435\n",
      "step 2950, training accuracy 0.730435\n",
      "step 3000, training accuracy 0.730124\n",
      "step 3050, training accuracy 0.730745\n",
      "step 3100, training accuracy 0.730435\n",
      "step 3150, training accuracy 0.730745\n",
      "step 3200, training accuracy 0.730435\n",
      "step 3250, training accuracy 0.730745\n",
      "step 3300, training accuracy 0.730745\n",
      "step 3350, training accuracy 0.730435\n",
      "step 3400, training accuracy 0.730745\n",
      "step 3450, training accuracy 0.730745\n",
      "step 3500, training accuracy 0.731056\n",
      "step 3550, training accuracy 0.731056\n",
      "step 3600, training accuracy 0.731056\n",
      "step 3650, training accuracy 0.730435\n",
      "step 3700, training accuracy 0.730124\n",
      "step 3750, training accuracy 0.730124\n",
      "step 3800, training accuracy 0.729814\n",
      "step 3850, training accuracy 0.730124\n",
      "step 3900, training accuracy 0.730124\n",
      "step 3950, training accuracy 0.730124\n",
      "step 4000, training accuracy 0.730124\n",
      "step 4050, training accuracy 0.730124\n",
      "step 4100, training accuracy 0.730124\n",
      "step 4150, training accuracy 0.730124\n",
      "step 4200, training accuracy 0.730124\n",
      "step 4250, training accuracy 0.730124\n",
      "step 4300, training accuracy 0.730124\n",
      "step 4350, training accuracy 0.730124\n",
      "step 4400, training accuracy 0.730435\n",
      "step 4450, training accuracy 0.731056\n",
      "step 4500, training accuracy 0.732609\n",
      "step 4550, training accuracy 0.733851\n",
      "step 4600, training accuracy 0.734161\n",
      "step 4650, training accuracy 0.734161\n",
      "step 4700, training accuracy 0.734783\n",
      "step 4750, training accuracy 0.735404\n",
      "step 4800, training accuracy 0.736025\n",
      "step 4850, training accuracy 0.736335\n",
      "step 4900, training accuracy 0.736646\n",
      "step 4950, training accuracy 0.736646\n",
      "step 5000, training accuracy 0.737267\n",
      "step 5050, training accuracy 0.737267\n",
      "step 5100, training accuracy 0.737267\n",
      "step 5150, training accuracy 0.737267\n",
      "step 5200, training accuracy 0.737267\n",
      "step 5250, training accuracy 0.737267\n",
      "step 5300, training accuracy 0.737888\n",
      "step 5350, training accuracy 0.823292\n",
      "step 5400, training accuracy 0.888199\n",
      "step 5450, training accuracy 0.930435\n",
      "step 5500, training accuracy 0.950932\n",
      "step 5550, training accuracy 0.958696\n",
      "step 5600, training accuracy 0.967702\n",
      "step 5650, training accuracy 0.97205\n",
      "step 5700, training accuracy 0.973913\n",
      "step 5750, training accuracy 0.975466\n",
      "step 5800, training accuracy 0.975466\n",
      "step 5850, training accuracy 0.977019\n",
      "step 5900, training accuracy 0.975776\n",
      "step 5950, training accuracy 0.975155\n",
      "step 6000, training accuracy 0.975155\n",
      "step 6050, training accuracy 0.975155\n",
      "step 6100, training accuracy 0.975155\n",
      "step 6150, training accuracy 0.974534\n",
      "step 6200, training accuracy 0.974845\n",
      "step 6250, training accuracy 0.974224\n",
      "step 6300, training accuracy 0.974534\n",
      "step 6350, training accuracy 0.974224\n",
      "step 6400, training accuracy 0.974534\n",
      "step 6450, training accuracy 0.973913\n",
      "step 6500, training accuracy 0.972981\n",
      "step 6550, training accuracy 0.973602\n",
      "step 6600, training accuracy 0.972981\n",
      "step 6650, training accuracy 0.973913\n",
      "step 6700, training accuracy 0.97236\n",
      "step 6750, training accuracy 0.973602\n",
      "step 6800, training accuracy 0.97236\n",
      "step 6850, training accuracy 0.973292\n",
      "step 6900, training accuracy 0.973292\n",
      "step 6950, training accuracy 0.972671\n",
      "Accuracy: 0.9729814\n"
     ]
    }
   ],
   "source": [
    "#TRAINING the NN\n",
    "#Variable outputs used to access data from the session tensors \n",
    "out=np.zeros(shape=(len(temp),n_labels))\n",
    "outav=np.zeros(shape=(len(temp)))\n",
    "outac = np.zeros(shape=(len(temp)))\n",
    "evolve_acc = []\n",
    "\n",
    "#starting a session \n",
    "init = tf.global_variables_initializer()\n",
    "with tf.Session() as sess:\n",
    "    \n",
    "    sess.run(init)\n",
    "    \n",
    "    epochs = 7000\n",
    "    #training cycle\n",
    "    \n",
    "    for i in range(epochs):\n",
    "        train_accuracy = sess.run(accuracy,feed_dict={ x:X_train, y: y_train})      \n",
    "        sess.run(train,feed_dict={x:X_train, y:y_train})#feeding data to the place holders \n",
    "        #stops training when accuracy crosses a certain threshold\n",
    "        if i%50 == 0:\n",
    "            evolve_acc.append(train_accuracy)\n",
    "            print (\"step %d, training accuracy %g\"%(i, train_accuracy))\n",
    "        if(train_accuracy>=0.98):\n",
    "            print(train_accuracy)\n",
    "            print(i)\n",
    "            break;\n",
    "    print(\"Accuracy:\", train_accuracy)\n",
    "\n",
    "    \n",
    "    #now let's try checking the neuron outputs for each temperature\n",
    "    out=(sess.run(y_hat,feed_dict={x:X_train, y:y_train}))\n",
    "    for i in range(len(temp)):\n",
    "        res=sess.run(y_hat,feed_dict={x: X_train, y: y_train})\n",
    "        \n",
    "    outav=res #neuron outputs\n",
    "    \n",
    "    saver2.save(sess, 'ising2.ckpt')"
   ]
  },
  {
   "cell_type": "code",
   "execution_count": 63,
   "metadata": {},
   "outputs": [],
   "source": [
    "#Loads test data\n",
    "#with open('spins_COP_test.p', 'rb') as f:\n",
    "#    test_D = pickle.load(f)\n",
    "#with open('temperatures_COP_test.p', 'rb') as f:\n",
    "#    test_T = pickle.load(f)"
   ]
  },
  {
   "cell_type": "code",
   "execution_count": 64,
   "metadata": {},
   "outputs": [],
   "source": [
    "#test_config=np.shape(test_D)[0]\n",
    "#test_spins=len(test_D[0,:])\n",
    "\n",
    "#print(test_config)\n",
    "#print(test_spins)\n",
    "\n",
    "#test_M=[] #stores the total (scaled) magnetization of each configuration in terms of temperature\n",
    "\n",
    "#calculates magnetization for each configuration\n",
    "#for i in range(0,n_config):\n",
    "#    m=0\n",
    "#    m=np.sum(test_D[i,:])/n_spins  \n",
    "#    test_M.append(m)\n",
    "\n",
    "#represents two output neurons [1,0] means ober critical T and [0,1] means under critical T\n",
    "#labels_test=np.zeros((len(test_T),2)) \n",
    "\n",
    "#T_small2, M_small2, T_big2, M_big2 = T_labels(test_M, test_T, Tc,labels_test)"
   ]
  },
  {
   "cell_type": "code",
   "execution_count": 65,
   "metadata": {},
   "outputs": [
    {
     "name": "stdout",
     "output_type": "stream",
     "text": [
      "INFO:tensorflow:Restoring parameters from ising2.ckpt\n",
      "evaluation accuracy= 0.9521739\n"
     ]
    }
   ],
   "source": [
    "#evaluates the trained network with the new unlabeled data\n",
    "with tf.Session() as sess:\n",
    "    #restores the model\n",
    "    saver2.restore(sess, 'ising2.ckpt')\n",
    "    for i in range(len(y_test)):\n",
    "        output= sess.run(y_hat,feed_dict={x:X_test})\n",
    "    print('evaluation accuracy=',  accuracy.eval({ x: X_test, y:y_test}))\n",
    "\n",
    "    h_w, o_w= sess.run([W_1,W_2],feed_dict={x:X_test})\n",
    "\n",
    "\n"
   ]
  },
  {
   "cell_type": "code",
   "execution_count": 66,
   "metadata": {},
   "outputs": [
    {
     "data": {
      "image/png": "[encoded data removed]",
      "text/plain": [
       "<Figure size 432x288 with 1 Axes>"
      ]
     },
     "metadata": {},
     "output_type": "display_data"
    }
   ],
   "source": [
    "x=X_testT['T']\n",
    "plt.scatter(x, output[:,0], label= 'High T neuron')\n",
    "plt.scatter(x, output[:,1], label= 'Low T neuron')\n",
    "plt.legend()\n",
    "plt.savefig('eval_performance_50.pdf')\n"
   ]
  },
  {
   "cell_type": "code",
   "execution_count": 67,
   "metadata": {},
   "outputs": [],
   "source": [
    "weigth_out=pd.DataFrame(h_w)\n",
    "weigth_out.to_csv('W_50.csv')\n",
    "\n",
    "out_out=pd.DataFrame(o_w)\n",
    "out_out.to_csv('O_50.csv')\n"
   ]
  },
  {
   "cell_type": "code",
   "execution_count": 68,
   "metadata": {},
   "outputs": [],
   "source": [
    "#Funny thing is that trainig acc varies but evaluation acc stays pretty much the same#Funny thing is that trainig acc varies but evaluation acc stays pretty much the same\n",
    "acc_out=pd.DataFrame(evolve_acc)\n",
    "acc_out.to_csv('acc_cross_entropy_50.csv')"
   ]
  },
  {
   "cell_type": "code",
   "execution_count": null,
   "metadata": {},
   "outputs": [],
   "source": []
  },
  {
   "cell_type": "code",
   "execution_count": null,
   "metadata": {},
   "outputs": [],
   "source": []
  },
  {
   "cell_type": "code",
   "execution_count": null,
   "metadata": {},
   "outputs": [],
   "source": []
  }
 ],
 "metadata": {
  "kernelspec": {
   "display_name": "Python 3",
   "language": "python",
   "name": "python3"
  },
  "language_info": {
   "codemirror_mode": {
    "name": "ipython",
    "version": 3
   },
   "file_extension": ".py",
   "mimetype": "text/x-python",
   "name": "python",
   "nbconvert_exporter": "python",
   "pygments_lexer": "ipython3",
   "version": "3.6.5"
  }
 },
 "nbformat": 4,
 "nbformat_minor": 2
}
