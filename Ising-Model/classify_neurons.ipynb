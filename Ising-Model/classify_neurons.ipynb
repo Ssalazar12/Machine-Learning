{
 "cells": [
  {
   "cell_type": "code",
   "execution_count": 22,
   "metadata": {},
   "outputs": [],
   "source": [
    "#takes the neuron weights from several networks trained in the same data set as the input data\n",
    "import numpy as np\n",
    "import matplotlib.pyplot as plt\n",
    "import pandas as pd\n",
    "from sklearn.cluster import KMeans\n",
    "from mpl_toolkits.mplot3d import Axes3D\n",
    "from sklearn.decomposition import PCA\n",
    "import tensorflow as tf"
   ]
  },
  {
   "cell_type": "code",
   "execution_count": 2,
   "metadata": {},
   "outputs": [
    {
     "data": {
      "text/plain": [
       "(1024, 1261)"
      ]
     },
     "execution_count": 2,
     "metadata": {},
     "output_type": "execute_result"
    }
   ],
   "source": [
    "#loads data\n",
    "w= pd.read_csv('/Users/rasputin/Desktop/Uni/Tesis/Ising_NN/32x32/das_data/W_70_1.csv')\n",
    "#creates a data frame containing all the data\n",
    "for i in range(2,19):\n",
    "    dummy=pd.read_csv('/Users/rasputin/Desktop/Uni/Tesis/Ising_NN/32x32/das_data/W_70_'+str(2)+'.csv')\n",
    "    dum2 = dummy.drop(['Unnamed: 0'], axis = 1)\n",
    "    w=pd.concat([w,dum2],axis=1)\n",
    "\n",
    "\n",
    "np.shape(w)"
   ]
  },
  {
   "cell_type": "code",
   "execution_count": 3,
   "metadata": {},
   "outputs": [],
   "source": [
    "w=w.drop(['Unnamed: 0'], axis=1)\n",
    "#transpose such that the features (pixels) are presented as columns and the rows are observations\n",
    "#such that the first 70 rows are the weights for the 70 hidden neurons in the first neural network\n",
    "#the next 70 rows are the weights for the 70 hidden neurons in the second neural network and so on\n",
    "\n"
   ]
  },
  {
   "cell_type": "code",
   "execution_count": 4,
   "metadata": {},
   "outputs": [
    {
     "data": {
      "text/html": [
       "<div>\n",
       "<style scoped>\n",
       "    .dataframe tbody tr th:only-of-type {\n",
       "        vertical-align: middle;\n",
       "    }\n",
       "\n",
       "    .dataframe tbody tr th {\n",
       "        vertical-align: top;\n",
       "    }\n",
       "\n",
       "    .dataframe thead th {\n",
       "        text-align: right;\n",
       "    }\n",
       "</style>\n",
       "<table border=\"1\" class=\"dataframe\">\n",
       "  <thead>\n",
       "    <tr style=\"text-align: right;\">\n",
       "      <th></th>\n",
       "      <th>0</th>\n",
       "      <th>1</th>\n",
       "      <th>2</th>\n",
       "      <th>3</th>\n",
       "      <th>4</th>\n",
       "      <th>5</th>\n",
       "      <th>6</th>\n",
       "      <th>7</th>\n",
       "      <th>8</th>\n",
       "      <th>9</th>\n",
       "      <th>...</th>\n",
       "      <th>1014</th>\n",
       "      <th>1015</th>\n",
       "      <th>1016</th>\n",
       "      <th>1017</th>\n",
       "      <th>1018</th>\n",
       "      <th>1019</th>\n",
       "      <th>1020</th>\n",
       "      <th>1021</th>\n",
       "      <th>1022</th>\n",
       "      <th>1023</th>\n",
       "    </tr>\n",
       "  </thead>\n",
       "  <tbody>\n",
       "    <tr>\n",
       "      <th>0</th>\n",
       "      <td>-0.011677</td>\n",
       "      <td>-0.008181</td>\n",
       "      <td>-0.009393</td>\n",
       "      <td>-0.011679</td>\n",
       "      <td>-0.010687</td>\n",
       "      <td>-0.009659</td>\n",
       "      <td>-0.010547</td>\n",
       "      <td>-0.009199</td>\n",
       "      <td>-0.010274</td>\n",
       "      <td>-0.011729</td>\n",
       "      <td>...</td>\n",
       "      <td>-0.012044</td>\n",
       "      <td>-0.011071</td>\n",
       "      <td>-0.012781</td>\n",
       "      <td>-0.014279</td>\n",
       "      <td>-0.011534</td>\n",
       "      <td>-0.007759</td>\n",
       "      <td>-0.011584</td>\n",
       "      <td>-0.009695</td>\n",
       "      <td>-0.010758</td>\n",
       "      <td>-0.013003</td>\n",
       "    </tr>\n",
       "    <tr>\n",
       "      <th>1</th>\n",
       "      <td>0.000212</td>\n",
       "      <td>0.000273</td>\n",
       "      <td>0.000202</td>\n",
       "      <td>0.000253</td>\n",
       "      <td>0.000301</td>\n",
       "      <td>0.000321</td>\n",
       "      <td>0.000271</td>\n",
       "      <td>0.000089</td>\n",
       "      <td>0.000321</td>\n",
       "      <td>0.000183</td>\n",
       "      <td>...</td>\n",
       "      <td>-0.000007</td>\n",
       "      <td>0.000034</td>\n",
       "      <td>0.000210</td>\n",
       "      <td>0.000136</td>\n",
       "      <td>0.000150</td>\n",
       "      <td>0.000343</td>\n",
       "      <td>0.000267</td>\n",
       "      <td>0.000320</td>\n",
       "      <td>0.000307</td>\n",
       "      <td>0.000105</td>\n",
       "    </tr>\n",
       "    <tr>\n",
       "      <th>2</th>\n",
       "      <td>-0.006268</td>\n",
       "      <td>-0.005727</td>\n",
       "      <td>-0.004714</td>\n",
       "      <td>-0.006211</td>\n",
       "      <td>-0.007390</td>\n",
       "      <td>-0.007212</td>\n",
       "      <td>-0.006862</td>\n",
       "      <td>-0.002563</td>\n",
       "      <td>-0.007924</td>\n",
       "      <td>-0.005423</td>\n",
       "      <td>...</td>\n",
       "      <td>-0.001938</td>\n",
       "      <td>-0.002260</td>\n",
       "      <td>-0.007194</td>\n",
       "      <td>-0.006576</td>\n",
       "      <td>-0.004623</td>\n",
       "      <td>-0.006966</td>\n",
       "      <td>-0.006850</td>\n",
       "      <td>-0.007167</td>\n",
       "      <td>-0.008032</td>\n",
       "      <td>-0.005015</td>\n",
       "    </tr>\n",
       "    <tr>\n",
       "      <th>3</th>\n",
       "      <td>0.011389</td>\n",
       "      <td>0.008075</td>\n",
       "      <td>0.009212</td>\n",
       "      <td>0.011330</td>\n",
       "      <td>0.010432</td>\n",
       "      <td>0.009458</td>\n",
       "      <td>0.010307</td>\n",
       "      <td>0.009076</td>\n",
       "      <td>0.010057</td>\n",
       "      <td>0.011406</td>\n",
       "      <td>...</td>\n",
       "      <td>0.011776</td>\n",
       "      <td>0.010838</td>\n",
       "      <td>0.012445</td>\n",
       "      <td>0.013895</td>\n",
       "      <td>0.011258</td>\n",
       "      <td>0.007666</td>\n",
       "      <td>0.011261</td>\n",
       "      <td>0.009488</td>\n",
       "      <td>0.010525</td>\n",
       "      <td>0.012677</td>\n",
       "    </tr>\n",
       "    <tr>\n",
       "      <th>4</th>\n",
       "      <td>-0.006041</td>\n",
       "      <td>-0.005550</td>\n",
       "      <td>-0.004577</td>\n",
       "      <td>-0.006011</td>\n",
       "      <td>-0.007172</td>\n",
       "      <td>-0.006985</td>\n",
       "      <td>-0.006629</td>\n",
       "      <td>-0.002496</td>\n",
       "      <td>-0.007659</td>\n",
       "      <td>-0.005221</td>\n",
       "      <td>...</td>\n",
       "      <td>-0.001890</td>\n",
       "      <td>-0.002178</td>\n",
       "      <td>-0.006928</td>\n",
       "      <td>-0.006331</td>\n",
       "      <td>-0.004483</td>\n",
       "      <td>-0.006764</td>\n",
       "      <td>-0.006626</td>\n",
       "      <td>-0.006938</td>\n",
       "      <td>-0.007755</td>\n",
       "      <td>-0.004829</td>\n",
       "    </tr>\n",
       "  </tbody>\n",
       "</table>\n",
       "<p>5 rows × 1024 columns</p>\n",
       "</div>"
      ],
      "text/plain": [
       "       0         1         2         3         4         5         6     \\\n",
       "0 -0.011677 -0.008181 -0.009393 -0.011679 -0.010687 -0.009659 -0.010547   \n",
       "1  0.000212  0.000273  0.000202  0.000253  0.000301  0.000321  0.000271   \n",
       "2 -0.006268 -0.005727 -0.004714 -0.006211 -0.007390 -0.007212 -0.006862   \n",
       "3  0.011389  0.008075  0.009212  0.011330  0.010432  0.009458  0.010307   \n",
       "4 -0.006041 -0.005550 -0.004577 -0.006011 -0.007172 -0.006985 -0.006629   \n",
       "\n",
       "       7         8         9       ...         1014      1015      1016  \\\n",
       "0 -0.009199 -0.010274 -0.011729    ...    -0.012044 -0.011071 -0.012781   \n",
       "1  0.000089  0.000321  0.000183    ...    -0.000007  0.000034  0.000210   \n",
       "2 -0.002563 -0.007924 -0.005423    ...    -0.001938 -0.002260 -0.007194   \n",
       "3  0.009076  0.010057  0.011406    ...     0.011776  0.010838  0.012445   \n",
       "4 -0.002496 -0.007659 -0.005221    ...    -0.001890 -0.002178 -0.006928   \n",
       "\n",
       "       1017      1018      1019      1020      1021      1022      1023  \n",
       "0 -0.014279 -0.011534 -0.007759 -0.011584 -0.009695 -0.010758 -0.013003  \n",
       "1  0.000136  0.000150  0.000343  0.000267  0.000320  0.000307  0.000105  \n",
       "2 -0.006576 -0.004623 -0.006966 -0.006850 -0.007167 -0.008032 -0.005015  \n",
       "3  0.013895  0.011258  0.007666  0.011261  0.009488  0.010525  0.012677  \n",
       "4 -0.006331 -0.004483 -0.006764 -0.006626 -0.006938 -0.007755 -0.004829  \n",
       "\n",
       "[5 rows x 1024 columns]"
      ]
     },
     "execution_count": 4,
     "metadata": {},
     "output_type": "execute_result"
    }
   ],
   "source": [
    "w=w.T\n",
    "w.head()"
   ]
  },
  {
   "cell_type": "code",
   "execution_count": 5,
   "metadata": {},
   "outputs": [
    {
     "data": {
      "image/png": "[encoded data removed]",
      "text/plain": [
       "<Figure size 432x288 with 1 Axes>"
      ]
     },
     "metadata": {},
     "output_type": "display_data"
    }
   ],
   "source": [
    "wcss = []\n",
    "#elbow method\n",
    "for i in range(1,11):\n",
    "    kmeans = KMeans(n_clusters=i,init='k-means++',max_iter=500,n_init=10,random_state=0)\n",
    "    kmeans.fit(w)\n",
    "    wcss.append(kmeans.inertia_)\n",
    "plt.plot(range(1,11),wcss)\n",
    "plt.title('Elbow Method')\n",
    "plt.xlabel('Number of clusters')\n",
    "plt.ylabel('Inertia')\n",
    "plt.show()"
   ]
  },
  {
   "cell_type": "code",
   "execution_count": 6,
   "metadata": {},
   "outputs": [],
   "source": [
    "# Applying k-means to the raw neuron data set\n",
    "n_clus=4\n",
    "kmeans = KMeans(n_clusters=n_clus,init='k-means++',max_iter=500,n_init=10,random_state=0) \n",
    "y_kmeans = kmeans.fit_predict(w)\n",
    "\n",
    "colors=['g','r','c','m','y','k','b']"
   ]
  },
  {
   "cell_type": "code",
   "execution_count": 7,
   "metadata": {},
   "outputs": [
    {
     "data": {
      "image/png": "[encoded data removed]",
      "text/plain": [
       "<Figure size 432x288 with 1 Axes>"
      ]
     },
     "metadata": {},
     "output_type": "display_data"
    }
   ],
   "source": [
    "# Visualising the clusters\n",
    "#fig = plt.figure()\n",
    "#ax = fig.add_subplot(111, projection='3d')\n",
    "\n",
    "\n",
    "for i in range(0,n_clus):\n",
    "    plt.scatter(np.asarray(w)[y_kmeans == i, 0], np.asarray(w)[y_kmeans == i,3],c=colors[i], alpha=0.7)\n",
    "\n",
    "plt.scatter(kmeans.cluster_centers_[:,0], kmeans.cluster_centers_[:,3],marker='x',s=100,c='black',label='Centroids')\n",
    "\n",
    "   \n",
    "plt.title('Clusters of neurons')\n",
    "plt.show()"
   ]
  },
  {
   "cell_type": "markdown",
   "metadata": {},
   "source": [
    "4"
   ]
  },
  {
   "cell_type": "code",
   "execution_count": 8,
   "metadata": {},
   "outputs": [
    {
     "name": "stdout",
     "output_type": "stream",
     "text": [
      "First eigen-vector var: 0.066260611638329  second var 0.0022432724425077762\n"
     ]
    },
    {
     "data": {
      "image/png": "[encoded data removed]",
      "text/plain": [
       "<Figure size 432x288 with 1 Axes>"
      ]
     },
     "metadata": {},
     "output_type": "display_data"
    }
   ],
   "source": [
    "#Performing PCA on the raw data to extract features\n",
    "#first, determines how  many eigen-images should be used to represent the variance\n",
    "pca = PCA(n_components=10)\n",
    "pca.fit(w)\n",
    "var=pca.explained_variance_\n",
    "n_com=np.linspace(1,10,10)\n",
    "plt.scatter(n_com,var,marker='x')\n",
    "plt.xlabel('Eigenvectors')\n",
    "plt.ylabel('Variance')\n",
    "print('First eigen-vector var:', var[0], ' second var', var[1])"
   ]
  },
  {
   "cell_type": "code",
   "execution_count": 9,
   "metadata": {},
   "outputs": [
    {
     "name": "stdout",
     "output_type": "stream",
     "text": [
      "(1260, 2)\n"
     ]
    },
    {
     "data": {
      "text/plain": [
       "(1260, 1024)"
      ]
     },
     "execution_count": 9,
     "metadata": {},
     "output_type": "execute_result"
    }
   ],
   "source": [
    "#The results imply that two eigen vectors is enough\n",
    "#Transforms the data to these \n",
    "pca=PCA(n_components=2)\n",
    "pca.fit(w)\n",
    "w_pca=pca.transform(w)\n",
    "print(np.shape(w_pca))\n",
    "np.shape(w)"
   ]
  },
  {
   "cell_type": "code",
   "execution_count": 10,
   "metadata": {},
   "outputs": [
    {
     "data": {
      "image/png": "[encoded data removed]",
      "text/plain": [
       "<Figure size 432x288 with 1 Axes>"
      ]
     },
     "metadata": {},
     "output_type": "display_data"
    }
   ],
   "source": [
    "#repeat the same process as before\n",
    "inert = []\n",
    "#elbow method\n",
    "for i in range(1,11):\n",
    "    kmeans_pca = KMeans(n_clusters=i,init='k-means++',max_iter=500,n_init=10)\n",
    "    kmeans_pca.fit(w_pca)\n",
    "    inert.append(kmeans_pca.inertia_)\n",
    "plt.plot(range(1,11),inert)\n",
    "plt.title('Elbow Method')\n",
    "plt.xlabel('Number of clusters')\n",
    "plt.ylabel('Inertia')\n",
    "plt.show()"
   ]
  },
  {
   "cell_type": "code",
   "execution_count": 17,
   "metadata": {},
   "outputs": [
    {
     "data": {
      "image/png": "[encoded data removed]",
      "text/plain": [
       "<Figure size 432x288 with 1 Axes>"
      ]
     },
     "metadata": {},
     "output_type": "display_data"
    }
   ],
   "source": [
    "#Using the elbow results to generate the apropiate number of clusters\n",
    "# Applying k-means to the raw neuron data set\n",
    "n_pca=4\n",
    "kmeans_pca = KMeans(n_clusters=n_pca,init='k-means++',max_iter=500,n_init=10,random_state=0) \n",
    "y_pca = kmeans_pca.fit_predict(w_pca)\n",
    "\n",
    "for i in range(0,n_pca):\n",
    "    plt.scatter(np.asarray(w_pca)[y_pca == i, 0], np.asarray(w_pca)[y_pca == i,1],c=colors[i], alpha=0.7)\n",
    "\n",
    "plt.scatter(kmeans_pca.cluster_centers_[:,0], kmeans_pca.cluster_centers_[:,1],marker='x',s=100,c='black')\n",
    "\n",
    "\n",
    "plt.title('Clusters of neurons')\n",
    "plt.show()"
   ]
  },
  {
   "cell_type": "code",
   "execution_count": 18,
   "metadata": {},
   "outputs": [
    {
     "name": "stdout",
     "output_type": "stream",
     "text": [
      "(1260, 1024)\n"
     ]
    }
   ],
   "source": [
    "#plots the weith matrices for the\n",
    "def plots_w(wi):\n",
    "    #spin number for the sides of the square\n",
    "    n_s=int(np.sqrt(len(wi[0,:])))\n",
    "    fig, ax = plt.subplots(4,4,figsize=(10,10))\n",
    "    im=ax[0,0].imshow(wi[0,:].reshape(-1,n_s))\n",
    "    ax[0,1].imshow(wi[1,:].reshape(-1,n_s))\n",
    "    ax[0,2].imshow(wi[2,:].reshape(-1,n_s))\n",
    "    ax[0,3].imshow(wi[3,:].reshape(-1,n_s))\n",
    "\n",
    "    ax[1,0].imshow(wi[4,:].reshape(-1,n_s))\n",
    "    ax[1,1].imshow(wi[5,:].reshape(-1,n_s))\n",
    "    ax[1,2].imshow(wi[6,:].reshape(-1,n_s))\n",
    "    ax[1,3].imshow(wi[7,:].reshape(-1,n_s))\n",
    "\n",
    "    ax[2,0].imshow(wi[8,:].reshape(-1,n_s))\n",
    "    ax[2,1].imshow(wi[9,:].reshape(-1,n_s))\n",
    "    ax[2,2].imshow(wi[10,:].reshape(-1,n_s))\n",
    "    ax[2,3].imshow(wi[11,:].reshape(-1,n_s))\n",
    "    \n",
    "    ax[3,0].imshow(wi[12,:].reshape(-1,n_s))\n",
    "    ax[3,1].imshow(wi[13,:].reshape(-1,n_s))\n",
    "    ax[3,2].imshow(wi[14,:].reshape(-1,n_s))\n",
    "    ax[3,3].imshow(wi[15,:].reshape(-1,n_s))\n",
    "\n",
    "    fig.subplots_adjust(right=0.8)\n",
    "    cbar_ax = fig.add_axes([0.85, 0.15, 0.05, 0.7])\n",
    "    fig.colorbar(im, cax=cbar_ax)\n",
    "print(np.shape(w))"
   ]
  },
  {
   "cell_type": "code",
   "execution_count": 19,
   "metadata": {},
   "outputs": [],
   "source": [
    "#selects the first cluster\n",
    "clus0= np.asarray(w)[y_pca == 0,:]\n",
    "#plots_w(clus0)"
   ]
  },
  {
   "cell_type": "code",
   "execution_count": 20,
   "metadata": {},
   "outputs": [
    {
     "name": "stdout",
     "output_type": "stream",
     "text": [
      "(339, 1024)\n"
     ]
    }
   ],
   "source": [
    "#finds the mean image of each cluster\n",
    "#samples = [n_images,n_pixels]\n",
    "print(np.shape(clus0))\n",
    "def mean_im(samples):\n",
    "    #number of spins\n",
    "    n_s=int(np.sqrt(len(samples[0,:])))\n",
    "    n_im= len(samples[:,0])\n",
    "    #matrix form of the first image\n",
    "    m=samples[0,:].reshape(-1,n_s)\n",
    "    #matrix sum\n",
    "    for i in range(1,len(samples)):\n",
    "        mi=samples[i,:].reshape(-1,n_s)\n",
    "        m= m+ mi\n",
    "        \n",
    "    return m/n_im"
   ]
  },
  {
   "cell_type": "code",
   "execution_count": 25,
   "metadata": {},
   "outputs": [
    {
     "name": "stdout",
     "output_type": "stream",
     "text": [
      "-3355.6204774841244\n",
      "-3452.029645987748\n",
      "-3254.965009025308\n",
      "-3185.4224956581593\n"
     ]
    },
    {
     "data": {
      "image/png": "[encoded data removed]",
      "text/plain": [
       "<Figure size 864x432 with 8 Axes>"
      ]
     },
     "metadata": {},
     "output_type": "display_data"
    }
   ],
   "source": [
    "fig_mean, ax_mean= plt.subplots(2,4,figsize=(12,6))\n",
    "np.asarray(w)[y_pca == 0,:]\n",
    "\n",
    "\n",
    "for i in range(0,n_pca):    \n",
    "    clus_mean=mean_im(np.asarray(w)[y_pca == i,:])\n",
    "    #generates an output\n",
    "    output=pd.DataFrame(clus_mean)\n",
    "    output.to_csv('/Users/rasputin/Desktop/Uni/Tesis/Ising_NN/32x32/mean_w70_'+str(i)+'.csv')\n",
    "    \n",
    "    #fourier transforms the means\n",
    "    f = np.fft.fft2(clus_mean)\n",
    "    fshift = np.fft.fftshift(f) \n",
    "    magnitude_spectrum = np.log(np.abs(fshift))\n",
    "    print(np.sum(magnitude_spectrum))\n",
    "    ax_mean[0,i].imshow(clus_mean)\n",
    "    ax_mean[1,i].imshow(magnitude_spectrum, cmap = 'gray')\n"
   ]
  },
  {
   "cell_type": "code",
   "execution_count": 16,
   "metadata": {},
   "outputs": [],
   "source": [
    "#usar estas neuronas como mi red entrenada\n",
    "#activacion maxima"
   ]
  },
  {
   "cell_type": "code",
   "execution_count": null,
   "metadata": {},
   "outputs": [],
   "source": []
  }
 ],
 "metadata": {
  "kernelspec": {
   "display_name": "Python 3",
   "language": "python",
   "name": "python3"
  },
  "language_info": {
   "codemirror_mode": {
    "name": "ipython",
    "version": 3
   },
   "file_extension": ".py",
   "mimetype": "text/x-python",
   "name": "python",
   "nbconvert_exporter": "python",
   "pygments_lexer": "ipython3",
   "version": "3.6.5"
  }
 },
 "nbformat": 4,
 "nbformat_minor": 2
}
