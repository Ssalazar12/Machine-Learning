{
 "cells": [
  {
   "cell_type": "code",
   "execution_count": 16,
   "metadata": {},
   "outputs": [
    {
     "ename": "ModuleNotFoundError",
     "evalue": "No module named 'keras'",
     "output_type": "error",
     "traceback": [
      "\u001b[0;31m---------------------------------------------------------------------------\u001b[0m",
      "\u001b[0;31mModuleNotFoundError\u001b[0m                       Traceback (most recent call last)",
      "\u001b[0;32m<ipython-input-16-cd673afe2190>\u001b[0m in \u001b[0;36m<module>\u001b[0;34m()\u001b[0m\n\u001b[1;32m      8\u001b[0m \u001b[0;32mimport\u001b[0m \u001b[0mpandas\u001b[0m \u001b[0;32mas\u001b[0m \u001b[0mpd\u001b[0m\u001b[0;34m\u001b[0m\u001b[0m\n\u001b[1;32m      9\u001b[0m \u001b[0;32mfrom\u001b[0m \u001b[0msklearn\u001b[0m\u001b[0;34m.\u001b[0m\u001b[0mmodel_selection\u001b[0m \u001b[0;32mimport\u001b[0m \u001b[0mtrain_test_split\u001b[0m\u001b[0;34m\u001b[0m\u001b[0m\n\u001b[0;32m---> 10\u001b[0;31m \u001b[0;32mfrom\u001b[0m \u001b[0mkeras\u001b[0m\u001b[0;34m.\u001b[0m\u001b[0mdatasets\u001b[0m \u001b[0;32mimport\u001b[0m \u001b[0mmnist\u001b[0m\u001b[0;34m\u001b[0m\u001b[0m\n\u001b[0m",
      "\u001b[0;31mModuleNotFoundError\u001b[0m: No module named 'keras'"
     ]
    }
   ],
   "source": [
    "#Trains many neural networks in order to create a data set of weights\n",
    "#uses the same algorithm as Spins_cross\n",
    "#Testing performance by variating learning rules and cost functions\n",
    "import pickle\n",
    "import numpy as np\n",
    "import matplotlib.pyplot as plt\n",
    "import tensorflow as tf\n",
    "import pandas as pd\n",
    "from sklearn.model_selection import train_test_split\n",
    "from keras.datasets import mnist"
   ]
  },
  {
   "cell_type": "code",
   "execution_count": 2,
   "metadata": {},
   "outputs": [],
   "source": [
    "#for i in range(0,3):\n",
    "#    plt.savefig('asd'+str(i))"
   ]
  },
  {
   "cell_type": "code",
   "execution_count": 3,
   "metadata": {},
   "outputs": [],
   "source": [
    "def load_pickle(pickle_file):\n",
    "    try:\n",
    "        with open(pickle_file, 'rb') as f:\n",
    "            pickle_data = pickle.load(f)\n",
    "    except UnicodeDecodeError as e:\n",
    "        with open(pickle_file, 'rb') as f:\n",
    "            pickle_data = pickle.load(f, encoding='latin1')\n",
    "    except Exception as e:\n",
    "        print('Unable to load data ', pickle_file, ':', e)\n",
    "        raise\n",
    "    return pickle_data\n",
    "\n",
    "with open('spins_nConfig4600.p', 'rb') as f:\n",
    "    data = pickle.load(f)\n",
    "\n",
    "temp = load_pickle('temperatures_nConfig4600.p')\n"
   ]
  },
  {
   "cell_type": "code",
   "execution_count": 4,
   "metadata": {},
   "outputs": [
    {
     "name": "stdout",
     "output_type": "stream",
     "text": [
      "4600\n",
      "1024\n"
     ]
    }
   ],
   "source": [
    "n_config=np.shape(data)[0]\n",
    "n_spins=len(data[0,:])\n",
    "\n",
    "print(n_config)\n",
    "print(n_spins)\n",
    "\n",
    "M=[] #stores the total (scaled) magnetization of each configuration in terms of temperature\n",
    "\n",
    "#calculates magnetization for each configuration\n",
    "for i in range(0,n_config):\n",
    "    m=0\n",
    "    m=np.sum(data[i,:])/n_spins    \n",
    "    M.append(m)\n",
    "\n",
    "labels_T=np.zeros((len(temp),2)) \n",
    "\n",
    "#asigns label with respect to critical temperature\n",
    "def T_labels(Ma,Te,crit,labels):\n",
    "    T=np.array(Te)\n",
    "    M = np.array(Ma)\n",
    "    ii= T< crit\n",
    "    jj = T>=crit\n",
    "    #under Tc\n",
    "    labels[ii,:]=[0,1]\n",
    "    labels[jj,:]=[1,0]\n",
    "    return T[ii], M[ii], T[jj], M[jj]\n",
    "    \n",
    "Tc=2.2691853\n",
    "\n",
    "T_small, M_small, T_big, M_big = T_labels(M, temp, Tc,labels_T)"
   ]
  },
  {
   "cell_type": "code",
   "execution_count": 5,
   "metadata": {},
   "outputs": [],
   "source": [
    "data = pd.DataFrame(data)\n",
    "temp = pd.DataFrame(temp,columns=['T'])\n",
    "data_withT = pd.concat([data,temp],axis=1)"
   ]
  },
  {
   "cell_type": "code",
   "execution_count": 6,
   "metadata": {},
   "outputs": [],
   "source": [
    "#creates a train test split delete if you have another data set\n",
    "X_trainT, X_testT, y_train, y_test = train_test_split(data_withT,labels_T,test_size=0.3,random_state=101)"
   ]
  },
  {
   "cell_type": "code",
   "execution_count": 7,
   "metadata": {},
   "outputs": [],
   "source": [
    "X_train=X_trainT.drop('T', axis=1)\n",
    "X_test = X_testT.drop('T', axis=1)"
   ]
  },
  {
   "cell_type": "code",
   "execution_count": 8,
   "metadata": {},
   "outputs": [],
   "source": [
    "#CREATES THE ARCHITECTURE\n",
    "\n",
    "\n",
    "n_labels=2 #there will be one output neuron for each label\n",
    "hidden=50 #number of hidden units\n",
    "size=n_spins #system size\n",
    "\n",
    "#initializes weights\n",
    "def weig(shape):\n",
    "    first= tf.random_normal(shape,stddev=0.2)\n",
    "    return tf.Variable(first)\n",
    "\n",
    "#initializes bias\n",
    "def bi(shape):\n",
    "    first = tf.constant(np.random.rand(), shape=shape)\n",
    "    return tf.Variable(first)\n",
    "\n",
    "#defines the output function of each neuron in the layer\n",
    "def layers(x, W,b):\n",
    "  return tf.nn.sigmoid(tf.matmul(x, W)+b)\n",
    "\n",
    "#Now we create the model with the input vector and teacher vector. This is the input layer\n",
    "x = tf.placeholder(\"float\", shape=[None, size])\n",
    "y = tf.placeholder(\"float\", shape=[None, n_labels]) #teacher vector = label\n",
    "\n",
    "\n",
    "#defining the hidden layer\n",
    "W_1 = weig([size,hidden])\n",
    "b_1 = bi([hidden])\n",
    "lay_1 = layers(x, W_1,b_1)\n",
    "#Output layer\n",
    "W_2 = weig([hidden,n_labels])\n",
    "b_2 = bi([n_labels])\n",
    "y_hat=layers(lay_1, W_2,b_2) #our predicted value\n",
    "\n",
    "#Defining the cost function\n",
    "error = tf.nn.softmax_cross_entropy_with_logits(labels=y, logits=y_hat)\n",
    "\n",
    "#adds an  regularization term to with a beta value\n",
    "beta =0.01 #for L2\n",
    "alpha=0.002 #for L1\n",
    "\n",
    "error = tf.reduce_mean(error + beta *( tf.nn.l2_loss(W_1)+tf.nn.l2_loss(W_2)))\n",
    "\n",
    "optimizer = tf.train.AdamOptimizer(0.001)\n",
    "train = optimizer.minimize(error)\n",
    "\n",
    "\n",
    "#predictions\n",
    "correct_prediction = tf.equal(tf.argmax(y_hat,1), tf.argmax(y,1))\n",
    "accuracy = tf.reduce_mean(tf.cast(correct_prediction, \"float\"))\n",
    "\n"
   ]
  },
  {
   "cell_type": "code",
   "execution_count": 9,
   "metadata": {},
   "outputs": [],
   "source": [
    "saver2= tf.train.Saver()"
   ]
  },
  {
   "cell_type": "code",
   "execution_count": 10,
   "metadata": {},
   "outputs": [
    {
     "name": "stdout",
     "output_type": "stream",
     "text": [
      "0\n",
      "step 0, training accuracy 0.403106\n",
      "INFO:tensorflow:Restoring parameters from /Users/rasputin/Desktop/Uni/Tesis/Ising_NN/Models/L2/das_data/ising50_0.ckpt\n",
      "evaluation accuracy= 0.57463765\n",
      "1\n"
     ]
    },
    {
     "ename": "TypeError",
     "evalue": "'Series' objects are mutable, thus they cannot be hashed",
     "output_type": "error",
     "traceback": [
      "\u001b[0;31m---------------------------------------------------------------------------\u001b[0m",
      "\u001b[0;31mTypeError\u001b[0m                                 Traceback (most recent call last)",
      "\u001b[0;32m<ipython-input-10-9d9b6f30bd80>\u001b[0m in \u001b[0;36m<module>\u001b[0;34m()\u001b[0m\n\u001b[1;32m     16\u001b[0m \u001b[0;34m\u001b[0m\u001b[0m\n\u001b[1;32m     17\u001b[0m         \u001b[0;32mfor\u001b[0m \u001b[0mi\u001b[0m \u001b[0;32min\u001b[0m \u001b[0mrange\u001b[0m\u001b[0;34m(\u001b[0m\u001b[0mepochs\u001b[0m\u001b[0;34m)\u001b[0m\u001b[0;34m:\u001b[0m\u001b[0;34m\u001b[0m\u001b[0m\n\u001b[0;32m---> 18\u001b[0;31m             \u001b[0mtrain_accuracy\u001b[0m \u001b[0;34m=\u001b[0m \u001b[0msess\u001b[0m\u001b[0;34m.\u001b[0m\u001b[0mrun\u001b[0m\u001b[0;34m(\u001b[0m\u001b[0maccuracy\u001b[0m\u001b[0;34m,\u001b[0m\u001b[0mfeed_dict\u001b[0m\u001b[0;34m=\u001b[0m\u001b[0;34m{\u001b[0m \u001b[0mx\u001b[0m\u001b[0;34m:\u001b[0m\u001b[0mX_train\u001b[0m\u001b[0;34m,\u001b[0m \u001b[0my\u001b[0m\u001b[0;34m:\u001b[0m \u001b[0my_train\u001b[0m\u001b[0;34m}\u001b[0m\u001b[0;34m)\u001b[0m\u001b[0;34m\u001b[0m\u001b[0m\n\u001b[0m\u001b[1;32m     19\u001b[0m             \u001b[0msess\u001b[0m\u001b[0;34m.\u001b[0m\u001b[0mrun\u001b[0m\u001b[0;34m(\u001b[0m\u001b[0mtrain\u001b[0m\u001b[0;34m,\u001b[0m\u001b[0mfeed_dict\u001b[0m\u001b[0;34m=\u001b[0m\u001b[0;34m{\u001b[0m\u001b[0mx\u001b[0m\u001b[0;34m:\u001b[0m\u001b[0mX_train\u001b[0m\u001b[0;34m,\u001b[0m \u001b[0my\u001b[0m\u001b[0;34m:\u001b[0m\u001b[0my_train\u001b[0m\u001b[0;34m}\u001b[0m\u001b[0;34m)\u001b[0m\u001b[0;31m#feeding data to the place holders\u001b[0m\u001b[0;34m\u001b[0m\u001b[0m\n\u001b[1;32m     20\u001b[0m         \u001b[0;31m#stops training when accuracy crosses a certain threshold\u001b[0m\u001b[0;34m\u001b[0m\u001b[0;34m\u001b[0m\u001b[0m\n",
      "\u001b[0;32m~/anaconda3/lib/python3.6/site-packages/pandas/core/generic.py\u001b[0m in \u001b[0;36m__hash__\u001b[0;34m(self)\u001b[0m\n\u001b[1;32m   1487\u001b[0m     \u001b[0;32mdef\u001b[0m \u001b[0m__hash__\u001b[0m\u001b[0;34m(\u001b[0m\u001b[0mself\u001b[0m\u001b[0;34m)\u001b[0m\u001b[0;34m:\u001b[0m\u001b[0;34m\u001b[0m\u001b[0m\n\u001b[1;32m   1488\u001b[0m         raise TypeError('{0!r} objects are mutable, thus they cannot be'\n\u001b[0;32m-> 1489\u001b[0;31m                         ' hashed'.format(self.__class__.__name__))\n\u001b[0m\u001b[1;32m   1490\u001b[0m \u001b[0;34m\u001b[0m\u001b[0m\n\u001b[1;32m   1491\u001b[0m     \u001b[0;32mdef\u001b[0m \u001b[0m__iter__\u001b[0m\u001b[0;34m(\u001b[0m\u001b[0mself\u001b[0m\u001b[0;34m)\u001b[0m\u001b[0;34m:\u001b[0m\u001b[0;34m\u001b[0m\u001b[0m\n",
      "\u001b[0;31mTypeError\u001b[0m: 'Series' objects are mutable, thus they cannot be hashed"
     ]
    },
    {
     "data": {
      "image/png": "[encoded data removed]",
      "text/plain": [
       "<Figure size 432x288 with 1 Axes>"
      ]
     },
     "metadata": {},
     "output_type": "display_data"
    }
   ],
   "source": [
    "for ii in range(0,2):\n",
    "    print(ii)\n",
    "    out=np.zeros(shape=(len(temp),n_labels))\n",
    "    outav=np.zeros(shape=(len(temp)))\n",
    "    outac = np.zeros(shape=(len(temp)))\n",
    "    evolve_acc = []\n",
    "\n",
    "#starting a session \n",
    "    init = tf.global_variables_initializer()\n",
    "    with tf.Session() as sess:\n",
    "    \n",
    "        sess.run(init)\n",
    "    \n",
    "        epochs = 3\n",
    "    #training cycle\n",
    "    \n",
    "        for i in range(epochs):\n",
    "            train_accuracy = sess.run(accuracy,feed_dict={ x:X_train, y: y_train})      \n",
    "            sess.run(train,feed_dict={x:X_train, y:y_train})#feeding data to the place holders \n",
    "        #stops training when accuracy crosses a certain threshold\n",
    "            if i%50 == 0:\n",
    "                evolve_acc.append(train_accuracy)\n",
    "                print (\"step %d, training accuracy %g\"%(i, train_accuracy))\n",
    "            if(train_accuracy>=0.95):\n",
    "                print(train_accuracy)\n",
    "                print(i)\n",
    "                break;\n",
    "    \n",
    "        #now let's try checking the neuron outputs for each temperature\n",
    "        out=(sess.run(y_hat,feed_dict={x:X_train, y:y_train}))\n",
    "        for i in range(len(temp)):\n",
    "            res=sess.run(y_hat,feed_dict={x: X_train, y: y_train})\n",
    "        \n",
    "        outav=res #neuron outputs\n",
    "        saver2.save(sess, '/Users/rasputin/Desktop/Uni/Tesis/Ising_NN/Models/L2/das_data/ising50_'+str(ii)+'.ckpt')\n",
    "        \n",
    "        #evaluation and output\n",
    "    with tf.Session() as sess:\n",
    "    #restores the model\n",
    "        saver2.restore(sess, '/Users/rasputin/Desktop/Uni/Tesis/Ising_NN/Models/L2/das_data/ising50_'+str(ii)+'.ckpt')\n",
    "        for i in range(len(y_test)):\n",
    "            output= sess.run(y_hat,feed_dict={x:X_test})\n",
    "        eval_accur=accuracy.eval({ x: X_test, y:y_test})\n",
    "        print('evaluation accuracy=', eval_accur  )\n",
    "\n",
    "        h_w, o_w= sess.run([W_1,W_2],feed_dict={x:X_test})\n",
    "\n",
    "    x=X_testT['T']\n",
    "    plt.scatter(x, output[:,0], label= 'High T neuron')\n",
    "    plt.scatter(x, output[:,1], label= 'Low T neuron')\n",
    "    plt.legend()\n",
    "    plt.title('eval accuracy: '+ str(eval_accur))\n",
    "    plt.savefig('eval_performance_50_'+str(ii)+'.pdf')\n",
    "\n",
    "    weigth_out=pd.DataFrame(h_w)\n",
    "    weigth_out.to_csv('W_50_'+str(ii)+'.csv')\n",
    "\n",
    "    out_out=pd.DataFrame(o_w)\n",
    "    out_out.to_csv('O_50_'+str(ii)+'.csv')\n",
    "\n",
    "    n_output = pd.DataFrame(output)\n",
    "    n_output.to_csv('n_50_'+str(ii)+'.csv')\n",
    "    true_out= pd.DataFrame(y_test)\n",
    "    true_out.to_csv('true_50_'+str(ii)+'.csv')\n",
    "\n",
    "    acc_out=pd.DataFrame(evolve_acc)\n",
    "    acc_out.to_csv('acc_cross_entropy_50_'+str(ii)+'.csv')"
   ]
  },
  {
   "cell_type": "code",
   "execution_count": null,
   "metadata": {},
   "outputs": [],
   "source": []
  },
  {
   "cell_type": "code",
   "execution_count": null,
   "metadata": {},
   "outputs": [],
   "source": []
  }
 ],
 "metadata": {
  "kernelspec": {
   "display_name": "Python 3",
   "language": "python",
   "name": "python3"
  },
  "language_info": {
   "codemirror_mode": {
    "name": "ipython",
    "version": 3
   },
   "file_extension": ".py",
   "mimetype": "text/x-python",
   "name": "python",
   "nbconvert_exporter": "python",
   "pygments_lexer": "ipython3",
   "version": "3.6.5"
  }
 },
 "nbformat": 4,
 "nbformat_minor": 2
}
