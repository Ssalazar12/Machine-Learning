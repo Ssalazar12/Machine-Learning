{
 "cells": [
  {
   "cell_type": "code",
   "execution_count": 35,
   "metadata": {},
   "outputs": [],
   "source": [
    "#evaluating and comparing multiple models\n",
    "import numpy as np\n",
    "import matplotlib.pyplot as plt\n",
    "import pandas as pd\n",
    "import sklearn.metrics"
   ]
  },
  {
   "cell_type": "code",
   "execution_count": 80,
   "metadata": {},
   "outputs": [],
   "source": [
    "#Loads the neuron output\n",
    "#first column represents the high temprature neuron output, the other represents the low temperature neuron\n",
    "#we choose the high temperature neuron\n",
    "\n",
    "o_500= pd.read_csv('/Users/rasputin/Desktop/Uni/Tesis/Ising NN/32x32/L2_reg/n_500.csv').iloc[:,1]\n",
    "y_500 = pd.read_csv('/Users/rasputin/Desktop/Uni/Tesis/Ising NN/32x32/L2_reg/true_500.csv').iloc[:,1]\n",
    "\n",
    "#number of networks trained\n",
    "data_size=14\n",
    "\n",
    "\n",
    "#saves the neural network outputs for each network, index 0 is the largest ammount of hidden neurons (500)\n",
    "# and descends from there the lowest being 1\n",
    "n_output = np.zeros((len(y_500),data_size))\n",
    "#saves true values for the data\n",
    "y_true = np.zeros((len(y_500),data_size))\n",
    "\n",
    "n_output[:,0]=o_500\n",
    "y_true[:,0]=y_500\n",
    "n_output[:,1]= pd.read_csv('/Users/rasputin/Desktop/Uni/Tesis/Ising NN/32x32/L2_reg/n_450.csv').iloc[:,1]\n",
    "y_true[:,1] = pd.read_csv('/Users/rasputin/Desktop/Uni/Tesis/Ising NN/32x32/L2_reg/true_450.csv').iloc[:,1]\n",
    "n_output[:,2]= pd.read_csv('/Users/rasputin/Desktop/Uni/Tesis/Ising NN/32x32/L2_reg/n_400.csv').iloc[:,1]\n",
    "y_true[:,2] = pd.read_csv('/Users/rasputin/Desktop/Uni/Tesis/Ising NN/32x32/L2_reg/true_400.csv').iloc[:,1]\n",
    "n_output[:,3]= pd.read_csv('/Users/rasputin/Desktop/Uni/Tesis/Ising NN/32x32/L2_reg/n_350.csv').iloc[:,1]\n",
    "y_true[:,3] = pd.read_csv('/Users/rasputin/Desktop/Uni/Tesis/Ising NN/32x32/L2_reg/true_350.csv').iloc[:,1]\n",
    "n_output[:,4]= pd.read_csv('/Users/rasputin/Desktop/Uni/Tesis/Ising NN/32x32/L2_reg/n_300.csv').iloc[:,1]\n",
    "y_true[:,4] = pd.read_csv('/Users/rasputin/Desktop/Uni/Tesis/Ising NN/32x32/L2_reg/true_300.csv').iloc[:,1]\n",
    "n_output[:,5]= pd.read_csv('/Users/rasputin/Desktop/Uni/Tesis/Ising NN/32x32/L2_reg/n_250.csv').iloc[:,1]\n",
    "y_true[:,5] = pd.read_csv('/Users/rasputin/Desktop/Uni/Tesis/Ising NN/32x32/L2_reg/true_250.csv').iloc[:,1]\n",
    "n_output[:,6]= pd.read_csv('/Users/rasputin/Desktop/Uni/Tesis/Ising NN/32x32/L2_reg/n_200.csv').iloc[:,1]\n",
    "y_true[:,6] = pd.read_csv('/Users/rasputin/Desktop/Uni/Tesis/Ising NN/32x32/L2_reg/true_200.csv').iloc[:,1]\n",
    "n_output[:,7]= pd.read_csv('/Users/rasputin/Desktop/Uni/Tesis/Ising NN/32x32/L2_reg/n_150.csv').iloc[:,1]\n",
    "y_true[:,7] = pd.read_csv('/Users/rasputin/Desktop/Uni/Tesis/Ising NN/32x32/L2_reg/true_150.csv').iloc[:,1]\n",
    "n_output[:,8]= pd.read_csv('/Users/rasputin/Desktop/Uni/Tesis/Ising NN/32x32/L2_reg/n_100.csv').iloc[:,1]\n",
    "y_true[:,8] = pd.read_csv('/Users/rasputin/Desktop/Uni/Tesis/Ising NN/32x32/L2_reg/true_100.csv').iloc[:,1]\n",
    "n_output[:,9]= pd.read_csv('/Users/rasputin/Desktop/Uni/Tesis/Ising NN/32x32/L2_reg/n_50.csv').iloc[:,1]\n",
    "y_true[:,9] = pd.read_csv('/Users/rasputin/Desktop/Uni/Tesis/Ising NN/32x32/L2_reg/true_50.csv').iloc[:,1]\n",
    "n_output[:,10]= pd.read_csv('/Users/rasputin/Desktop/Uni/Tesis/Ising NN/32x32/L2_reg/n_20.csv').iloc[:,1]\n",
    "y_true[:,10] = pd.read_csv('/Users/rasputin/Desktop/Uni/Tesis/Ising NN/32x32/L2_reg/true_20.csv').iloc[:,1]\n",
    "n_output[:,11]= pd.read_csv('/Users/rasputin/Desktop/Uni/Tesis/Ising NN/32x32/L2_reg/n_10.csv').iloc[:,1]\n",
    "y_true[:,11] = pd.read_csv('/Users/rasputin/Desktop/Uni/Tesis/Ising NN/32x32/L2_reg/true_10.csv').iloc[:,1]\n",
    "n_output[:,12]= pd.read_csv('/Users/rasputin/Desktop/Uni/Tesis/Ising NN/32x32/L2_reg/n_3.csv').iloc[:,1]\n",
    "y_true[:,12] = pd.read_csv('/Users/rasputin/Desktop/Uni/Tesis/Ising NN/32x32/L2_reg/true_3.csv').iloc[:,1]\n",
    "n_output[:,13]= pd.read_csv('/Users/rasputin/Desktop/Uni/Tesis/Ising NN/32x32/L2_reg/n_1.csv').iloc[:,1]\n",
    "y_true[:,13] = pd.read_csv('/Users/rasputin/Desktop/Uni/Tesis/Ising NN/32x32/L2_reg/true_1.csv').iloc[:,1]"
   ]
  },
  {
   "cell_type": "code",
   "execution_count": 126,
   "metadata": {},
   "outputs": [],
   "source": [
    "#calculates precision recall parameters in function of the threshold t \n",
    "#takes the first neuron (high temperature) index corresponds to the largest ammount of hidden neurons (500)\n",
    "# and descends from there the lowest being 1\n",
    "\n",
    "#pre = np.zeros((765,data_size))\n",
    "#rec = np.zeros((765,data_size))\n",
    "#t = np.zeros((765,data_size))\n",
    "pre=[]\n",
    "rec=[]\n",
    "tre=[]\n",
    "#saves the f1 indexes for each network\n",
    "f1=[]\n",
    "#area under curve values for each network\n",
    "auc=[]\n",
    "for i in range(0,data_size):\n",
    "    p, r, t = sklearn.metrics.precision_recall_curve(y_true[:,i], n_output[:,i])\n",
    "    pre.append(p)\n",
    "    rec.append(r)\n",
    "    tre.append(t)\n",
    "    f1.append(max(2*(pre[i]*rec[i]/(pre[i]+rec[i]))))\n",
    "    auc.append(-np.trapz(pre[i], rec[i]))"
   ]
  },
  {
   "cell_type": "code",
   "execution_count": 127,
   "metadata": {},
   "outputs": [
    {
     "data": {
      "text/plain": [
       "<matplotlib.legend.Legend at 0x1a1dbcb908>"
      ]
     },
     "execution_count": 127,
     "metadata": {},
     "output_type": "execute_result"
    },
    {
     "data": {
      "image/png": "[encoded data removed]",
      "text/plain": [
       "<Figure size 432x288 with 1 Axes>"
      ]
     },
     "metadata": {},
     "output_type": "display_data"
    }
   ],
   "source": [
    "plt.plot(pre[0],rec[0],label='h=500')\n",
    "plt.scatter(pre[13],rec[13],label='h=1', marker='x')\n",
    "\n",
    "\n",
    "for i in range(1,data_size-1):\n",
    "    plt.plot(pre[i],rec[i])\n",
    "\n",
    "plt.xlabel('Recall')\n",
    "plt.ylabel('Precision')\n",
    "plt.title('Precision Recall curves')\n",
    "plt.legend()"
   ]
  },
  {
   "cell_type": "code",
   "execution_count": 133,
   "metadata": {},
   "outputs": [
    {
     "name": "stdout",
     "output_type": "stream",
     "text": [
      "best f1 index found in [9] which corresponds to 50 hidden neurons\n",
      "best auc index found in [8] which corresponds to 100 hidden neurons\n"
     ]
    },
    {
     "data": {
      "text/html": [
       "<div>\n",
       "<style scoped>\n",
       "    .dataframe tbody tr th:only-of-type {\n",
       "        vertical-align: middle;\n",
       "    }\n",
       "\n",
       "    .dataframe tbody tr th {\n",
       "        vertical-align: top;\n",
       "    }\n",
       "\n",
       "    .dataframe thead th {\n",
       "        text-align: right;\n",
       "    }\n",
       "</style>\n",
       "<table border=\"1\" class=\"dataframe\">\n",
       "  <thead>\n",
       "    <tr style=\"text-align: right;\">\n",
       "      <th></th>\n",
       "      <th>f1</th>\n",
       "      <th>auc</th>\n",
       "    </tr>\n",
       "  </thead>\n",
       "  <tbody>\n",
       "    <tr>\n",
       "      <th>0</th>\n",
       "      <td>0.964204</td>\n",
       "      <td>0.993258</td>\n",
       "    </tr>\n",
       "    <tr>\n",
       "      <th>1</th>\n",
       "      <td>0.964885</td>\n",
       "      <td>0.993290</td>\n",
       "    </tr>\n",
       "    <tr>\n",
       "      <th>2</th>\n",
       "      <td>0.964095</td>\n",
       "      <td>0.993464</td>\n",
       "    </tr>\n",
       "    <tr>\n",
       "      <th>3</th>\n",
       "      <td>0.964095</td>\n",
       "      <td>0.993397</td>\n",
       "    </tr>\n",
       "    <tr>\n",
       "      <th>4</th>\n",
       "      <td>0.964885</td>\n",
       "      <td>0.993316</td>\n",
       "    </tr>\n",
       "    <tr>\n",
       "      <th>5</th>\n",
       "      <td>0.964204</td>\n",
       "      <td>0.993442</td>\n",
       "    </tr>\n",
       "    <tr>\n",
       "      <th>6</th>\n",
       "      <td>0.964885</td>\n",
       "      <td>0.993438</td>\n",
       "    </tr>\n",
       "    <tr>\n",
       "      <th>7</th>\n",
       "      <td>0.964885</td>\n",
       "      <td>0.993626</td>\n",
       "    </tr>\n",
       "    <tr>\n",
       "      <th>8</th>\n",
       "      <td>0.964939</td>\n",
       "      <td>0.993660</td>\n",
       "    </tr>\n",
       "    <tr>\n",
       "      <th>9</th>\n",
       "      <td>0.965675</td>\n",
       "      <td>0.993585</td>\n",
       "    </tr>\n",
       "    <tr>\n",
       "      <th>10</th>\n",
       "      <td>0.961832</td>\n",
       "      <td>0.991615</td>\n",
       "    </tr>\n",
       "    <tr>\n",
       "      <th>11</th>\n",
       "      <td>0.962794</td>\n",
       "      <td>0.992471</td>\n",
       "    </tr>\n",
       "    <tr>\n",
       "      <th>12</th>\n",
       "      <td>0.959449</td>\n",
       "      <td>0.987144</td>\n",
       "    </tr>\n",
       "    <tr>\n",
       "      <th>13</th>\n",
       "      <td>0.764530</td>\n",
       "      <td>0.430949</td>\n",
       "    </tr>\n",
       "  </tbody>\n",
       "</table>\n",
       "</div>"
      ],
      "text/plain": [
       "          f1       auc\n",
       "0   0.964204  0.993258\n",
       "1   0.964885  0.993290\n",
       "2   0.964095  0.993464\n",
       "3   0.964095  0.993397\n",
       "4   0.964885  0.993316\n",
       "5   0.964204  0.993442\n",
       "6   0.964885  0.993438\n",
       "7   0.964885  0.993626\n",
       "8   0.964939  0.993660\n",
       "9   0.965675  0.993585\n",
       "10  0.961832  0.991615\n",
       "11  0.962794  0.992471\n",
       "12  0.959449  0.987144\n",
       "13  0.764530  0.430949"
      ]
     },
     "execution_count": 133,
     "metadata": {},
     "output_type": "execute_result"
    }
   ],
   "source": [
    "ii = np.where(f1 == max(f1))[0]\n",
    "jj= np.where(auc == max(auc))[0]\n",
    "print('best f1 index found in',ii,'which corresponds to 50 hidden neurons')\n",
    "print('best auc index found in',jj,'which corresponds to 100 hidden neurons')\n",
    "\n",
    "\n",
    "d={'f1':f1, 'auc':auc}\n",
    "performance=pd.DataFrame(d)\n",
    "\n",
    "performance"
   ]
  },
  {
   "cell_type": "code",
   "execution_count": 140,
   "metadata": {},
   "outputs": [
    {
     "data": {
      "text/plain": [
       "Text(0.5,1,'Precision Recall curves')"
      ]
     },
     "execution_count": 140,
     "metadata": {},
     "output_type": "execute_result"
    },
    {
     "data": {
      "image/png": "[encoded data removed]",
      "text/plain": [
       "<Figure size 432x288 with 1 Axes>"
      ]
     },
     "metadata": {},
     "output_type": "display_data"
    }
   ],
   "source": [
    "xx=np.linspace(500,1,14)\n",
    "plt.plot(xx,f1,label='f1')\n",
    "plt.plot(xx,auc,label='auc')\n",
    "plt.legend()\n",
    "plt.xlabel('network size')\n",
    "plt.title('Precision Recall curves')"
   ]
  },
  {
   "cell_type": "code",
   "execution_count": 21,
   "metadata": {},
   "outputs": [],
   "source": []
  }
 ],
 "metadata": {
  "kernelspec": {
   "display_name": "Python 3",
   "language": "python",
   "name": "python3"
  },
  "language_info": {
   "codemirror_mode": {
    "name": "ipython",
    "version": 3
   },
   "file_extension": ".py",
   "mimetype": "text/x-python",
   "name": "python",
   "nbconvert_exporter": "python",
   "pygments_lexer": "ipython3",
   "version": "3.6.5"
  }
 },
 "nbformat": 4,
 "nbformat_minor": 2
}
